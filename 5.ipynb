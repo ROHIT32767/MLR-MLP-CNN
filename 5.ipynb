{
 "cells": [
  {
   "cell_type": "code",
   "execution_count": 1,
   "metadata": {},
   "outputs": [
    {
     "name": "stderr",
     "output_type": "stream",
     "text": [
      "/usr/lib/python3/dist-packages/requests/__init__.py:89: RequestsDependencyWarning: urllib3 (2.0.5) or chardet (3.0.4) doesn't match a supported version!\n",
      "  warnings.warn(\"urllib3 ({}) or chardet ({}) doesn't match a supported \"\n"
     ]
    }
   ],
   "source": [
    "import torch\n",
    "import torch.nn as nn\n",
    "import torch.optim as optim\n",
    "import torchvision.transforms as transforms\n",
    "import torchvision.datasets as datasets\n",
    "from torch.utils.data import DataLoader\n",
    "import matplotlib.pyplot as plt\n",
    "from sklearn.metrics import confusion_matrix, classification_report\n",
    "from PIL import Image\n",
    "import numpy as np\n",
    "import os\n",
    "from torchvision.datasets import ImageFolder"
   ]
  },
  {
   "cell_type": "code",
   "execution_count": 3,
   "metadata": {},
   "outputs": [
    {
     "data": {
      "image/png": "[encoded data removed]",
      "text/plain": [
       "<Figure size 1200x600 with 4 Axes>"
      ]
     },
     "metadata": {},
     "output_type": "display_data"
    }
   ],
   "source": [
    "import os\n",
    "import random\n",
    "import matplotlib.pyplot as plt\n",
    "from matplotlib.image import imread\n",
    "root_directory = './double_mnist'\n",
    "def display_images_from_folder(folder_path, num_images=4):\n",
    "    image_files = os.listdir(folder_path)\n",
    "    random_images = random.sample(image_files, num_images)\n",
    "    \n",
    "    plt.figure(figsize=(12, 6))\n",
    "    for i, image_file in enumerate(random_images):\n",
    "        image_path = os.path.join(folder_path, image_file)\n",
    "        image = imread(image_path)\n",
    "        plt.subplot(1, num_images, i + 1)\n",
    "        plt.imshow(image, cmap='gray')\n",
    "        plt.title(f\"Image {i + 1}\")\n",
    "        plt.axis('off')\n",
    "    plt.show()\n",
    "train_folder = os.path.join(root_directory, 'train', '01') \n",
    "display_images_from_folder(train_folder)\n"
   ]
  },
  {
   "cell_type": "code",
   "execution_count": 1,
   "metadata": {},
   "outputs": [
    {
     "name": "stderr",
     "output_type": "stream",
     "text": [
      "/usr/lib/python3/dist-packages/requests/__init__.py:89: RequestsDependencyWarning: urllib3 (2.0.5) or chardet (3.0.4) doesn't match a supported version!\n",
      "  warnings.warn(\"urllib3 ({}) or chardet ({}) doesn't match a supported \"\n"
     ]
    },
    {
     "name": "stdout",
     "output_type": "stream",
     "text": [
      "['00', '01', '04', '05', '06', '08', '09', '11', '12', '13', '14', '15', '16', '18', '19', '20', '21', '23', '24', '26', '28', '29', '30', '31', '33', '35', '37', '38', '41', '42', '43', '44', '45', '50', '51', '53', '54', '56', '59', '60', '62', '63', '65', '69', '70', '72', '74', '75', '76', '77', '79', '81', '82', '84', '85', '87', '88', '89', '90', '91', '94', '95', '97', '98']\n",
      "Dataset CustomImageFolder\n",
      "    Number of datapoints: 64000\n",
      "    Root location: double_mnist/train\n",
      "    StandardTransform\n",
      "Transform: Compose(\n",
      "               Grayscale(num_output_channels=1)\n",
      "               Resize(size=(28, 28), interpolation=bilinear, max_size=None, antialias=warn)\n",
      "               ToTensor()\n",
      "               Normalize(mean=(0.5,), std=(0.5,))\n",
      "           )\n",
      "['03', '07', '10', '22', '27', '34', '39', '40', '48', '52', '58', '61', '64', '71', '93', '99']\n",
      "tensor([38, 91, 16, 24, 23, 98, 54,  8,  1, 20, 35, 76, 60,  8,  5, 90,  5, 35,\n",
      "        44, 19, 84, 24, 28, 95, 74, 50, 24, 26, 20, 94, 12, 13, 60, 69, 69, 91,\n",
      "        63, 18, 88, 98, 82, 91, 54,  5, 35, 38, 85, 70, 56, 76, 28, 60, 26, 87,\n",
      "        18, 42,  8, 42, 79,  6, 94, 87, 23, 31])\n",
      "tensor(3)\n",
      "tensor([3, 3, 3, 3, 3, 3, 3, 3, 3, 3, 3, 3, 3, 3, 3, 3, 3, 3, 3, 3, 3, 3, 3, 3,\n",
      "        3, 3, 3, 3, 3, 3, 3, 3, 3, 3, 3, 3, 3, 3, 3, 3, 3, 3, 3, 3, 3, 3, 3, 3,\n",
      "        3, 3, 3, 3, 3, 3, 3, 3, 3, 3, 3, 3, 3, 3, 3, 3])\n"
     ]
    },
    {
     "data": {
      "image/png": "[encoded data removed]",
      "text/plain": [
       "<Figure size 640x480 with 1 Axes>"
      ]
     },
     "metadata": {},
     "output_type": "display_data"
    }
   ],
   "source": [
    "import torch\n",
    "import torch.nn as nn\n",
    "import torch.optim as optim\n",
    "import torchvision.transforms as transforms\n",
    "import torchvision.datasets as datasets\n",
    "from torch.utils.data import DataLoader\n",
    "import matplotlib.pyplot as plt\n",
    "from sklearn.metrics import confusion_matrix, classification_report\n",
    "from PIL import Image\n",
    "import numpy as np\n",
    "import os\n",
    "from torchvision.datasets import ImageFolder\n",
    "\n",
    "transform = transforms.Compose([\n",
    "    transforms.Grayscale(num_output_channels=1),\n",
    "    transforms.Resize((28, 28)),\n",
    "    transforms.ToTensor(),\n",
    "    transforms.Normalize((0.5,), (0.5,))\n",
    "])\n",
    "train_data_path = 'double_mnist/train'\n",
    "val_data_path = 'double_mnist/val'\n",
    "test_data_path = 'double_mnist/test'\n",
    "class CustomImageFolder(ImageFolder):\n",
    "    def __init__(self, root, transform=None):\n",
    "        super(CustomImageFolder, self).__init__(root, transform=transform)\n",
    "    \n",
    "    def __getitem__(self, index):\n",
    "        path, target = self.samples[index]\n",
    "        sample = self.loader(path)\n",
    "        if self.transform is not None:\n",
    "            sample = self.transform(sample)\n",
    "        folder_name = os.path.basename(os.path.dirname(path))\n",
    "        return sample, int(folder_name) \n",
    "    \n",
    "train_dataset = CustomImageFolder(train_data_path, transform=transform)\n",
    "val_dataset = CustomImageFolder(val_data_path, transform=transform)\n",
    "test_dataset = CustomImageFolder(test_data_path, transform=transform)\n",
    "print(train_dataset.classes)\n",
    "class_to_label = {str(i).zfill(2): i for i in range(100)}\n",
    "# Define batch sizes\n",
    "batch_size = 64\n",
    "print(train_dataset)\n",
    "\n",
    "train_loader = DataLoader(train_dataset, batch_size=batch_size, shuffle=True)\n",
    "val_loader = DataLoader(val_dataset, batch_size=batch_size, shuffle=False)\n",
    "test_loader = DataLoader(test_dataset, batch_size=batch_size, shuffle=False)\n",
    "num_classes = 10\n",
    "class_names = train_dataset.classes\n",
    "class_names = val_dataset.classes\n",
    "print(class_names)\n",
    "for images, labels in train_loader:\n",
    "    print(labels)\n",
    "    break\n",
    "for images, labels in val_loader:\n",
    "    plt.imshow(images[0].permute(1, 2, 0))\n",
    "    print(labels[0])\n",
    "    print(labels)\n",
    "    break"
   ]
  },
  {
   "cell_type": "markdown",
   "metadata": {},
   "source": [
    "# MLP On Double-MNIST"
   ]
  },
  {
   "cell_type": "code",
   "execution_count": 2,
   "metadata": {},
   "outputs": [],
   "source": [
    "import torch\n",
    "import torch.nn as nn\n",
    "\n",
    "class MultiMNIST_MLP(nn.Module):\n",
    "    def __init__(self, input_size, num_classes, hidden_layers, hidden_neurons, dropout_rate=0.5):\n",
    "        super(MultiMNIST_MLP, self).__init__()\n",
    "        self.input_size = input_size\n",
    "        self.num_classes = num_classes\n",
    "        self.hidden_layers = hidden_layers\n",
    "        self.hidden_neurons = hidden_neurons\n",
    "        layers = []\n",
    "        layers.append(nn.Linear(input_size, hidden_neurons[0]))\n",
    "        layers.append(nn.ReLU())\n",
    "        for i in range(1, hidden_layers):\n",
    "            layers.append(nn.Linear(hidden_neurons[i-1], hidden_neurons[i]))\n",
    "            layers.append(nn.ReLU())\n",
    "        self.hidden = nn.Sequential(*layers)\n",
    "        self.dropout = nn.Dropout(dropout_rate)\n",
    "        self.fc_out = nn.Linear(hidden_neurons[-1], num_classes)\n",
    "\n",
    "    def forward(self, x):\n",
    "        x = x.view(x.size(0), -1)  \n",
    "        x = self.hidden(x)\n",
    "        x = self.dropout(x)\n",
    "        x = self.fc_out(x)\n",
    "        return x"
   ]
  },
  {
   "cell_type": "code",
   "execution_count": 3,
   "metadata": {},
   "outputs": [],
   "source": [
    "def train_model(model_left, model_right , train_loader, val_loader, criterion_left, optimizer_left, criterion_right, optimizer_right,num_epochs=5):\n",
    "    train_losses, val_losses = [], []\n",
    "    train_acc, val_acc = [] , []\n",
    "\n",
    "    for epoch in range(num_epochs):\n",
    "        # left half\n",
    "        model_left.train()\n",
    "        running_loss_left = 0.0\n",
    "        correct_train_left = 0\n",
    "        total_train_left = 0\n",
    "\n",
    "        # right half\n",
    "        model_right.train()\n",
    "        running_loss_right = 0.0\n",
    "        correct_train_right = 0\n",
    "        total_train_right = 0\n",
    "\n",
    "        for images, labels in train_loader:\n",
    "            # left half\n",
    "            labels_group_left = labels//10\n",
    "            optimizer_left.zero_grad()\n",
    "            image_left = images.clone()\n",
    "            left_half = images[:, :, :, :images.shape[3] // 2]\n",
    "            image_left[:, :, :, (image_left.shape[3] // 2):] = left_half\n",
    "            outputs_left = model_left(image_left)\n",
    "            loss_left = criterion_left(outputs_left, labels_group_left)\n",
    "            loss_left.backward()\n",
    "            optimizer_left.step()\n",
    "            running_loss_left += loss_left.item()\n",
    "            _, predicted_left = torch.max(outputs_left.data, 1)\n",
    "            total_train_left += labels.size(0)\n",
    "            for k in range(labels.size(0)):\n",
    "                if(labels_group_left[k]==predicted_left[k]):\n",
    "                    correct_train_left = correct_train_left+1\n",
    "            # right half\n",
    "            labels_group_right = labels % 10\n",
    "            optimizer_right.zero_grad()\n",
    "            image_right = images.clone()\n",
    "            right_half = images[:, :, :, images.shape[3] // 2:]\n",
    "            image_right[:, :, :, :(image_right.shape[3] // 2)] = right_half\n",
    "            outputs_right = model_right(image_right)\n",
    "            loss_right = criterion_right(outputs_right, labels_group_right)\n",
    "            loss_right.backward()\n",
    "            optimizer_right.step()\n",
    "            running_loss_right += loss_right.item()\n",
    "            _, predicted_right = torch.max(outputs_right.data, 1)\n",
    "            total_train_right += labels.size(0)\n",
    "            for k in range(labels.size(0)):\n",
    "                if(labels_group_right[k]==predicted_right[k]):\n",
    "                    correct_train_right = correct_train_right+1\n",
    "\n",
    "\n",
    "        train_accuracy = 100 * (correct_train_left+correct_train_right) / (total_train_left+total_train_right)\n",
    "        train_losses.append((running_loss_right+running_loss_left) / (2*len(train_loader)))\n",
    "        train_acc.append(train_accuracy)\n",
    "        # left half\n",
    "        model_left.eval()\n",
    "        val_loss_left = 0.0\n",
    "        correct_val_left = 0\n",
    "        total_val_left = 0\n",
    "        count_left = 0\n",
    "        # right half\n",
    "        model_right.eval()\n",
    "        val_loss_right = 0.0\n",
    "        correct_val_right = 0\n",
    "        total_val_right = 0\n",
    "        count_right = 0\n",
    "        with torch.no_grad():\n",
    "            for images, labels in val_loader:\n",
    "                # left half\n",
    "                labels_group_left = labels // 10\n",
    "                image_left = images.clone()\n",
    "                left_half = images[:, :, :, :images.shape[3] // 2]\n",
    "                image_left[:, :, :, (image_left.shape[3] // 2):] = left_half\n",
    "                outputs_left = model_left(image_left)\n",
    "                loss_left = criterion_left(outputs_left, labels_group_left)\n",
    "                val_loss_left += loss_left.item()\n",
    "                _, predicted_left = torch.max(outputs_left.data, 1)\n",
    "                total_val_left += labels.size(0)\n",
    "                correct_val_left += (predicted_left == labels_group_left).sum().item()\n",
    "                count_left = count_left+1\n",
    "                # right half\n",
    "                labels_group_right = labels % 10\n",
    "                image_right = images.clone()\n",
    "                right_half = images[:, :, :, images.shape[3] // 2:]\n",
    "                image_right[:, :, :, :(image_right.shape[3] // 2)] = right_half\n",
    "                outputs_right = model_right(image_right)\n",
    "                loss_right = criterion_right(outputs_right, labels_group_right)\n",
    "                val_loss_right += loss_right.item()\n",
    "                _, predicted_right = torch.max(outputs_right.data, 1)\n",
    "                total_val_right += labels.size(0)\n",
    "                correct_val_right += (predicted_right == labels_group_right).sum().item()\n",
    "                count_right = count_right+1\n",
    "\n",
    "            val_accuracy = 100 * (correct_val_left+correct_val_right) / (total_val_left+total_val_right)\n",
    "            val_losses.append((val_loss_left+val_loss_right) / (2*len(val_loader)))\n",
    "            val_acc.append(val_accuracy)\n",
    "\n",
    "        print(f'Epoch {epoch + 1}/{num_epochs}, Train Loss: {train_losses[-1]:.4f}, Train Acc: {train_accuracy:.2f}%, '\n",
    "              f'Val Loss: {val_losses[-1]:.4f}, Val Acc: {val_accuracy:.2f}%')\n",
    "\n",
    "    return train_losses, val_losses, train_acc, val_acc\n",
    "\n",
    "\n",
    "def test_model(model_left, model_right , test_loader, criterion_left,criterion_right):\n",
    "    # left half\n",
    "    model_left.eval()\n",
    "    test_loss_left = 0.0\n",
    "    correct_test_left = 0\n",
    "    total_test_left = 0\n",
    "    count_left = 0\n",
    "    # right half\n",
    "    model_right.eval()\n",
    "    test_loss_right = 0.0\n",
    "    correct_test_right = 0\n",
    "    total_test_right = 0\n",
    "    count_right = 0\n",
    "    with torch.no_grad():\n",
    "        for images, labels in test_loader:\n",
    "            # left half\n",
    "            labels_group_left = labels // 10\n",
    "            image_left = images.clone()\n",
    "            left_half = images[:, :, :, :images.shape[3] // 2]\n",
    "            image_left[:, :, :, (image_left.shape[3] // 2):] = left_half\n",
    "            outputs_left = model_left(image_left)\n",
    "            loss_left = criterion_left(outputs_left, labels_group_left)\n",
    "            test_loss_left += loss_left.item()\n",
    "            _, predicted_left = torch.max(outputs_left.data, 1)\n",
    "            total_test_left += labels.size(0)\n",
    "            correct_test_left += (predicted_left == labels_group_left).sum().item()\n",
    "            count_left = count_left+1\n",
    "            # right half\n",
    "            labels_group_right = labels % 10\n",
    "            image_right = images.clone()\n",
    "            right_half = images[:, :, :, images.shape[3] // 2:]\n",
    "            image_right[:, :, :, :(image_right.shape[3] // 2)] = right_half\n",
    "            outputs_right = model_right(image_right)\n",
    "            loss_right = criterion_right(outputs_right, labels_group_right)\n",
    "            test_loss_right += loss_right.item()\n",
    "            _, predicted_right = torch.max(outputs_right.data, 1)\n",
    "            total_test_right += labels.size(0)\n",
    "            correct_test_right += (predicted_right == labels_group_right).sum().item()\n",
    "            count_right = count_right+1\n",
    "        test_accuracy = 100 * (correct_test_left+correct_test_right) / (total_test_left+total_test_right)\n",
    "        average_test_loss = ((test_loss_left+test_loss_right) / (2*len(test_loader)))\n",
    "\n",
    "    print(f'Test Loss: {average_test_loss:.4f}, Test Acc: {test_accuracy:.2f}%') \n",
    "    return test_accuracy\n"
   ]
  },
  {
   "cell_type": "code",
   "execution_count": 16,
   "metadata": {},
   "outputs": [
    {
     "name": "stdout",
     "output_type": "stream",
     "text": [
      "Epoch 1/5, Train Loss: 1.9275, Train Acc: 30.43%, Val Loss: 1.7732, Val Acc: 33.94%\n",
      "Epoch 2/5, Train Loss: 1.5415, Train Acc: 44.86%, Val Loss: 1.3347, Val Acc: 51.00%\n",
      "Epoch 3/5, Train Loss: 1.1840, Train Acc: 58.19%, Val Loss: 0.9840, Val Acc: 65.37%\n",
      "Epoch 4/5, Train Loss: 0.9346, Train Acc: 67.99%, Val Loss: 0.8256, Val Acc: 71.18%\n",
      "Epoch 5/5, Train Loss: 0.7800, Train Acc: 73.84%, Val Loss: 0.6564, Val Acc: 77.78%\n",
      "Test Loss: 0.7110, Test Acc: 76.04%\n"
     ]
    }
   ],
   "source": [
    "model_left = MultiMNIST_MLP(input_size=784,num_classes=num_classes,hidden_layers=3,hidden_neurons=[256,256,256])\n",
    "model_right = MultiMNIST_MLP(input_size=784,num_classes=num_classes,hidden_layers=3,hidden_neurons=[256,256,256])\n",
    "learning_rate = 0.001\n",
    "criterion_left = nn.CrossEntropyLoss()\n",
    "optimizer_left = optim.Adam(model_left.parameters(), lr=learning_rate)\n",
    "criterion_right = nn.CrossEntropyLoss()\n",
    "optimizer_right = optim.Adam(model_right.parameters(), lr=learning_rate)\n",
    "train_losses, val_losses, train_acc, val_acc = train_model(model_left=model_left,model_right=model_right,train_loader=train_loader, val_loader=val_loader, criterion_left=criterion_left, optimizer_left=optimizer_left,criterion_right=criterion_right,optimizer_right=optimizer_right,num_epochs=5)\n",
    "plt.figure(figsize=(12, 4))\n",
    "plt.subplot(1, 2, 1)\n",
    "plt.plot(train_losses, label='Train Loss')\n",
    "plt.plot(val_losses, label='Val Loss')\n",
    "plt.xlabel('Epoch')\n",
    "plt.ylabel('Loss')\n",
    "plt.legend()\n",
    "\n",
    "plt.subplot(1, 2, 2)\n",
    "plt.plot(train_acc, label='Train Acc')\n",
    "plt.plot(val_acc, label='Val Acc')\n",
    "plt.xlabel('Epoch')\n",
    "plt.ylabel('Accuracy (%)')\n",
    "plt.legend()\n",
    "plt.show()\n",
    "criterion_left = nn.CrossEntropyLoss()\n",
    "optimizer_left = optim.Adam(model_left.parameters(), lr=learning_rate)\n",
    "criterion_right = nn.CrossEntropyLoss()\n",
    "optimizer_right = optim.Adam(model_right.parameters(), lr=learning_rate)\n",
    "test_model(model_left=model_left,model_right=model_right,test_loader=test_loader,criterion_left=criterion_left,criterion_right=criterion_right)"
   ]
  },
  {
   "cell_type": "markdown",
   "metadata": {},
   "source": [
    "# Hyper-parameter tuning of MLP on Double-MNIST Dataset"
   ]
  },
  {
   "cell_type": "markdown",
   "metadata": {},
   "source": [
    "#### Report on Hyper-parameter tuning of MLP on Double-MNIST Dataset - [Report](https://api.wandb.ai/links/rohitgowlapalli01/xe6mma8x)"
   ]
  },
  {
   "cell_type": "code",
   "execution_count": 4,
   "metadata": {},
   "outputs": [
    {
     "name": "stderr",
     "output_type": "stream",
     "text": [
      "Failed to detect the name of this notebook, you can set it manually with the WANDB_NOTEBOOK_NAME environment variable to enable code saving.\n",
      "/usr/lib/python3/dist-packages/requests/__init__.py:89: RequestsDependencyWarning: urllib3 (2.0.5) or chardet (3.0.4) doesn't match a supported version!\n",
      "  warnings.warn(\"urllib3 ({}) or chardet ({}) doesn't match a supported \"\n",
      "\u001b[34m\u001b[1mwandb\u001b[0m: Currently logged in as: \u001b[33mrohitgowlapalli01\u001b[0m. Use \u001b[1m`wandb login --relogin`\u001b[0m to force relogin\n"
     ]
    },
    {
     "data": {
      "application/vnd.jupyter.widget-view+json": {
       "model_id": "6ff26635211d449d842a3896f6b1d34a",
       "version_major": 2,
       "version_minor": 0
      },
      "text/plain": [
       "VBox(children=(Label(value='Waiting for wandb.init()...\\r'), FloatProgress(value=0.011115659122222295, max=1.0…"
      ]
     },
     "metadata": {},
     "output_type": "display_data"
    },
    {
     "data": {
      "text/html": [
       "wandb version 0.15.12 is available!  To upgrade, please run:\n",
       " $ pip install wandb --upgrade"
      ],
      "text/plain": [
       "<IPython.core.display.HTML object>"
      ]
     },
     "metadata": {},
     "output_type": "display_data"
    },
    {
     "data": {
      "text/html": [
       "Tracking run with wandb version 0.15.11"
      ],
      "text/plain": [
       "<IPython.core.display.HTML object>"
      ]
     },
     "metadata": {},
     "output_type": "display_data"
    },
    {
     "data": {
      "text/html": [
       "Run data is saved locally in <code>/home/rohit172/IIIT-H/SEM-5/SMAI/Assignment-3/wandb/run-20231023_074324-kpkclozj</code>"
      ],
      "text/plain": [
       "<IPython.core.display.HTML object>"
      ]
     },
     "metadata": {},
     "output_type": "display_data"
    },
    {
     "data": {
      "text/html": [
       "Syncing run <strong><a href='https://wandb.ai/rohitgowlapalli01/MLP%20on%20Double-MNIST%20Dataset/runs/kpkclozj' target=\"_blank\">still-valley-12</a></strong> to <a href='https://wandb.ai/rohitgowlapalli01/MLP%20on%20Double-MNIST%20Dataset' target=\"_blank\">Weights & Biases</a> (<a href='https://wandb.me/run' target=\"_blank\">docs</a>)<br/>"
      ],
      "text/plain": [
       "<IPython.core.display.HTML object>"
      ]
     },
     "metadata": {},
     "output_type": "display_data"
    },
    {
     "data": {
      "text/html": [
       " View project at <a href='https://wandb.ai/rohitgowlapalli01/MLP%20on%20Double-MNIST%20Dataset' target=\"_blank\">https://wandb.ai/rohitgowlapalli01/MLP%20on%20Double-MNIST%20Dataset</a>"
      ],
      "text/plain": [
       "<IPython.core.display.HTML object>"
      ]
     },
     "metadata": {},
     "output_type": "display_data"
    },
    {
     "data": {
      "text/html": [
       " View run at <a href='https://wandb.ai/rohitgowlapalli01/MLP%20on%20Double-MNIST%20Dataset/runs/kpkclozj' target=\"_blank\">https://wandb.ai/rohitgowlapalli01/MLP%20on%20Double-MNIST%20Dataset/runs/kpkclozj</a>"
      ],
      "text/plain": [
       "<IPython.core.display.HTML object>"
      ]
     },
     "metadata": {},
     "output_type": "display_data"
    },
    {
     "name": "stderr",
     "output_type": "stream",
     "text": [
      "\u001b[34m\u001b[1mwandb\u001b[0m: \u001b[33mWARNING\u001b[0m Calling wandb.login() after wandb.init() has no effect.\n"
     ]
    },
    {
     "name": "stdout",
     "output_type": "stream",
     "text": [
      "Create sweep with ID: my2u462u\n",
      "Sweep URL: https://wandb.ai/rohitgowlapalli01/MLP%20on%20Double-MNIST%20Dataset/sweeps/my2u462u\n",
      "<IPython.core.display.HTML object>\n"
     ]
    },
    {
     "name": "stderr",
     "output_type": "stream",
     "text": [
      "wandb: WARNING Source type is set to 'repo' but some required information is missing from the environment. A job will not be created from this run. See https://docs.wandb.ai/guides/launch/create-job\n"
     ]
    },
    {
     "name": "stdout",
     "output_type": "stream",
     "text": [
      "<IPython.core.display.HTML object>\n",
      "<IPython.core.display.HTML object>\n"
     ]
    },
    {
     "name": "stderr",
     "output_type": "stream",
     "text": [
      "\u001b[34m\u001b[1mwandb\u001b[0m: Agent Starting Run: xfssg1mm with config:\n",
      "\u001b[34m\u001b[1mwandb\u001b[0m: \thidden_layers: 2\n",
      "\u001b[34m\u001b[1mwandb\u001b[0m: \thidden_neurons_size: 128\n",
      "/usr/lib/python3/dist-packages/requests/__init__.py:89: RequestsDependencyWarning: urllib3 (2.0.5) or chardet (3.0.4) doesn't match a supported version!\n",
      "  warnings.warn(\"urllib3 ({}) or chardet ({}) doesn't match a supported \"\n",
      "\u001b[34m\u001b[1mwandb\u001b[0m: \u001b[33mWARNING\u001b[0m Ignored wandb.init() arg project when running a sweep.\n"
     ]
    },
    {
     "data": {
      "text/html": [
       "wandb version 0.15.12 is available!  To upgrade, please run:\n",
       " $ pip install wandb --upgrade"
      ],
      "text/plain": [
       "<IPython.core.display.HTML object>"
      ]
     },
     "metadata": {},
     "output_type": "display_data"
    },
    {
     "data": {
      "text/html": [
       "Tracking run with wandb version 0.15.11"
      ],
      "text/plain": [
       "<IPython.core.display.HTML object>"
      ]
     },
     "metadata": {},
     "output_type": "display_data"
    },
    {
     "data": {
      "text/html": [
       "Run data is saved locally in <code>/home/rohit172/IIIT-H/SEM-5/SMAI/Assignment-3/wandb/run-20231023_074337-xfssg1mm</code>"
      ],
      "text/plain": [
       "<IPython.core.display.HTML object>"
      ]
     },
     "metadata": {},
     "output_type": "display_data"
    },
    {
     "data": {
      "text/html": [
       "Syncing run <strong><a href='https://wandb.ai/rohitgowlapalli01/MLP%20on%20Double-MNIST%20Dataset/runs/xfssg1mm' target=\"_blank\">peachy-sweep-1</a></strong> to <a href='https://wandb.ai/rohitgowlapalli01/MLP%20on%20Double-MNIST%20Dataset' target=\"_blank\">Weights & Biases</a> (<a href='https://wandb.me/run' target=\"_blank\">docs</a>)<br/>Sweep page: <a href='https://wandb.ai/rohitgowlapalli01/MLP%20on%20Double-MNIST%20Dataset/sweeps/my2u462u' target=\"_blank\">https://wandb.ai/rohitgowlapalli01/MLP%20on%20Double-MNIST%20Dataset/sweeps/my2u462u</a>"
      ],
      "text/plain": [
       "<IPython.core.display.HTML object>"
      ]
     },
     "metadata": {},
     "output_type": "display_data"
    },
    {
     "data": {
      "text/html": [
       " View project at <a href='https://wandb.ai/rohitgowlapalli01/MLP%20on%20Double-MNIST%20Dataset' target=\"_blank\">https://wandb.ai/rohitgowlapalli01/MLP%20on%20Double-MNIST%20Dataset</a>"
      ],
      "text/plain": [
       "<IPython.core.display.HTML object>"
      ]
     },
     "metadata": {},
     "output_type": "display_data"
    },
    {
     "data": {
      "text/html": [
       " View sweep at <a href='https://wandb.ai/rohitgowlapalli01/MLP%20on%20Double-MNIST%20Dataset/sweeps/my2u462u' target=\"_blank\">https://wandb.ai/rohitgowlapalli01/MLP%20on%20Double-MNIST%20Dataset/sweeps/my2u462u</a>"
      ],
      "text/plain": [
       "<IPython.core.display.HTML object>"
      ]
     },
     "metadata": {},
     "output_type": "display_data"
    },
    {
     "data": {
      "text/html": [
       " View run at <a href='https://wandb.ai/rohitgowlapalli01/MLP%20on%20Double-MNIST%20Dataset/runs/xfssg1mm' target=\"_blank\">https://wandb.ai/rohitgowlapalli01/MLP%20on%20Double-MNIST%20Dataset/runs/xfssg1mm</a>"
      ],
      "text/plain": [
       "<IPython.core.display.HTML object>"
      ]
     },
     "metadata": {},
     "output_type": "display_data"
    },
    {
     "name": "stdout",
     "output_type": "stream",
     "text": [
      "2 [128, 128]\n"
     ]
    },
    {
     "name": "stderr",
     "output_type": "stream",
     "text": [
      "Exception in thread Exception in thread ChkStopThrNetStatThr:\n",
      "Exception in thread :\n",
      "Traceback (most recent call last):\n",
      "IntMsgThrTraceback (most recent call last):\n",
      "  File \"/usr/lib/python3.8/threading.py\", line 932, in _bootstrap_inner\n",
      ":\n",
      "  File \"/usr/lib/python3.8/threading.py\", line 932, in _bootstrap_inner\n",
      "Traceback (most recent call last):\n",
      "      File \"/usr/lib/python3.8/threading.py\", line 932, in _bootstrap_inner\n",
      "    self.run()self.run()\n",
      "\n",
      "  File \"/usr/lib/python3.8/threading.py\", line 870, in run\n",
      "      File \"/usr/lib/python3.8/threading.py\", line 870, in run\n",
      "    self.run()self._target(*self._args, **self._kwargs)    \n",
      "\n",
      "self._target(*self._args, **self._kwargs)  File \"/usr/lib/python3.8/threading.py\", line 870, in run\n",
      "  File \"/home/rohit172/.local/lib/python3.8/site-packages/wandb/sdk/wandb_run.py\", line 285, in check_stop_status\n",
      "\n",
      "  File \"/home/rohit172/.local/lib/python3.8/site-packages/wandb/sdk/wandb_run.py\", line 267, in check_network_status\n",
      "    self._target(*self._args, **self._kwargs)\n",
      "  File \"/home/rohit172/.local/lib/python3.8/site-packages/wandb/sdk/wandb_run.py\", line 299, in check_internal_messages\n",
      "    self._loop_check_status(\n",
      "  File \"/home/rohit172/.local/lib/python3.8/site-packages/wandb/sdk/wandb_run.py\", line 223, in _loop_check_status\n",
      "        self._loop_check_status(    local_handle = request()\n",
      "self._loop_check_status(\n",
      "  File \"/home/rohit172/.local/lib/python3.8/site-packages/wandb/sdk/wandb_run.py\", line 223, in _loop_check_status\n",
      "  File \"/home/rohit172/.local/lib/python3.8/site-packages/wandb/sdk/wandb_run.py\", line 223, in _loop_check_status\n",
      "\n",
      "      File \"/home/rohit172/.local/lib/python3.8/site-packages/wandb/sdk/interface/interface.py\", line 743, in deliver_internal_messages\n",
      "    local_handle = request()    local_handle = request()\n",
      "return self._deliver_internal_messages(internal_message)\n",
      "  File \"/home/rohit172/.local/lib/python3.8/site-packages/wandb/sdk/interface/interface.py\", line 735, in deliver_network_status\n",
      "\n",
      "  File \"/home/rohit172/.local/lib/python3.8/site-packages/wandb/sdk/interface/interface.py\", line 727, in deliver_stop_status\n",
      "  File \"/home/rohit172/.local/lib/python3.8/site-packages/wandb/sdk/interface/interface_shared.py\", line 472, in _deliver_internal_messages\n",
      "        return self._deliver_stop_status(status)    return self._deliver_network_status(status)\n",
      "return self._deliver_record(record)\n",
      "\n",
      "  File \"/home/rohit172/.local/lib/python3.8/site-packages/wandb/sdk/interface/interface_shared.py\", line 425, in _deliver_record\n",
      "  File \"/home/rohit172/.local/lib/python3.8/site-packages/wandb/sdk/interface/interface_shared.py\", line 450, in _deliver_stop_status\n",
      "  File \"/home/rohit172/.local/lib/python3.8/site-packages/wandb/sdk/interface/interface_shared.py\", line 466, in _deliver_network_status\n",
      "        handle = mailbox._deliver_record(record, interface=self)    return self._deliver_record(record)\n",
      "return self._deliver_record(record)\n",
      "  File \"/home/rohit172/.local/lib/python3.8/site-packages/wandb/sdk/lib/mailbox.py\", line 455, in _deliver_record\n",
      "\n",
      "  File \"/home/rohit172/.local/lib/python3.8/site-packages/wandb/sdk/interface/interface_shared.py\", line 425, in _deliver_record\n",
      "  File \"/home/rohit172/.local/lib/python3.8/site-packages/wandb/sdk/interface/interface_shared.py\", line 425, in _deliver_record\n",
      "        interface._publish(record)handle = mailbox._deliver_record(record, interface=self)\n",
      "    \n",
      "  File \"/home/rohit172/.local/lib/python3.8/site-packages/wandb/sdk/interface/interface_sock.py\", line 51, in _publish\n",
      "  File \"/home/rohit172/.local/lib/python3.8/site-packages/wandb/sdk/lib/mailbox.py\", line 455, in _deliver_record\n",
      "handle = mailbox._deliver_record(record, interface=self)\n",
      "      File \"/home/rohit172/.local/lib/python3.8/site-packages/wandb/sdk/lib/mailbox.py\", line 455, in _deliver_record\n",
      "    self._sock_client.send_record_publish(record)interface._publish(record)    \n",
      "\n",
      "interface._publish(record)  File \"/home/rohit172/.local/lib/python3.8/site-packages/wandb/sdk/lib/sock_client.py\", line 221, in send_record_publish\n",
      "    \n",
      "  File \"/home/rohit172/.local/lib/python3.8/site-packages/wandb/sdk/interface/interface_sock.py\", line 51, in _publish\n",
      "self.send_server_request(server_req)\n",
      "  File \"/home/rohit172/.local/lib/python3.8/site-packages/wandb/sdk/lib/sock_client.py\", line 155, in send_server_request\n",
      "      File \"/home/rohit172/.local/lib/python3.8/site-packages/wandb/sdk/interface/interface_sock.py\", line 51, in _publish\n",
      "self._sock_client.send_record_publish(record)        \n",
      "self._send_message(msg)self._sock_client.send_record_publish(record)  File \"/home/rohit172/.local/lib/python3.8/site-packages/wandb/sdk/lib/sock_client.py\", line 221, in send_record_publish\n",
      "\n",
      "\n",
      "  File \"/home/rohit172/.local/lib/python3.8/site-packages/wandb/sdk/lib/sock_client.py\", line 152, in _send_message\n",
      "      File \"/home/rohit172/.local/lib/python3.8/site-packages/wandb/sdk/lib/sock_client.py\", line 221, in send_record_publish\n",
      "    self.send_server_request(server_req)    self._sendall_with_error_handle(header + data)\n",
      "self.send_server_request(server_req)\n",
      "  File \"/home/rohit172/.local/lib/python3.8/site-packages/wandb/sdk/lib/sock_client.py\", line 155, in send_server_request\n",
      "\n",
      "  File \"/home/rohit172/.local/lib/python3.8/site-packages/wandb/sdk/lib/sock_client.py\", line 130, in _sendall_with_error_handle\n",
      "      File \"/home/rohit172/.local/lib/python3.8/site-packages/wandb/sdk/lib/sock_client.py\", line 155, in send_server_request\n",
      "self._send_message(msg)        \n",
      "sent = self._sock.send(data)self._send_message(msg)  File \"/home/rohit172/.local/lib/python3.8/site-packages/wandb/sdk/lib/sock_client.py\", line 152, in _send_message\n",
      "\n",
      "\n",
      "BrokenPipeError      File \"/home/rohit172/.local/lib/python3.8/site-packages/wandb/sdk/lib/sock_client.py\", line 152, in _send_message\n",
      ": self._sendall_with_error_handle(header + data)    [Errno 32] Broken pipe\n",
      "self._sendall_with_error_handle(header + data)\n",
      "  File \"/home/rohit172/.local/lib/python3.8/site-packages/wandb/sdk/lib/sock_client.py\", line 130, in _sendall_with_error_handle\n",
      "\n",
      "  File \"/home/rohit172/.local/lib/python3.8/site-packages/wandb/sdk/lib/sock_client.py\", line 130, in _sendall_with_error_handle\n",
      "    sent = self._sock.send(data)\n",
      "BrokenPipeError:     [Errno 32] Broken pipe\n",
      "sent = self._sock.send(data)\n",
      "BrokenPipeError: [Errno 32] Broken pipe\n"
     ]
    },
    {
     "name": "stdout",
     "output_type": "stream",
     "text": [
      "Epoch 1/10, Train Loss: 1.9643, Train Acc: 29.56%, Val Loss: 1.8675, Val Acc: 31.45%\n",
      "Epoch 2/10, Train Loss: 1.7865, Train Acc: 36.18%, Val Loss: 1.8475, Val Acc: 31.95%\n",
      "Epoch 3/10, Train Loss: 1.7172, Train Acc: 38.81%, Val Loss: 1.7438, Val Acc: 34.62%\n",
      "Epoch 4/10, Train Loss: 1.6426, Train Acc: 41.40%, Val Loss: 1.5981, Val Acc: 39.90%\n",
      "Epoch 5/10, Train Loss: 1.5766, Train Acc: 43.63%, Val Loss: 1.5575, Val Acc: 40.95%\n",
      "Epoch 6/10, Train Loss: 1.5149, Train Acc: 45.92%, Val Loss: 1.4652, Val Acc: 45.97%\n",
      "Epoch 7/10, Train Loss: 1.4628, Train Acc: 48.04%, Val Loss: 1.4114, Val Acc: 48.33%\n",
      "Epoch 8/10, Train Loss: 1.4161, Train Acc: 49.90%, Val Loss: 1.3539, Val Acc: 50.70%\n",
      "Epoch 9/10, Train Loss: 1.3829, Train Acc: 51.22%, Val Loss: 1.3149, Val Acc: 52.12%\n",
      "Epoch 10/10, Train Loss: 1.3651, Train Acc: 51.87%, Val Loss: 1.3039, Val Acc: 52.85%\n",
      "Test Loss: 1.4678, Test Acc: 45.08%\n"
     ]
    },
    {
     "data": {
      "text/html": [
       "Waiting for W&B process to finish... <strong style=\"color:green\">(success).</strong>"
      ],
      "text/plain": [
       "<IPython.core.display.HTML object>"
      ]
     },
     "metadata": {},
     "output_type": "display_data"
    },
    {
     "data": {
      "text/html": [
       "<style>\n",
       "    table.wandb td:nth-child(1) { padding: 0 10px; text-align: left ; width: auto;} td:nth-child(2) {text-align: left ; width: 100%}\n",
       "    .wandb-row { display: flex; flex-direction: row; flex-wrap: wrap; justify-content: flex-start; width: 100% }\n",
       "    .wandb-col { display: flex; flex-direction: column; flex-basis: 100%; flex: 1; padding: 10px; }\n",
       "    </style>\n",
       "<div class=\"wandb-row\"><div class=\"wandb-col\"><h3>Run history:</h3><br/><table class=\"wandb\"><tr><td>Neurons</td><td>▁</td></tr><tr><td>Trainset Accuracy</td><td>▁</td></tr><tr><td>Trainset Loss</td><td>▁</td></tr><tr><td>Validation set Loss</td><td>▁</td></tr><tr><td>hidden_layers</td><td>▁</td></tr><tr><td>hidden_neurons_size</td><td>▁</td></tr><tr><td>test_accuracy</td><td>▁</td></tr><tr><td>val_accuracy</td><td>▁</td></tr></table><br/></div><div class=\"wandb-col\"><h3>Run summary:</h3><br/><table class=\"wandb\"><tr><td>Neurons</td><td>256</td></tr><tr><td>Trainset Accuracy</td><td>51.87266</td></tr><tr><td>Trainset Loss</td><td>1.36509</td></tr><tr><td>Validation set Loss</td><td>1.30393</td></tr><tr><td>hidden_layers</td><td>2</td></tr><tr><td>hidden_neurons_size</td><td>128</td></tr><tr><td>test_accuracy</td><td>45.0775</td></tr><tr><td>val_accuracy</td><td>52.84687</td></tr></table><br/></div></div>"
      ],
      "text/plain": [
       "<IPython.core.display.HTML object>"
      ]
     },
     "metadata": {},
     "output_type": "display_data"
    },
    {
     "data": {
      "text/html": [
       " View run <strong style=\"color:#cdcd00\">peachy-sweep-1</strong> at: <a href='https://wandb.ai/rohitgowlapalli01/MLP%20on%20Double-MNIST%20Dataset/runs/xfssg1mm' target=\"_blank\">https://wandb.ai/rohitgowlapalli01/MLP%20on%20Double-MNIST%20Dataset/runs/xfssg1mm</a><br/>Synced 5 W&B file(s), 0 media file(s), 0 artifact file(s) and 0 other file(s)"
      ],
      "text/plain": [
       "<IPython.core.display.HTML object>"
      ]
     },
     "metadata": {},
     "output_type": "display_data"
    },
    {
     "data": {
      "text/html": [
       "Find logs at: <code>./wandb/run-20231023_074337-xfssg1mm/logs</code>"
      ],
      "text/plain": [
       "<IPython.core.display.HTML object>"
      ]
     },
     "metadata": {},
     "output_type": "display_data"
    },
    {
     "name": "stderr",
     "output_type": "stream",
     "text": [
      "\u001b[34m\u001b[1mwandb\u001b[0m: Agent Starting Run: wffojuda with config:\n",
      "\u001b[34m\u001b[1mwandb\u001b[0m: \thidden_layers: 2\n",
      "\u001b[34m\u001b[1mwandb\u001b[0m: \thidden_neurons_size: 256\n",
      "/usr/lib/python3/dist-packages/requests/__init__.py:89: RequestsDependencyWarning: urllib3 (2.0.5) or chardet (3.0.4) doesn't match a supported version!\n",
      "  warnings.warn(\"urllib3 ({}) or chardet ({}) doesn't match a supported \"\n",
      "\u001b[34m\u001b[1mwandb\u001b[0m: \u001b[33mWARNING\u001b[0m Ignored wandb.init() arg project when running a sweep.\n"
     ]
    },
    {
     "data": {
      "text/html": [
       "wandb version 0.15.12 is available!  To upgrade, please run:\n",
       " $ pip install wandb --upgrade"
      ],
      "text/plain": [
       "<IPython.core.display.HTML object>"
      ]
     },
     "metadata": {},
     "output_type": "display_data"
    },
    {
     "data": {
      "text/html": [
       "Tracking run with wandb version 0.15.11"
      ],
      "text/plain": [
       "<IPython.core.display.HTML object>"
      ]
     },
     "metadata": {},
     "output_type": "display_data"
    },
    {
     "data": {
      "text/html": [
       "Run data is saved locally in <code>/home/rohit172/IIIT-H/SEM-5/SMAI/Assignment-3/wandb/run-20231023_075007-wffojuda</code>"
      ],
      "text/plain": [
       "<IPython.core.display.HTML object>"
      ]
     },
     "metadata": {},
     "output_type": "display_data"
    },
    {
     "data": {
      "text/html": [
       "Syncing run <strong><a href='https://wandb.ai/rohitgowlapalli01/MLP%20on%20Double-MNIST%20Dataset/runs/wffojuda' target=\"_blank\">dandy-sweep-2</a></strong> to <a href='https://wandb.ai/rohitgowlapalli01/MLP%20on%20Double-MNIST%20Dataset' target=\"_blank\">Weights & Biases</a> (<a href='https://wandb.me/run' target=\"_blank\">docs</a>)<br/>Sweep page: <a href='https://wandb.ai/rohitgowlapalli01/MLP%20on%20Double-MNIST%20Dataset/sweeps/my2u462u' target=\"_blank\">https://wandb.ai/rohitgowlapalli01/MLP%20on%20Double-MNIST%20Dataset/sweeps/my2u462u</a>"
      ],
      "text/plain": [
       "<IPython.core.display.HTML object>"
      ]
     },
     "metadata": {},
     "output_type": "display_data"
    },
    {
     "data": {
      "text/html": [
       " View project at <a href='https://wandb.ai/rohitgowlapalli01/MLP%20on%20Double-MNIST%20Dataset' target=\"_blank\">https://wandb.ai/rohitgowlapalli01/MLP%20on%20Double-MNIST%20Dataset</a>"
      ],
      "text/plain": [
       "<IPython.core.display.HTML object>"
      ]
     },
     "metadata": {},
     "output_type": "display_data"
    },
    {
     "data": {
      "text/html": [
       " View sweep at <a href='https://wandb.ai/rohitgowlapalli01/MLP%20on%20Double-MNIST%20Dataset/sweeps/my2u462u' target=\"_blank\">https://wandb.ai/rohitgowlapalli01/MLP%20on%20Double-MNIST%20Dataset/sweeps/my2u462u</a>"
      ],
      "text/plain": [
       "<IPython.core.display.HTML object>"
      ]
     },
     "metadata": {},
     "output_type": "display_data"
    },
    {
     "data": {
      "text/html": [
       " View run at <a href='https://wandb.ai/rohitgowlapalli01/MLP%20on%20Double-MNIST%20Dataset/runs/wffojuda' target=\"_blank\">https://wandb.ai/rohitgowlapalli01/MLP%20on%20Double-MNIST%20Dataset/runs/wffojuda</a>"
      ],
      "text/plain": [
       "<IPython.core.display.HTML object>"
      ]
     },
     "metadata": {},
     "output_type": "display_data"
    },
    {
     "name": "stdout",
     "output_type": "stream",
     "text": [
      "2 [256, 256]\n",
      "Epoch 1/10, Train Loss: 1.9158, Train Acc: 31.10%, Val Loss: 1.8940, Val Acc: 29.72%\n",
      "Epoch 2/10, Train Loss: 1.6184, Train Acc: 42.42%, Val Loss: 1.4501, Val Acc: 46.80%\n",
      "Epoch 3/10, Train Loss: 1.3628, Train Acc: 51.85%, Val Loss: 1.2390, Val Acc: 55.97%\n",
      "Epoch 4/10, Train Loss: 1.1915, Train Acc: 58.74%, Val Loss: 1.0940, Val Acc: 61.79%\n",
      "Epoch 5/10, Train Loss: 1.0566, Train Acc: 64.07%, Val Loss: 0.9402, Val Acc: 67.73%\n",
      "Epoch 6/10, Train Loss: 0.9675, Train Acc: 67.27%, Val Loss: 0.8915, Val Acc: 70.39%\n",
      "Epoch 7/10, Train Loss: 0.9124, Train Acc: 69.44%, Val Loss: 0.8327, Val Acc: 72.28%\n",
      "Epoch 8/10, Train Loss: 0.8683, Train Acc: 70.97%, Val Loss: 0.7576, Val Acc: 75.03%\n",
      "Epoch 9/10, Train Loss: 0.8370, Train Acc: 72.16%, Val Loss: 0.7573, Val Acc: 74.82%\n",
      "Epoch 10/10, Train Loss: 0.8092, Train Acc: 73.12%, Val Loss: 0.7484, Val Acc: 75.23%\n",
      "Test Loss: 0.8404, Test Acc: 71.77%\n"
     ]
    },
    {
     "data": {
      "text/html": [
       "Waiting for W&B process to finish... <strong style=\"color:green\">(success).</strong>"
      ],
      "text/plain": [
       "<IPython.core.display.HTML object>"
      ]
     },
     "metadata": {},
     "output_type": "display_data"
    },
    {
     "data": {
      "text/html": [
       "<style>\n",
       "    table.wandb td:nth-child(1) { padding: 0 10px; text-align: left ; width: auto;} td:nth-child(2) {text-align: left ; width: 100%}\n",
       "    .wandb-row { display: flex; flex-direction: row; flex-wrap: wrap; justify-content: flex-start; width: 100% }\n",
       "    .wandb-col { display: flex; flex-direction: column; flex-basis: 100%; flex: 1; padding: 10px; }\n",
       "    </style>\n",
       "<div class=\"wandb-row\"><div class=\"wandb-col\"><h3>Run history:</h3><br/><table class=\"wandb\"><tr><td>Neurons</td><td>▁</td></tr><tr><td>Trainset Accuracy</td><td>▁</td></tr><tr><td>Trainset Loss</td><td>▁</td></tr><tr><td>Validation set Loss</td><td>▁</td></tr><tr><td>hidden_layers</td><td>▁</td></tr><tr><td>hidden_neurons_size</td><td>▁</td></tr><tr><td>test_accuracy</td><td>▁</td></tr><tr><td>val_accuracy</td><td>▁</td></tr></table><br/></div><div class=\"wandb-col\"><h3>Run summary:</h3><br/><table class=\"wandb\"><tr><td>Neurons</td><td>512</td></tr><tr><td>Trainset Accuracy</td><td>73.12422</td></tr><tr><td>Trainset Loss</td><td>0.80915</td></tr><tr><td>Validation set Loss</td><td>0.74845</td></tr><tr><td>hidden_layers</td><td>2</td></tr><tr><td>hidden_neurons_size</td><td>256</td></tr><tr><td>test_accuracy</td><td>71.7675</td></tr><tr><td>val_accuracy</td><td>75.22813</td></tr></table><br/></div></div>"
      ],
      "text/plain": [
       "<IPython.core.display.HTML object>"
      ]
     },
     "metadata": {},
     "output_type": "display_data"
    },
    {
     "data": {
      "text/html": [
       " View run <strong style=\"color:#cdcd00\">dandy-sweep-2</strong> at: <a href='https://wandb.ai/rohitgowlapalli01/MLP%20on%20Double-MNIST%20Dataset/runs/wffojuda' target=\"_blank\">https://wandb.ai/rohitgowlapalli01/MLP%20on%20Double-MNIST%20Dataset/runs/wffojuda</a><br/>Synced 5 W&B file(s), 0 media file(s), 0 artifact file(s) and 0 other file(s)"
      ],
      "text/plain": [
       "<IPython.core.display.HTML object>"
      ]
     },
     "metadata": {},
     "output_type": "display_data"
    },
    {
     "data": {
      "text/html": [
       "Find logs at: <code>./wandb/run-20231023_075007-wffojuda/logs</code>"
      ],
      "text/plain": [
       "<IPython.core.display.HTML object>"
      ]
     },
     "metadata": {},
     "output_type": "display_data"
    },
    {
     "name": "stderr",
     "output_type": "stream",
     "text": [
      "\u001b[34m\u001b[1mwandb\u001b[0m: Agent Starting Run: 05yrlm8n with config:\n",
      "\u001b[34m\u001b[1mwandb\u001b[0m: \thidden_layers: 2\n",
      "\u001b[34m\u001b[1mwandb\u001b[0m: \thidden_neurons_size: 512\n",
      "/usr/lib/python3/dist-packages/requests/__init__.py:89: RequestsDependencyWarning: urllib3 (2.0.5) or chardet (3.0.4) doesn't match a supported version!\n",
      "  warnings.warn(\"urllib3 ({}) or chardet ({}) doesn't match a supported \"\n",
      "\u001b[34m\u001b[1mwandb\u001b[0m: \u001b[33mWARNING\u001b[0m Ignored wandb.init() arg project when running a sweep.\n"
     ]
    },
    {
     "data": {
      "text/html": [
       "wandb version 0.15.12 is available!  To upgrade, please run:\n",
       " $ pip install wandb --upgrade"
      ],
      "text/plain": [
       "<IPython.core.display.HTML object>"
      ]
     },
     "metadata": {},
     "output_type": "display_data"
    },
    {
     "data": {
      "text/html": [
       "Tracking run with wandb version 0.15.11"
      ],
      "text/plain": [
       "<IPython.core.display.HTML object>"
      ]
     },
     "metadata": {},
     "output_type": "display_data"
    },
    {
     "data": {
      "text/html": [
       "Run data is saved locally in <code>/home/rohit172/IIIT-H/SEM-5/SMAI/Assignment-3/wandb/run-20231023_075737-05yrlm8n</code>"
      ],
      "text/plain": [
       "<IPython.core.display.HTML object>"
      ]
     },
     "metadata": {},
     "output_type": "display_data"
    },
    {
     "data": {
      "text/html": [
       "Syncing run <strong><a href='https://wandb.ai/rohitgowlapalli01/MLP%20on%20Double-MNIST%20Dataset/runs/05yrlm8n' target=\"_blank\">snowy-sweep-3</a></strong> to <a href='https://wandb.ai/rohitgowlapalli01/MLP%20on%20Double-MNIST%20Dataset' target=\"_blank\">Weights & Biases</a> (<a href='https://wandb.me/run' target=\"_blank\">docs</a>)<br/>Sweep page: <a href='https://wandb.ai/rohitgowlapalli01/MLP%20on%20Double-MNIST%20Dataset/sweeps/my2u462u' target=\"_blank\">https://wandb.ai/rohitgowlapalli01/MLP%20on%20Double-MNIST%20Dataset/sweeps/my2u462u</a>"
      ],
      "text/plain": [
       "<IPython.core.display.HTML object>"
      ]
     },
     "metadata": {},
     "output_type": "display_data"
    },
    {
     "data": {
      "text/html": [
       " View project at <a href='https://wandb.ai/rohitgowlapalli01/MLP%20on%20Double-MNIST%20Dataset' target=\"_blank\">https://wandb.ai/rohitgowlapalli01/MLP%20on%20Double-MNIST%20Dataset</a>"
      ],
      "text/plain": [
       "<IPython.core.display.HTML object>"
      ]
     },
     "metadata": {},
     "output_type": "display_data"
    },
    {
     "data": {
      "text/html": [
       " View sweep at <a href='https://wandb.ai/rohitgowlapalli01/MLP%20on%20Double-MNIST%20Dataset/sweeps/my2u462u' target=\"_blank\">https://wandb.ai/rohitgowlapalli01/MLP%20on%20Double-MNIST%20Dataset/sweeps/my2u462u</a>"
      ],
      "text/plain": [
       "<IPython.core.display.HTML object>"
      ]
     },
     "metadata": {},
     "output_type": "display_data"
    },
    {
     "data": {
      "text/html": [
       " View run at <a href='https://wandb.ai/rohitgowlapalli01/MLP%20on%20Double-MNIST%20Dataset/runs/05yrlm8n' target=\"_blank\">https://wandb.ai/rohitgowlapalli01/MLP%20on%20Double-MNIST%20Dataset/runs/05yrlm8n</a>"
      ],
      "text/plain": [
       "<IPython.core.display.HTML object>"
      ]
     },
     "metadata": {},
     "output_type": "display_data"
    },
    {
     "name": "stdout",
     "output_type": "stream",
     "text": [
      "2 [512, 512]\n",
      "Epoch 1/10, Train Loss: 1.8971, Train Acc: 31.74%, Val Loss: 1.7635, Val Acc: 36.01%\n",
      "Epoch 2/10, Train Loss: 1.5137, Train Acc: 46.02%, Val Loss: 1.3146, Val Acc: 52.82%\n",
      "Epoch 3/10, Train Loss: 1.2485, Train Acc: 56.25%, Val Loss: 1.1258, Val Acc: 60.98%\n",
      "Epoch 4/10, Train Loss: 1.0632, Train Acc: 63.81%, Val Loss: 0.9758, Val Acc: 66.50%\n",
      "Epoch 5/10, Train Loss: 0.9230, Train Acc: 68.94%, Val Loss: 0.8348, Val Acc: 72.19%\n",
      "Epoch 6/10, Train Loss: 0.8407, Train Acc: 71.97%, Val Loss: 0.7455, Val Acc: 75.33%\n",
      "Epoch 7/10, Train Loss: 0.7906, Train Acc: 73.84%, Val Loss: 0.6899, Val Acc: 77.25%\n",
      "Epoch 8/10, Train Loss: 0.7451, Train Acc: 75.50%, Val Loss: 0.6349, Val Acc: 79.17%\n",
      "Epoch 9/10, Train Loss: 0.7187, Train Acc: 76.35%, Val Loss: 0.5994, Val Acc: 81.00%\n",
      "Epoch 10/10, Train Loss: 0.6913, Train Acc: 77.32%, Val Loss: 0.6157, Val Acc: 79.82%\n",
      "Test Loss: 0.6655, Test Acc: 78.23%\n"
     ]
    },
    {
     "data": {
      "text/html": [
       "Waiting for W&B process to finish... <strong style=\"color:green\">(success).</strong>"
      ],
      "text/plain": [
       "<IPython.core.display.HTML object>"
      ]
     },
     "metadata": {},
     "output_type": "display_data"
    },
    {
     "data": {
      "application/vnd.jupyter.widget-view+json": {
       "model_id": "db78265a913b4f4aab517db9b2d40513",
       "version_major": 2,
       "version_minor": 0
      },
      "text/plain": [
       "VBox(children=(Label(value='0.002 MB of 0.002 MB uploaded (0.000 MB deduped)\\r'), FloatProgress(value=1.0, max…"
      ]
     },
     "metadata": {},
     "output_type": "display_data"
    },
    {
     "data": {
      "text/html": [
       "<style>\n",
       "    table.wandb td:nth-child(1) { padding: 0 10px; text-align: left ; width: auto;} td:nth-child(2) {text-align: left ; width: 100%}\n",
       "    .wandb-row { display: flex; flex-direction: row; flex-wrap: wrap; justify-content: flex-start; width: 100% }\n",
       "    .wandb-col { display: flex; flex-direction: column; flex-basis: 100%; flex: 1; padding: 10px; }\n",
       "    </style>\n",
       "<div class=\"wandb-row\"><div class=\"wandb-col\"><h3>Run history:</h3><br/><table class=\"wandb\"><tr><td>Neurons</td><td>▁</td></tr><tr><td>Trainset Accuracy</td><td>▁</td></tr><tr><td>Trainset Loss</td><td>▁</td></tr><tr><td>Validation set Loss</td><td>▁</td></tr><tr><td>hidden_layers</td><td>▁</td></tr><tr><td>hidden_neurons_size</td><td>▁</td></tr><tr><td>test_accuracy</td><td>▁</td></tr><tr><td>val_accuracy</td><td>▁</td></tr></table><br/></div><div class=\"wandb-col\"><h3>Run summary:</h3><br/><table class=\"wandb\"><tr><td>Neurons</td><td>1024</td></tr><tr><td>Trainset Accuracy</td><td>77.31797</td></tr><tr><td>Trainset Loss</td><td>0.69128</td></tr><tr><td>Validation set Loss</td><td>0.61575</td></tr><tr><td>hidden_layers</td><td>2</td></tr><tr><td>hidden_neurons_size</td><td>512</td></tr><tr><td>test_accuracy</td><td>78.23</td></tr><tr><td>val_accuracy</td><td>79.82188</td></tr></table><br/></div></div>"
      ],
      "text/plain": [
       "<IPython.core.display.HTML object>"
      ]
     },
     "metadata": {},
     "output_type": "display_data"
    },
    {
     "data": {
      "text/html": [
       " View run <strong style=\"color:#cdcd00\">snowy-sweep-3</strong> at: <a href='https://wandb.ai/rohitgowlapalli01/MLP%20on%20Double-MNIST%20Dataset/runs/05yrlm8n' target=\"_blank\">https://wandb.ai/rohitgowlapalli01/MLP%20on%20Double-MNIST%20Dataset/runs/05yrlm8n</a><br/>Synced 5 W&B file(s), 0 media file(s), 0 artifact file(s) and 0 other file(s)"
      ],
      "text/plain": [
       "<IPython.core.display.HTML object>"
      ]
     },
     "metadata": {},
     "output_type": "display_data"
    },
    {
     "data": {
      "text/html": [
       "Find logs at: <code>./wandb/run-20231023_075737-05yrlm8n/logs</code>"
      ],
      "text/plain": [
       "<IPython.core.display.HTML object>"
      ]
     },
     "metadata": {},
     "output_type": "display_data"
    },
    {
     "name": "stderr",
     "output_type": "stream",
     "text": [
      "\u001b[34m\u001b[1mwandb\u001b[0m: Agent Starting Run: o2vp9bpc with config:\n",
      "\u001b[34m\u001b[1mwandb\u001b[0m: \thidden_layers: 3\n",
      "\u001b[34m\u001b[1mwandb\u001b[0m: \thidden_neurons_size: 128\n",
      "/usr/lib/python3/dist-packages/requests/__init__.py:89: RequestsDependencyWarning: urllib3 (2.0.5) or chardet (3.0.4) doesn't match a supported version!\n",
      "  warnings.warn(\"urllib3 ({}) or chardet ({}) doesn't match a supported \"\n",
      "\u001b[34m\u001b[1mwandb\u001b[0m: \u001b[33mWARNING\u001b[0m Ignored wandb.init() arg project when running a sweep.\n"
     ]
    },
    {
     "data": {
      "text/html": [
       "wandb version 0.15.12 is available!  To upgrade, please run:\n",
       " $ pip install wandb --upgrade"
      ],
      "text/plain": [
       "<IPython.core.display.HTML object>"
      ]
     },
     "metadata": {},
     "output_type": "display_data"
    },
    {
     "data": {
      "text/html": [
       "Tracking run with wandb version 0.15.11"
      ],
      "text/plain": [
       "<IPython.core.display.HTML object>"
      ]
     },
     "metadata": {},
     "output_type": "display_data"
    },
    {
     "data": {
      "text/html": [
       "Run data is saved locally in <code>/home/rohit172/IIIT-H/SEM-5/SMAI/Assignment-3/wandb/run-20231023_080543-o2vp9bpc</code>"
      ],
      "text/plain": [
       "<IPython.core.display.HTML object>"
      ]
     },
     "metadata": {},
     "output_type": "display_data"
    },
    {
     "data": {
      "text/html": [
       "Syncing run <strong><a href='https://wandb.ai/rohitgowlapalli01/MLP%20on%20Double-MNIST%20Dataset/runs/o2vp9bpc' target=\"_blank\">icy-sweep-4</a></strong> to <a href='https://wandb.ai/rohitgowlapalli01/MLP%20on%20Double-MNIST%20Dataset' target=\"_blank\">Weights & Biases</a> (<a href='https://wandb.me/run' target=\"_blank\">docs</a>)<br/>Sweep page: <a href='https://wandb.ai/rohitgowlapalli01/MLP%20on%20Double-MNIST%20Dataset/sweeps/my2u462u' target=\"_blank\">https://wandb.ai/rohitgowlapalli01/MLP%20on%20Double-MNIST%20Dataset/sweeps/my2u462u</a>"
      ],
      "text/plain": [
       "<IPython.core.display.HTML object>"
      ]
     },
     "metadata": {},
     "output_type": "display_data"
    },
    {
     "data": {
      "text/html": [
       " View project at <a href='https://wandb.ai/rohitgowlapalli01/MLP%20on%20Double-MNIST%20Dataset' target=\"_blank\">https://wandb.ai/rohitgowlapalli01/MLP%20on%20Double-MNIST%20Dataset</a>"
      ],
      "text/plain": [
       "<IPython.core.display.HTML object>"
      ]
     },
     "metadata": {},
     "output_type": "display_data"
    },
    {
     "data": {
      "text/html": [
       " View sweep at <a href='https://wandb.ai/rohitgowlapalli01/MLP%20on%20Double-MNIST%20Dataset/sweeps/my2u462u' target=\"_blank\">https://wandb.ai/rohitgowlapalli01/MLP%20on%20Double-MNIST%20Dataset/sweeps/my2u462u</a>"
      ],
      "text/plain": [
       "<IPython.core.display.HTML object>"
      ]
     },
     "metadata": {},
     "output_type": "display_data"
    },
    {
     "data": {
      "text/html": [
       " View run at <a href='https://wandb.ai/rohitgowlapalli01/MLP%20on%20Double-MNIST%20Dataset/runs/o2vp9bpc' target=\"_blank\">https://wandb.ai/rohitgowlapalli01/MLP%20on%20Double-MNIST%20Dataset/runs/o2vp9bpc</a>"
      ],
      "text/plain": [
       "<IPython.core.display.HTML object>"
      ]
     },
     "metadata": {},
     "output_type": "display_data"
    },
    {
     "name": "stdout",
     "output_type": "stream",
     "text": [
      "3 [128, 128, 128]\n",
      "Epoch 1/10, Train Loss: 1.9657, Train Acc: 29.23%, Val Loss: 1.8374, Val Acc: 30.63%\n",
      "Epoch 2/10, Train Loss: 1.6890, Train Acc: 39.42%, Val Loss: 1.5833, Val Acc: 41.21%\n",
      "Epoch 3/10, Train Loss: 1.4525, Train Acc: 47.76%, Val Loss: 1.3348, Val Acc: 49.35%\n",
      "Epoch 4/10, Train Loss: 1.2929, Train Acc: 53.78%, Val Loss: 1.2380, Val Acc: 54.40%\n",
      "Epoch 5/10, Train Loss: 1.1888, Train Acc: 58.11%, Val Loss: 1.1920, Val Acc: 56.36%\n",
      "Epoch 6/10, Train Loss: 1.0988, Train Acc: 61.70%, Val Loss: 0.9980, Val Acc: 65.04%\n",
      "Epoch 7/10, Train Loss: 1.0229, Train Acc: 64.82%, Val Loss: 0.9959, Val Acc: 65.03%\n",
      "Epoch 8/10, Train Loss: 0.9575, Train Acc: 67.58%, Val Loss: 0.9174, Val Acc: 67.87%\n",
      "Epoch 9/10, Train Loss: 0.8963, Train Acc: 69.73%, Val Loss: 0.7800, Val Acc: 73.48%\n",
      "Epoch 10/10, Train Loss: 0.8504, Train Acc: 71.27%, Val Loss: 0.7430, Val Acc: 74.16%\n",
      "Test Loss: 0.8324, Test Acc: 71.31%\n"
     ]
    },
    {
     "data": {
      "text/html": [
       "Waiting for W&B process to finish... <strong style=\"color:green\">(success).</strong>"
      ],
      "text/plain": [
       "<IPython.core.display.HTML object>"
      ]
     },
     "metadata": {},
     "output_type": "display_data"
    },
    {
     "data": {
      "application/vnd.jupyter.widget-view+json": {
       "model_id": "f366e0031e164ca3a31a8f03db27c954",
       "version_major": 2,
       "version_minor": 0
      },
      "text/plain": [
       "VBox(children=(Label(value='0.002 MB of 0.002 MB uploaded (0.000 MB deduped)\\r'), FloatProgress(value=1.0, max…"
      ]
     },
     "metadata": {},
     "output_type": "display_data"
    },
    {
     "data": {
      "text/html": [
       "<style>\n",
       "    table.wandb td:nth-child(1) { padding: 0 10px; text-align: left ; width: auto;} td:nth-child(2) {text-align: left ; width: 100%}\n",
       "    .wandb-row { display: flex; flex-direction: row; flex-wrap: wrap; justify-content: flex-start; width: 100% }\n",
       "    .wandb-col { display: flex; flex-direction: column; flex-basis: 100%; flex: 1; padding: 10px; }\n",
       "    </style>\n",
       "<div class=\"wandb-row\"><div class=\"wandb-col\"><h3>Run history:</h3><br/><table class=\"wandb\"><tr><td>Neurons</td><td>▁</td></tr><tr><td>Trainset Accuracy</td><td>▁</td></tr><tr><td>Trainset Loss</td><td>▁</td></tr><tr><td>Validation set Loss</td><td>▁</td></tr><tr><td>hidden_layers</td><td>▁</td></tr><tr><td>hidden_neurons_size</td><td>▁</td></tr><tr><td>test_accuracy</td><td>▁</td></tr><tr><td>val_accuracy</td><td>▁</td></tr></table><br/></div><div class=\"wandb-col\"><h3>Run summary:</h3><br/><table class=\"wandb\"><tr><td>Neurons</td><td>384</td></tr><tr><td>Trainset Accuracy</td><td>71.27031</td></tr><tr><td>Trainset Loss</td><td>0.85044</td></tr><tr><td>Validation set Loss</td><td>0.743</td></tr><tr><td>hidden_layers</td><td>3</td></tr><tr><td>hidden_neurons_size</td><td>128</td></tr><tr><td>test_accuracy</td><td>71.3075</td></tr><tr><td>val_accuracy</td><td>74.1625</td></tr></table><br/></div></div>"
      ],
      "text/plain": [
       "<IPython.core.display.HTML object>"
      ]
     },
     "metadata": {},
     "output_type": "display_data"
    },
    {
     "data": {
      "text/html": [
       " View run <strong style=\"color:#cdcd00\">icy-sweep-4</strong> at: <a href='https://wandb.ai/rohitgowlapalli01/MLP%20on%20Double-MNIST%20Dataset/runs/o2vp9bpc' target=\"_blank\">https://wandb.ai/rohitgowlapalli01/MLP%20on%20Double-MNIST%20Dataset/runs/o2vp9bpc</a><br/>Synced 5 W&B file(s), 0 media file(s), 0 artifact file(s) and 0 other file(s)"
      ],
      "text/plain": [
       "<IPython.core.display.HTML object>"
      ]
     },
     "metadata": {},
     "output_type": "display_data"
    },
    {
     "data": {
      "text/html": [
       "Find logs at: <code>./wandb/run-20231023_080543-o2vp9bpc/logs</code>"
      ],
      "text/plain": [
       "<IPython.core.display.HTML object>"
      ]
     },
     "metadata": {},
     "output_type": "display_data"
    },
    {
     "name": "stderr",
     "output_type": "stream",
     "text": [
      "\u001b[34m\u001b[1mwandb\u001b[0m: Agent Starting Run: kba9yqzz with config:\n",
      "\u001b[34m\u001b[1mwandb\u001b[0m: \thidden_layers: 3\n",
      "\u001b[34m\u001b[1mwandb\u001b[0m: \thidden_neurons_size: 256\n",
      "/usr/lib/python3/dist-packages/requests/__init__.py:89: RequestsDependencyWarning: urllib3 (2.0.5) or chardet (3.0.4) doesn't match a supported version!\n",
      "  warnings.warn(\"urllib3 ({}) or chardet ({}) doesn't match a supported \"\n",
      "\u001b[34m\u001b[1mwandb\u001b[0m: \u001b[33mWARNING\u001b[0m Ignored wandb.init() arg project when running a sweep.\n"
     ]
    },
    {
     "data": {
      "text/html": [
       "wandb version 0.15.12 is available!  To upgrade, please run:\n",
       " $ pip install wandb --upgrade"
      ],
      "text/plain": [
       "<IPython.core.display.HTML object>"
      ]
     },
     "metadata": {},
     "output_type": "display_data"
    },
    {
     "data": {
      "text/html": [
       "Tracking run with wandb version 0.15.11"
      ],
      "text/plain": [
       "<IPython.core.display.HTML object>"
      ]
     },
     "metadata": {},
     "output_type": "display_data"
    },
    {
     "data": {
      "text/html": [
       "Run data is saved locally in <code>/home/rohit172/IIIT-H/SEM-5/SMAI/Assignment-3/wandb/run-20231023_081153-kba9yqzz</code>"
      ],
      "text/plain": [
       "<IPython.core.display.HTML object>"
      ]
     },
     "metadata": {},
     "output_type": "display_data"
    },
    {
     "data": {
      "text/html": [
       "Syncing run <strong><a href='https://wandb.ai/rohitgowlapalli01/MLP%20on%20Double-MNIST%20Dataset/runs/kba9yqzz' target=\"_blank\">glorious-sweep-5</a></strong> to <a href='https://wandb.ai/rohitgowlapalli01/MLP%20on%20Double-MNIST%20Dataset' target=\"_blank\">Weights & Biases</a> (<a href='https://wandb.me/run' target=\"_blank\">docs</a>)<br/>Sweep page: <a href='https://wandb.ai/rohitgowlapalli01/MLP%20on%20Double-MNIST%20Dataset/sweeps/my2u462u' target=\"_blank\">https://wandb.ai/rohitgowlapalli01/MLP%20on%20Double-MNIST%20Dataset/sweeps/my2u462u</a>"
      ],
      "text/plain": [
       "<IPython.core.display.HTML object>"
      ]
     },
     "metadata": {},
     "output_type": "display_data"
    },
    {
     "data": {
      "text/html": [
       " View project at <a href='https://wandb.ai/rohitgowlapalli01/MLP%20on%20Double-MNIST%20Dataset' target=\"_blank\">https://wandb.ai/rohitgowlapalli01/MLP%20on%20Double-MNIST%20Dataset</a>"
      ],
      "text/plain": [
       "<IPython.core.display.HTML object>"
      ]
     },
     "metadata": {},
     "output_type": "display_data"
    },
    {
     "data": {
      "text/html": [
       " View sweep at <a href='https://wandb.ai/rohitgowlapalli01/MLP%20on%20Double-MNIST%20Dataset/sweeps/my2u462u' target=\"_blank\">https://wandb.ai/rohitgowlapalli01/MLP%20on%20Double-MNIST%20Dataset/sweeps/my2u462u</a>"
      ],
      "text/plain": [
       "<IPython.core.display.HTML object>"
      ]
     },
     "metadata": {},
     "output_type": "display_data"
    },
    {
     "data": {
      "text/html": [
       " View run at <a href='https://wandb.ai/rohitgowlapalli01/MLP%20on%20Double-MNIST%20Dataset/runs/kba9yqzz' target=\"_blank\">https://wandb.ai/rohitgowlapalli01/MLP%20on%20Double-MNIST%20Dataset/runs/kba9yqzz</a>"
      ],
      "text/plain": [
       "<IPython.core.display.HTML object>"
      ]
     },
     "metadata": {},
     "output_type": "display_data"
    },
    {
     "name": "stdout",
     "output_type": "stream",
     "text": [
      "3 [256, 256, 256]\n",
      "Epoch 1/10, Train Loss: 1.9579, Train Acc: 29.02%, Val Loss: 1.8345, Val Acc: 31.51%\n",
      "Epoch 2/10, Train Loss: 1.6069, Train Acc: 41.98%, Val Loss: 1.4070, Val Acc: 46.95%\n",
      "Epoch 3/10, Train Loss: 1.3144, Train Acc: 52.71%, Val Loss: 1.1498, Val Acc: 58.16%\n",
      "Epoch 4/10, Train Loss: 1.1102, Train Acc: 61.17%, Val Loss: 0.9679, Val Acc: 65.57%\n",
      "Epoch 5/10, Train Loss: 0.9702, Train Acc: 66.49%, Val Loss: 0.9519, Val Acc: 66.56%\n",
      "Epoch 6/10, Train Loss: 0.8670, Train Acc: 70.38%, Val Loss: 0.8241, Val Acc: 71.90%\n",
      "Epoch 7/10, Train Loss: 0.7854, Train Acc: 73.54%, Val Loss: 0.7451, Val Acc: 74.41%\n",
      "Epoch 8/10, Train Loss: 0.7237, Train Acc: 75.85%, Val Loss: 0.6763, Val Acc: 76.99%\n",
      "Epoch 9/10, Train Loss: 0.6776, Train Acc: 77.42%, Val Loss: 0.7224, Val Acc: 75.79%\n",
      "Epoch 10/10, Train Loss: 0.6394, Train Acc: 78.63%, Val Loss: 0.5947, Val Acc: 79.75%\n",
      "Test Loss: 0.6410, Test Acc: 78.05%\n"
     ]
    },
    {
     "data": {
      "text/html": [
       "Waiting for W&B process to finish... <strong style=\"color:green\">(success).</strong>"
      ],
      "text/plain": [
       "<IPython.core.display.HTML object>"
      ]
     },
     "metadata": {},
     "output_type": "display_data"
    },
    {
     "data": {
      "text/html": [
       "<style>\n",
       "    table.wandb td:nth-child(1) { padding: 0 10px; text-align: left ; width: auto;} td:nth-child(2) {text-align: left ; width: 100%}\n",
       "    .wandb-row { display: flex; flex-direction: row; flex-wrap: wrap; justify-content: flex-start; width: 100% }\n",
       "    .wandb-col { display: flex; flex-direction: column; flex-basis: 100%; flex: 1; padding: 10px; }\n",
       "    </style>\n",
       "<div class=\"wandb-row\"><div class=\"wandb-col\"><h3>Run history:</h3><br/><table class=\"wandb\"><tr><td>Neurons</td><td>▁</td></tr><tr><td>Trainset Accuracy</td><td>▁</td></tr><tr><td>Trainset Loss</td><td>▁</td></tr><tr><td>Validation set Loss</td><td>▁</td></tr><tr><td>hidden_layers</td><td>▁</td></tr><tr><td>hidden_neurons_size</td><td>▁</td></tr><tr><td>test_accuracy</td><td>▁</td></tr><tr><td>val_accuracy</td><td>▁</td></tr></table><br/></div><div class=\"wandb-col\"><h3>Run summary:</h3><br/><table class=\"wandb\"><tr><td>Neurons</td><td>768</td></tr><tr><td>Trainset Accuracy</td><td>78.63359</td></tr><tr><td>Trainset Loss</td><td>0.63943</td></tr><tr><td>Validation set Loss</td><td>0.59468</td></tr><tr><td>hidden_layers</td><td>3</td></tr><tr><td>hidden_neurons_size</td><td>256</td></tr><tr><td>test_accuracy</td><td>78.05</td></tr><tr><td>val_accuracy</td><td>79.75312</td></tr></table><br/></div></div>"
      ],
      "text/plain": [
       "<IPython.core.display.HTML object>"
      ]
     },
     "metadata": {},
     "output_type": "display_data"
    },
    {
     "data": {
      "text/html": [
       " View run <strong style=\"color:#cdcd00\">glorious-sweep-5</strong> at: <a href='https://wandb.ai/rohitgowlapalli01/MLP%20on%20Double-MNIST%20Dataset/runs/kba9yqzz' target=\"_blank\">https://wandb.ai/rohitgowlapalli01/MLP%20on%20Double-MNIST%20Dataset/runs/kba9yqzz</a><br/>Synced 5 W&B file(s), 0 media file(s), 0 artifact file(s) and 0 other file(s)"
      ],
      "text/plain": [
       "<IPython.core.display.HTML object>"
      ]
     },
     "metadata": {},
     "output_type": "display_data"
    },
    {
     "data": {
      "text/html": [
       "Find logs at: <code>./wandb/run-20231023_081153-kba9yqzz/logs</code>"
      ],
      "text/plain": [
       "<IPython.core.display.HTML object>"
      ]
     },
     "metadata": {},
     "output_type": "display_data"
    },
    {
     "name": "stderr",
     "output_type": "stream",
     "text": [
      "\u001b[34m\u001b[1mwandb\u001b[0m: Agent Starting Run: 1c8b3qwr with config:\n",
      "\u001b[34m\u001b[1mwandb\u001b[0m: \thidden_layers: 3\n",
      "\u001b[34m\u001b[1mwandb\u001b[0m: \thidden_neurons_size: 512\n",
      "/usr/lib/python3/dist-packages/requests/__init__.py:89: RequestsDependencyWarning: urllib3 (2.0.5) or chardet (3.0.4) doesn't match a supported version!\n",
      "  warnings.warn(\"urllib3 ({}) or chardet ({}) doesn't match a supported \"\n",
      "\u001b[34m\u001b[1mwandb\u001b[0m: \u001b[33mWARNING\u001b[0m Ignored wandb.init() arg project when running a sweep.\n"
     ]
    },
    {
     "data": {
      "text/html": [
       "wandb version 0.15.12 is available!  To upgrade, please run:\n",
       " $ pip install wandb --upgrade"
      ],
      "text/plain": [
       "<IPython.core.display.HTML object>"
      ]
     },
     "metadata": {},
     "output_type": "display_data"
    },
    {
     "data": {
      "text/html": [
       "Tracking run with wandb version 0.15.11"
      ],
      "text/plain": [
       "<IPython.core.display.HTML object>"
      ]
     },
     "metadata": {},
     "output_type": "display_data"
    },
    {
     "data": {
      "text/html": [
       "Run data is saved locally in <code>/home/rohit172/IIIT-H/SEM-5/SMAI/Assignment-3/wandb/run-20231023_081907-1c8b3qwr</code>"
      ],
      "text/plain": [
       "<IPython.core.display.HTML object>"
      ]
     },
     "metadata": {},
     "output_type": "display_data"
    },
    {
     "data": {
      "text/html": [
       "Syncing run <strong><a href='https://wandb.ai/rohitgowlapalli01/MLP%20on%20Double-MNIST%20Dataset/runs/1c8b3qwr' target=\"_blank\">electric-sweep-6</a></strong> to <a href='https://wandb.ai/rohitgowlapalli01/MLP%20on%20Double-MNIST%20Dataset' target=\"_blank\">Weights & Biases</a> (<a href='https://wandb.me/run' target=\"_blank\">docs</a>)<br/>Sweep page: <a href='https://wandb.ai/rohitgowlapalli01/MLP%20on%20Double-MNIST%20Dataset/sweeps/my2u462u' target=\"_blank\">https://wandb.ai/rohitgowlapalli01/MLP%20on%20Double-MNIST%20Dataset/sweeps/my2u462u</a>"
      ],
      "text/plain": [
       "<IPython.core.display.HTML object>"
      ]
     },
     "metadata": {},
     "output_type": "display_data"
    },
    {
     "data": {
      "text/html": [
       " View project at <a href='https://wandb.ai/rohitgowlapalli01/MLP%20on%20Double-MNIST%20Dataset' target=\"_blank\">https://wandb.ai/rohitgowlapalli01/MLP%20on%20Double-MNIST%20Dataset</a>"
      ],
      "text/plain": [
       "<IPython.core.display.HTML object>"
      ]
     },
     "metadata": {},
     "output_type": "display_data"
    },
    {
     "data": {
      "text/html": [
       " View sweep at <a href='https://wandb.ai/rohitgowlapalli01/MLP%20on%20Double-MNIST%20Dataset/sweeps/my2u462u' target=\"_blank\">https://wandb.ai/rohitgowlapalli01/MLP%20on%20Double-MNIST%20Dataset/sweeps/my2u462u</a>"
      ],
      "text/plain": [
       "<IPython.core.display.HTML object>"
      ]
     },
     "metadata": {},
     "output_type": "display_data"
    },
    {
     "data": {
      "text/html": [
       " View run at <a href='https://wandb.ai/rohitgowlapalli01/MLP%20on%20Double-MNIST%20Dataset/runs/1c8b3qwr' target=\"_blank\">https://wandb.ai/rohitgowlapalli01/MLP%20on%20Double-MNIST%20Dataset/runs/1c8b3qwr</a>"
      ],
      "text/plain": [
       "<IPython.core.display.HTML object>"
      ]
     },
     "metadata": {},
     "output_type": "display_data"
    },
    {
     "name": "stdout",
     "output_type": "stream",
     "text": [
      "3 [512, 512, 512]\n",
      "Epoch 1/10, Train Loss: 1.9055, Train Acc: 31.08%, Val Loss: 1.7871, Val Acc: 34.09%\n",
      "Epoch 2/10, Train Loss: 1.4561, Train Acc: 47.73%, Val Loss: 1.1790, Val Acc: 57.97%\n",
      "Epoch 3/10, Train Loss: 1.0344, Train Acc: 64.15%, Val Loss: 0.8395, Val Acc: 71.18%\n",
      "Epoch 4/10, Train Loss: 0.8054, Train Acc: 72.64%, Val Loss: 0.6875, Val Acc: 76.64%\n",
      "Epoch 5/10, Train Loss: 0.6992, Train Acc: 76.46%, Val Loss: 0.6148, Val Acc: 79.15%\n",
      "Epoch 6/10, Train Loss: 0.6282, Train Acc: 78.89%, Val Loss: 0.6271, Val Acc: 78.95%\n",
      "Epoch 7/10, Train Loss: 0.5811, Train Acc: 80.68%, Val Loss: 0.5709, Val Acc: 80.91%\n",
      "Epoch 8/10, Train Loss: 0.5372, Train Acc: 82.13%, Val Loss: 0.4581, Val Acc: 85.04%\n",
      "Epoch 9/10, Train Loss: 0.5053, Train Acc: 83.15%, Val Loss: 0.5053, Val Acc: 83.30%\n",
      "Epoch 10/10, Train Loss: 0.4781, Train Acc: 84.10%, Val Loss: 0.4554, Val Acc: 85.05%\n",
      "Test Loss: 0.4956, Test Acc: 83.74%\n"
     ]
    },
    {
     "data": {
      "text/html": [
       "Waiting for W&B process to finish... <strong style=\"color:green\">(success).</strong>"
      ],
      "text/plain": [
       "<IPython.core.display.HTML object>"
      ]
     },
     "metadata": {},
     "output_type": "display_data"
    },
    {
     "data": {
      "application/vnd.jupyter.widget-view+json": {
       "model_id": "5c0a30ed0a2b460e884b33c670cbdb94",
       "version_major": 2,
       "version_minor": 0
      },
      "text/plain": [
       "VBox(children=(Label(value='0.002 MB of 0.002 MB uploaded (0.000 MB deduped)\\r'), FloatProgress(value=1.0, max…"
      ]
     },
     "metadata": {},
     "output_type": "display_data"
    },
    {
     "data": {
      "text/html": [
       "<style>\n",
       "    table.wandb td:nth-child(1) { padding: 0 10px; text-align: left ; width: auto;} td:nth-child(2) {text-align: left ; width: 100%}\n",
       "    .wandb-row { display: flex; flex-direction: row; flex-wrap: wrap; justify-content: flex-start; width: 100% }\n",
       "    .wandb-col { display: flex; flex-direction: column; flex-basis: 100%; flex: 1; padding: 10px; }\n",
       "    </style>\n",
       "<div class=\"wandb-row\"><div class=\"wandb-col\"><h3>Run history:</h3><br/><table class=\"wandb\"><tr><td>Neurons</td><td>▁</td></tr><tr><td>Trainset Accuracy</td><td>▁</td></tr><tr><td>Trainset Loss</td><td>▁</td></tr><tr><td>Validation set Loss</td><td>▁</td></tr><tr><td>hidden_layers</td><td>▁</td></tr><tr><td>hidden_neurons_size</td><td>▁</td></tr><tr><td>test_accuracy</td><td>▁</td></tr><tr><td>val_accuracy</td><td>▁</td></tr></table><br/></div><div class=\"wandb-col\"><h3>Run summary:</h3><br/><table class=\"wandb\"><tr><td>Neurons</td><td>1536</td></tr><tr><td>Trainset Accuracy</td><td>84.09922</td></tr><tr><td>Trainset Loss</td><td>0.47812</td></tr><tr><td>Validation set Loss</td><td>0.4554</td></tr><tr><td>hidden_layers</td><td>3</td></tr><tr><td>hidden_neurons_size</td><td>512</td></tr><tr><td>test_accuracy</td><td>83.7375</td></tr><tr><td>val_accuracy</td><td>85.05312</td></tr></table><br/></div></div>"
      ],
      "text/plain": [
       "<IPython.core.display.HTML object>"
      ]
     },
     "metadata": {},
     "output_type": "display_data"
    },
    {
     "data": {
      "text/html": [
       " View run <strong style=\"color:#cdcd00\">electric-sweep-6</strong> at: <a href='https://wandb.ai/rohitgowlapalli01/MLP%20on%20Double-MNIST%20Dataset/runs/1c8b3qwr' target=\"_blank\">https://wandb.ai/rohitgowlapalli01/MLP%20on%20Double-MNIST%20Dataset/runs/1c8b3qwr</a><br/>Synced 5 W&B file(s), 0 media file(s), 0 artifact file(s) and 0 other file(s)"
      ],
      "text/plain": [
       "<IPython.core.display.HTML object>"
      ]
     },
     "metadata": {},
     "output_type": "display_data"
    },
    {
     "data": {
      "text/html": [
       "Find logs at: <code>./wandb/run-20231023_081907-1c8b3qwr/logs</code>"
      ],
      "text/plain": [
       "<IPython.core.display.HTML object>"
      ]
     },
     "metadata": {},
     "output_type": "display_data"
    },
    {
     "name": "stderr",
     "output_type": "stream",
     "text": [
      "\u001b[34m\u001b[1mwandb\u001b[0m: Sweep Agent: Waiting for job.\n",
      "\u001b[34m\u001b[1mwandb\u001b[0m: Sweep Agent: Exiting.\n"
     ]
    },
    {
     "name": "stdout",
     "output_type": "stream",
     "text": [
      "Error in callback <function _WandbInit._pause_backend at 0x7f4f0b66a9d0> (for post_run_cell):\n"
     ]
    },
    {
     "ename": "BrokenPipeError",
     "evalue": "[Errno 32] Broken pipe",
     "output_type": "error",
     "traceback": [
      "\u001b[0;31m---------------------------------------------------------------------------\u001b[0m",
      "\u001b[0;31mBrokenPipeError\u001b[0m                           Traceback (most recent call last)",
      "File \u001b[0;32m~/.local/lib/python3.8/site-packages/backcall/backcall.py:104\u001b[0m, in \u001b[0;36mcallback_prototype.<locals>.adapt.<locals>.adapted\u001b[0;34m(*args, **kwargs)\u001b[0m\n\u001b[1;32m    102\u001b[0m                 kwargs\u001b[39m.\u001b[39mpop(name)\n\u001b[1;32m    103\u001b[0m \u001b[39m#            print(args, kwargs, unmatched_pos, cut_positional, unmatched_kw)\u001b[39;00m\n\u001b[0;32m--> 104\u001b[0m             \u001b[39mreturn\u001b[39;00m callback(\u001b[39m*\u001b[39;49margs, \u001b[39m*\u001b[39;49m\u001b[39m*\u001b[39;49mkwargs)\n",
      "File \u001b[0;32m~/.local/lib/python3.8/site-packages/wandb/sdk/wandb_init.py:439\u001b[0m, in \u001b[0;36m_WandbInit._pause_backend\u001b[0;34m(self)\u001b[0m\n\u001b[1;32m    437\u001b[0m \u001b[39mif\u001b[39;00m \u001b[39mself\u001b[39m\u001b[39m.\u001b[39mbackend\u001b[39m.\u001b[39minterface \u001b[39mis\u001b[39;00m \u001b[39mnot\u001b[39;00m \u001b[39mNone\u001b[39;00m:\n\u001b[1;32m    438\u001b[0m     logger\u001b[39m.\u001b[39minfo(\u001b[39m\"\u001b[39m\u001b[39mpausing backend\u001b[39m\u001b[39m\"\u001b[39m)  \u001b[39m# type: ignore\u001b[39;00m\n\u001b[0;32m--> 439\u001b[0m     \u001b[39mself\u001b[39;49m\u001b[39m.\u001b[39;49mbackend\u001b[39m.\u001b[39;49minterface\u001b[39m.\u001b[39;49mpublish_pause()\n",
      "File \u001b[0;32m~/.local/lib/python3.8/site-packages/wandb/sdk/interface/interface.py:626\u001b[0m, in \u001b[0;36mInterfaceBase.publish_pause\u001b[0;34m(self)\u001b[0m\n\u001b[1;32m    624\u001b[0m \u001b[39mdef\u001b[39;00m \u001b[39mpublish_pause\u001b[39m(\u001b[39mself\u001b[39m) \u001b[39m-\u001b[39m\u001b[39m>\u001b[39m \u001b[39mNone\u001b[39;00m:\n\u001b[1;32m    625\u001b[0m     pause \u001b[39m=\u001b[39m pb\u001b[39m.\u001b[39mPauseRequest()\n\u001b[0;32m--> 626\u001b[0m     \u001b[39mself\u001b[39;49m\u001b[39m.\u001b[39;49m_publish_pause(pause)\n",
      "File \u001b[0;32m~/.local/lib/python3.8/site-packages/wandb/sdk/interface/interface_shared.py:343\u001b[0m, in \u001b[0;36mInterfaceShared._publish_pause\u001b[0;34m(self, pause)\u001b[0m\n\u001b[1;32m    341\u001b[0m \u001b[39mdef\u001b[39;00m \u001b[39m_publish_pause\u001b[39m(\u001b[39mself\u001b[39m, pause: pb\u001b[39m.\u001b[39mPauseRequest) \u001b[39m-\u001b[39m\u001b[39m>\u001b[39m \u001b[39mNone\u001b[39;00m:\n\u001b[1;32m    342\u001b[0m     rec \u001b[39m=\u001b[39m \u001b[39mself\u001b[39m\u001b[39m.\u001b[39m_make_request(pause\u001b[39m=\u001b[39mpause)\n\u001b[0;32m--> 343\u001b[0m     \u001b[39mself\u001b[39;49m\u001b[39m.\u001b[39;49m_publish(rec)\n",
      "File \u001b[0;32m~/.local/lib/python3.8/site-packages/wandb/sdk/interface/interface_sock.py:51\u001b[0m, in \u001b[0;36mInterfaceSock._publish\u001b[0;34m(self, record, local)\u001b[0m\n\u001b[1;32m     49\u001b[0m \u001b[39mdef\u001b[39;00m \u001b[39m_publish\u001b[39m(\u001b[39mself\u001b[39m, record: \u001b[39m\"\u001b[39m\u001b[39mpb.Record\u001b[39m\u001b[39m\"\u001b[39m, local: Optional[\u001b[39mbool\u001b[39m] \u001b[39m=\u001b[39m \u001b[39mNone\u001b[39;00m) \u001b[39m-\u001b[39m\u001b[39m>\u001b[39m \u001b[39mNone\u001b[39;00m:\n\u001b[1;32m     50\u001b[0m     \u001b[39mself\u001b[39m\u001b[39m.\u001b[39m_assign(record)\n\u001b[0;32m---> 51\u001b[0m     \u001b[39mself\u001b[39;49m\u001b[39m.\u001b[39;49m_sock_client\u001b[39m.\u001b[39;49msend_record_publish(record)\n",
      "File \u001b[0;32m~/.local/lib/python3.8/site-packages/wandb/sdk/lib/sock_client.py:221\u001b[0m, in \u001b[0;36mSockClient.send_record_publish\u001b[0;34m(self, record)\u001b[0m\n\u001b[1;32m    219\u001b[0m server_req \u001b[39m=\u001b[39m spb\u001b[39m.\u001b[39mServerRequest()\n\u001b[1;32m    220\u001b[0m server_req\u001b[39m.\u001b[39mrecord_publish\u001b[39m.\u001b[39mCopyFrom(record)\n\u001b[0;32m--> 221\u001b[0m \u001b[39mself\u001b[39;49m\u001b[39m.\u001b[39;49msend_server_request(server_req)\n",
      "File \u001b[0;32m~/.local/lib/python3.8/site-packages/wandb/sdk/lib/sock_client.py:155\u001b[0m, in \u001b[0;36mSockClient.send_server_request\u001b[0;34m(self, msg)\u001b[0m\n\u001b[1;32m    154\u001b[0m \u001b[39mdef\u001b[39;00m \u001b[39msend_server_request\u001b[39m(\u001b[39mself\u001b[39m, msg: Any) \u001b[39m-\u001b[39m\u001b[39m>\u001b[39m \u001b[39mNone\u001b[39;00m:\n\u001b[0;32m--> 155\u001b[0m     \u001b[39mself\u001b[39;49m\u001b[39m.\u001b[39;49m_send_message(msg)\n",
      "File \u001b[0;32m~/.local/lib/python3.8/site-packages/wandb/sdk/lib/sock_client.py:152\u001b[0m, in \u001b[0;36mSockClient._send_message\u001b[0;34m(self, msg)\u001b[0m\n\u001b[1;32m    150\u001b[0m header \u001b[39m=\u001b[39m struct\u001b[39m.\u001b[39mpack(\u001b[39m\"\u001b[39m\u001b[39m<BI\u001b[39m\u001b[39m\"\u001b[39m, \u001b[39mord\u001b[39m(\u001b[39m\"\u001b[39m\u001b[39mW\u001b[39m\u001b[39m\"\u001b[39m), raw_size)\n\u001b[1;32m    151\u001b[0m \u001b[39mwith\u001b[39;00m \u001b[39mself\u001b[39m\u001b[39m.\u001b[39m_lock:\n\u001b[0;32m--> 152\u001b[0m     \u001b[39mself\u001b[39;49m\u001b[39m.\u001b[39;49m_sendall_with_error_handle(header \u001b[39m+\u001b[39;49m data)\n",
      "File \u001b[0;32m~/.local/lib/python3.8/site-packages/wandb/sdk/lib/sock_client.py:130\u001b[0m, in \u001b[0;36mSockClient._sendall_with_error_handle\u001b[0;34m(self, data)\u001b[0m\n\u001b[1;32m    128\u001b[0m start_time \u001b[39m=\u001b[39m time\u001b[39m.\u001b[39mmonotonic()\n\u001b[1;32m    129\u001b[0m \u001b[39mtry\u001b[39;00m:\n\u001b[0;32m--> 130\u001b[0m     sent \u001b[39m=\u001b[39m \u001b[39mself\u001b[39;49m\u001b[39m.\u001b[39;49m_sock\u001b[39m.\u001b[39;49msend(data)\n\u001b[1;32m    131\u001b[0m     \u001b[39m# sent equal to 0 indicates a closed socket\u001b[39;00m\n\u001b[1;32m    132\u001b[0m     \u001b[39mif\u001b[39;00m sent \u001b[39m==\u001b[39m \u001b[39m0\u001b[39m:\n",
      "\u001b[0;31mBrokenPipeError\u001b[0m: [Errno 32] Broken pipe"
     ]
    }
   ],
   "source": [
    "import wandb\n",
    "wandb.init(project=\"MLP on Double-MNIST Dataset\")\n",
    "sweep_config = {\n",
    "    \"method\": \"grid\",\n",
    "    \"name\": \"MLP on Double-MNIST Dataset\",\n",
    "    \"metric\": {\"goal\": \"maximize\", \"name\": \"test_accuracy\"},\n",
    "    \"parameters\": {\n",
    "        \"hidden_layers\": {\"values\": [2,3]},\n",
    "        \"hidden_neurons_size\": {\"values\": [128,256,512]},\n",
    "    },\n",
    "}\n",
    "criterion = nn.CrossEntropyLoss()\n",
    "sweep_id = wandb.sweep(sweep_config, project=\"MLP on Double-MNIST Dataset\")\n",
    "def train():\n",
    "    wandb.init(project=\"MLP on Double-MNIST Dataset\")\n",
    "    config = wandb.config\n",
    "    hidden_layers = config.hidden_layers\n",
    "    hidden_neurons_size = config.hidden_neurons_size\n",
    "    hidden_neurons  = [hidden_neurons_size for _ in range(hidden_layers)]\n",
    "    print(hidden_layers,hidden_neurons)\n",
    "    model_left = MultiMNIST_MLP(input_size=784,num_classes=num_classes,hidden_layers=hidden_layers,hidden_neurons=hidden_neurons)\n",
    "    model_right = MultiMNIST_MLP(input_size=784,num_classes=num_classes,hidden_layers=hidden_layers,hidden_neurons=hidden_neurons)\n",
    "    learning_rate = 0.001\n",
    "    criterion_left = nn.CrossEntropyLoss()\n",
    "    optimizer_left = optim.Adam(model_left.parameters(), lr=learning_rate)\n",
    "    criterion_right = nn.CrossEntropyLoss()\n",
    "    optimizer_right = optim.Adam(model_right.parameters(), lr=learning_rate)\n",
    "    train_losses, val_losses, train_acc, val_acc = train_model(model_left=model_left,model_right=model_right,train_loader=train_loader, val_loader=val_loader, criterion_left=criterion_left, optimizer_left=optimizer_left,criterion_right=criterion_right,optimizer_right=optimizer_right,num_epochs=10)\n",
    "    criterion_left = nn.CrossEntropyLoss()\n",
    "    optimizer_left = optim.Adam(model_left.parameters(), lr=learning_rate)\n",
    "    criterion_right = nn.CrossEntropyLoss()\n",
    "    optimizer_right = optim.Adam(model_right.parameters(), lr=learning_rate)\n",
    "    test_accuracy = test_model(model_left=model_left,model_right=model_right,test_loader=test_loader,criterion_left=criterion_left,criterion_right=criterion_right)\n",
    "    wandb.log({\"Trainset Loss\":train_losses[-1],\"Trainset Accuracy\":train_acc[-1],\"Validation set Loss\":val_losses[-1],\"val_accuracy\":val_acc[-1],\"test_accuracy\":test_accuracy,\"hidden_layers\":hidden_layers,\"Neurons\":hidden_layers*hidden_neurons_size,\"hidden_neurons_size\":hidden_neurons_size})\n",
    "\n",
    "# Run the sweep\n",
    "wandb.agent(sweep_id, function=train)\n",
    "wandb.finish()"
   ]
  },
  {
   "cell_type": "markdown",
   "metadata": {},
   "source": [
    "### MLP on MNIST Dataset"
   ]
  },
  {
   "cell_type": "code",
   "execution_count": 17,
   "metadata": {},
   "outputs": [
    {
     "name": "stdout",
     "output_type": "stream",
     "text": [
      "Test Loss: 13.4032, Test Acc: 7.63%\n"
     ]
    }
   ],
   "source": [
    "import torchvision\n",
    "import torchvision.transforms as transforms\n",
    "transform = transforms.Compose([transforms.ToTensor(), transforms.Normalize((0.5,), (0.5,))])\n",
    "trainset = torchvision.datasets.MNIST(root='./data', train=True, download=True, transform=transform)\n",
    "trainloader = torch.utils.data.DataLoader(trainset, batch_size=4, shuffle=True)\n",
    "train_size = int(0.8 * len(trainset))\n",
    "val_size = int(0.1 * len(trainset))\n",
    "test_size = len(trainset) - train_size - val_size\n",
    "train_data, val_data, test_data = torch.utils.data.random_split(trainset, [train_size, val_size, test_size])\n",
    "gen = torch.Generator().manual_seed(42)\n",
    "batch_size = 64\n",
    "train_loader = torch.utils.data.DataLoader(train_data, batch_size=batch_size, shuffle=True)\n",
    "val_loader = torch.utils.data.DataLoader(val_data, batch_size=batch_size, shuffle=False)\n",
    "test_loader = torch.utils.data.DataLoader(test_data, batch_size=batch_size, shuffle=False)\n",
    "test_model(model_left=model_left,model_right=model_right,test_loader=test_loader,criterion_left=criterion_left,criterion_right=criterion_right)"
   ]
  },
  {
   "cell_type": "markdown",
   "metadata": {},
   "source": [
    "# CNN on Double-MNIST"
   ]
  },
  {
   "cell_type": "code",
   "execution_count": 1,
   "metadata": {},
   "outputs": [
    {
     "name": "stderr",
     "output_type": "stream",
     "text": [
      "/usr/lib/python3/dist-packages/requests/__init__.py:89: RequestsDependencyWarning: urllib3 (2.0.5) or chardet (3.0.4) doesn't match a supported version!\n",
      "  warnings.warn(\"urllib3 ({}) or chardet ({}) doesn't match a supported \"\n"
     ]
    },
    {
     "name": "stdout",
     "output_type": "stream",
     "text": [
      "['00', '01', '04', '05', '06', '08', '09', '11', '12', '13', '14', '15', '16', '18', '19', '20', '21', '23', '24', '26', '28', '29', '30', '31', '33', '35', '37', '38', '41', '42', '43', '44', '45', '50', '51', '53', '54', '56', '59', '60', '62', '63', '65', '69', '70', '72', '74', '75', '76', '77', '79', '81', '82', '84', '85', '87', '88', '89', '90', '91', '94', '95', '97', '98']\n",
      "Dataset CustomImageFolder\n",
      "    Number of datapoints: 64000\n",
      "    Root location: double_mnist/train\n",
      "    StandardTransform\n",
      "Transform: Compose(\n",
      "               Grayscale(num_output_channels=1)\n",
      "               Resize(size=(28, 28), interpolation=bilinear, max_size=None, antialias=warn)\n",
      "               ToTensor()\n",
      "               Normalize(mean=(0.5,), std=(0.5,))\n",
      "           )\n"
     ]
    }
   ],
   "source": [
    "import torch\n",
    "import torch.nn as nn\n",
    "import torch.optim as optim\n",
    "import torchvision.transforms as transforms\n",
    "import torchvision.datasets as datasets\n",
    "from torch.utils.data import DataLoader\n",
    "import matplotlib.pyplot as plt\n",
    "from sklearn.metrics import confusion_matrix, classification_report\n",
    "from PIL import Image\n",
    "import numpy as np\n",
    "import os\n",
    "from torchvision.datasets import ImageFolder\n",
    "\n",
    "transform = transforms.Compose([\n",
    "    transforms.Grayscale(num_output_channels=1),\n",
    "    transforms.Resize((28, 28)),\n",
    "    transforms.ToTensor(),\n",
    "    transforms.Normalize((0.5,), (0.5,))\n",
    "])\n",
    "train_data_path = 'double_mnist/train'\n",
    "val_data_path = 'double_mnist/val'\n",
    "test_data_path = 'double_mnist/test'\n",
    "class CustomImageFolder(ImageFolder):\n",
    "    def __init__(self, root, transform=None):\n",
    "        super(CustomImageFolder, self).__init__(root, transform=transform)\n",
    "    \n",
    "    def __getitem__(self, index):\n",
    "        path, target = self.samples[index]\n",
    "        sample = self.loader(path)\n",
    "        if self.transform is not None:\n",
    "            sample = self.transform(sample)\n",
    "        folder_name = os.path.basename(os.path.dirname(path))\n",
    "        return sample, int(folder_name) \n",
    "    \n",
    "train_dataset = CustomImageFolder(train_data_path, transform=transform)\n",
    "val_dataset = CustomImageFolder(val_data_path, transform=transform)\n",
    "test_dataset = CustomImageFolder(test_data_path, transform=transform)\n",
    "print(train_dataset.classes)\n",
    "class_to_label = {str(i).zfill(2): i for i in range(100)}\n",
    "# Define batch sizes\n",
    "batch_size = 64\n",
    "print(train_dataset)\n",
    "\n",
    "train_loader = DataLoader(train_dataset, batch_size=batch_size, shuffle=True)\n",
    "val_loader = DataLoader(val_dataset, batch_size=batch_size, shuffle=False)\n",
    "test_loader = DataLoader(test_dataset, batch_size=batch_size, shuffle=False)\n",
    "num_classes = 10\n",
    "class_names = train_dataset.classes\n",
    "class_names = val_dataset.classes\n",
    "print(class_names)\n",
    "for images, labels in train_loader:\n",
    "    print(labels)\n",
    "    break\n",
    "for images, labels in val_loader:\n",
    "    plt.imshow(images[0].permute(1, 2, 0))\n",
    "    print(labels[0])\n",
    "    print(labels)\n",
    "    break"
   ]
  },
  {
   "cell_type": "code",
   "execution_count": 2,
   "metadata": {},
   "outputs": [],
   "source": [
    "class MultiMNIST_CNN(nn.Module):\n",
    "    def __init__(self, input_channels , num_classes , dropout_size=0.25, strides=2, kernel_size=3, pool_size=2):\n",
    "        super(MultiMNIST_CNN, self).__init__()\n",
    "        self.conv1 = nn.Conv2d(input_channels, 32, kernel_size=kernel_size, padding=int((kernel_size-1)/2))\n",
    "        self.relu1 = nn.ReLU()\n",
    "        self.maxpool1 = nn.MaxPool2d(kernel_size=pool_size, stride=strides)\n",
    "        self.conv2 = nn.Conv2d(32, 64, kernel_size=kernel_size, padding=int((kernel_size-1)/2))\n",
    "        self.relu2 = nn.ReLU()\n",
    "        self.maxpool2 = nn.MaxPool2d(kernel_size=pool_size, stride=strides)\n",
    "        self.var1 = int((28-pool_size)/strides)+1\n",
    "        self.dim = int((self.var1-pool_size)/strides)+1\n",
    "        self.fc1 = nn.Linear(64 * self.dim * self.dim, 128)\n",
    "        self.relu3 = nn.ReLU()\n",
    "        self.dropout = nn.Dropout(p=dropout_size)\n",
    "        self.fc2 = nn.Linear(128, num_classes)\n",
    "\n",
    "    def forward(self, x):\n",
    "        x = self.maxpool1(self.relu1(self.conv1(x)))\n",
    "        x = self.maxpool2(self.relu2(self.conv2(x)))\n",
    "        x = x.view(-1, 64 * self.dim * self.dim)\n",
    "        x = self.relu3(self.fc1(x))\n",
    "        x = self.dropout(x)\n",
    "        x = self.fc2(x)\n",
    "        return x\n",
    "\n",
    "model = MultiMNIST_CNN(input_channels=1,num_classes=num_classes)\n",
    "learning_rate = 0.001\n",
    "criterion = nn.CrossEntropyLoss()\n",
    "optimizer = optim.Adam(model.parameters(), lr=learning_rate)"
   ]
  },
  {
   "cell_type": "code",
   "execution_count": 3,
   "metadata": {},
   "outputs": [],
   "source": [
    "def train_model(model_left, model_right , train_loader, val_loader, criterion_left, optimizer_left, criterion_right, optimizer_right,num_epochs=5):\n",
    "    train_losses, val_losses = [], []\n",
    "    train_acc, val_acc = [] , []\n",
    "\n",
    "    for epoch in range(num_epochs):\n",
    "        # left half\n",
    "        model_left.train()\n",
    "        running_loss_left = 0.0\n",
    "        correct_train_left = 0\n",
    "        total_train_left = 0\n",
    "\n",
    "        # right half\n",
    "        model_right.train()\n",
    "        running_loss_right = 0.0\n",
    "        correct_train_right = 0\n",
    "        total_train_right = 0\n",
    "\n",
    "        for images, labels in train_loader:\n",
    "            # left half\n",
    "            labels_group_left = labels//10\n",
    "            optimizer_left.zero_grad()\n",
    "            image_left = images.clone()\n",
    "            left_half = images[:, :, :, :images.shape[3] // 2]\n",
    "            image_left[:, :, :, (image_left.shape[3] // 2):] = left_half\n",
    "            outputs_left = model_left(image_left)\n",
    "            loss_left = criterion_left(outputs_left, labels_group_left)\n",
    "            loss_left.backward()\n",
    "            optimizer_left.step()\n",
    "            running_loss_left += loss_left.item()\n",
    "            _, predicted_left = torch.max(outputs_left.data, 1)\n",
    "            total_train_left += labels.size(0)\n",
    "            for k in range(labels.size(0)):\n",
    "                if(labels_group_left[k]==predicted_left[k]):\n",
    "                    correct_train_left = correct_train_left+1\n",
    "            # right half\n",
    "            labels_group_right = labels % 10\n",
    "            optimizer_right.zero_grad()\n",
    "            image_right = images.clone()\n",
    "            right_half = images[:, :, :, images.shape[3] // 2:]\n",
    "            image_right[:, :, :, :(image_right.shape[3] // 2)] = right_half\n",
    "            outputs_right = model_right(image_right)\n",
    "            loss_right = criterion_right(outputs_right, labels_group_right)\n",
    "            loss_right.backward()\n",
    "            optimizer_right.step()\n",
    "            running_loss_right += loss_right.item()\n",
    "            _, predicted_right = torch.max(outputs_right.data, 1)\n",
    "            total_train_right += labels.size(0)\n",
    "            for k in range(labels.size(0)):\n",
    "                if(labels_group_right[k]==predicted_right[k]):\n",
    "                    correct_train_right = correct_train_right+1\n",
    "\n",
    "\n",
    "        train_accuracy = 100 * (correct_train_left+correct_train_right) / (total_train_left+total_train_right)\n",
    "        train_losses.append((running_loss_right+running_loss_left) / (2*len(train_loader)))\n",
    "        train_acc.append(train_accuracy)\n",
    "        # left half\n",
    "        model_left.eval()\n",
    "        val_loss_left = 0.0\n",
    "        correct_val_left = 0\n",
    "        total_val_left = 0\n",
    "        count_left = 0\n",
    "        # right half\n",
    "        model_right.eval()\n",
    "        val_loss_right = 0.0\n",
    "        correct_val_right = 0\n",
    "        total_val_right = 0\n",
    "        count_right = 0\n",
    "        with torch.no_grad():\n",
    "            for images, labels in val_loader:\n",
    "                # left half\n",
    "                labels_group_left = labels // 10\n",
    "                image_left = images.clone()\n",
    "                left_half = images[:, :, :, :images.shape[3] // 2]\n",
    "                image_left[:, :, :, (image_left.shape[3] // 2):] = left_half\n",
    "                outputs_left = model_left(image_left)\n",
    "                loss_left = criterion_left(outputs_left, labels_group_left)\n",
    "                val_loss_left += loss_left.item()\n",
    "                _, predicted_left = torch.max(outputs_left.data, 1)\n",
    "                total_val_left += labels.size(0)\n",
    "                correct_val_left += (predicted_left == labels_group_left).sum().item()\n",
    "                count_left = count_left+1\n",
    "                # right half\n",
    "                labels_group_right = labels % 10\n",
    "                image_right = images.clone()\n",
    "                right_half = images[:, :, :, images.shape[3] // 2:]\n",
    "                image_right[:, :, :, :(image_right.shape[3] // 2)] = right_half\n",
    "                outputs_right = model_right(image_right)\n",
    "                loss_right = criterion_right(outputs_right, labels_group_right)\n",
    "                val_loss_right += loss_right.item()\n",
    "                _, predicted_right = torch.max(outputs_right.data, 1)\n",
    "                total_val_right += labels.size(0)\n",
    "                correct_val_right += (predicted_right == labels_group_right).sum().item()\n",
    "                count_right = count_right+1\n",
    "\n",
    "            val_accuracy = 100 * (correct_val_left+correct_val_right) / (total_val_left+total_val_right)\n",
    "            val_losses.append((val_loss_left+val_loss_right) / (2*len(val_loader)))\n",
    "            val_acc.append(val_accuracy)\n",
    "\n",
    "        print(f'Epoch {epoch + 1}/{num_epochs}, Train Loss: {train_losses[-1]:.4f}, Train Acc: {train_accuracy:.2f}%, '\n",
    "              f'Val Loss: {val_losses[-1]:.4f}, Val Acc: {val_accuracy:.2f}%')\n",
    "\n",
    "    return train_losses, val_losses, train_acc, val_acc\n",
    "\n",
    "\n",
    "def test_model(model_left, model_right , test_loader, criterion_left,criterion_right):\n",
    "    # left half\n",
    "    model_left.eval()\n",
    "    test_loss_left = 0.0\n",
    "    correct_test_left = 0\n",
    "    total_test_left = 0\n",
    "    count_left = 0\n",
    "    # right half\n",
    "    model_right.eval()\n",
    "    test_loss_right = 0.0\n",
    "    correct_test_right = 0\n",
    "    total_test_right = 0\n",
    "    count_right = 0\n",
    "    with torch.no_grad():\n",
    "        for images, labels in test_loader:\n",
    "            # left half\n",
    "            labels_group_left = labels // 10\n",
    "            image_left = images.clone()\n",
    "            left_half = images[:, :, :, :images.shape[3] // 2]\n",
    "            image_left[:, :, :, (image_left.shape[3] // 2):] = left_half\n",
    "            outputs_left = model_left(image_left)\n",
    "            loss_left = criterion_left(outputs_left, labels_group_left)\n",
    "            test_loss_left += loss_left.item()\n",
    "            _, predicted_left = torch.max(outputs_left.data, 1)\n",
    "            total_test_left += labels.size(0)\n",
    "            correct_test_left += (predicted_left == labels_group_left).sum().item()\n",
    "            count_left = count_left+1\n",
    "            # right half\n",
    "            labels_group_right = labels % 10\n",
    "            image_right = images.clone()\n",
    "            right_half = images[:, :, :, images.shape[3] // 2:]\n",
    "            image_right[:, :, :, :(image_right.shape[3] // 2)] = right_half\n",
    "            outputs_right = model_right(image_right)\n",
    "            loss_right = criterion_right(outputs_right, labels_group_right)\n",
    "            test_loss_right += loss_right.item()\n",
    "            _, predicted_right = torch.max(outputs_right.data, 1)\n",
    "            total_test_right += labels.size(0)\n",
    "            correct_test_right += (predicted_right == labels_group_right).sum().item()\n",
    "            count_right = count_right+1\n",
    "        test_accuracy = 100 * (correct_test_left+correct_test_right) / (total_test_left+total_test_right)\n",
    "        average_test_loss = ((test_loss_left+test_loss_right) / (2*len(test_loader)))\n",
    "\n",
    "    print(f'Test Loss: {average_test_loss:.4f}, Test Acc: {test_accuracy:.2f}%')\n",
    "    return test_accuracy\n"
   ]
  },
  {
   "cell_type": "code",
   "execution_count": 22,
   "metadata": {},
   "outputs": [
    {
     "name": "stdout",
     "output_type": "stream",
     "text": [
      "Epoch 1/5, Train Loss: 0.6381, Train Acc: 79.06%, Val Loss: 0.2061, Val Acc: 93.80%\n",
      "Epoch 2/5, Train Loss: 0.1895, Train Acc: 94.26%, Val Loss: 0.1347, Val Acc: 95.72%\n",
      "Epoch 3/5, Train Loss: 0.1339, Train Acc: 95.98%, Val Loss: 0.1048, Val Acc: 96.67%\n",
      "Epoch 4/5, Train Loss: 0.1039, Train Acc: 96.71%, Val Loss: 0.0937, Val Acc: 97.03%\n",
      "Epoch 5/5, Train Loss: 0.0850, Train Acc: 97.32%, Val Loss: 0.0830, Val Acc: 97.51%\n",
      "Test Loss: 0.0959, Test Acc: 97.14%\n"
     ]
    }
   ],
   "source": [
    "model_left = MultiMNIST_CNN(input_channels=1,num_classes=num_classes)\n",
    "model_right = MultiMNIST_CNN(input_channels=1,num_classes=num_classes)\n",
    "learning_rate = 0.001\n",
    "criterion_left = nn.CrossEntropyLoss()\n",
    "optimizer_left = optim.Adam(model_left.parameters(), lr=learning_rate)\n",
    "criterion_right = nn.CrossEntropyLoss()\n",
    "optimizer_right = optim.Adam(model_right.parameters(), lr=learning_rate)\n",
    "train_losses, val_losses, train_acc, val_acc = train_model(model_left=model_left,model_right=model_right,train_loader=train_loader, val_loader=val_loader, criterion_left=criterion_left, optimizer_left=optimizer_left,criterion_right=criterion_right,optimizer_right=optimizer_right,num_epochs=5)\n",
    "plt.figure(figsize=(12, 4))\n",
    "plt.subplot(1, 2, 1)\n",
    "plt.plot(train_losses, label='Train Loss')\n",
    "plt.plot(val_losses, label='Val Loss')\n",
    "plt.xlabel('Epoch')\n",
    "plt.ylabel('Loss')\n",
    "plt.legend()\n",
    "\n",
    "plt.subplot(1, 2, 2)\n",
    "plt.plot(train_acc, label='Train Acc')\n",
    "plt.plot(val_acc, label='Val Acc')\n",
    "plt.xlabel('Epoch')\n",
    "plt.ylabel('Accuracy (%)')\n",
    "plt.legend()\n",
    "\n",
    "plt.show()\n",
    "criterion_left = nn.CrossEntropyLoss()\n",
    "optimizer_left = optim.Adam(model_left.parameters(), lr=learning_rate)\n",
    "criterion_right = nn.CrossEntropyLoss()\n",
    "optimizer_right = optim.Adam(model_right.parameters(), lr=learning_rate)\n",
    "test_model(model_left=model_left,model_right=model_right,test_loader=test_loader,criterion_left=criterion_left,criterion_right=criterion_right)"
   ]
  },
  {
   "cell_type": "markdown",
   "metadata": {},
   "source": [
    "# Hyper-parameter tuning of CNN on Double-MNIST Dataset"
   ]
  },
  {
   "cell_type": "markdown",
   "metadata": {},
   "source": [
    "#### Report on Hyper-parameter tuning of CNN on Double-MNIST Dataset - [Report](https://api.wandb.ai/links/rohitgowlapalli01/rstveld3)"
   ]
  },
  {
   "cell_type": "code",
   "execution_count": 4,
   "metadata": {},
   "outputs": [
    {
     "name": "stderr",
     "output_type": "stream",
     "text": [
      "Failed to detect the name of this notebook, you can set it manually with the WANDB_NOTEBOOK_NAME environment variable to enable code saving.\n",
      "/usr/lib/python3/dist-packages/requests/__init__.py:89: RequestsDependencyWarning: urllib3 (2.0.5) or chardet (3.0.4) doesn't match a supported version!\n",
      "  warnings.warn(\"urllib3 ({}) or chardet ({}) doesn't match a supported \"\n",
      "\u001b[34m\u001b[1mwandb\u001b[0m: Currently logged in as: \u001b[33mrohitgowlapalli01\u001b[0m. Use \u001b[1m`wandb login --relogin`\u001b[0m to force relogin\n"
     ]
    },
    {
     "data": {
      "text/html": [
       "wandb version 0.15.12 is available!  To upgrade, please run:\n",
       " $ pip install wandb --upgrade"
      ],
      "text/plain": [
       "<IPython.core.display.HTML object>"
      ]
     },
     "metadata": {},
     "output_type": "display_data"
    },
    {
     "data": {
      "text/html": [
       "Tracking run with wandb version 0.15.11"
      ],
      "text/plain": [
       "<IPython.core.display.HTML object>"
      ]
     },
     "metadata": {},
     "output_type": "display_data"
    },
    {
     "data": {
      "text/html": [
       "Run data is saved locally in <code>/home/rohit172/IIIT-H/SEM-5/SMAI/Assignment-3/wandb/run-20231023_083314-zv9lukkf</code>"
      ],
      "text/plain": [
       "<IPython.core.display.HTML object>"
      ]
     },
     "metadata": {},
     "output_type": "display_data"
    },
    {
     "data": {
      "text/html": [
       "Syncing run <strong><a href='https://wandb.ai/rohitgowlapalli01/CNN%20on%20Double-MNIST%20Dataset/runs/zv9lukkf' target=\"_blank\">silvery-darkness-3</a></strong> to <a href='https://wandb.ai/rohitgowlapalli01/CNN%20on%20Double-MNIST%20Dataset' target=\"_blank\">Weights & Biases</a> (<a href='https://wandb.me/run' target=\"_blank\">docs</a>)<br/>"
      ],
      "text/plain": [
       "<IPython.core.display.HTML object>"
      ]
     },
     "metadata": {},
     "output_type": "display_data"
    },
    {
     "data": {
      "text/html": [
       " View project at <a href='https://wandb.ai/rohitgowlapalli01/CNN%20on%20Double-MNIST%20Dataset' target=\"_blank\">https://wandb.ai/rohitgowlapalli01/CNN%20on%20Double-MNIST%20Dataset</a>"
      ],
      "text/plain": [
       "<IPython.core.display.HTML object>"
      ]
     },
     "metadata": {},
     "output_type": "display_data"
    },
    {
     "data": {
      "text/html": [
       " View run at <a href='https://wandb.ai/rohitgowlapalli01/CNN%20on%20Double-MNIST%20Dataset/runs/zv9lukkf' target=\"_blank\">https://wandb.ai/rohitgowlapalli01/CNN%20on%20Double-MNIST%20Dataset/runs/zv9lukkf</a>"
      ],
      "text/plain": [
       "<IPython.core.display.HTML object>"
      ]
     },
     "metadata": {},
     "output_type": "display_data"
    },
    {
     "name": "stderr",
     "output_type": "stream",
     "text": [
      "\u001b[34m\u001b[1mwandb\u001b[0m: \u001b[33mWARNING\u001b[0m Calling wandb.login() after wandb.init() has no effect.\n"
     ]
    },
    {
     "name": "stdout",
     "output_type": "stream",
     "text": [
      "Create sweep with ID: 4caacuwc\n",
      "Sweep URL: https://wandb.ai/rohitgowlapalli01/CNN%20on%20Double-MNIST%20Dataset/sweeps/4caacuwc\n",
      "<IPython.core.display.HTML object>\n"
     ]
    },
    {
     "name": "stderr",
     "output_type": "stream",
     "text": [
      "wandb: WARNING Source type is set to 'repo' but some required information is missing from the environment. A job will not be created from this run. See https://docs.wandb.ai/guides/launch/create-job\n"
     ]
    },
    {
     "name": "stdout",
     "output_type": "stream",
     "text": [
      "<IPython.core.display.HTML object>\n",
      "<IPython.core.display.HTML object>\n"
     ]
    },
    {
     "name": "stderr",
     "output_type": "stream",
     "text": [
      "\u001b[34m\u001b[1mwandb\u001b[0m: Agent Starting Run: kjavbwsj with config:\n",
      "\u001b[34m\u001b[1mwandb\u001b[0m: \tdropout_rate: 0.5\n",
      "\u001b[34m\u001b[1mwandb\u001b[0m: \tkernel_size: 3\n",
      "\u001b[34m\u001b[1mwandb\u001b[0m: \tlearning_rate: 0.001\n",
      "/usr/lib/python3/dist-packages/requests/__init__.py:89: RequestsDependencyWarning: urllib3 (2.0.5) or chardet (3.0.4) doesn't match a supported version!\n",
      "  warnings.warn(\"urllib3 ({}) or chardet ({}) doesn't match a supported \"\n",
      "\u001b[34m\u001b[1mwandb\u001b[0m: \u001b[33mWARNING\u001b[0m Ignored wandb.init() arg project when running a sweep.\n"
     ]
    },
    {
     "data": {
      "text/html": [
       "wandb version 0.15.12 is available!  To upgrade, please run:\n",
       " $ pip install wandb --upgrade"
      ],
      "text/plain": [
       "<IPython.core.display.HTML object>"
      ]
     },
     "metadata": {},
     "output_type": "display_data"
    },
    {
     "data": {
      "text/html": [
       "Tracking run with wandb version 0.15.11"
      ],
      "text/plain": [
       "<IPython.core.display.HTML object>"
      ]
     },
     "metadata": {},
     "output_type": "display_data"
    },
    {
     "data": {
      "text/html": [
       "Run data is saved locally in <code>/home/rohit172/IIIT-H/SEM-5/SMAI/Assignment-3/wandb/run-20231023_083326-kjavbwsj</code>"
      ],
      "text/plain": [
       "<IPython.core.display.HTML object>"
      ]
     },
     "metadata": {},
     "output_type": "display_data"
    },
    {
     "data": {
      "text/html": [
       "Syncing run <strong><a href='https://wandb.ai/rohitgowlapalli01/CNN%20on%20Double-MNIST%20Dataset/runs/kjavbwsj' target=\"_blank\">logical-sweep-1</a></strong> to <a href='https://wandb.ai/rohitgowlapalli01/CNN%20on%20Double-MNIST%20Dataset' target=\"_blank\">Weights & Biases</a> (<a href='https://wandb.me/run' target=\"_blank\">docs</a>)<br/>Sweep page: <a href='https://wandb.ai/rohitgowlapalli01/CNN%20on%20Double-MNIST%20Dataset/sweeps/4caacuwc' target=\"_blank\">https://wandb.ai/rohitgowlapalli01/CNN%20on%20Double-MNIST%20Dataset/sweeps/4caacuwc</a>"
      ],
      "text/plain": [
       "<IPython.core.display.HTML object>"
      ]
     },
     "metadata": {},
     "output_type": "display_data"
    },
    {
     "data": {
      "text/html": [
       " View project at <a href='https://wandb.ai/rohitgowlapalli01/CNN%20on%20Double-MNIST%20Dataset' target=\"_blank\">https://wandb.ai/rohitgowlapalli01/CNN%20on%20Double-MNIST%20Dataset</a>"
      ],
      "text/plain": [
       "<IPython.core.display.HTML object>"
      ]
     },
     "metadata": {},
     "output_type": "display_data"
    },
    {
     "data": {
      "text/html": [
       " View sweep at <a href='https://wandb.ai/rohitgowlapalli01/CNN%20on%20Double-MNIST%20Dataset/sweeps/4caacuwc' target=\"_blank\">https://wandb.ai/rohitgowlapalli01/CNN%20on%20Double-MNIST%20Dataset/sweeps/4caacuwc</a>"
      ],
      "text/plain": [
       "<IPython.core.display.HTML object>"
      ]
     },
     "metadata": {},
     "output_type": "display_data"
    },
    {
     "data": {
      "text/html": [
       " View run at <a href='https://wandb.ai/rohitgowlapalli01/CNN%20on%20Double-MNIST%20Dataset/runs/kjavbwsj' target=\"_blank\">https://wandb.ai/rohitgowlapalli01/CNN%20on%20Double-MNIST%20Dataset/runs/kjavbwsj</a>"
      ],
      "text/plain": [
       "<IPython.core.display.HTML object>"
      ]
     },
     "metadata": {},
     "output_type": "display_data"
    },
    {
     "name": "stdout",
     "output_type": "stream",
     "text": [
      "0.001 0.5 3\n"
     ]
    },
    {
     "name": "stderr",
     "output_type": "stream",
     "text": [
      "Exception in thread Exception in thread IntMsgThrChkStopThr:\n",
      "Traceback (most recent call last):\n",
      "  File \"/usr/lib/python3.8/threading.py\", line 932, in _bootstrap_inner\n",
      "    :\n",
      "self.run()\n",
      "  File \"/usr/lib/python3.8/threading.py\", line 870, in run\n",
      "Traceback (most recent call last):\n",
      "Exception in thread   File \"/usr/lib/python3.8/threading.py\", line 932, in _bootstrap_inner\n",
      "    NetStatThrself._target(*self._args, **self._kwargs):\n",
      "    \n",
      "Traceback (most recent call last):\n",
      "self.run()  File \"/home/rohit172/.local/lib/python3.8/site-packages/wandb/sdk/wandb_run.py\", line 299, in check_internal_messages\n",
      "  File \"/usr/lib/python3.8/threading.py\", line 932, in _bootstrap_inner\n",
      "\n",
      "  File \"/usr/lib/python3.8/threading.py\", line 870, in run\n",
      "    self.run()\n",
      "      File \"/usr/lib/python3.8/threading.py\", line 870, in run\n",
      "self._loop_check_status(    \n",
      "    self._target(*self._args, **self._kwargs)  File \"/home/rohit172/.local/lib/python3.8/site-packages/wandb/sdk/wandb_run.py\", line 223, in _loop_check_status\n",
      "self._target(*self._args, **self._kwargs)\n",
      "\n",
      "  File \"/home/rohit172/.local/lib/python3.8/site-packages/wandb/sdk/wandb_run.py\", line 285, in check_stop_status\n",
      "  File \"/home/rohit172/.local/lib/python3.8/site-packages/wandb/sdk/wandb_run.py\", line 267, in check_network_status\n",
      "        local_handle = request()    self._loop_check_status(\n",
      "self._loop_check_status(\n",
      "  File \"/home/rohit172/.local/lib/python3.8/site-packages/wandb/sdk/interface/interface.py\", line 743, in deliver_internal_messages\n",
      "\n",
      "  File \"/home/rohit172/.local/lib/python3.8/site-packages/wandb/sdk/wandb_run.py\", line 223, in _loop_check_status\n",
      "  File \"/home/rohit172/.local/lib/python3.8/site-packages/wandb/sdk/wandb_run.py\", line 223, in _loop_check_status\n",
      "        local_handle = request()local_handle = request()\n",
      "  File \"/home/rohit172/.local/lib/python3.8/site-packages/wandb/sdk/interface/interface.py\", line 735, in deliver_network_status\n",
      "\n",
      "  File \"/home/rohit172/.local/lib/python3.8/site-packages/wandb/sdk/interface/interface.py\", line 727, in deliver_stop_status\n",
      "            return self._deliver_internal_messages(internal_message)\n",
      "  File \"/home/rohit172/.local/lib/python3.8/site-packages/wandb/sdk/interface/interface_shared.py\", line 472, in _deliver_internal_messages\n",
      "    return self._deliver_network_status(status)\n",
      "  File \"/home/rohit172/.local/lib/python3.8/site-packages/wandb/sdk/interface/interface_shared.py\", line 466, in _deliver_network_status\n",
      "    return self._deliver_record(record)\n",
      "return self._deliver_record(record)  File \"/home/rohit172/.local/lib/python3.8/site-packages/wandb/sdk/interface/interface_shared.py\", line 425, in _deliver_record\n",
      "\n",
      "return self._deliver_stop_status(status)      File \"/home/rohit172/.local/lib/python3.8/site-packages/wandb/sdk/interface/interface_shared.py\", line 425, in _deliver_record\n",
      "    handle = mailbox._deliver_record(record, interface=self)\n",
      "  File \"/home/rohit172/.local/lib/python3.8/site-packages/wandb/sdk/lib/mailbox.py\", line 455, in _deliver_record\n",
      "    interface._publish(record)\n",
      "  File \"/home/rohit172/.local/lib/python3.8/site-packages/wandb/sdk/interface/interface_sock.py\", line 51, in _publish\n",
      "    \n",
      "handle = mailbox._deliver_record(record, interface=self)self._sock_client.send_record_publish(record)  File \"/home/rohit172/.local/lib/python3.8/site-packages/wandb/sdk/interface/interface_shared.py\", line 450, in _deliver_stop_status\n",
      "    return self._deliver_record(record)\n",
      "  File \"/home/rohit172/.local/lib/python3.8/site-packages/wandb/sdk/interface/interface_shared.py\", line 425, in _deliver_record\n",
      "    handle = mailbox._deliver_record(record, interface=self)\n",
      "  File \"/home/rohit172/.local/lib/python3.8/site-packages/wandb/sdk/lib/mailbox.py\", line 455, in _deliver_record\n",
      "    interface._publish(record)\n",
      "  File \"/home/rohit172/.local/lib/python3.8/site-packages/wandb/sdk/interface/interface_sock.py\", line 51, in _publish\n",
      "    self._sock_client.send_record_publish(record)\n",
      "  File \"/home/rohit172/.local/lib/python3.8/site-packages/wandb/sdk/lib/sock_client.py\", line 221, in send_record_publish\n",
      "    self.send_server_request(server_req)\n",
      "  File \"/home/rohit172/.local/lib/python3.8/site-packages/wandb/sdk/lib/sock_client.py\", line 155, in send_server_request\n",
      "    self._send_message(msg)\n",
      "  File \"/home/rohit172/.local/lib/python3.8/site-packages/wandb/sdk/lib/sock_client.py\", line 152, in _send_message\n",
      "    self._sendall_with_error_handle(header + data)\n",
      "  File \"/home/rohit172/.local/lib/python3.8/site-packages/wandb/sdk/lib/sock_client.py\", line 130, in _sendall_with_error_handle\n",
      "    sent = self._sock.send(data)\n",
      "BrokenPipeError: [Errno 32] Broken pipe\n",
      "\n",
      "  File \"/home/rohit172/.local/lib/python3.8/site-packages/wandb/sdk/lib/mailbox.py\", line 455, in _deliver_record\n",
      "    interface._publish(record)\n",
      "  File \"/home/rohit172/.local/lib/python3.8/site-packages/wandb/sdk/interface/interface_sock.py\", line 51, in _publish\n",
      "    self._sock_client.send_record_publish(record)\n",
      "  File \"/home/rohit172/.local/lib/python3.8/site-packages/wandb/sdk/lib/sock_client.py\", line 221, in send_record_publish\n",
      "    self.send_server_request(server_req)\n",
      "  File \"/home/rohit172/.local/lib/python3.8/site-packages/wandb/sdk/lib/sock_client.py\", line 155, in send_server_request\n",
      "    self._send_message(msg)\n",
      "  File \"/home/rohit172/.local/lib/python3.8/site-packages/wandb/sdk/lib/sock_client.py\", line 152, in _send_message\n",
      "    self._sendall_with_error_handle(header + data)\n",
      "  File \"/home/rohit172/.local/lib/python3.8/site-packages/wandb/sdk/lib/sock_client.py\", line 130, in _sendall_with_error_handle\n",
      "    sent = self._sock.send(data)\n",
      "BrokenPipeError: [Errno 32] Broken pipe\n",
      "\n",
      "  File \"/home/rohit172/.local/lib/python3.8/site-packages/wandb/sdk/lib/sock_client.py\", line 221, in send_record_publish\n",
      "    self.send_server_request(server_req)\n",
      "  File \"/home/rohit172/.local/lib/python3.8/site-packages/wandb/sdk/lib/sock_client.py\", line 155, in send_server_request\n",
      "    self._send_message(msg)\n",
      "  File \"/home/rohit172/.local/lib/python3.8/site-packages/wandb/sdk/lib/sock_client.py\", line 152, in _send_message\n",
      "    self._sendall_with_error_handle(header + data)\n",
      "  File \"/home/rohit172/.local/lib/python3.8/site-packages/wandb/sdk/lib/sock_client.py\", line 130, in _sendall_with_error_handle\n",
      "    sent = self._sock.send(data)\n",
      "BrokenPipeError: [Errno 32] Broken pipe\n"
     ]
    },
    {
     "name": "stdout",
     "output_type": "stream",
     "text": [
      "Epoch 1/5, Train Loss: 0.8050, Train Acc: 72.87%, Val Loss: 0.2296, Val Acc: 93.38%\n",
      "Epoch 2/5, Train Loss: 0.2814, Train Acc: 91.68%, Val Loss: 0.1455, Val Acc: 95.72%\n",
      "Epoch 3/5, Train Loss: 0.2046, Train Acc: 93.88%, Val Loss: 0.1138, Val Acc: 96.46%\n",
      "Epoch 4/5, Train Loss: 0.1611, Train Acc: 95.19%, Val Loss: 0.1042, Val Acc: 96.80%\n",
      "Epoch 5/5, Train Loss: 0.1346, Train Acc: 95.93%, Val Loss: 0.0937, Val Acc: 97.15%\n",
      "Test Loss: 0.0949, Test Acc: 97.17%\n"
     ]
    },
    {
     "data": {
      "text/html": [
       "Waiting for W&B process to finish... <strong style=\"color:green\">(success).</strong>"
      ],
      "text/plain": [
       "<IPython.core.display.HTML object>"
      ]
     },
     "metadata": {},
     "output_type": "display_data"
    },
    {
     "data": {
      "text/html": [
       "<style>\n",
       "    table.wandb td:nth-child(1) { padding: 0 10px; text-align: left ; width: auto;} td:nth-child(2) {text-align: left ; width: 100%}\n",
       "    .wandb-row { display: flex; flex-direction: row; flex-wrap: wrap; justify-content: flex-start; width: 100% }\n",
       "    .wandb-col { display: flex; flex-direction: column; flex-basis: 100%; flex: 1; padding: 10px; }\n",
       "    </style>\n",
       "<div class=\"wandb-row\"><div class=\"wandb-col\"><h3>Run history:</h3><br/><table class=\"wandb\"><tr><td>Trainset Accuracy</td><td>▁</td></tr><tr><td>Trainset Loss</td><td>▁</td></tr><tr><td>Validation set Loss</td><td>▁</td></tr><tr><td>dropout_rate</td><td>▁</td></tr><tr><td>kernel_size</td><td>▁</td></tr><tr><td>learning_rate</td><td>▁</td></tr><tr><td>test_accuracy</td><td>▁</td></tr><tr><td>val_accuracy</td><td>▁</td></tr></table><br/></div><div class=\"wandb-col\"><h3>Run summary:</h3><br/><table class=\"wandb\"><tr><td>Trainset Accuracy</td><td>95.92812</td></tr><tr><td>Trainset Loss</td><td>0.13462</td></tr><tr><td>Validation set Loss</td><td>0.09374</td></tr><tr><td>dropout_rate</td><td>0.5</td></tr><tr><td>kernel_size</td><td>3</td></tr><tr><td>learning_rate</td><td>0.001</td></tr><tr><td>test_accuracy</td><td>97.1725</td></tr><tr><td>val_accuracy</td><td>97.14687</td></tr></table><br/></div></div>"
      ],
      "text/plain": [
       "<IPython.core.display.HTML object>"
      ]
     },
     "metadata": {},
     "output_type": "display_data"
    },
    {
     "data": {
      "text/html": [
       " View run <strong style=\"color:#cdcd00\">logical-sweep-1</strong> at: <a href='https://wandb.ai/rohitgowlapalli01/CNN%20on%20Double-MNIST%20Dataset/runs/kjavbwsj' target=\"_blank\">https://wandb.ai/rohitgowlapalli01/CNN%20on%20Double-MNIST%20Dataset/runs/kjavbwsj</a><br/>Synced 5 W&B file(s), 0 media file(s), 0 artifact file(s) and 0 other file(s)"
      ],
      "text/plain": [
       "<IPython.core.display.HTML object>"
      ]
     },
     "metadata": {},
     "output_type": "display_data"
    },
    {
     "data": {
      "text/html": [
       "Find logs at: <code>./wandb/run-20231023_083326-kjavbwsj/logs</code>"
      ],
      "text/plain": [
       "<IPython.core.display.HTML object>"
      ]
     },
     "metadata": {},
     "output_type": "display_data"
    },
    {
     "name": "stderr",
     "output_type": "stream",
     "text": [
      "\u001b[34m\u001b[1mwandb\u001b[0m: Agent Starting Run: aioafykn with config:\n",
      "\u001b[34m\u001b[1mwandb\u001b[0m: \tdropout_rate: 0.5\n",
      "\u001b[34m\u001b[1mwandb\u001b[0m: \tkernel_size: 3\n",
      "\u001b[34m\u001b[1mwandb\u001b[0m: \tlearning_rate: 0.01\n",
      "/usr/lib/python3/dist-packages/requests/__init__.py:89: RequestsDependencyWarning: urllib3 (2.0.5) or chardet (3.0.4) doesn't match a supported version!\n",
      "  warnings.warn(\"urllib3 ({}) or chardet ({}) doesn't match a supported \"\n",
      "\u001b[34m\u001b[1mwandb\u001b[0m: \u001b[33mWARNING\u001b[0m Ignored wandb.init() arg project when running a sweep.\n"
     ]
    },
    {
     "data": {
      "text/html": [
       "wandb version 0.15.12 is available!  To upgrade, please run:\n",
       " $ pip install wandb --upgrade"
      ],
      "text/plain": [
       "<IPython.core.display.HTML object>"
      ]
     },
     "metadata": {},
     "output_type": "display_data"
    },
    {
     "data": {
      "text/html": [
       "Tracking run with wandb version 0.15.11"
      ],
      "text/plain": [
       "<IPython.core.display.HTML object>"
      ]
     },
     "metadata": {},
     "output_type": "display_data"
    },
    {
     "data": {
      "text/html": [
       "Run data is saved locally in <code>/home/rohit172/IIIT-H/SEM-5/SMAI/Assignment-3/wandb/run-20231023_084333-aioafykn</code>"
      ],
      "text/plain": [
       "<IPython.core.display.HTML object>"
      ]
     },
     "metadata": {},
     "output_type": "display_data"
    },
    {
     "data": {
      "text/html": [
       "Syncing run <strong><a href='https://wandb.ai/rohitgowlapalli01/CNN%20on%20Double-MNIST%20Dataset/runs/aioafykn' target=\"_blank\">laced-sweep-2</a></strong> to <a href='https://wandb.ai/rohitgowlapalli01/CNN%20on%20Double-MNIST%20Dataset' target=\"_blank\">Weights & Biases</a> (<a href='https://wandb.me/run' target=\"_blank\">docs</a>)<br/>Sweep page: <a href='https://wandb.ai/rohitgowlapalli01/CNN%20on%20Double-MNIST%20Dataset/sweeps/4caacuwc' target=\"_blank\">https://wandb.ai/rohitgowlapalli01/CNN%20on%20Double-MNIST%20Dataset/sweeps/4caacuwc</a>"
      ],
      "text/plain": [
       "<IPython.core.display.HTML object>"
      ]
     },
     "metadata": {},
     "output_type": "display_data"
    },
    {
     "data": {
      "text/html": [
       " View project at <a href='https://wandb.ai/rohitgowlapalli01/CNN%20on%20Double-MNIST%20Dataset' target=\"_blank\">https://wandb.ai/rohitgowlapalli01/CNN%20on%20Double-MNIST%20Dataset</a>"
      ],
      "text/plain": [
       "<IPython.core.display.HTML object>"
      ]
     },
     "metadata": {},
     "output_type": "display_data"
    },
    {
     "data": {
      "text/html": [
       " View sweep at <a href='https://wandb.ai/rohitgowlapalli01/CNN%20on%20Double-MNIST%20Dataset/sweeps/4caacuwc' target=\"_blank\">https://wandb.ai/rohitgowlapalli01/CNN%20on%20Double-MNIST%20Dataset/sweeps/4caacuwc</a>"
      ],
      "text/plain": [
       "<IPython.core.display.HTML object>"
      ]
     },
     "metadata": {},
     "output_type": "display_data"
    },
    {
     "data": {
      "text/html": [
       " View run at <a href='https://wandb.ai/rohitgowlapalli01/CNN%20on%20Double-MNIST%20Dataset/runs/aioafykn' target=\"_blank\">https://wandb.ai/rohitgowlapalli01/CNN%20on%20Double-MNIST%20Dataset/runs/aioafykn</a>"
      ],
      "text/plain": [
       "<IPython.core.display.HTML object>"
      ]
     },
     "metadata": {},
     "output_type": "display_data"
    },
    {
     "name": "stdout",
     "output_type": "stream",
     "text": [
      "0.01 0.5 3\n",
      "Epoch 1/5, Train Loss: 0.9555, Train Acc: 67.63%, Val Loss: 0.5349, Val Acc: 82.96%\n",
      "Epoch 2/5, Train Loss: 0.5875, Train Acc: 81.74%, Val Loss: 0.4571, Val Acc: 85.85%\n",
      "Epoch 3/5, Train Loss: 0.5355, Train Acc: 83.68%, Val Loss: 0.4489, Val Acc: 86.51%\n",
      "Epoch 4/5, Train Loss: 0.5091, Train Acc: 84.49%, Val Loss: 0.4413, Val Acc: 86.74%\n",
      "Epoch 5/5, Train Loss: 0.4997, Train Acc: 84.95%, Val Loss: 0.4210, Val Acc: 87.89%\n",
      "Test Loss: 0.4314, Test Acc: 87.17%\n"
     ]
    },
    {
     "data": {
      "text/html": [
       "Waiting for W&B process to finish... <strong style=\"color:green\">(success).</strong>"
      ],
      "text/plain": [
       "<IPython.core.display.HTML object>"
      ]
     },
     "metadata": {},
     "output_type": "display_data"
    },
    {
     "data": {
      "application/vnd.jupyter.widget-view+json": {
       "model_id": "0480460268a344419aeeb5204e34e4d2",
       "version_major": 2,
       "version_minor": 0
      },
      "text/plain": [
       "VBox(children=(Label(value='0.002 MB of 0.002 MB uploaded (0.000 MB deduped)\\r'), FloatProgress(value=1.0, max…"
      ]
     },
     "metadata": {},
     "output_type": "display_data"
    },
    {
     "data": {
      "text/html": [
       "<style>\n",
       "    table.wandb td:nth-child(1) { padding: 0 10px; text-align: left ; width: auto;} td:nth-child(2) {text-align: left ; width: 100%}\n",
       "    .wandb-row { display: flex; flex-direction: row; flex-wrap: wrap; justify-content: flex-start; width: 100% }\n",
       "    .wandb-col { display: flex; flex-direction: column; flex-basis: 100%; flex: 1; padding: 10px; }\n",
       "    </style>\n",
       "<div class=\"wandb-row\"><div class=\"wandb-col\"><h3>Run history:</h3><br/><table class=\"wandb\"><tr><td>Trainset Accuracy</td><td>▁</td></tr><tr><td>Trainset Loss</td><td>▁</td></tr><tr><td>Validation set Loss</td><td>▁</td></tr><tr><td>dropout_rate</td><td>▁</td></tr><tr><td>kernel_size</td><td>▁</td></tr><tr><td>learning_rate</td><td>▁</td></tr><tr><td>test_accuracy</td><td>▁</td></tr><tr><td>val_accuracy</td><td>▁</td></tr></table><br/></div><div class=\"wandb-col\"><h3>Run summary:</h3><br/><table class=\"wandb\"><tr><td>Trainset Accuracy</td><td>84.94844</td></tr><tr><td>Trainset Loss</td><td>0.49967</td></tr><tr><td>Validation set Loss</td><td>0.42103</td></tr><tr><td>dropout_rate</td><td>0.5</td></tr><tr><td>kernel_size</td><td>3</td></tr><tr><td>learning_rate</td><td>0.01</td></tr><tr><td>test_accuracy</td><td>87.1725</td></tr><tr><td>val_accuracy</td><td>87.89375</td></tr></table><br/></div></div>"
      ],
      "text/plain": [
       "<IPython.core.display.HTML object>"
      ]
     },
     "metadata": {},
     "output_type": "display_data"
    },
    {
     "data": {
      "text/html": [
       " View run <strong style=\"color:#cdcd00\">laced-sweep-2</strong> at: <a href='https://wandb.ai/rohitgowlapalli01/CNN%20on%20Double-MNIST%20Dataset/runs/aioafykn' target=\"_blank\">https://wandb.ai/rohitgowlapalli01/CNN%20on%20Double-MNIST%20Dataset/runs/aioafykn</a><br/>Synced 5 W&B file(s), 0 media file(s), 0 artifact file(s) and 0 other file(s)"
      ],
      "text/plain": [
       "<IPython.core.display.HTML object>"
      ]
     },
     "metadata": {},
     "output_type": "display_data"
    },
    {
     "data": {
      "text/html": [
       "Find logs at: <code>./wandb/run-20231023_084333-aioafykn/logs</code>"
      ],
      "text/plain": [
       "<IPython.core.display.HTML object>"
      ]
     },
     "metadata": {},
     "output_type": "display_data"
    },
    {
     "name": "stderr",
     "output_type": "stream",
     "text": [
      "\u001b[34m\u001b[1mwandb\u001b[0m: Sweep Agent: Waiting for job.\n",
      "\u001b[34m\u001b[1mwandb\u001b[0m: Job received.\n",
      "\u001b[34m\u001b[1mwandb\u001b[0m: Agent Starting Run: 5wtvr7rq with config:\n",
      "\u001b[34m\u001b[1mwandb\u001b[0m: \tdropout_rate: 0.5\n",
      "\u001b[34m\u001b[1mwandb\u001b[0m: \tkernel_size: 5\n",
      "\u001b[34m\u001b[1mwandb\u001b[0m: \tlearning_rate: 0.001\n",
      "/usr/lib/python3/dist-packages/requests/__init__.py:89: RequestsDependencyWarning: urllib3 (2.0.5) or chardet (3.0.4) doesn't match a supported version!\n",
      "  warnings.warn(\"urllib3 ({}) or chardet ({}) doesn't match a supported \"\n",
      "\u001b[34m\u001b[1mwandb\u001b[0m: \u001b[33mWARNING\u001b[0m Ignored wandb.init() arg project when running a sweep.\n"
     ]
    },
    {
     "data": {
      "text/html": [
       "wandb version 0.15.12 is available!  To upgrade, please run:\n",
       " $ pip install wandb --upgrade"
      ],
      "text/plain": [
       "<IPython.core.display.HTML object>"
      ]
     },
     "metadata": {},
     "output_type": "display_data"
    },
    {
     "data": {
      "text/html": [
       "Tracking run with wandb version 0.15.11"
      ],
      "text/plain": [
       "<IPython.core.display.HTML object>"
      ]
     },
     "metadata": {},
     "output_type": "display_data"
    },
    {
     "data": {
      "text/html": [
       "Run data is saved locally in <code>/home/rohit172/IIIT-H/SEM-5/SMAI/Assignment-3/wandb/run-20231023_085347-5wtvr7rq</code>"
      ],
      "text/plain": [
       "<IPython.core.display.HTML object>"
      ]
     },
     "metadata": {},
     "output_type": "display_data"
    },
    {
     "data": {
      "text/html": [
       "Syncing run <strong><a href='https://wandb.ai/rohitgowlapalli01/CNN%20on%20Double-MNIST%20Dataset/runs/5wtvr7rq' target=\"_blank\">lemon-sweep-3</a></strong> to <a href='https://wandb.ai/rohitgowlapalli01/CNN%20on%20Double-MNIST%20Dataset' target=\"_blank\">Weights & Biases</a> (<a href='https://wandb.me/run' target=\"_blank\">docs</a>)<br/>Sweep page: <a href='https://wandb.ai/rohitgowlapalli01/CNN%20on%20Double-MNIST%20Dataset/sweeps/4caacuwc' target=\"_blank\">https://wandb.ai/rohitgowlapalli01/CNN%20on%20Double-MNIST%20Dataset/sweeps/4caacuwc</a>"
      ],
      "text/plain": [
       "<IPython.core.display.HTML object>"
      ]
     },
     "metadata": {},
     "output_type": "display_data"
    },
    {
     "data": {
      "text/html": [
       " View project at <a href='https://wandb.ai/rohitgowlapalli01/CNN%20on%20Double-MNIST%20Dataset' target=\"_blank\">https://wandb.ai/rohitgowlapalli01/CNN%20on%20Double-MNIST%20Dataset</a>"
      ],
      "text/plain": [
       "<IPython.core.display.HTML object>"
      ]
     },
     "metadata": {},
     "output_type": "display_data"
    },
    {
     "data": {
      "text/html": [
       " View sweep at <a href='https://wandb.ai/rohitgowlapalli01/CNN%20on%20Double-MNIST%20Dataset/sweeps/4caacuwc' target=\"_blank\">https://wandb.ai/rohitgowlapalli01/CNN%20on%20Double-MNIST%20Dataset/sweeps/4caacuwc</a>"
      ],
      "text/plain": [
       "<IPython.core.display.HTML object>"
      ]
     },
     "metadata": {},
     "output_type": "display_data"
    },
    {
     "data": {
      "text/html": [
       " View run at <a href='https://wandb.ai/rohitgowlapalli01/CNN%20on%20Double-MNIST%20Dataset/runs/5wtvr7rq' target=\"_blank\">https://wandb.ai/rohitgowlapalli01/CNN%20on%20Double-MNIST%20Dataset/runs/5wtvr7rq</a>"
      ],
      "text/plain": [
       "<IPython.core.display.HTML object>"
      ]
     },
     "metadata": {},
     "output_type": "display_data"
    },
    {
     "name": "stdout",
     "output_type": "stream",
     "text": [
      "0.001 0.5 5\n",
      "Epoch 1/5, Train Loss: 0.7031, Train Acc: 76.67%, Val Loss: 0.1955, Val Acc: 94.32%\n",
      "Epoch 2/5, Train Loss: 0.2239, Train Acc: 93.51%, Val Loss: 0.1140, Val Acc: 96.63%\n",
      "Epoch 3/5, Train Loss: 0.1533, Train Acc: 95.53%, Val Loss: 0.1029, Val Acc: 96.87%\n",
      "Epoch 4/5, Train Loss: 0.1175, Train Acc: 96.52%, Val Loss: 0.0951, Val Acc: 97.03%\n",
      "Epoch 5/5, Train Loss: 0.0947, Train Acc: 97.21%, Val Loss: 0.0813, Val Acc: 97.49%\n",
      "Test Loss: 0.0829, Test Acc: 97.48%\n"
     ]
    },
    {
     "data": {
      "text/html": [
       "Waiting for W&B process to finish... <strong style=\"color:green\">(success).</strong>"
      ],
      "text/plain": [
       "<IPython.core.display.HTML object>"
      ]
     },
     "metadata": {},
     "output_type": "display_data"
    },
    {
     "data": {
      "application/vnd.jupyter.widget-view+json": {
       "model_id": "8f1900cc30e34f2c909528320ed2a4a8",
       "version_major": 2,
       "version_minor": 0
      },
      "text/plain": [
       "VBox(children=(Label(value='0.002 MB of 0.002 MB uploaded (0.000 MB deduped)\\r'), FloatProgress(value=1.0, max…"
      ]
     },
     "metadata": {},
     "output_type": "display_data"
    },
    {
     "data": {
      "text/html": [
       "<style>\n",
       "    table.wandb td:nth-child(1) { padding: 0 10px; text-align: left ; width: auto;} td:nth-child(2) {text-align: left ; width: 100%}\n",
       "    .wandb-row { display: flex; flex-direction: row; flex-wrap: wrap; justify-content: flex-start; width: 100% }\n",
       "    .wandb-col { display: flex; flex-direction: column; flex-basis: 100%; flex: 1; padding: 10px; }\n",
       "    </style>\n",
       "<div class=\"wandb-row\"><div class=\"wandb-col\"><h3>Run history:</h3><br/><table class=\"wandb\"><tr><td>Trainset Accuracy</td><td>▁</td></tr><tr><td>Trainset Loss</td><td>▁</td></tr><tr><td>Validation set Loss</td><td>▁</td></tr><tr><td>dropout_rate</td><td>▁</td></tr><tr><td>kernel_size</td><td>▁</td></tr><tr><td>learning_rate</td><td>▁</td></tr><tr><td>test_accuracy</td><td>▁</td></tr><tr><td>val_accuracy</td><td>▁</td></tr></table><br/></div><div class=\"wandb-col\"><h3>Run summary:</h3><br/><table class=\"wandb\"><tr><td>Trainset Accuracy</td><td>97.21406</td></tr><tr><td>Trainset Loss</td><td>0.09475</td></tr><tr><td>Validation set Loss</td><td>0.08127</td></tr><tr><td>dropout_rate</td><td>0.5</td></tr><tr><td>kernel_size</td><td>5</td></tr><tr><td>learning_rate</td><td>0.001</td></tr><tr><td>test_accuracy</td><td>97.4775</td></tr><tr><td>val_accuracy</td><td>97.49062</td></tr></table><br/></div></div>"
      ],
      "text/plain": [
       "<IPython.core.display.HTML object>"
      ]
     },
     "metadata": {},
     "output_type": "display_data"
    },
    {
     "data": {
      "text/html": [
       " View run <strong style=\"color:#cdcd00\">lemon-sweep-3</strong> at: <a href='https://wandb.ai/rohitgowlapalli01/CNN%20on%20Double-MNIST%20Dataset/runs/5wtvr7rq' target=\"_blank\">https://wandb.ai/rohitgowlapalli01/CNN%20on%20Double-MNIST%20Dataset/runs/5wtvr7rq</a><br/>Synced 5 W&B file(s), 0 media file(s), 0 artifact file(s) and 0 other file(s)"
      ],
      "text/plain": [
       "<IPython.core.display.HTML object>"
      ]
     },
     "metadata": {},
     "output_type": "display_data"
    },
    {
     "data": {
      "text/html": [
       "Find logs at: <code>./wandb/run-20231023_085347-5wtvr7rq/logs</code>"
      ],
      "text/plain": [
       "<IPython.core.display.HTML object>"
      ]
     },
     "metadata": {},
     "output_type": "display_data"
    },
    {
     "name": "stderr",
     "output_type": "stream",
     "text": [
      "\u001b[34m\u001b[1mwandb\u001b[0m: Agent Starting Run: i9wb71ip with config:\n",
      "\u001b[34m\u001b[1mwandb\u001b[0m: \tdropout_rate: 0.5\n",
      "\u001b[34m\u001b[1mwandb\u001b[0m: \tkernel_size: 5\n",
      "\u001b[34m\u001b[1mwandb\u001b[0m: \tlearning_rate: 0.01\n",
      "/usr/lib/python3/dist-packages/requests/__init__.py:89: RequestsDependencyWarning: urllib3 (2.0.5) or chardet (3.0.4) doesn't match a supported version!\n",
      "  warnings.warn(\"urllib3 ({}) or chardet ({}) doesn't match a supported \"\n",
      "\u001b[34m\u001b[1mwandb\u001b[0m: \u001b[33mWARNING\u001b[0m Ignored wandb.init() arg project when running a sweep.\n"
     ]
    },
    {
     "data": {
      "text/html": [
       "wandb version 0.15.12 is available!  To upgrade, please run:\n",
       " $ pip install wandb --upgrade"
      ],
      "text/plain": [
       "<IPython.core.display.HTML object>"
      ]
     },
     "metadata": {},
     "output_type": "display_data"
    },
    {
     "data": {
      "text/html": [
       "Tracking run with wandb version 0.15.11"
      ],
      "text/plain": [
       "<IPython.core.display.HTML object>"
      ]
     },
     "metadata": {},
     "output_type": "display_data"
    },
    {
     "data": {
      "text/html": [
       "Run data is saved locally in <code>/home/rohit172/IIIT-H/SEM-5/SMAI/Assignment-3/wandb/run-20231023_090510-i9wb71ip</code>"
      ],
      "text/plain": [
       "<IPython.core.display.HTML object>"
      ]
     },
     "metadata": {},
     "output_type": "display_data"
    },
    {
     "data": {
      "text/html": [
       "Syncing run <strong><a href='https://wandb.ai/rohitgowlapalli01/CNN%20on%20Double-MNIST%20Dataset/runs/i9wb71ip' target=\"_blank\">classic-sweep-4</a></strong> to <a href='https://wandb.ai/rohitgowlapalli01/CNN%20on%20Double-MNIST%20Dataset' target=\"_blank\">Weights & Biases</a> (<a href='https://wandb.me/run' target=\"_blank\">docs</a>)<br/>Sweep page: <a href='https://wandb.ai/rohitgowlapalli01/CNN%20on%20Double-MNIST%20Dataset/sweeps/4caacuwc' target=\"_blank\">https://wandb.ai/rohitgowlapalli01/CNN%20on%20Double-MNIST%20Dataset/sweeps/4caacuwc</a>"
      ],
      "text/plain": [
       "<IPython.core.display.HTML object>"
      ]
     },
     "metadata": {},
     "output_type": "display_data"
    },
    {
     "data": {
      "text/html": [
       " View project at <a href='https://wandb.ai/rohitgowlapalli01/CNN%20on%20Double-MNIST%20Dataset' target=\"_blank\">https://wandb.ai/rohitgowlapalli01/CNN%20on%20Double-MNIST%20Dataset</a>"
      ],
      "text/plain": [
       "<IPython.core.display.HTML object>"
      ]
     },
     "metadata": {},
     "output_type": "display_data"
    },
    {
     "data": {
      "text/html": [
       " View sweep at <a href='https://wandb.ai/rohitgowlapalli01/CNN%20on%20Double-MNIST%20Dataset/sweeps/4caacuwc' target=\"_blank\">https://wandb.ai/rohitgowlapalli01/CNN%20on%20Double-MNIST%20Dataset/sweeps/4caacuwc</a>"
      ],
      "text/plain": [
       "<IPython.core.display.HTML object>"
      ]
     },
     "metadata": {},
     "output_type": "display_data"
    },
    {
     "data": {
      "text/html": [
       " View run at <a href='https://wandb.ai/rohitgowlapalli01/CNN%20on%20Double-MNIST%20Dataset/runs/i9wb71ip' target=\"_blank\">https://wandb.ai/rohitgowlapalli01/CNN%20on%20Double-MNIST%20Dataset/runs/i9wb71ip</a>"
      ],
      "text/plain": [
       "<IPython.core.display.HTML object>"
      ]
     },
     "metadata": {},
     "output_type": "display_data"
    },
    {
     "name": "stdout",
     "output_type": "stream",
     "text": [
      "0.01 0.5 5\n",
      "Epoch 1/5, Train Loss: 0.4948, Train Acc: 84.98%, Val Loss: 0.2312, Val Acc: 93.75%\n",
      "Epoch 2/5, Train Loss: 0.2939, Train Acc: 92.06%, Val Loss: 0.2404, Val Acc: 93.42%\n",
      "Epoch 3/5, Train Loss: 0.2831, Train Acc: 92.41%, Val Loss: 0.1845, Val Acc: 95.16%\n",
      "Epoch 4/5, Train Loss: 0.2865, Train Acc: 92.66%, Val Loss: 0.2043, Val Acc: 94.94%\n",
      "Epoch 5/5, Train Loss: 0.2936, Train Acc: 92.61%, Val Loss: 0.2606, Val Acc: 93.33%\n",
      "Test Loss: 0.2492, Test Acc: 93.47%\n"
     ]
    },
    {
     "data": {
      "text/html": [
       "Waiting for W&B process to finish... <strong style=\"color:green\">(success).</strong>"
      ],
      "text/plain": [
       "<IPython.core.display.HTML object>"
      ]
     },
     "metadata": {},
     "output_type": "display_data"
    },
    {
     "data": {
      "application/vnd.jupyter.widget-view+json": {
       "model_id": "4c1d7e4ed6a4462b9cf6500491c3ca8f",
       "version_major": 2,
       "version_minor": 0
      },
      "text/plain": [
       "VBox(children=(Label(value='0.002 MB of 0.002 MB uploaded (0.000 MB deduped)\\r'), FloatProgress(value=1.0, max…"
      ]
     },
     "metadata": {},
     "output_type": "display_data"
    },
    {
     "data": {
      "text/html": [
       "<style>\n",
       "    table.wandb td:nth-child(1) { padding: 0 10px; text-align: left ; width: auto;} td:nth-child(2) {text-align: left ; width: 100%}\n",
       "    .wandb-row { display: flex; flex-direction: row; flex-wrap: wrap; justify-content: flex-start; width: 100% }\n",
       "    .wandb-col { display: flex; flex-direction: column; flex-basis: 100%; flex: 1; padding: 10px; }\n",
       "    </style>\n",
       "<div class=\"wandb-row\"><div class=\"wandb-col\"><h3>Run history:</h3><br/><table class=\"wandb\"><tr><td>Trainset Accuracy</td><td>▁</td></tr><tr><td>Trainset Loss</td><td>▁</td></tr><tr><td>Validation set Loss</td><td>▁</td></tr><tr><td>dropout_rate</td><td>▁</td></tr><tr><td>kernel_size</td><td>▁</td></tr><tr><td>learning_rate</td><td>▁</td></tr><tr><td>test_accuracy</td><td>▁</td></tr><tr><td>val_accuracy</td><td>▁</td></tr></table><br/></div><div class=\"wandb-col\"><h3>Run summary:</h3><br/><table class=\"wandb\"><tr><td>Trainset Accuracy</td><td>92.61328</td></tr><tr><td>Trainset Loss</td><td>0.29355</td></tr><tr><td>Validation set Loss</td><td>0.26058</td></tr><tr><td>dropout_rate</td><td>0.5</td></tr><tr><td>kernel_size</td><td>5</td></tr><tr><td>learning_rate</td><td>0.01</td></tr><tr><td>test_accuracy</td><td>93.465</td></tr><tr><td>val_accuracy</td><td>93.33125</td></tr></table><br/></div></div>"
      ],
      "text/plain": [
       "<IPython.core.display.HTML object>"
      ]
     },
     "metadata": {},
     "output_type": "display_data"
    },
    {
     "data": {
      "text/html": [
       " View run <strong style=\"color:#cdcd00\">classic-sweep-4</strong> at: <a href='https://wandb.ai/rohitgowlapalli01/CNN%20on%20Double-MNIST%20Dataset/runs/i9wb71ip' target=\"_blank\">https://wandb.ai/rohitgowlapalli01/CNN%20on%20Double-MNIST%20Dataset/runs/i9wb71ip</a><br/>Synced 5 W&B file(s), 0 media file(s), 0 artifact file(s) and 0 other file(s)"
      ],
      "text/plain": [
       "<IPython.core.display.HTML object>"
      ]
     },
     "metadata": {},
     "output_type": "display_data"
    },
    {
     "data": {
      "text/html": [
       "Find logs at: <code>./wandb/run-20231023_090510-i9wb71ip/logs</code>"
      ],
      "text/plain": [
       "<IPython.core.display.HTML object>"
      ]
     },
     "metadata": {},
     "output_type": "display_data"
    },
    {
     "name": "stderr",
     "output_type": "stream",
     "text": [
      "\u001b[34m\u001b[1mwandb\u001b[0m: Agent Starting Run: 0e92miqf with config:\n",
      "\u001b[34m\u001b[1mwandb\u001b[0m: \tdropout_rate: 0.7\n",
      "\u001b[34m\u001b[1mwandb\u001b[0m: \tkernel_size: 3\n",
      "\u001b[34m\u001b[1mwandb\u001b[0m: \tlearning_rate: 0.001\n",
      "/usr/lib/python3/dist-packages/requests/__init__.py:89: RequestsDependencyWarning: urllib3 (2.0.5) or chardet (3.0.4) doesn't match a supported version!\n",
      "  warnings.warn(\"urllib3 ({}) or chardet ({}) doesn't match a supported \"\n",
      "\u001b[34m\u001b[1mwandb\u001b[0m: \u001b[33mWARNING\u001b[0m Ignored wandb.init() arg project when running a sweep.\n"
     ]
    },
    {
     "data": {
      "text/html": [
       "wandb version 0.15.12 is available!  To upgrade, please run:\n",
       " $ pip install wandb --upgrade"
      ],
      "text/plain": [
       "<IPython.core.display.HTML object>"
      ]
     },
     "metadata": {},
     "output_type": "display_data"
    },
    {
     "data": {
      "text/html": [
       "Tracking run with wandb version 0.15.11"
      ],
      "text/plain": [
       "<IPython.core.display.HTML object>"
      ]
     },
     "metadata": {},
     "output_type": "display_data"
    },
    {
     "data": {
      "text/html": [
       "Run data is saved locally in <code>/home/rohit172/IIIT-H/SEM-5/SMAI/Assignment-3/wandb/run-20231023_091643-0e92miqf</code>"
      ],
      "text/plain": [
       "<IPython.core.display.HTML object>"
      ]
     },
     "metadata": {},
     "output_type": "display_data"
    },
    {
     "data": {
      "text/html": [
       "Syncing run <strong><a href='https://wandb.ai/rohitgowlapalli01/CNN%20on%20Double-MNIST%20Dataset/runs/0e92miqf' target=\"_blank\">confused-sweep-5</a></strong> to <a href='https://wandb.ai/rohitgowlapalli01/CNN%20on%20Double-MNIST%20Dataset' target=\"_blank\">Weights & Biases</a> (<a href='https://wandb.me/run' target=\"_blank\">docs</a>)<br/>Sweep page: <a href='https://wandb.ai/rohitgowlapalli01/CNN%20on%20Double-MNIST%20Dataset/sweeps/4caacuwc' target=\"_blank\">https://wandb.ai/rohitgowlapalli01/CNN%20on%20Double-MNIST%20Dataset/sweeps/4caacuwc</a>"
      ],
      "text/plain": [
       "<IPython.core.display.HTML object>"
      ]
     },
     "metadata": {},
     "output_type": "display_data"
    },
    {
     "data": {
      "text/html": [
       " View project at <a href='https://wandb.ai/rohitgowlapalli01/CNN%20on%20Double-MNIST%20Dataset' target=\"_blank\">https://wandb.ai/rohitgowlapalli01/CNN%20on%20Double-MNIST%20Dataset</a>"
      ],
      "text/plain": [
       "<IPython.core.display.HTML object>"
      ]
     },
     "metadata": {},
     "output_type": "display_data"
    },
    {
     "data": {
      "text/html": [
       " View sweep at <a href='https://wandb.ai/rohitgowlapalli01/CNN%20on%20Double-MNIST%20Dataset/sweeps/4caacuwc' target=\"_blank\">https://wandb.ai/rohitgowlapalli01/CNN%20on%20Double-MNIST%20Dataset/sweeps/4caacuwc</a>"
      ],
      "text/plain": [
       "<IPython.core.display.HTML object>"
      ]
     },
     "metadata": {},
     "output_type": "display_data"
    },
    {
     "data": {
      "text/html": [
       " View run at <a href='https://wandb.ai/rohitgowlapalli01/CNN%20on%20Double-MNIST%20Dataset/runs/0e92miqf' target=\"_blank\">https://wandb.ai/rohitgowlapalli01/CNN%20on%20Double-MNIST%20Dataset/runs/0e92miqf</a>"
      ],
      "text/plain": [
       "<IPython.core.display.HTML object>"
      ]
     },
     "metadata": {},
     "output_type": "display_data"
    },
    {
     "name": "stdout",
     "output_type": "stream",
     "text": [
      "0.001 0.7 3\n",
      "Epoch 1/5, Train Loss: 0.9772, Train Acc: 66.29%, Val Loss: 0.2796, Val Acc: 91.81%\n",
      "Epoch 2/5, Train Loss: 0.4011, Train Acc: 87.54%, Val Loss: 0.1674, Val Acc: 95.10%\n",
      "Epoch 3/5, Train Loss: 0.2889, Train Acc: 91.21%, Val Loss: 0.1471, Val Acc: 95.62%\n",
      "Epoch 4/5, Train Loss: 0.2375, Train Acc: 92.72%, Val Loss: 0.1022, Val Acc: 96.98%\n",
      "Epoch 5/5, Train Loss: 0.2011, Train Acc: 93.85%, Val Loss: 0.1076, Val Acc: 96.78%\n",
      "Test Loss: 0.1167, Test Acc: 96.45%\n"
     ]
    },
    {
     "data": {
      "text/html": [
       "Waiting for W&B process to finish... <strong style=\"color:green\">(success).</strong>"
      ],
      "text/plain": [
       "<IPython.core.display.HTML object>"
      ]
     },
     "metadata": {},
     "output_type": "display_data"
    },
    {
     "data": {
      "application/vnd.jupyter.widget-view+json": {
       "model_id": "7f948f9262ef4b1dbb7ad0f33ee47ad2",
       "version_major": 2,
       "version_minor": 0
      },
      "text/plain": [
       "VBox(children=(Label(value='0.002 MB of 0.002 MB uploaded (0.000 MB deduped)\\r'), FloatProgress(value=1.0, max…"
      ]
     },
     "metadata": {},
     "output_type": "display_data"
    },
    {
     "data": {
      "text/html": [
       "<style>\n",
       "    table.wandb td:nth-child(1) { padding: 0 10px; text-align: left ; width: auto;} td:nth-child(2) {text-align: left ; width: 100%}\n",
       "    .wandb-row { display: flex; flex-direction: row; flex-wrap: wrap; justify-content: flex-start; width: 100% }\n",
       "    .wandb-col { display: flex; flex-direction: column; flex-basis: 100%; flex: 1; padding: 10px; }\n",
       "    </style>\n",
       "<div class=\"wandb-row\"><div class=\"wandb-col\"><h3>Run history:</h3><br/><table class=\"wandb\"><tr><td>Trainset Accuracy</td><td>▁</td></tr><tr><td>Trainset Loss</td><td>▁</td></tr><tr><td>Validation set Loss</td><td>▁</td></tr><tr><td>dropout_rate</td><td>▁</td></tr><tr><td>kernel_size</td><td>▁</td></tr><tr><td>learning_rate</td><td>▁</td></tr><tr><td>test_accuracy</td><td>▁</td></tr><tr><td>val_accuracy</td><td>▁</td></tr></table><br/></div><div class=\"wandb-col\"><h3>Run summary:</h3><br/><table class=\"wandb\"><tr><td>Trainset Accuracy</td><td>93.84922</td></tr><tr><td>Trainset Loss</td><td>0.20114</td></tr><tr><td>Validation set Loss</td><td>0.10758</td></tr><tr><td>dropout_rate</td><td>0.7</td></tr><tr><td>kernel_size</td><td>3</td></tr><tr><td>learning_rate</td><td>0.001</td></tr><tr><td>test_accuracy</td><td>96.45</td></tr><tr><td>val_accuracy</td><td>96.775</td></tr></table><br/></div></div>"
      ],
      "text/plain": [
       "<IPython.core.display.HTML object>"
      ]
     },
     "metadata": {},
     "output_type": "display_data"
    },
    {
     "data": {
      "text/html": [
       " View run <strong style=\"color:#cdcd00\">confused-sweep-5</strong> at: <a href='https://wandb.ai/rohitgowlapalli01/CNN%20on%20Double-MNIST%20Dataset/runs/0e92miqf' target=\"_blank\">https://wandb.ai/rohitgowlapalli01/CNN%20on%20Double-MNIST%20Dataset/runs/0e92miqf</a><br/>Synced 5 W&B file(s), 0 media file(s), 0 artifact file(s) and 0 other file(s)"
      ],
      "text/plain": [
       "<IPython.core.display.HTML object>"
      ]
     },
     "metadata": {},
     "output_type": "display_data"
    },
    {
     "data": {
      "text/html": [
       "Find logs at: <code>./wandb/run-20231023_091643-0e92miqf/logs</code>"
      ],
      "text/plain": [
       "<IPython.core.display.HTML object>"
      ]
     },
     "metadata": {},
     "output_type": "display_data"
    },
    {
     "name": "stderr",
     "output_type": "stream",
     "text": [
      "\u001b[34m\u001b[1mwandb\u001b[0m: Agent Starting Run: 5siybr8q with config:\n",
      "\u001b[34m\u001b[1mwandb\u001b[0m: \tdropout_rate: 0.7\n",
      "\u001b[34m\u001b[1mwandb\u001b[0m: \tkernel_size: 3\n",
      "\u001b[34m\u001b[1mwandb\u001b[0m: \tlearning_rate: 0.01\n",
      "/usr/lib/python3/dist-packages/requests/__init__.py:89: RequestsDependencyWarning: urllib3 (2.0.5) or chardet (3.0.4) doesn't match a supported version!\n",
      "  warnings.warn(\"urllib3 ({}) or chardet ({}) doesn't match a supported \"\n",
      "\u001b[34m\u001b[1mwandb\u001b[0m: \u001b[33mWARNING\u001b[0m Ignored wandb.init() arg project when running a sweep.\n"
     ]
    },
    {
     "data": {
      "text/html": [
       "wandb version 0.15.12 is available!  To upgrade, please run:\n",
       " $ pip install wandb --upgrade"
      ],
      "text/plain": [
       "<IPython.core.display.HTML object>"
      ]
     },
     "metadata": {},
     "output_type": "display_data"
    },
    {
     "data": {
      "text/html": [
       "Tracking run with wandb version 0.15.11"
      ],
      "text/plain": [
       "<IPython.core.display.HTML object>"
      ]
     },
     "metadata": {},
     "output_type": "display_data"
    },
    {
     "data": {
      "text/html": [
       "Run data is saved locally in <code>/home/rohit172/IIIT-H/SEM-5/SMAI/Assignment-3/wandb/run-20231023_092656-5siybr8q</code>"
      ],
      "text/plain": [
       "<IPython.core.display.HTML object>"
      ]
     },
     "metadata": {},
     "output_type": "display_data"
    },
    {
     "data": {
      "text/html": [
       "Syncing run <strong><a href='https://wandb.ai/rohitgowlapalli01/CNN%20on%20Double-MNIST%20Dataset/runs/5siybr8q' target=\"_blank\">restful-sweep-6</a></strong> to <a href='https://wandb.ai/rohitgowlapalli01/CNN%20on%20Double-MNIST%20Dataset' target=\"_blank\">Weights & Biases</a> (<a href='https://wandb.me/run' target=\"_blank\">docs</a>)<br/>Sweep page: <a href='https://wandb.ai/rohitgowlapalli01/CNN%20on%20Double-MNIST%20Dataset/sweeps/4caacuwc' target=\"_blank\">https://wandb.ai/rohitgowlapalli01/CNN%20on%20Double-MNIST%20Dataset/sweeps/4caacuwc</a>"
      ],
      "text/plain": [
       "<IPython.core.display.HTML object>"
      ]
     },
     "metadata": {},
     "output_type": "display_data"
    },
    {
     "data": {
      "text/html": [
       " View project at <a href='https://wandb.ai/rohitgowlapalli01/CNN%20on%20Double-MNIST%20Dataset' target=\"_blank\">https://wandb.ai/rohitgowlapalli01/CNN%20on%20Double-MNIST%20Dataset</a>"
      ],
      "text/plain": [
       "<IPython.core.display.HTML object>"
      ]
     },
     "metadata": {},
     "output_type": "display_data"
    },
    {
     "data": {
      "text/html": [
       " View sweep at <a href='https://wandb.ai/rohitgowlapalli01/CNN%20on%20Double-MNIST%20Dataset/sweeps/4caacuwc' target=\"_blank\">https://wandb.ai/rohitgowlapalli01/CNN%20on%20Double-MNIST%20Dataset/sweeps/4caacuwc</a>"
      ],
      "text/plain": [
       "<IPython.core.display.HTML object>"
      ]
     },
     "metadata": {},
     "output_type": "display_data"
    },
    {
     "data": {
      "text/html": [
       " View run at <a href='https://wandb.ai/rohitgowlapalli01/CNN%20on%20Double-MNIST%20Dataset/runs/5siybr8q' target=\"_blank\">https://wandb.ai/rohitgowlapalli01/CNN%20on%20Double-MNIST%20Dataset/runs/5siybr8q</a>"
      ],
      "text/plain": [
       "<IPython.core.display.HTML object>"
      ]
     },
     "metadata": {},
     "output_type": "display_data"
    },
    {
     "name": "stdout",
     "output_type": "stream",
     "text": [
      "0.01 0.7 3\n",
      "Epoch 1/5, Train Loss: 1.1903, Train Acc: 59.06%, Val Loss: 0.6289, Val Acc: 80.78%\n",
      "Epoch 2/5, Train Loss: 0.8539, Train Acc: 72.28%, Val Loss: 0.5543, Val Acc: 83.32%\n",
      "Epoch 3/5, Train Loss: 0.7984, Train Acc: 74.42%, Val Loss: 0.5234, Val Acc: 84.75%\n",
      "Epoch 4/5, Train Loss: 0.7755, Train Acc: 75.46%, Val Loss: 0.5121, Val Acc: 85.47%\n",
      "Epoch 5/5, Train Loss: 0.7545, Train Acc: 76.19%, Val Loss: 0.5171, Val Acc: 85.27%\n",
      "Test Loss: 0.5782, Test Acc: 82.51%\n"
     ]
    },
    {
     "data": {
      "text/html": [
       "Waiting for W&B process to finish... <strong style=\"color:green\">(success).</strong>"
      ],
      "text/plain": [
       "<IPython.core.display.HTML object>"
      ]
     },
     "metadata": {},
     "output_type": "display_data"
    },
    {
     "data": {
      "application/vnd.jupyter.widget-view+json": {
       "model_id": "76366ce739e24e699ed9dbe9135462c9",
       "version_major": 2,
       "version_minor": 0
      },
      "text/plain": [
       "VBox(children=(Label(value='0.002 MB of 0.002 MB uploaded (0.000 MB deduped)\\r'), FloatProgress(value=1.0, max…"
      ]
     },
     "metadata": {},
     "output_type": "display_data"
    },
    {
     "data": {
      "text/html": [
       "<style>\n",
       "    table.wandb td:nth-child(1) { padding: 0 10px; text-align: left ; width: auto;} td:nth-child(2) {text-align: left ; width: 100%}\n",
       "    .wandb-row { display: flex; flex-direction: row; flex-wrap: wrap; justify-content: flex-start; width: 100% }\n",
       "    .wandb-col { display: flex; flex-direction: column; flex-basis: 100%; flex: 1; padding: 10px; }\n",
       "    </style>\n",
       "<div class=\"wandb-row\"><div class=\"wandb-col\"><h3>Run history:</h3><br/><table class=\"wandb\"><tr><td>Trainset Accuracy</td><td>▁</td></tr><tr><td>Trainset Loss</td><td>▁</td></tr><tr><td>Validation set Loss</td><td>▁</td></tr><tr><td>dropout_rate</td><td>▁</td></tr><tr><td>kernel_size</td><td>▁</td></tr><tr><td>learning_rate</td><td>▁</td></tr><tr><td>test_accuracy</td><td>▁</td></tr><tr><td>val_accuracy</td><td>▁</td></tr></table><br/></div><div class=\"wandb-col\"><h3>Run summary:</h3><br/><table class=\"wandb\"><tr><td>Trainset Accuracy</td><td>76.18594</td></tr><tr><td>Trainset Loss</td><td>0.75454</td></tr><tr><td>Validation set Loss</td><td>0.51709</td></tr><tr><td>dropout_rate</td><td>0.7</td></tr><tr><td>kernel_size</td><td>3</td></tr><tr><td>learning_rate</td><td>0.01</td></tr><tr><td>test_accuracy</td><td>82.5075</td></tr><tr><td>val_accuracy</td><td>85.27187</td></tr></table><br/></div></div>"
      ],
      "text/plain": [
       "<IPython.core.display.HTML object>"
      ]
     },
     "metadata": {},
     "output_type": "display_data"
    },
    {
     "data": {
      "text/html": [
       " View run <strong style=\"color:#cdcd00\">restful-sweep-6</strong> at: <a href='https://wandb.ai/rohitgowlapalli01/CNN%20on%20Double-MNIST%20Dataset/runs/5siybr8q' target=\"_blank\">https://wandb.ai/rohitgowlapalli01/CNN%20on%20Double-MNIST%20Dataset/runs/5siybr8q</a><br/>Synced 5 W&B file(s), 0 media file(s), 0 artifact file(s) and 0 other file(s)"
      ],
      "text/plain": [
       "<IPython.core.display.HTML object>"
      ]
     },
     "metadata": {},
     "output_type": "display_data"
    },
    {
     "data": {
      "text/html": [
       "Find logs at: <code>./wandb/run-20231023_092656-5siybr8q/logs</code>"
      ],
      "text/plain": [
       "<IPython.core.display.HTML object>"
      ]
     },
     "metadata": {},
     "output_type": "display_data"
    },
    {
     "name": "stderr",
     "output_type": "stream",
     "text": [
      "\u001b[34m\u001b[1mwandb\u001b[0m: Agent Starting Run: n7mzjxc1 with config:\n",
      "\u001b[34m\u001b[1mwandb\u001b[0m: \tdropout_rate: 0.7\n",
      "\u001b[34m\u001b[1mwandb\u001b[0m: \tkernel_size: 5\n",
      "\u001b[34m\u001b[1mwandb\u001b[0m: \tlearning_rate: 0.001\n",
      "/usr/lib/python3/dist-packages/requests/__init__.py:89: RequestsDependencyWarning: urllib3 (2.0.5) or chardet (3.0.4) doesn't match a supported version!\n",
      "  warnings.warn(\"urllib3 ({}) or chardet ({}) doesn't match a supported \"\n",
      "\u001b[34m\u001b[1mwandb\u001b[0m: \u001b[33mWARNING\u001b[0m Ignored wandb.init() arg project when running a sweep.\n"
     ]
    },
    {
     "data": {
      "text/html": [
       "wandb version 0.15.12 is available!  To upgrade, please run:\n",
       " $ pip install wandb --upgrade"
      ],
      "text/plain": [
       "<IPython.core.display.HTML object>"
      ]
     },
     "metadata": {},
     "output_type": "display_data"
    },
    {
     "data": {
      "text/html": [
       "Tracking run with wandb version 0.15.11"
      ],
      "text/plain": [
       "<IPython.core.display.HTML object>"
      ]
     },
     "metadata": {},
     "output_type": "display_data"
    },
    {
     "data": {
      "text/html": [
       "Run data is saved locally in <code>/home/rohit172/IIIT-H/SEM-5/SMAI/Assignment-3/wandb/run-20231023_093709-n7mzjxc1</code>"
      ],
      "text/plain": [
       "<IPython.core.display.HTML object>"
      ]
     },
     "metadata": {},
     "output_type": "display_data"
    },
    {
     "data": {
      "text/html": [
       "Syncing run <strong><a href='https://wandb.ai/rohitgowlapalli01/CNN%20on%20Double-MNIST%20Dataset/runs/n7mzjxc1' target=\"_blank\">noble-sweep-7</a></strong> to <a href='https://wandb.ai/rohitgowlapalli01/CNN%20on%20Double-MNIST%20Dataset' target=\"_blank\">Weights & Biases</a> (<a href='https://wandb.me/run' target=\"_blank\">docs</a>)<br/>Sweep page: <a href='https://wandb.ai/rohitgowlapalli01/CNN%20on%20Double-MNIST%20Dataset/sweeps/4caacuwc' target=\"_blank\">https://wandb.ai/rohitgowlapalli01/CNN%20on%20Double-MNIST%20Dataset/sweeps/4caacuwc</a>"
      ],
      "text/plain": [
       "<IPython.core.display.HTML object>"
      ]
     },
     "metadata": {},
     "output_type": "display_data"
    },
    {
     "data": {
      "text/html": [
       " View project at <a href='https://wandb.ai/rohitgowlapalli01/CNN%20on%20Double-MNIST%20Dataset' target=\"_blank\">https://wandb.ai/rohitgowlapalli01/CNN%20on%20Double-MNIST%20Dataset</a>"
      ],
      "text/plain": [
       "<IPython.core.display.HTML object>"
      ]
     },
     "metadata": {},
     "output_type": "display_data"
    },
    {
     "data": {
      "text/html": [
       " View sweep at <a href='https://wandb.ai/rohitgowlapalli01/CNN%20on%20Double-MNIST%20Dataset/sweeps/4caacuwc' target=\"_blank\">https://wandb.ai/rohitgowlapalli01/CNN%20on%20Double-MNIST%20Dataset/sweeps/4caacuwc</a>"
      ],
      "text/plain": [
       "<IPython.core.display.HTML object>"
      ]
     },
     "metadata": {},
     "output_type": "display_data"
    },
    {
     "data": {
      "text/html": [
       " View run at <a href='https://wandb.ai/rohitgowlapalli01/CNN%20on%20Double-MNIST%20Dataset/runs/n7mzjxc1' target=\"_blank\">https://wandb.ai/rohitgowlapalli01/CNN%20on%20Double-MNIST%20Dataset/runs/n7mzjxc1</a>"
      ],
      "text/plain": [
       "<IPython.core.display.HTML object>"
      ]
     },
     "metadata": {},
     "output_type": "display_data"
    },
    {
     "name": "stdout",
     "output_type": "stream",
     "text": [
      "0.001 0.7 5\n",
      "Epoch 1/5, Train Loss: 0.8782, Train Acc: 70.34%, Val Loss: 0.2418, Val Acc: 93.11%\n",
      "Epoch 2/5, Train Loss: 0.3238, Train Acc: 90.45%, Val Loss: 0.1466, Val Acc: 95.60%\n",
      "Epoch 3/5, Train Loss: 0.2227, Train Acc: 93.49%, Val Loss: 0.1279, Val Acc: 96.35%\n",
      "Epoch 4/5, Train Loss: 0.1773, Train Acc: 94.91%, Val Loss: 0.1012, Val Acc: 97.03%\n",
      "Epoch 5/5, Train Loss: 0.1437, Train Acc: 95.91%, Val Loss: 0.0899, Val Acc: 97.39%\n",
      "Test Loss: 0.0960, Test Acc: 97.25%\n"
     ]
    },
    {
     "data": {
      "text/html": [
       "Waiting for W&B process to finish... <strong style=\"color:green\">(success).</strong>"
      ],
      "text/plain": [
       "<IPython.core.display.HTML object>"
      ]
     },
     "metadata": {},
     "output_type": "display_data"
    },
    {
     "data": {
      "application/vnd.jupyter.widget-view+json": {
       "model_id": "1e2dc4b465464896b196252c8ca7a085",
       "version_major": 2,
       "version_minor": 0
      },
      "text/plain": [
       "VBox(children=(Label(value='0.002 MB of 0.002 MB uploaded (0.000 MB deduped)\\r'), FloatProgress(value=1.0, max…"
      ]
     },
     "metadata": {},
     "output_type": "display_data"
    },
    {
     "data": {
      "text/html": [
       "<style>\n",
       "    table.wandb td:nth-child(1) { padding: 0 10px; text-align: left ; width: auto;} td:nth-child(2) {text-align: left ; width: 100%}\n",
       "    .wandb-row { display: flex; flex-direction: row; flex-wrap: wrap; justify-content: flex-start; width: 100% }\n",
       "    .wandb-col { display: flex; flex-direction: column; flex-basis: 100%; flex: 1; padding: 10px; }\n",
       "    </style>\n",
       "<div class=\"wandb-row\"><div class=\"wandb-col\"><h3>Run history:</h3><br/><table class=\"wandb\"><tr><td>Trainset Accuracy</td><td>▁</td></tr><tr><td>Trainset Loss</td><td>▁</td></tr><tr><td>Validation set Loss</td><td>▁</td></tr><tr><td>dropout_rate</td><td>▁</td></tr><tr><td>kernel_size</td><td>▁</td></tr><tr><td>learning_rate</td><td>▁</td></tr><tr><td>test_accuracy</td><td>▁</td></tr><tr><td>val_accuracy</td><td>▁</td></tr></table><br/></div><div class=\"wandb-col\"><h3>Run summary:</h3><br/><table class=\"wandb\"><tr><td>Trainset Accuracy</td><td>95.91016</td></tr><tr><td>Trainset Loss</td><td>0.14369</td></tr><tr><td>Validation set Loss</td><td>0.08989</td></tr><tr><td>dropout_rate</td><td>0.7</td></tr><tr><td>kernel_size</td><td>5</td></tr><tr><td>learning_rate</td><td>0.001</td></tr><tr><td>test_accuracy</td><td>97.255</td></tr><tr><td>val_accuracy</td><td>97.39375</td></tr></table><br/></div></div>"
      ],
      "text/plain": [
       "<IPython.core.display.HTML object>"
      ]
     },
     "metadata": {},
     "output_type": "display_data"
    },
    {
     "data": {
      "text/html": [
       " View run <strong style=\"color:#cdcd00\">noble-sweep-7</strong> at: <a href='https://wandb.ai/rohitgowlapalli01/CNN%20on%20Double-MNIST%20Dataset/runs/n7mzjxc1' target=\"_blank\">https://wandb.ai/rohitgowlapalli01/CNN%20on%20Double-MNIST%20Dataset/runs/n7mzjxc1</a><br/>Synced 5 W&B file(s), 0 media file(s), 0 artifact file(s) and 0 other file(s)"
      ],
      "text/plain": [
       "<IPython.core.display.HTML object>"
      ]
     },
     "metadata": {},
     "output_type": "display_data"
    },
    {
     "data": {
      "text/html": [
       "Find logs at: <code>./wandb/run-20231023_093709-n7mzjxc1/logs</code>"
      ],
      "text/plain": [
       "<IPython.core.display.HTML object>"
      ]
     },
     "metadata": {},
     "output_type": "display_data"
    },
    {
     "name": "stderr",
     "output_type": "stream",
     "text": [
      "\u001b[34m\u001b[1mwandb\u001b[0m: Agent Starting Run: j0db45vm with config:\n",
      "\u001b[34m\u001b[1mwandb\u001b[0m: \tdropout_rate: 0.7\n",
      "\u001b[34m\u001b[1mwandb\u001b[0m: \tkernel_size: 5\n",
      "\u001b[34m\u001b[1mwandb\u001b[0m: \tlearning_rate: 0.01\n",
      "/usr/lib/python3/dist-packages/requests/__init__.py:89: RequestsDependencyWarning: urllib3 (2.0.5) or chardet (3.0.4) doesn't match a supported version!\n",
      "  warnings.warn(\"urllib3 ({}) or chardet ({}) doesn't match a supported \"\n",
      "\u001b[34m\u001b[1mwandb\u001b[0m: \u001b[33mWARNING\u001b[0m Ignored wandb.init() arg project when running a sweep.\n"
     ]
    },
    {
     "data": {
      "text/html": [
       "wandb version 0.15.12 is available!  To upgrade, please run:\n",
       " $ pip install wandb --upgrade"
      ],
      "text/plain": [
       "<IPython.core.display.HTML object>"
      ]
     },
     "metadata": {},
     "output_type": "display_data"
    },
    {
     "data": {
      "text/html": [
       "Tracking run with wandb version 0.15.11"
      ],
      "text/plain": [
       "<IPython.core.display.HTML object>"
      ]
     },
     "metadata": {},
     "output_type": "display_data"
    },
    {
     "data": {
      "text/html": [
       "Run data is saved locally in <code>/home/rohit172/IIIT-H/SEM-5/SMAI/Assignment-3/wandb/run-20231023_094908-j0db45vm</code>"
      ],
      "text/plain": [
       "<IPython.core.display.HTML object>"
      ]
     },
     "metadata": {},
     "output_type": "display_data"
    },
    {
     "data": {
      "text/html": [
       "Syncing run <strong><a href='https://wandb.ai/rohitgowlapalli01/CNN%20on%20Double-MNIST%20Dataset/runs/j0db45vm' target=\"_blank\">polar-sweep-8</a></strong> to <a href='https://wandb.ai/rohitgowlapalli01/CNN%20on%20Double-MNIST%20Dataset' target=\"_blank\">Weights & Biases</a> (<a href='https://wandb.me/run' target=\"_blank\">docs</a>)<br/>Sweep page: <a href='https://wandb.ai/rohitgowlapalli01/CNN%20on%20Double-MNIST%20Dataset/sweeps/4caacuwc' target=\"_blank\">https://wandb.ai/rohitgowlapalli01/CNN%20on%20Double-MNIST%20Dataset/sweeps/4caacuwc</a>"
      ],
      "text/plain": [
       "<IPython.core.display.HTML object>"
      ]
     },
     "metadata": {},
     "output_type": "display_data"
    },
    {
     "data": {
      "text/html": [
       " View project at <a href='https://wandb.ai/rohitgowlapalli01/CNN%20on%20Double-MNIST%20Dataset' target=\"_blank\">https://wandb.ai/rohitgowlapalli01/CNN%20on%20Double-MNIST%20Dataset</a>"
      ],
      "text/plain": [
       "<IPython.core.display.HTML object>"
      ]
     },
     "metadata": {},
     "output_type": "display_data"
    },
    {
     "data": {
      "text/html": [
       " View sweep at <a href='https://wandb.ai/rohitgowlapalli01/CNN%20on%20Double-MNIST%20Dataset/sweeps/4caacuwc' target=\"_blank\">https://wandb.ai/rohitgowlapalli01/CNN%20on%20Double-MNIST%20Dataset/sweeps/4caacuwc</a>"
      ],
      "text/plain": [
       "<IPython.core.display.HTML object>"
      ]
     },
     "metadata": {},
     "output_type": "display_data"
    },
    {
     "data": {
      "text/html": [
       " View run at <a href='https://wandb.ai/rohitgowlapalli01/CNN%20on%20Double-MNIST%20Dataset/runs/j0db45vm' target=\"_blank\">https://wandb.ai/rohitgowlapalli01/CNN%20on%20Double-MNIST%20Dataset/runs/j0db45vm</a>"
      ],
      "text/plain": [
       "<IPython.core.display.HTML object>"
      ]
     },
     "metadata": {},
     "output_type": "display_data"
    },
    {
     "name": "stdout",
     "output_type": "stream",
     "text": [
      "0.01 0.7 5\n",
      "Epoch 1/5, Train Loss: 0.7090, Train Acc: 77.60%, Val Loss: 0.2750, Val Acc: 92.86%\n",
      "Epoch 2/5, Train Loss: 0.4416, Train Acc: 87.89%, Val Loss: 0.2990, Val Acc: 91.79%\n",
      "Epoch 3/5, Train Loss: 0.4157, Train Acc: 88.72%, Val Loss: 0.3480, Val Acc: 92.61%\n",
      "Epoch 4/5, Train Loss: 0.3926, Train Acc: 89.56%, Val Loss: 0.2825, Val Acc: 93.53%\n",
      "Epoch 5/5, Train Loss: 0.3947, Train Acc: 89.61%, Val Loss: 0.2571, Val Acc: 93.84%\n",
      "Test Loss: 0.2813, Test Acc: 93.25%\n"
     ]
    },
    {
     "data": {
      "text/html": [
       "Waiting for W&B process to finish... <strong style=\"color:green\">(success).</strong>"
      ],
      "text/plain": [
       "<IPython.core.display.HTML object>"
      ]
     },
     "metadata": {},
     "output_type": "display_data"
    },
    {
     "data": {
      "application/vnd.jupyter.widget-view+json": {
       "model_id": "c9daa6c0305e4bbf98abe410921cb54e",
       "version_major": 2,
       "version_minor": 0
      },
      "text/plain": [
       "VBox(children=(Label(value='0.002 MB of 0.007 MB uploaded (0.000 MB deduped)\\r'), FloatProgress(value=0.264497…"
      ]
     },
     "metadata": {},
     "output_type": "display_data"
    },
    {
     "data": {
      "text/html": [
       "<style>\n",
       "    table.wandb td:nth-child(1) { padding: 0 10px; text-align: left ; width: auto;} td:nth-child(2) {text-align: left ; width: 100%}\n",
       "    .wandb-row { display: flex; flex-direction: row; flex-wrap: wrap; justify-content: flex-start; width: 100% }\n",
       "    .wandb-col { display: flex; flex-direction: column; flex-basis: 100%; flex: 1; padding: 10px; }\n",
       "    </style>\n",
       "<div class=\"wandb-row\"><div class=\"wandb-col\"><h3>Run history:</h3><br/><table class=\"wandb\"><tr><td>Trainset Accuracy</td><td>▁</td></tr><tr><td>Trainset Loss</td><td>▁</td></tr><tr><td>Validation set Loss</td><td>▁</td></tr><tr><td>dropout_rate</td><td>▁</td></tr><tr><td>kernel_size</td><td>▁</td></tr><tr><td>learning_rate</td><td>▁</td></tr><tr><td>test_accuracy</td><td>▁</td></tr><tr><td>val_accuracy</td><td>▁</td></tr></table><br/></div><div class=\"wandb-col\"><h3>Run summary:</h3><br/><table class=\"wandb\"><tr><td>Trainset Accuracy</td><td>89.60547</td></tr><tr><td>Trainset Loss</td><td>0.39467</td></tr><tr><td>Validation set Loss</td><td>0.25708</td></tr><tr><td>dropout_rate</td><td>0.7</td></tr><tr><td>kernel_size</td><td>5</td></tr><tr><td>learning_rate</td><td>0.01</td></tr><tr><td>test_accuracy</td><td>93.255</td></tr><tr><td>val_accuracy</td><td>93.8375</td></tr></table><br/></div></div>"
      ],
      "text/plain": [
       "<IPython.core.display.HTML object>"
      ]
     },
     "metadata": {},
     "output_type": "display_data"
    },
    {
     "data": {
      "text/html": [
       " View run <strong style=\"color:#cdcd00\">polar-sweep-8</strong> at: <a href='https://wandb.ai/rohitgowlapalli01/CNN%20on%20Double-MNIST%20Dataset/runs/j0db45vm' target=\"_blank\">https://wandb.ai/rohitgowlapalli01/CNN%20on%20Double-MNIST%20Dataset/runs/j0db45vm</a><br/>Synced 5 W&B file(s), 0 media file(s), 0 artifact file(s) and 0 other file(s)"
      ],
      "text/plain": [
       "<IPython.core.display.HTML object>"
      ]
     },
     "metadata": {},
     "output_type": "display_data"
    },
    {
     "data": {
      "text/html": [
       "Find logs at: <code>./wandb/run-20231023_094908-j0db45vm/logs</code>"
      ],
      "text/plain": [
       "<IPython.core.display.HTML object>"
      ]
     },
     "metadata": {},
     "output_type": "display_data"
    },
    {
     "name": "stderr",
     "output_type": "stream",
     "text": [
      "\u001b[34m\u001b[1mwandb\u001b[0m: Sweep Agent: Waiting for job.\n",
      "\u001b[34m\u001b[1mwandb\u001b[0m: Sweep Agent: Exiting.\n"
     ]
    },
    {
     "name": "stdout",
     "output_type": "stream",
     "text": [
      "Error in callback <function _WandbInit._pause_backend at 0x7f3baeb98a60> (for post_run_cell):\n"
     ]
    },
    {
     "ename": "BrokenPipeError",
     "evalue": "[Errno 32] Broken pipe",
     "output_type": "error",
     "traceback": [
      "\u001b[0;31m---------------------------------------------------------------------------\u001b[0m",
      "\u001b[0;31mBrokenPipeError\u001b[0m                           Traceback (most recent call last)",
      "File \u001b[0;32m~/.local/lib/python3.8/site-packages/backcall/backcall.py:104\u001b[0m, in \u001b[0;36mcallback_prototype.<locals>.adapt.<locals>.adapted\u001b[0;34m(*args, **kwargs)\u001b[0m\n\u001b[1;32m    102\u001b[0m                 kwargs\u001b[39m.\u001b[39mpop(name)\n\u001b[1;32m    103\u001b[0m \u001b[39m#            print(args, kwargs, unmatched_pos, cut_positional, unmatched_kw)\u001b[39;00m\n\u001b[0;32m--> 104\u001b[0m             \u001b[39mreturn\u001b[39;00m callback(\u001b[39m*\u001b[39;49margs, \u001b[39m*\u001b[39;49m\u001b[39m*\u001b[39;49mkwargs)\n",
      "File \u001b[0;32m~/.local/lib/python3.8/site-packages/wandb/sdk/wandb_init.py:439\u001b[0m, in \u001b[0;36m_WandbInit._pause_backend\u001b[0;34m(self)\u001b[0m\n\u001b[1;32m    437\u001b[0m \u001b[39mif\u001b[39;00m \u001b[39mself\u001b[39m\u001b[39m.\u001b[39mbackend\u001b[39m.\u001b[39minterface \u001b[39mis\u001b[39;00m \u001b[39mnot\u001b[39;00m \u001b[39mNone\u001b[39;00m:\n\u001b[1;32m    438\u001b[0m     logger\u001b[39m.\u001b[39minfo(\u001b[39m\"\u001b[39m\u001b[39mpausing backend\u001b[39m\u001b[39m\"\u001b[39m)  \u001b[39m# type: ignore\u001b[39;00m\n\u001b[0;32m--> 439\u001b[0m     \u001b[39mself\u001b[39;49m\u001b[39m.\u001b[39;49mbackend\u001b[39m.\u001b[39;49minterface\u001b[39m.\u001b[39;49mpublish_pause()\n",
      "File \u001b[0;32m~/.local/lib/python3.8/site-packages/wandb/sdk/interface/interface.py:626\u001b[0m, in \u001b[0;36mInterfaceBase.publish_pause\u001b[0;34m(self)\u001b[0m\n\u001b[1;32m    624\u001b[0m \u001b[39mdef\u001b[39;00m \u001b[39mpublish_pause\u001b[39m(\u001b[39mself\u001b[39m) \u001b[39m-\u001b[39m\u001b[39m>\u001b[39m \u001b[39mNone\u001b[39;00m:\n\u001b[1;32m    625\u001b[0m     pause \u001b[39m=\u001b[39m pb\u001b[39m.\u001b[39mPauseRequest()\n\u001b[0;32m--> 626\u001b[0m     \u001b[39mself\u001b[39;49m\u001b[39m.\u001b[39;49m_publish_pause(pause)\n",
      "File \u001b[0;32m~/.local/lib/python3.8/site-packages/wandb/sdk/interface/interface_shared.py:343\u001b[0m, in \u001b[0;36mInterfaceShared._publish_pause\u001b[0;34m(self, pause)\u001b[0m\n\u001b[1;32m    341\u001b[0m \u001b[39mdef\u001b[39;00m \u001b[39m_publish_pause\u001b[39m(\u001b[39mself\u001b[39m, pause: pb\u001b[39m.\u001b[39mPauseRequest) \u001b[39m-\u001b[39m\u001b[39m>\u001b[39m \u001b[39mNone\u001b[39;00m:\n\u001b[1;32m    342\u001b[0m     rec \u001b[39m=\u001b[39m \u001b[39mself\u001b[39m\u001b[39m.\u001b[39m_make_request(pause\u001b[39m=\u001b[39mpause)\n\u001b[0;32m--> 343\u001b[0m     \u001b[39mself\u001b[39;49m\u001b[39m.\u001b[39;49m_publish(rec)\n",
      "File \u001b[0;32m~/.local/lib/python3.8/site-packages/wandb/sdk/interface/interface_sock.py:51\u001b[0m, in \u001b[0;36mInterfaceSock._publish\u001b[0;34m(self, record, local)\u001b[0m\n\u001b[1;32m     49\u001b[0m \u001b[39mdef\u001b[39;00m \u001b[39m_publish\u001b[39m(\u001b[39mself\u001b[39m, record: \u001b[39m\"\u001b[39m\u001b[39mpb.Record\u001b[39m\u001b[39m\"\u001b[39m, local: Optional[\u001b[39mbool\u001b[39m] \u001b[39m=\u001b[39m \u001b[39mNone\u001b[39;00m) \u001b[39m-\u001b[39m\u001b[39m>\u001b[39m \u001b[39mNone\u001b[39;00m:\n\u001b[1;32m     50\u001b[0m     \u001b[39mself\u001b[39m\u001b[39m.\u001b[39m_assign(record)\n\u001b[0;32m---> 51\u001b[0m     \u001b[39mself\u001b[39;49m\u001b[39m.\u001b[39;49m_sock_client\u001b[39m.\u001b[39;49msend_record_publish(record)\n",
      "File \u001b[0;32m~/.local/lib/python3.8/site-packages/wandb/sdk/lib/sock_client.py:221\u001b[0m, in \u001b[0;36mSockClient.send_record_publish\u001b[0;34m(self, record)\u001b[0m\n\u001b[1;32m    219\u001b[0m server_req \u001b[39m=\u001b[39m spb\u001b[39m.\u001b[39mServerRequest()\n\u001b[1;32m    220\u001b[0m server_req\u001b[39m.\u001b[39mrecord_publish\u001b[39m.\u001b[39mCopyFrom(record)\n\u001b[0;32m--> 221\u001b[0m \u001b[39mself\u001b[39;49m\u001b[39m.\u001b[39;49msend_server_request(server_req)\n",
      "File \u001b[0;32m~/.local/lib/python3.8/site-packages/wandb/sdk/lib/sock_client.py:155\u001b[0m, in \u001b[0;36mSockClient.send_server_request\u001b[0;34m(self, msg)\u001b[0m\n\u001b[1;32m    154\u001b[0m \u001b[39mdef\u001b[39;00m \u001b[39msend_server_request\u001b[39m(\u001b[39mself\u001b[39m, msg: Any) \u001b[39m-\u001b[39m\u001b[39m>\u001b[39m \u001b[39mNone\u001b[39;00m:\n\u001b[0;32m--> 155\u001b[0m     \u001b[39mself\u001b[39;49m\u001b[39m.\u001b[39;49m_send_message(msg)\n",
      "File \u001b[0;32m~/.local/lib/python3.8/site-packages/wandb/sdk/lib/sock_client.py:152\u001b[0m, in \u001b[0;36mSockClient._send_message\u001b[0;34m(self, msg)\u001b[0m\n\u001b[1;32m    150\u001b[0m header \u001b[39m=\u001b[39m struct\u001b[39m.\u001b[39mpack(\u001b[39m\"\u001b[39m\u001b[39m<BI\u001b[39m\u001b[39m\"\u001b[39m, \u001b[39mord\u001b[39m(\u001b[39m\"\u001b[39m\u001b[39mW\u001b[39m\u001b[39m\"\u001b[39m), raw_size)\n\u001b[1;32m    151\u001b[0m \u001b[39mwith\u001b[39;00m \u001b[39mself\u001b[39m\u001b[39m.\u001b[39m_lock:\n\u001b[0;32m--> 152\u001b[0m     \u001b[39mself\u001b[39;49m\u001b[39m.\u001b[39;49m_sendall_with_error_handle(header \u001b[39m+\u001b[39;49m data)\n",
      "File \u001b[0;32m~/.local/lib/python3.8/site-packages/wandb/sdk/lib/sock_client.py:130\u001b[0m, in \u001b[0;36mSockClient._sendall_with_error_handle\u001b[0;34m(self, data)\u001b[0m\n\u001b[1;32m    128\u001b[0m start_time \u001b[39m=\u001b[39m time\u001b[39m.\u001b[39mmonotonic()\n\u001b[1;32m    129\u001b[0m \u001b[39mtry\u001b[39;00m:\n\u001b[0;32m--> 130\u001b[0m     sent \u001b[39m=\u001b[39m \u001b[39mself\u001b[39;49m\u001b[39m.\u001b[39;49m_sock\u001b[39m.\u001b[39;49msend(data)\n\u001b[1;32m    131\u001b[0m     \u001b[39m# sent equal to 0 indicates a closed socket\u001b[39;00m\n\u001b[1;32m    132\u001b[0m     \u001b[39mif\u001b[39;00m sent \u001b[39m==\u001b[39m \u001b[39m0\u001b[39m:\n",
      "\u001b[0;31mBrokenPipeError\u001b[0m: [Errno 32] Broken pipe"
     ]
    }
   ],
   "source": [
    "import wandb\n",
    "wandb.init(project=\"CNN on Double-MNIST Dataset\")\n",
    "sweep_config = {\n",
    "    \"method\": \"grid\",\n",
    "    \"name\": \"CNN on Double-MNIST Dataset\",\n",
    "    \"metric\": {\"goal\": \"maximize\", \"name\": \"test_accuracy\"},\n",
    "    \"parameters\": {\n",
    "        \"learning_rate\": {\"values\": [0.001,0.01]},\n",
    "        \"kernel_size\": {\"values\": [3,5]},\n",
    "        \"dropout_rate\": {\"values\": [0.5,0.7]},\n",
    "    },\n",
    "}\n",
    "criterion = nn.CrossEntropyLoss()\n",
    "sweep_id = wandb.sweep(sweep_config, project=\"CNN on Double-MNIST Dataset\")\n",
    "def train():\n",
    "    wandb.init(project=\"CNN on Double-MNIST Dataset\")\n",
    "    config = wandb.config\n",
    "    learning_rate = config.learning_rate\n",
    "    dropout_rate = config.dropout_rate\n",
    "    kernel_size = config.kernel_size\n",
    "    print(learning_rate,dropout_rate,kernel_size)\n",
    "    model_left = MultiMNIST_CNN(input_channels=1,num_classes=num_classes,dropout_size=dropout_rate,kernel_size=kernel_size)\n",
    "    model_right = MultiMNIST_CNN(input_channels=1,num_classes=num_classes,dropout_size=dropout_rate,kernel_size=kernel_size)\n",
    "    criterion_left = nn.CrossEntropyLoss()\n",
    "    optimizer_left = optim.Adam(model_left.parameters(), lr=learning_rate)\n",
    "    criterion_right = nn.CrossEntropyLoss()\n",
    "    optimizer_right = optim.Adam(model_right.parameters(), lr=learning_rate)\n",
    "    train_losses, val_losses, train_acc, val_acc = train_model(model_left=model_left,model_right=model_right,train_loader=train_loader, val_loader=val_loader, criterion_left=criterion_left, optimizer_left=optimizer_left,criterion_right=criterion_right,optimizer_right=optimizer_right,num_epochs=5)\n",
    "    criterion_left = nn.CrossEntropyLoss()\n",
    "    optimizer_left = optim.Adam(model_left.parameters(), lr=learning_rate)\n",
    "    criterion_right = nn.CrossEntropyLoss()\n",
    "    optimizer_right = optim.Adam(model_right.parameters(), lr=learning_rate)\n",
    "    test_accuracy = test_model(model_left=model_left,model_right=model_right,test_loader=test_loader,criterion_left=criterion_left,criterion_right=criterion_right)\n",
    "    wandb.log({\"Trainset Loss\":train_losses[-1],\"Trainset Accuracy\":train_acc[-1],\"Validation set Loss\":val_losses[-1],\"val_accuracy\":val_acc[-1],\"test_accuracy\":test_accuracy,\"learning_rate\":learning_rate,\"dropout_rate\":dropout_rate,\"kernel_size\":kernel_size})\n",
    "\n",
    "# Run the sweep\n",
    "wandb.agent(sweep_id, function=train)\n",
    "wandb.finish()"
   ]
  },
  {
   "cell_type": "markdown",
   "metadata": {},
   "source": [
    "# CNN ON MNIST Dataset"
   ]
  },
  {
   "cell_type": "code",
   "execution_count": 27,
   "metadata": {},
   "outputs": [
    {
     "name": "stdout",
     "output_type": "stream",
     "text": [
      "Test Loss: 16.8805, Test Acc: 4.98%\n"
     ]
    }
   ],
   "source": [
    "import torchvision\n",
    "import torchvision.transforms as transforms\n",
    "transform = transforms.Compose([transforms.ToTensor(), transforms.Normalize((0.5,), (0.5,))])\n",
    "trainset = torchvision.datasets.MNIST(root='./data', train=True, download=True, transform=transform)\n",
    "trainloader = torch.utils.data.DataLoader(trainset, batch_size=4, shuffle=True)\n",
    "train_size = int(0.8 * len(trainset))\n",
    "val_size = int(0.1 * len(trainset))\n",
    "test_size = len(trainset) - train_size - val_size\n",
    "train_data, val_data, test_data = torch.utils.data.random_split(trainset, [train_size, val_size, test_size])\n",
    "gen = torch.Generator().manual_seed(42)\n",
    "\n",
    "batch_size = 64\n",
    "train_loader = torch.utils.data.DataLoader(train_data, batch_size=batch_size, shuffle=True)\n",
    "val_loader = torch.utils.data.DataLoader(val_data, batch_size=batch_size, shuffle=False)\n",
    "test_loader = torch.utils.data.DataLoader(test_data, batch_size=batch_size, shuffle=False)\n",
    "test_model(model_left=model_left,model_right=model_right,test_loader=test_loader,criterion_left=criterion_left,criterion_right=criterion_right)"
   ]
  },
  {
   "cell_type": "markdown",
   "metadata": {},
   "source": [
    "# Permuted MNIST"
   ]
  },
  {
   "cell_type": "code",
   "execution_count": 2,
   "metadata": {},
   "outputs": [],
   "source": [
    "# To load the dataset, you can use np.load\n",
    "import numpy as np\n",
    "import torch\n",
    "from torch.utils.data import DataLoader, TensorDataset, random_split\n",
    "from sklearn.model_selection import train_test_split\n",
    "import torchvision.transforms as transforms\n",
    "data = np.load(\"permuted_mnist.npz\")\n",
    "permuted_x_train = data[\"train_images\"]\n",
    "y_train = data[\"train_labels\"]\n",
    "permuted_x_test = data[\"test_images\"]\n",
    "y_test = data[\"test_labels\"]"
   ]
  },
  {
   "cell_type": "code",
   "execution_count": 3,
   "metadata": {},
   "outputs": [],
   "source": [
    "x_train, x_val, y_train, y_val = train_test_split(permuted_x_train, y_train, test_size=0.1, random_state=42)\n",
    "\n",
    "\n",
    "transform = transforms.Compose([transforms.ToTensor(), transforms.Normalize((0.5,), (0.5,))])\n",
    "\n",
    "# Convert NumPy arrays to PyTorch tensors\n",
    "x_train = torch.from_numpy(x_train).float()\n",
    "y_train = torch.from_numpy(y_train).long()\n",
    "x_val = torch.from_numpy(x_val).float()\n",
    "y_val = torch.from_numpy(y_val).long()\n",
    "permuted_x_test = torch.from_numpy(permuted_x_test).float()\n",
    "y_test = torch.from_numpy(y_test).long()\n",
    "\n",
    "\n",
    "batch_size = 64\n",
    "train_loader = DataLoader(TensorDataset(x_train, y_train), batch_size=batch_size, shuffle=True)\n",
    "val_loader = DataLoader(TensorDataset(x_val, y_val), batch_size=batch_size, shuffle=False)\n",
    "test_loader = DataLoader(TensorDataset(permuted_x_test, y_test), batch_size=batch_size, shuffle=False)\n"
   ]
  },
  {
   "cell_type": "markdown",
   "metadata": {},
   "source": [
    "# MLP on Permuted MNIST"
   ]
  },
  {
   "cell_type": "code",
   "execution_count": 4,
   "metadata": {},
   "outputs": [],
   "source": [
    "import torch\n",
    "import torch.nn as nn\n",
    "\n",
    "class PermutedMNIST_MLP(nn.Module):\n",
    "    def __init__(self, input_size, num_classes, hidden_layers, hidden_neurons, dropout_rate=0.5):\n",
    "        super(PermutedMNIST_MLP, self).__init__()\n",
    "        self.input_size = input_size\n",
    "        self.num_classes = num_classes\n",
    "        self.hidden_layers = hidden_layers\n",
    "        self.hidden_neurons = hidden_neurons\n",
    "        layers = []\n",
    "        layers.append(nn.Linear(input_size, hidden_neurons[0]))\n",
    "        layers.append(nn.ReLU())\n",
    "        for i in range(1, hidden_layers):\n",
    "            layers.append(nn.Linear(hidden_neurons[i-1], hidden_neurons[i]))\n",
    "            layers.append(nn.ReLU())\n",
    "        self.hidden = nn.Sequential(*layers)\n",
    "        self.dropout = nn.Dropout(dropout_rate)\n",
    "        self.fc_out = nn.Linear(hidden_neurons[-1], num_classes)\n",
    "\n",
    "    def forward(self, x):\n",
    "        x = x.view(x.size(0), -1)  \n",
    "        x = self.hidden(x)\n",
    "        x = self.dropout(x)\n",
    "        x = self.fc_out(x)\n",
    "        return x"
   ]
  },
  {
   "cell_type": "code",
   "execution_count": 5,
   "metadata": {},
   "outputs": [],
   "source": [
    "def train_model(model, train_loader, val_loader, criterion, optimizer, num_epochs=1):\n",
    "    train_losses, val_losses = [], []\n",
    "    train_acc, val_acc = [] , []\n",
    "\n",
    "    for epoch in range(num_epochs):\n",
    "        model.train()\n",
    "        running_loss = 0.0\n",
    "        correct_train = 0\n",
    "        total_train = 0\n",
    "\n",
    "        for inputs, labels in train_loader:\n",
    "            optimizer.zero_grad()\n",
    "            outputs = model(inputs)\n",
    "            loss = criterion(outputs, labels)\n",
    "            loss.backward()\n",
    "            optimizer.step()\n",
    "\n",
    "            running_loss += loss.item()\n",
    "            _, predicted = torch.max(outputs.data, 1)\n",
    "            total_train += labels.size(0)\n",
    "            correct_train += (predicted == labels).sum().item()\n",
    "\n",
    "        train_accuracy = 100 * correct_train / total_train\n",
    "        train_losses.append(running_loss / len(train_loader))\n",
    "        train_acc.append(train_accuracy)\n",
    "\n",
    "        model.eval()\n",
    "        val_loss = 0.0\n",
    "        correct_val = 0\n",
    "        total_val = 0\n",
    "        with torch.no_grad():\n",
    "            for inputs, labels in val_loader:\n",
    "                outputs = model(inputs)\n",
    "                loss = criterion(outputs, labels)\n",
    "                val_loss += loss.item()\n",
    "                _, predicted = torch.max(outputs.data, 1)\n",
    "                total_val += labels.size(0)\n",
    "                correct_val += (predicted == labels).sum().item()\n",
    "\n",
    "            val_accuracy = 100 * correct_val / total_val\n",
    "            val_losses.append(val_loss / len(val_loader))\n",
    "            val_acc.append(val_accuracy)\n",
    "\n",
    "        print(f'Epoch {epoch + 1}/{num_epochs}, Train Loss: {train_losses[-1]:.4f}, Train Acc: {train_accuracy:.2f}%, '\n",
    "              f'Val Loss: {val_losses[-1]:.4f}, Val Acc: {val_accuracy:.2f}%')\n",
    "\n",
    "    return train_losses, val_losses, train_acc, val_acc \n",
    "\n",
    "\n",
    "def test_model(model, test_loader, criterion):\n",
    "    model.eval()\n",
    "    test_loss = 0.0\n",
    "    correct_test = 0\n",
    "    total_test = 0\n",
    "    with torch.no_grad():\n",
    "        for inputs, labels in test_loader:\n",
    "            outputs = model(inputs)\n",
    "            loss = criterion(outputs, labels)\n",
    "            test_loss += loss.item()\n",
    "            _, predicted = torch.max(outputs.data, 1)\n",
    "            total_test += labels.size(0)\n",
    "            correct_test += (predicted == labels).sum().item()\n",
    "        test_accuracy = 100 * correct_test / total_test\n",
    "        test_loss = (test_loss / len(test_loader))\n",
    "\n",
    "    print(f'Test Loss: {test_loss:.4f}, Test Acc: {test_accuracy:.2f}%')\n",
    "    return test_accuracy"
   ]
  },
  {
   "cell_type": "code",
   "execution_count": 43,
   "metadata": {},
   "outputs": [
    {
     "name": "stdout",
     "output_type": "stream",
     "text": [
      "Epoch 1/10, Train Loss: 0.3411, Train Acc: 90.57%, Val Loss: 0.1508, Val Acc: 95.48%\n",
      "Epoch 2/10, Train Loss: 0.1698, Train Acc: 95.30%, Val Loss: 0.1237, Val Acc: 96.53%\n",
      "Epoch 3/10, Train Loss: 0.1409, Train Acc: 96.19%, Val Loss: 0.1440, Val Acc: 96.48%\n",
      "Epoch 4/10, Train Loss: 0.1285, Train Acc: 96.57%, Val Loss: 0.1371, Val Acc: 96.73%\n",
      "Epoch 5/10, Train Loss: 0.1085, Train Acc: 97.21%, Val Loss: 0.1222, Val Acc: 97.30%\n",
      "Epoch 6/10, Train Loss: 0.1064, Train Acc: 97.24%, Val Loss: 0.1393, Val Acc: 96.82%\n",
      "Epoch 7/10, Train Loss: 0.0950, Train Acc: 97.57%, Val Loss: 0.1415, Val Acc: 97.12%\n",
      "Epoch 8/10, Train Loss: 0.0930, Train Acc: 97.70%, Val Loss: 0.1379, Val Acc: 97.22%\n",
      "Epoch 9/10, Train Loss: 0.0906, Train Acc: 97.74%, Val Loss: 0.1447, Val Acc: 97.32%\n",
      "Epoch 10/10, Train Loss: 0.0866, Train Acc: 97.88%, Val Loss: 0.1291, Val Acc: 97.40%\n",
      "Test Loss: 0.1481, Test Acc: 97.16%\n"
     ]
    }
   ],
   "source": [
    "model = PermutedMNIST_MLP(input_size=784,num_classes=10,hidden_layers=3,hidden_neurons=[256,256,256])\n",
    "criterion = nn.CrossEntropyLoss()\n",
    "optimizer = optim.Adam(model.parameters(), lr=0.001)\n",
    "train_losses, val_losses, train_acc, val_acc = train_model(model=model, train_loader=train_loader, val_loader=val_loader, criterion=criterion, optimizer=optimizer, num_epochs=10)\n",
    "plt.figure(figsize=(12, 4))\n",
    "plt.subplot(1, 2, 1)\n",
    "plt.plot(train_losses, label='Train Loss')\n",
    "plt.plot(val_losses, label='Val Loss')\n",
    "plt.xlabel('Epoch')\n",
    "plt.ylabel('Loss')\n",
    "plt.legend()\n",
    "\n",
    "plt.subplot(1, 2, 2)\n",
    "plt.plot(train_acc, label='Train Acc')\n",
    "plt.plot(val_acc, label='Val Acc')\n",
    "plt.xlabel('Epoch')\n",
    "plt.ylabel('Accuracy (%)')\n",
    "plt.legend()\n",
    "\n",
    "plt.show()\n",
    "test_model(model=model,test_loader=test_loader,criterion=criterion)"
   ]
  },
  {
   "cell_type": "markdown",
   "metadata": {},
   "source": [
    "# Hyper-parameter tuning of MLP on Permuted MNIST"
   ]
  },
  {
   "cell_type": "markdown",
   "metadata": {},
   "source": [
    "#### Report on Hyper-parameter tuning of MLP on Permuted MNIST - [Report](https://api.wandb.ai/links/rohitgowlapalli01/kl3apmd7)"
   ]
  },
  {
   "cell_type": "code",
   "execution_count": 6,
   "metadata": {},
   "outputs": [
    {
     "name": "stderr",
     "output_type": "stream",
     "text": [
      "Failed to detect the name of this notebook, you can set it manually with the WANDB_NOTEBOOK_NAME environment variable to enable code saving.\n",
      "/usr/lib/python3/dist-packages/requests/__init__.py:89: RequestsDependencyWarning: urllib3 (2.0.5) or chardet (3.0.4) doesn't match a supported version!\n",
      "  warnings.warn(\"urllib3 ({}) or chardet ({}) doesn't match a supported \"\n",
      "\u001b[34m\u001b[1mwandb\u001b[0m: Currently logged in as: \u001b[33mrohitgowlapalli01\u001b[0m. Use \u001b[1m`wandb login --relogin`\u001b[0m to force relogin\n"
     ]
    },
    {
     "data": {
      "text/html": [
       "wandb version 0.15.12 is available!  To upgrade, please run:\n",
       " $ pip install wandb --upgrade"
      ],
      "text/plain": [
       "<IPython.core.display.HTML object>"
      ]
     },
     "metadata": {},
     "output_type": "display_data"
    },
    {
     "data": {
      "text/html": [
       "Tracking run with wandb version 0.15.11"
      ],
      "text/plain": [
       "<IPython.core.display.HTML object>"
      ]
     },
     "metadata": {},
     "output_type": "display_data"
    },
    {
     "data": {
      "text/html": [
       "Run data is saved locally in <code>/home/rohit172/IIIT-H/SEM-5/SMAI/Assignment-3/wandb/run-20231023_124833-z928m803</code>"
      ],
      "text/plain": [
       "<IPython.core.display.HTML object>"
      ]
     },
     "metadata": {},
     "output_type": "display_data"
    },
    {
     "data": {
      "text/html": [
       "Syncing run <strong><a href='https://wandb.ai/rohitgowlapalli01/MLP%20on%20Permuted-MNIST%20Dataset/runs/z928m803' target=\"_blank\">major-leaf-5</a></strong> to <a href='https://wandb.ai/rohitgowlapalli01/MLP%20on%20Permuted-MNIST%20Dataset' target=\"_blank\">Weights & Biases</a> (<a href='https://wandb.me/run' target=\"_blank\">docs</a>)<br/>"
      ],
      "text/plain": [
       "<IPython.core.display.HTML object>"
      ]
     },
     "metadata": {},
     "output_type": "display_data"
    },
    {
     "data": {
      "text/html": [
       " View project at <a href='https://wandb.ai/rohitgowlapalli01/MLP%20on%20Permuted-MNIST%20Dataset' target=\"_blank\">https://wandb.ai/rohitgowlapalli01/MLP%20on%20Permuted-MNIST%20Dataset</a>"
      ],
      "text/plain": [
       "<IPython.core.display.HTML object>"
      ]
     },
     "metadata": {},
     "output_type": "display_data"
    },
    {
     "data": {
      "text/html": [
       " View run at <a href='https://wandb.ai/rohitgowlapalli01/MLP%20on%20Permuted-MNIST%20Dataset/runs/z928m803' target=\"_blank\">https://wandb.ai/rohitgowlapalli01/MLP%20on%20Permuted-MNIST%20Dataset/runs/z928m803</a>"
      ],
      "text/plain": [
       "<IPython.core.display.HTML object>"
      ]
     },
     "metadata": {},
     "output_type": "display_data"
    },
    {
     "name": "stderr",
     "output_type": "stream",
     "text": [
      "\u001b[34m\u001b[1mwandb\u001b[0m: \u001b[33mWARNING\u001b[0m Calling wandb.login() after wandb.init() has no effect.\n"
     ]
    },
    {
     "name": "stdout",
     "output_type": "stream",
     "text": [
      "Create sweep with ID: itntkdo9\n",
      "Sweep URL: https://wandb.ai/rohitgowlapalli01/MLP%20on%20Permuted-MNIST%20Dataset/sweeps/itntkdo9\n",
      "<IPython.core.display.HTML object>\n"
     ]
    },
    {
     "name": "stderr",
     "output_type": "stream",
     "text": [
      "wandb: WARNING Source type is set to 'repo' but some required information is missing from the environment. A job will not be created from this run. See https://docs.wandb.ai/guides/launch/create-job\n"
     ]
    },
    {
     "name": "stdout",
     "output_type": "stream",
     "text": [
      "VBox(children=(Label(value='0.002 MB of 0.006 MB uploaded (0.000 MB deduped)\\r'), FloatProgress(value=0.2926065162907268, max=1.0)))\n",
      "<IPython.core.display.HTML object>\n",
      "<IPython.core.display.HTML object>\n"
     ]
    },
    {
     "name": "stderr",
     "output_type": "stream",
     "text": [
      "\u001b[34m\u001b[1mwandb\u001b[0m: Agent Starting Run: biuq10ad with config:\n",
      "\u001b[34m\u001b[1mwandb\u001b[0m: \thidden_layers: 2\n",
      "\u001b[34m\u001b[1mwandb\u001b[0m: \thidden_neurons_size: 128\n",
      "/usr/lib/python3/dist-packages/requests/__init__.py:89: RequestsDependencyWarning: urllib3 (2.0.5) or chardet (3.0.4) doesn't match a supported version!\n",
      "  warnings.warn(\"urllib3 ({}) or chardet ({}) doesn't match a supported \"\n",
      "\u001b[34m\u001b[1mwandb\u001b[0m: \u001b[33mWARNING\u001b[0m Ignored wandb.init() arg project when running a sweep.\n"
     ]
    },
    {
     "data": {
      "application/vnd.jupyter.widget-view+json": {
       "model_id": "c2951c66d84647f39b8e367b50723273",
       "version_major": 2,
       "version_minor": 0
      },
      "text/plain": [
       "VBox(children=(Label(value='Waiting for wandb.init()...\\r'), FloatProgress(value=0.011113456877778087, max=1.0…"
      ]
     },
     "metadata": {},
     "output_type": "display_data"
    },
    {
     "data": {
      "text/html": [
       "wandb version 0.15.12 is available!  To upgrade, please run:\n",
       " $ pip install wandb --upgrade"
      ],
      "text/plain": [
       "<IPython.core.display.HTML object>"
      ]
     },
     "metadata": {},
     "output_type": "display_data"
    },
    {
     "data": {
      "text/html": [
       "Tracking run with wandb version 0.15.11"
      ],
      "text/plain": [
       "<IPython.core.display.HTML object>"
      ]
     },
     "metadata": {},
     "output_type": "display_data"
    },
    {
     "data": {
      "text/html": [
       "Run data is saved locally in <code>/home/rohit172/IIIT-H/SEM-5/SMAI/Assignment-3/wandb/run-20231023_124845-biuq10ad</code>"
      ],
      "text/plain": [
       "<IPython.core.display.HTML object>"
      ]
     },
     "metadata": {},
     "output_type": "display_data"
    },
    {
     "data": {
      "text/html": [
       "Syncing run <strong><a href='https://wandb.ai/rohitgowlapalli01/MLP%20on%20Permuted-MNIST%20Dataset/runs/biuq10ad' target=\"_blank\">frosty-sweep-1</a></strong> to <a href='https://wandb.ai/rohitgowlapalli01/MLP%20on%20Permuted-MNIST%20Dataset' target=\"_blank\">Weights & Biases</a> (<a href='https://wandb.me/run' target=\"_blank\">docs</a>)<br/>Sweep page: <a href='https://wandb.ai/rohitgowlapalli01/MLP%20on%20Permuted-MNIST%20Dataset/sweeps/itntkdo9' target=\"_blank\">https://wandb.ai/rohitgowlapalli01/MLP%20on%20Permuted-MNIST%20Dataset/sweeps/itntkdo9</a>"
      ],
      "text/plain": [
       "<IPython.core.display.HTML object>"
      ]
     },
     "metadata": {},
     "output_type": "display_data"
    },
    {
     "data": {
      "text/html": [
       " View project at <a href='https://wandb.ai/rohitgowlapalli01/MLP%20on%20Permuted-MNIST%20Dataset' target=\"_blank\">https://wandb.ai/rohitgowlapalli01/MLP%20on%20Permuted-MNIST%20Dataset</a>"
      ],
      "text/plain": [
       "<IPython.core.display.HTML object>"
      ]
     },
     "metadata": {},
     "output_type": "display_data"
    },
    {
     "data": {
      "text/html": [
       " View sweep at <a href='https://wandb.ai/rohitgowlapalli01/MLP%20on%20Permuted-MNIST%20Dataset/sweeps/itntkdo9' target=\"_blank\">https://wandb.ai/rohitgowlapalli01/MLP%20on%20Permuted-MNIST%20Dataset/sweeps/itntkdo9</a>"
      ],
      "text/plain": [
       "<IPython.core.display.HTML object>"
      ]
     },
     "metadata": {},
     "output_type": "display_data"
    },
    {
     "data": {
      "text/html": [
       " View run at <a href='https://wandb.ai/rohitgowlapalli01/MLP%20on%20Permuted-MNIST%20Dataset/runs/biuq10ad' target=\"_blank\">https://wandb.ai/rohitgowlapalli01/MLP%20on%20Permuted-MNIST%20Dataset/runs/biuq10ad</a>"
      ],
      "text/plain": [
       "<IPython.core.display.HTML object>"
      ]
     },
     "metadata": {},
     "output_type": "display_data"
    },
    {
     "name": "stderr",
     "output_type": "stream",
     "text": [
      "Exception in thread Exception in thread NetStatThrException in thread IntMsgThr:\n",
      "Traceback (most recent call last):\n",
      ":\n",
      "  File \"/usr/lib/python3.8/threading.py\", line 932, in _bootstrap_inner\n",
      "ChkStopThrTraceback (most recent call last):\n",
      ":\n",
      "      File \"/usr/lib/python3.8/threading.py\", line 932, in _bootstrap_inner\n",
      "Traceback (most recent call last):\n",
      "self.run()  File \"/usr/lib/python3.8/threading.py\", line 932, in _bootstrap_inner\n",
      "\n",
      "      File \"/usr/lib/python3.8/threading.py\", line 870, in run\n",
      "self.run()\n",
      "  File \"/usr/lib/python3.8/threading.py\", line 870, in run\n",
      "        self._target(*self._args, **self._kwargs)    self.run()\n",
      "self._target(*self._args, **self._kwargs)\n",
      "  File \"/home/rohit172/.local/lib/python3.8/site-packages/wandb/sdk/wandb_run.py\", line 267, in check_network_status\n",
      "\n",
      "  File \"/usr/lib/python3.8/threading.py\", line 870, in run\n",
      "      File \"/home/rohit172/.local/lib/python3.8/site-packages/wandb/sdk/wandb_run.py\", line 299, in check_internal_messages\n",
      "    self._loop_check_status(self._target(*self._args, **self._kwargs)\n",
      "\n",
      "  File \"/home/rohit172/.local/lib/python3.8/site-packages/wandb/sdk/wandb_run.py\", line 285, in check_stop_status\n",
      "      File \"/home/rohit172/.local/lib/python3.8/site-packages/wandb/sdk/wandb_run.py\", line 223, in _loop_check_status\n",
      "self._loop_check_status(        \n",
      "self._loop_check_status(local_handle = request()  File \"/home/rohit172/.local/lib/python3.8/site-packages/wandb/sdk/wandb_run.py\", line 223, in _loop_check_status\n",
      "\n",
      "\n",
      "      File \"/home/rohit172/.local/lib/python3.8/site-packages/wandb/sdk/wandb_run.py\", line 223, in _loop_check_status\n",
      "  File \"/home/rohit172/.local/lib/python3.8/site-packages/wandb/sdk/interface/interface.py\", line 735, in deliver_network_status\n",
      "local_handle = request()\n",
      "  File \"/home/rohit172/.local/lib/python3.8/site-packages/wandb/sdk/interface/interface.py\", line 743, in deliver_internal_messages\n",
      "            local_handle = request()return self._deliver_internal_messages(internal_message)return self._deliver_network_status(status)\n",
      "\n",
      "\n",
      "  File \"/home/rohit172/.local/lib/python3.8/site-packages/wandb/sdk/interface/interface_shared.py\", line 466, in _deliver_network_status\n",
      "  File \"/home/rohit172/.local/lib/python3.8/site-packages/wandb/sdk/interface/interface_shared.py\", line 472, in _deliver_internal_messages\n",
      "  File \"/home/rohit172/.local/lib/python3.8/site-packages/wandb/sdk/interface/interface.py\", line 727, in deliver_stop_status\n",
      "        return self._deliver_record(record)    return self._deliver_record(record)\n",
      "return self._deliver_stop_status(status)\n",
      "  File \"/home/rohit172/.local/lib/python3.8/site-packages/wandb/sdk/interface/interface_shared.py\", line 425, in _deliver_record\n",
      "\n",
      "  File \"/home/rohit172/.local/lib/python3.8/site-packages/wandb/sdk/interface/interface_shared.py\", line 425, in _deliver_record\n",
      "  File \"/home/rohit172/.local/lib/python3.8/site-packages/wandb/sdk/interface/interface_shared.py\", line 450, in _deliver_stop_status\n",
      "        handle = mailbox._deliver_record(record, interface=self)handle = mailbox._deliver_record(record, interface=self)    \n",
      "\n",
      "return self._deliver_record(record)\n",
      "  File \"/home/rohit172/.local/lib/python3.8/site-packages/wandb/sdk/lib/mailbox.py\", line 455, in _deliver_record\n",
      "  File \"/home/rohit172/.local/lib/python3.8/site-packages/wandb/sdk/interface/interface_shared.py\", line 425, in _deliver_record\n",
      "  File \"/home/rohit172/.local/lib/python3.8/site-packages/wandb/sdk/lib/mailbox.py\", line 455, in _deliver_record\n",
      "        interface._publish(record)    handle = mailbox._deliver_record(record, interface=self)\n",
      "interface._publish(record)\n",
      "  File \"/home/rohit172/.local/lib/python3.8/site-packages/wandb/sdk/interface/interface_sock.py\", line 51, in _publish\n",
      "\n",
      "  File \"/home/rohit172/.local/lib/python3.8/site-packages/wandb/sdk/lib/mailbox.py\", line 455, in _deliver_record\n",
      "  File \"/home/rohit172/.local/lib/python3.8/site-packages/wandb/sdk/interface/interface_sock.py\", line 51, in _publish\n",
      "        self._sock_client.send_record_publish(record)    self._sock_client.send_record_publish(record)\n",
      "interface._publish(record)\n",
      "  File \"/home/rohit172/.local/lib/python3.8/site-packages/wandb/sdk/lib/sock_client.py\", line 221, in send_record_publish\n",
      "\n",
      "  File \"/home/rohit172/.local/lib/python3.8/site-packages/wandb/sdk/lib/sock_client.py\", line 221, in send_record_publish\n",
      "  File \"/home/rohit172/.local/lib/python3.8/site-packages/wandb/sdk/interface/interface_sock.py\", line 51, in _publish\n",
      "        self.send_server_request(server_req)    self._sock_client.send_record_publish(record)\n",
      "self.send_server_request(server_req)\n",
      "  File \"/home/rohit172/.local/lib/python3.8/site-packages/wandb/sdk/lib/sock_client.py\", line 155, in send_server_request\n",
      "\n",
      "  File \"/home/rohit172/.local/lib/python3.8/site-packages/wandb/sdk/lib/sock_client.py\", line 221, in send_record_publish\n",
      "  File \"/home/rohit172/.local/lib/python3.8/site-packages/wandb/sdk/lib/sock_client.py\", line 155, in send_server_request\n",
      "    self.send_server_request(server_req)\n",
      "  File \"/home/rohit172/.local/lib/python3.8/site-packages/wandb/sdk/lib/sock_client.py\", line 155, in send_server_request\n",
      "        self._send_message(msg)\n",
      "    self._send_message(msg)  File \"/home/rohit172/.local/lib/python3.8/site-packages/wandb/sdk/lib/sock_client.py\", line 152, in _send_message\n",
      "self._send_message(msg)\n",
      "  File \"/home/rohit172/.local/lib/python3.8/site-packages/wandb/sdk/lib/sock_client.py\", line 152, in _send_message\n",
      "\n",
      "        self._sendall_with_error_handle(header + data)self._sendall_with_error_handle(header + data)\n",
      "\n",
      "  File \"/home/rohit172/.local/lib/python3.8/site-packages/wandb/sdk/lib/sock_client.py\", line 130, in _sendall_with_error_handle\n",
      "  File \"/home/rohit172/.local/lib/python3.8/site-packages/wandb/sdk/lib/sock_client.py\", line 152, in _send_message\n",
      "  File \"/home/rohit172/.local/lib/python3.8/site-packages/wandb/sdk/lib/sock_client.py\", line 130, in _sendall_with_error_handle\n",
      "            sent = self._sock.send(data)\n",
      "sent = self._sock.send(data)BrokenPipeErrorself._sendall_with_error_handle(header + data)\n",
      ": \n",
      "BrokenPipeError[Errno 32] Broken pipe  File \"/home/rohit172/.local/lib/python3.8/site-packages/wandb/sdk/lib/sock_client.py\", line 130, in _sendall_with_error_handle\n",
      ": \n",
      "    [Errno 32] Broken pipesent = self._sock.send(data)\n",
      "\n",
      "BrokenPipeError: [Errno 32] Broken pipe\n"
     ]
    },
    {
     "name": "stdout",
     "output_type": "stream",
     "text": [
      "Epoch 1/3, Train Loss: 0.5344, Train Acc: 86.07%, Val Loss: 0.2514, Val Acc: 93.00%\n",
      "Epoch 2/3, Train Loss: 0.2556, Train Acc: 92.93%, Val Loss: 0.1518, Val Acc: 95.65%\n",
      "Epoch 3/3, Train Loss: 0.2106, Train Acc: 94.12%, Val Loss: 0.1419, Val Acc: 95.93%\n",
      "Test Loss: 0.1404, Test Acc: 95.88%\n"
     ]
    },
    {
     "data": {
      "text/html": [
       "Waiting for W&B process to finish... <strong style=\"color:green\">(success).</strong>"
      ],
      "text/plain": [
       "<IPython.core.display.HTML object>"
      ]
     },
     "metadata": {},
     "output_type": "display_data"
    },
    {
     "data": {
      "application/vnd.jupyter.widget-view+json": {
       "model_id": "010854cba0b54a9c994aff04a52fa43d",
       "version_major": 2,
       "version_minor": 0
      },
      "text/plain": [
       "VBox(children=(Label(value='0.002 MB of 0.002 MB uploaded (0.000 MB deduped)\\r'), FloatProgress(value=1.0, max…"
      ]
     },
     "metadata": {},
     "output_type": "display_data"
    },
    {
     "data": {
      "text/html": [
       "<style>\n",
       "    table.wandb td:nth-child(1) { padding: 0 10px; text-align: left ; width: auto;} td:nth-child(2) {text-align: left ; width: 100%}\n",
       "    .wandb-row { display: flex; flex-direction: row; flex-wrap: wrap; justify-content: flex-start; width: 100% }\n",
       "    .wandb-col { display: flex; flex-direction: column; flex-basis: 100%; flex: 1; padding: 10px; }\n",
       "    </style>\n",
       "<div class=\"wandb-row\"><div class=\"wandb-col\"><h3>Run history:</h3><br/><table class=\"wandb\"><tr><td>Neurons</td><td>▁</td></tr><tr><td>Trainset Accuracy</td><td>▁</td></tr><tr><td>Trainset Loss</td><td>▁</td></tr><tr><td>Validation set Loss</td><td>▁</td></tr><tr><td>hidden_layers</td><td>▁</td></tr><tr><td>hidden_neurons_size</td><td>▁</td></tr><tr><td>test_accuracy</td><td>▁</td></tr><tr><td>val_accuracy</td><td>▁</td></tr></table><br/></div><div class=\"wandb-col\"><h3>Run summary:</h3><br/><table class=\"wandb\"><tr><td>Neurons</td><td>256</td></tr><tr><td>Trainset Accuracy</td><td>94.12222</td></tr><tr><td>Trainset Loss</td><td>0.2106</td></tr><tr><td>Validation set Loss</td><td>0.14185</td></tr><tr><td>hidden_layers</td><td>2</td></tr><tr><td>hidden_neurons_size</td><td>128</td></tr><tr><td>test_accuracy</td><td>95.88</td></tr><tr><td>val_accuracy</td><td>95.93333</td></tr></table><br/></div></div>"
      ],
      "text/plain": [
       "<IPython.core.display.HTML object>"
      ]
     },
     "metadata": {},
     "output_type": "display_data"
    },
    {
     "data": {
      "text/html": [
       " View run <strong style=\"color:#cdcd00\">frosty-sweep-1</strong> at: <a href='https://wandb.ai/rohitgowlapalli01/MLP%20on%20Permuted-MNIST%20Dataset/runs/biuq10ad' target=\"_blank\">https://wandb.ai/rohitgowlapalli01/MLP%20on%20Permuted-MNIST%20Dataset/runs/biuq10ad</a><br/>Synced 5 W&B file(s), 0 media file(s), 0 artifact file(s) and 0 other file(s)"
      ],
      "text/plain": [
       "<IPython.core.display.HTML object>"
      ]
     },
     "metadata": {},
     "output_type": "display_data"
    },
    {
     "data": {
      "text/html": [
       "Find logs at: <code>./wandb/run-20231023_124845-biuq10ad/logs</code>"
      ],
      "text/plain": [
       "<IPython.core.display.HTML object>"
      ]
     },
     "metadata": {},
     "output_type": "display_data"
    },
    {
     "name": "stderr",
     "output_type": "stream",
     "text": [
      "\u001b[34m\u001b[1mwandb\u001b[0m: Agent Starting Run: n5zjfcl1 with config:\n",
      "\u001b[34m\u001b[1mwandb\u001b[0m: \thidden_layers: 2\n",
      "\u001b[34m\u001b[1mwandb\u001b[0m: \thidden_neurons_size: 256\n",
      "/usr/lib/python3/dist-packages/requests/__init__.py:89: RequestsDependencyWarning: urllib3 (2.0.5) or chardet (3.0.4) doesn't match a supported version!\n",
      "  warnings.warn(\"urllib3 ({}) or chardet ({}) doesn't match a supported \"\n",
      "\u001b[34m\u001b[1mwandb\u001b[0m: \u001b[33mWARNING\u001b[0m Ignored wandb.init() arg project when running a sweep.\n"
     ]
    },
    {
     "data": {
      "application/vnd.jupyter.widget-view+json": {
       "model_id": "8e7a50cadb1d4abaae70dcaeda31fd7e",
       "version_major": 2,
       "version_minor": 0
      },
      "text/plain": [
       "VBox(children=(Label(value='Waiting for wandb.init()...\\r'), FloatProgress(value=0.011113099855554589, max=1.0…"
      ]
     },
     "metadata": {},
     "output_type": "display_data"
    },
    {
     "data": {
      "text/html": [
       "wandb version 0.15.12 is available!  To upgrade, please run:\n",
       " $ pip install wandb --upgrade"
      ],
      "text/plain": [
       "<IPython.core.display.HTML object>"
      ]
     },
     "metadata": {},
     "output_type": "display_data"
    },
    {
     "data": {
      "text/html": [
       "Tracking run with wandb version 0.15.11"
      ],
      "text/plain": [
       "<IPython.core.display.HTML object>"
      ]
     },
     "metadata": {},
     "output_type": "display_data"
    },
    {
     "data": {
      "text/html": [
       "Run data is saved locally in <code>/home/rohit172/IIIT-H/SEM-5/SMAI/Assignment-3/wandb/run-20231023_124906-n5zjfcl1</code>"
      ],
      "text/plain": [
       "<IPython.core.display.HTML object>"
      ]
     },
     "metadata": {},
     "output_type": "display_data"
    },
    {
     "data": {
      "text/html": [
       "Syncing run <strong><a href='https://wandb.ai/rohitgowlapalli01/MLP%20on%20Permuted-MNIST%20Dataset/runs/n5zjfcl1' target=\"_blank\">sandy-sweep-2</a></strong> to <a href='https://wandb.ai/rohitgowlapalli01/MLP%20on%20Permuted-MNIST%20Dataset' target=\"_blank\">Weights & Biases</a> (<a href='https://wandb.me/run' target=\"_blank\">docs</a>)<br/>Sweep page: <a href='https://wandb.ai/rohitgowlapalli01/MLP%20on%20Permuted-MNIST%20Dataset/sweeps/itntkdo9' target=\"_blank\">https://wandb.ai/rohitgowlapalli01/MLP%20on%20Permuted-MNIST%20Dataset/sweeps/itntkdo9</a>"
      ],
      "text/plain": [
       "<IPython.core.display.HTML object>"
      ]
     },
     "metadata": {},
     "output_type": "display_data"
    },
    {
     "data": {
      "text/html": [
       " View project at <a href='https://wandb.ai/rohitgowlapalli01/MLP%20on%20Permuted-MNIST%20Dataset' target=\"_blank\">https://wandb.ai/rohitgowlapalli01/MLP%20on%20Permuted-MNIST%20Dataset</a>"
      ],
      "text/plain": [
       "<IPython.core.display.HTML object>"
      ]
     },
     "metadata": {},
     "output_type": "display_data"
    },
    {
     "data": {
      "text/html": [
       " View sweep at <a href='https://wandb.ai/rohitgowlapalli01/MLP%20on%20Permuted-MNIST%20Dataset/sweeps/itntkdo9' target=\"_blank\">https://wandb.ai/rohitgowlapalli01/MLP%20on%20Permuted-MNIST%20Dataset/sweeps/itntkdo9</a>"
      ],
      "text/plain": [
       "<IPython.core.display.HTML object>"
      ]
     },
     "metadata": {},
     "output_type": "display_data"
    },
    {
     "data": {
      "text/html": [
       " View run at <a href='https://wandb.ai/rohitgowlapalli01/MLP%20on%20Permuted-MNIST%20Dataset/runs/n5zjfcl1' target=\"_blank\">https://wandb.ai/rohitgowlapalli01/MLP%20on%20Permuted-MNIST%20Dataset/runs/n5zjfcl1</a>"
      ],
      "text/plain": [
       "<IPython.core.display.HTML object>"
      ]
     },
     "metadata": {},
     "output_type": "display_data"
    },
    {
     "name": "stdout",
     "output_type": "stream",
     "text": [
      "Epoch 1/3, Train Loss: 0.4799, Train Acc: 88.51%, Val Loss: 0.1518, Val Acc: 95.38%\n",
      "Epoch 2/3, Train Loss: 0.2203, Train Acc: 93.79%, Val Loss: 0.1519, Val Acc: 95.32%\n",
      "Epoch 3/3, Train Loss: 0.1911, Train Acc: 94.79%, Val Loss: 0.1536, Val Acc: 95.60%\n",
      "Test Loss: 0.1482, Test Acc: 95.74%\n"
     ]
    },
    {
     "data": {
      "text/html": [
       "Waiting for W&B process to finish... <strong style=\"color:green\">(success).</strong>"
      ],
      "text/plain": [
       "<IPython.core.display.HTML object>"
      ]
     },
     "metadata": {},
     "output_type": "display_data"
    },
    {
     "data": {
      "application/vnd.jupyter.widget-view+json": {
       "model_id": "9239ae8757584d86847cd5bf6e8a3a76",
       "version_major": 2,
       "version_minor": 0
      },
      "text/plain": [
       "VBox(children=(Label(value='0.002 MB of 0.002 MB uploaded (0.000 MB deduped)\\r'), FloatProgress(value=1.0, max…"
      ]
     },
     "metadata": {},
     "output_type": "display_data"
    },
    {
     "data": {
      "text/html": [
       "<style>\n",
       "    table.wandb td:nth-child(1) { padding: 0 10px; text-align: left ; width: auto;} td:nth-child(2) {text-align: left ; width: 100%}\n",
       "    .wandb-row { display: flex; flex-direction: row; flex-wrap: wrap; justify-content: flex-start; width: 100% }\n",
       "    .wandb-col { display: flex; flex-direction: column; flex-basis: 100%; flex: 1; padding: 10px; }\n",
       "    </style>\n",
       "<div class=\"wandb-row\"><div class=\"wandb-col\"><h3>Run history:</h3><br/><table class=\"wandb\"><tr><td>Neurons</td><td>▁</td></tr><tr><td>Trainset Accuracy</td><td>▁</td></tr><tr><td>Trainset Loss</td><td>▁</td></tr><tr><td>Validation set Loss</td><td>▁</td></tr><tr><td>hidden_layers</td><td>▁</td></tr><tr><td>hidden_neurons_size</td><td>▁</td></tr><tr><td>test_accuracy</td><td>▁</td></tr><tr><td>val_accuracy</td><td>▁</td></tr></table><br/></div><div class=\"wandb-col\"><h3>Run summary:</h3><br/><table class=\"wandb\"><tr><td>Neurons</td><td>512</td></tr><tr><td>Trainset Accuracy</td><td>94.79074</td></tr><tr><td>Trainset Loss</td><td>0.19113</td></tr><tr><td>Validation set Loss</td><td>0.15355</td></tr><tr><td>hidden_layers</td><td>2</td></tr><tr><td>hidden_neurons_size</td><td>256</td></tr><tr><td>test_accuracy</td><td>95.74</td></tr><tr><td>val_accuracy</td><td>95.6</td></tr></table><br/></div></div>"
      ],
      "text/plain": [
       "<IPython.core.display.HTML object>"
      ]
     },
     "metadata": {},
     "output_type": "display_data"
    },
    {
     "data": {
      "text/html": [
       " View run <strong style=\"color:#cdcd00\">sandy-sweep-2</strong> at: <a href='https://wandb.ai/rohitgowlapalli01/MLP%20on%20Permuted-MNIST%20Dataset/runs/n5zjfcl1' target=\"_blank\">https://wandb.ai/rohitgowlapalli01/MLP%20on%20Permuted-MNIST%20Dataset/runs/n5zjfcl1</a><br/>Synced 5 W&B file(s), 0 media file(s), 0 artifact file(s) and 0 other file(s)"
      ],
      "text/plain": [
       "<IPython.core.display.HTML object>"
      ]
     },
     "metadata": {},
     "output_type": "display_data"
    },
    {
     "data": {
      "text/html": [
       "Find logs at: <code>./wandb/run-20231023_124906-n5zjfcl1/logs</code>"
      ],
      "text/plain": [
       "<IPython.core.display.HTML object>"
      ]
     },
     "metadata": {},
     "output_type": "display_data"
    },
    {
     "name": "stderr",
     "output_type": "stream",
     "text": [
      "\u001b[34m\u001b[1mwandb\u001b[0m: Agent Starting Run: xom6utg1 with config:\n",
      "\u001b[34m\u001b[1mwandb\u001b[0m: \thidden_layers: 2\n",
      "\u001b[34m\u001b[1mwandb\u001b[0m: \thidden_neurons_size: 512\n",
      "/usr/lib/python3/dist-packages/requests/__init__.py:89: RequestsDependencyWarning: urllib3 (2.0.5) or chardet (3.0.4) doesn't match a supported version!\n",
      "  warnings.warn(\"urllib3 ({}) or chardet ({}) doesn't match a supported \"\n",
      "\u001b[34m\u001b[1mwandb\u001b[0m: \u001b[33mWARNING\u001b[0m Ignored wandb.init() arg project when running a sweep.\n"
     ]
    },
    {
     "data": {
      "text/html": [
       "wandb version 0.15.12 is available!  To upgrade, please run:\n",
       " $ pip install wandb --upgrade"
      ],
      "text/plain": [
       "<IPython.core.display.HTML object>"
      ]
     },
     "metadata": {},
     "output_type": "display_data"
    },
    {
     "data": {
      "text/html": [
       "Tracking run with wandb version 0.15.11"
      ],
      "text/plain": [
       "<IPython.core.display.HTML object>"
      ]
     },
     "metadata": {},
     "output_type": "display_data"
    },
    {
     "data": {
      "text/html": [
       "Run data is saved locally in <code>/home/rohit172/IIIT-H/SEM-5/SMAI/Assignment-3/wandb/run-20231023_124932-xom6utg1</code>"
      ],
      "text/plain": [
       "<IPython.core.display.HTML object>"
      ]
     },
     "metadata": {},
     "output_type": "display_data"
    },
    {
     "data": {
      "text/html": [
       "Syncing run <strong><a href='https://wandb.ai/rohitgowlapalli01/MLP%20on%20Permuted-MNIST%20Dataset/runs/xom6utg1' target=\"_blank\">rich-sweep-3</a></strong> to <a href='https://wandb.ai/rohitgowlapalli01/MLP%20on%20Permuted-MNIST%20Dataset' target=\"_blank\">Weights & Biases</a> (<a href='https://wandb.me/run' target=\"_blank\">docs</a>)<br/>Sweep page: <a href='https://wandb.ai/rohitgowlapalli01/MLP%20on%20Permuted-MNIST%20Dataset/sweeps/itntkdo9' target=\"_blank\">https://wandb.ai/rohitgowlapalli01/MLP%20on%20Permuted-MNIST%20Dataset/sweeps/itntkdo9</a>"
      ],
      "text/plain": [
       "<IPython.core.display.HTML object>"
      ]
     },
     "metadata": {},
     "output_type": "display_data"
    },
    {
     "data": {
      "text/html": [
       " View project at <a href='https://wandb.ai/rohitgowlapalli01/MLP%20on%20Permuted-MNIST%20Dataset' target=\"_blank\">https://wandb.ai/rohitgowlapalli01/MLP%20on%20Permuted-MNIST%20Dataset</a>"
      ],
      "text/plain": [
       "<IPython.core.display.HTML object>"
      ]
     },
     "metadata": {},
     "output_type": "display_data"
    },
    {
     "data": {
      "text/html": [
       " View sweep at <a href='https://wandb.ai/rohitgowlapalli01/MLP%20on%20Permuted-MNIST%20Dataset/sweeps/itntkdo9' target=\"_blank\">https://wandb.ai/rohitgowlapalli01/MLP%20on%20Permuted-MNIST%20Dataset/sweeps/itntkdo9</a>"
      ],
      "text/plain": [
       "<IPython.core.display.HTML object>"
      ]
     },
     "metadata": {},
     "output_type": "display_data"
    },
    {
     "data": {
      "text/html": [
       " View run at <a href='https://wandb.ai/rohitgowlapalli01/MLP%20on%20Permuted-MNIST%20Dataset/runs/xom6utg1' target=\"_blank\">https://wandb.ai/rohitgowlapalli01/MLP%20on%20Permuted-MNIST%20Dataset/runs/xom6utg1</a>"
      ],
      "text/plain": [
       "<IPython.core.display.HTML object>"
      ]
     },
     "metadata": {},
     "output_type": "display_data"
    },
    {
     "name": "stdout",
     "output_type": "stream",
     "text": [
      "Epoch 1/3, Train Loss: 0.4685, Train Acc: 89.97%, Val Loss: 0.1720, Val Acc: 95.07%\n",
      "Epoch 2/3, Train Loss: 0.2149, Train Acc: 94.28%, Val Loss: 0.1466, Val Acc: 95.98%\n",
      "Epoch 3/3, Train Loss: 0.1931, Train Acc: 95.01%, Val Loss: 0.1720, Val Acc: 95.73%\n",
      "Test Loss: 0.1884, Test Acc: 95.16%\n"
     ]
    },
    {
     "data": {
      "text/html": [
       "Waiting for W&B process to finish... <strong style=\"color:green\">(success).</strong>"
      ],
      "text/plain": [
       "<IPython.core.display.HTML object>"
      ]
     },
     "metadata": {},
     "output_type": "display_data"
    },
    {
     "data": {
      "application/vnd.jupyter.widget-view+json": {
       "model_id": "74f0adad715c4d1baf232a39ade9bee5",
       "version_major": 2,
       "version_minor": 0
      },
      "text/plain": [
       "VBox(children=(Label(value='0.002 MB of 0.006 MB uploaded (0.000 MB deduped)\\r'), FloatProgress(value=0.295094…"
      ]
     },
     "metadata": {},
     "output_type": "display_data"
    },
    {
     "data": {
      "text/html": [
       "<style>\n",
       "    table.wandb td:nth-child(1) { padding: 0 10px; text-align: left ; width: auto;} td:nth-child(2) {text-align: left ; width: 100%}\n",
       "    .wandb-row { display: flex; flex-direction: row; flex-wrap: wrap; justify-content: flex-start; width: 100% }\n",
       "    .wandb-col { display: flex; flex-direction: column; flex-basis: 100%; flex: 1; padding: 10px; }\n",
       "    </style>\n",
       "<div class=\"wandb-row\"><div class=\"wandb-col\"><h3>Run history:</h3><br/><table class=\"wandb\"><tr><td>Neurons</td><td>▁</td></tr><tr><td>Trainset Accuracy</td><td>▁</td></tr><tr><td>Trainset Loss</td><td>▁</td></tr><tr><td>Validation set Loss</td><td>▁</td></tr><tr><td>hidden_layers</td><td>▁</td></tr><tr><td>hidden_neurons_size</td><td>▁</td></tr><tr><td>test_accuracy</td><td>▁</td></tr><tr><td>val_accuracy</td><td>▁</td></tr></table><br/></div><div class=\"wandb-col\"><h3>Run summary:</h3><br/><table class=\"wandb\"><tr><td>Neurons</td><td>1024</td></tr><tr><td>Trainset Accuracy</td><td>95.01111</td></tr><tr><td>Trainset Loss</td><td>0.1931</td></tr><tr><td>Validation set Loss</td><td>0.17205</td></tr><tr><td>hidden_layers</td><td>2</td></tr><tr><td>hidden_neurons_size</td><td>512</td></tr><tr><td>test_accuracy</td><td>95.16</td></tr><tr><td>val_accuracy</td><td>95.73333</td></tr></table><br/></div></div>"
      ],
      "text/plain": [
       "<IPython.core.display.HTML object>"
      ]
     },
     "metadata": {},
     "output_type": "display_data"
    },
    {
     "data": {
      "text/html": [
       " View run <strong style=\"color:#cdcd00\">rich-sweep-3</strong> at: <a href='https://wandb.ai/rohitgowlapalli01/MLP%20on%20Permuted-MNIST%20Dataset/runs/xom6utg1' target=\"_blank\">https://wandb.ai/rohitgowlapalli01/MLP%20on%20Permuted-MNIST%20Dataset/runs/xom6utg1</a><br/>Synced 5 W&B file(s), 0 media file(s), 0 artifact file(s) and 0 other file(s)"
      ],
      "text/plain": [
       "<IPython.core.display.HTML object>"
      ]
     },
     "metadata": {},
     "output_type": "display_data"
    },
    {
     "data": {
      "text/html": [
       "Find logs at: <code>./wandb/run-20231023_124932-xom6utg1/logs</code>"
      ],
      "text/plain": [
       "<IPython.core.display.HTML object>"
      ]
     },
     "metadata": {},
     "output_type": "display_data"
    },
    {
     "name": "stderr",
     "output_type": "stream",
     "text": [
      "\u001b[34m\u001b[1mwandb\u001b[0m: Agent Starting Run: ryh9xz8o with config:\n",
      "\u001b[34m\u001b[1mwandb\u001b[0m: \thidden_layers: 3\n",
      "\u001b[34m\u001b[1mwandb\u001b[0m: \thidden_neurons_size: 128\n",
      "/usr/lib/python3/dist-packages/requests/__init__.py:89: RequestsDependencyWarning: urllib3 (2.0.5) or chardet (3.0.4) doesn't match a supported version!\n",
      "  warnings.warn(\"urllib3 ({}) or chardet ({}) doesn't match a supported \"\n",
      "\u001b[34m\u001b[1mwandb\u001b[0m: \u001b[33mWARNING\u001b[0m Ignored wandb.init() arg project when running a sweep.\n"
     ]
    },
    {
     "data": {
      "application/vnd.jupyter.widget-view+json": {
       "model_id": "91902bff523648418651bc5c6b04dcfe",
       "version_major": 2,
       "version_minor": 0
      },
      "text/plain": [
       "VBox(children=(Label(value='Waiting for wandb.init()...\\r'), FloatProgress(value=0.01111702753333298, max=1.0)…"
      ]
     },
     "metadata": {},
     "output_type": "display_data"
    },
    {
     "data": {
      "text/html": [
       "wandb version 0.15.12 is available!  To upgrade, please run:\n",
       " $ pip install wandb --upgrade"
      ],
      "text/plain": [
       "<IPython.core.display.HTML object>"
      ]
     },
     "metadata": {},
     "output_type": "display_data"
    },
    {
     "data": {
      "text/html": [
       "Tracking run with wandb version 0.15.11"
      ],
      "text/plain": [
       "<IPython.core.display.HTML object>"
      ]
     },
     "metadata": {},
     "output_type": "display_data"
    },
    {
     "data": {
      "text/html": [
       "Run data is saved locally in <code>/home/rohit172/IIIT-H/SEM-5/SMAI/Assignment-3/wandb/run-20231023_125010-ryh9xz8o</code>"
      ],
      "text/plain": [
       "<IPython.core.display.HTML object>"
      ]
     },
     "metadata": {},
     "output_type": "display_data"
    },
    {
     "data": {
      "text/html": [
       "Syncing run <strong><a href='https://wandb.ai/rohitgowlapalli01/MLP%20on%20Permuted-MNIST%20Dataset/runs/ryh9xz8o' target=\"_blank\">ancient-sweep-4</a></strong> to <a href='https://wandb.ai/rohitgowlapalli01/MLP%20on%20Permuted-MNIST%20Dataset' target=\"_blank\">Weights & Biases</a> (<a href='https://wandb.me/run' target=\"_blank\">docs</a>)<br/>Sweep page: <a href='https://wandb.ai/rohitgowlapalli01/MLP%20on%20Permuted-MNIST%20Dataset/sweeps/itntkdo9' target=\"_blank\">https://wandb.ai/rohitgowlapalli01/MLP%20on%20Permuted-MNIST%20Dataset/sweeps/itntkdo9</a>"
      ],
      "text/plain": [
       "<IPython.core.display.HTML object>"
      ]
     },
     "metadata": {},
     "output_type": "display_data"
    },
    {
     "data": {
      "text/html": [
       " View project at <a href='https://wandb.ai/rohitgowlapalli01/MLP%20on%20Permuted-MNIST%20Dataset' target=\"_blank\">https://wandb.ai/rohitgowlapalli01/MLP%20on%20Permuted-MNIST%20Dataset</a>"
      ],
      "text/plain": [
       "<IPython.core.display.HTML object>"
      ]
     },
     "metadata": {},
     "output_type": "display_data"
    },
    {
     "data": {
      "text/html": [
       " View sweep at <a href='https://wandb.ai/rohitgowlapalli01/MLP%20on%20Permuted-MNIST%20Dataset/sweeps/itntkdo9' target=\"_blank\">https://wandb.ai/rohitgowlapalli01/MLP%20on%20Permuted-MNIST%20Dataset/sweeps/itntkdo9</a>"
      ],
      "text/plain": [
       "<IPython.core.display.HTML object>"
      ]
     },
     "metadata": {},
     "output_type": "display_data"
    },
    {
     "data": {
      "text/html": [
       " View run at <a href='https://wandb.ai/rohitgowlapalli01/MLP%20on%20Permuted-MNIST%20Dataset/runs/ryh9xz8o' target=\"_blank\">https://wandb.ai/rohitgowlapalli01/MLP%20on%20Permuted-MNIST%20Dataset/runs/ryh9xz8o</a>"
      ],
      "text/plain": [
       "<IPython.core.display.HTML object>"
      ]
     },
     "metadata": {},
     "output_type": "display_data"
    },
    {
     "name": "stdout",
     "output_type": "stream",
     "text": [
      "Epoch 1/3, Train Loss: 0.3942, Train Acc: 88.95%, Val Loss: 0.1598, Val Acc: 95.03%\n",
      "Epoch 2/3, Train Loss: 0.1867, Train Acc: 94.86%, Val Loss: 0.1555, Val Acc: 95.50%\n",
      "Epoch 3/3, Train Loss: 0.1438, Train Acc: 96.01%, Val Loss: 0.1242, Val Acc: 96.33%\n",
      "Test Loss: 0.1113, Test Acc: 96.55%\n"
     ]
    },
    {
     "data": {
      "text/html": [
       "Waiting for W&B process to finish... <strong style=\"color:green\">(success).</strong>"
      ],
      "text/plain": [
       "<IPython.core.display.HTML object>"
      ]
     },
     "metadata": {},
     "output_type": "display_data"
    },
    {
     "data": {
      "text/html": [
       "<style>\n",
       "    table.wandb td:nth-child(1) { padding: 0 10px; text-align: left ; width: auto;} td:nth-child(2) {text-align: left ; width: 100%}\n",
       "    .wandb-row { display: flex; flex-direction: row; flex-wrap: wrap; justify-content: flex-start; width: 100% }\n",
       "    .wandb-col { display: flex; flex-direction: column; flex-basis: 100%; flex: 1; padding: 10px; }\n",
       "    </style>\n",
       "<div class=\"wandb-row\"><div class=\"wandb-col\"><h3>Run history:</h3><br/><table class=\"wandb\"><tr><td>Neurons</td><td>▁</td></tr><tr><td>Trainset Accuracy</td><td>▁</td></tr><tr><td>Trainset Loss</td><td>▁</td></tr><tr><td>Validation set Loss</td><td>▁</td></tr><tr><td>hidden_layers</td><td>▁</td></tr><tr><td>hidden_neurons_size</td><td>▁</td></tr><tr><td>test_accuracy</td><td>▁</td></tr><tr><td>val_accuracy</td><td>▁</td></tr></table><br/></div><div class=\"wandb-col\"><h3>Run summary:</h3><br/><table class=\"wandb\"><tr><td>Neurons</td><td>384</td></tr><tr><td>Trainset Accuracy</td><td>96.01481</td></tr><tr><td>Trainset Loss</td><td>0.14384</td></tr><tr><td>Validation set Loss</td><td>0.12422</td></tr><tr><td>hidden_layers</td><td>3</td></tr><tr><td>hidden_neurons_size</td><td>128</td></tr><tr><td>test_accuracy</td><td>96.55</td></tr><tr><td>val_accuracy</td><td>96.33333</td></tr></table><br/></div></div>"
      ],
      "text/plain": [
       "<IPython.core.display.HTML object>"
      ]
     },
     "metadata": {},
     "output_type": "display_data"
    },
    {
     "data": {
      "text/html": [
       " View run <strong style=\"color:#cdcd00\">ancient-sweep-4</strong> at: <a href='https://wandb.ai/rohitgowlapalli01/MLP%20on%20Permuted-MNIST%20Dataset/runs/ryh9xz8o' target=\"_blank\">https://wandb.ai/rohitgowlapalli01/MLP%20on%20Permuted-MNIST%20Dataset/runs/ryh9xz8o</a><br/>Synced 5 W&B file(s), 0 media file(s), 0 artifact file(s) and 0 other file(s)"
      ],
      "text/plain": [
       "<IPython.core.display.HTML object>"
      ]
     },
     "metadata": {},
     "output_type": "display_data"
    },
    {
     "data": {
      "text/html": [
       "Find logs at: <code>./wandb/run-20231023_125010-ryh9xz8o/logs</code>"
      ],
      "text/plain": [
       "<IPython.core.display.HTML object>"
      ]
     },
     "metadata": {},
     "output_type": "display_data"
    },
    {
     "name": "stderr",
     "output_type": "stream",
     "text": [
      "\u001b[34m\u001b[1mwandb\u001b[0m: Sweep Agent: Waiting for job.\n",
      "\u001b[34m\u001b[1mwandb\u001b[0m: Job received.\n",
      "\u001b[34m\u001b[1mwandb\u001b[0m: Agent Starting Run: 097zpjmj with config:\n",
      "\u001b[34m\u001b[1mwandb\u001b[0m: \thidden_layers: 3\n",
      "\u001b[34m\u001b[1mwandb\u001b[0m: \thidden_neurons_size: 256\n",
      "/usr/lib/python3/dist-packages/requests/__init__.py:89: RequestsDependencyWarning: urllib3 (2.0.5) or chardet (3.0.4) doesn't match a supported version!\n",
      "  warnings.warn(\"urllib3 ({}) or chardet ({}) doesn't match a supported \"\n",
      "\u001b[34m\u001b[1mwandb\u001b[0m: \u001b[33mWARNING\u001b[0m Ignored wandb.init() arg project when running a sweep.\n"
     ]
    },
    {
     "data": {
      "text/html": [
       "wandb version 0.15.12 is available!  To upgrade, please run:\n",
       " $ pip install wandb --upgrade"
      ],
      "text/plain": [
       "<IPython.core.display.HTML object>"
      ]
     },
     "metadata": {},
     "output_type": "display_data"
    },
    {
     "data": {
      "text/html": [
       "Tracking run with wandb version 0.15.11"
      ],
      "text/plain": [
       "<IPython.core.display.HTML object>"
      ]
     },
     "metadata": {},
     "output_type": "display_data"
    },
    {
     "data": {
      "text/html": [
       "Run data is saved locally in <code>/home/rohit172/IIIT-H/SEM-5/SMAI/Assignment-3/wandb/run-20231023_125041-097zpjmj</code>"
      ],
      "text/plain": [
       "<IPython.core.display.HTML object>"
      ]
     },
     "metadata": {},
     "output_type": "display_data"
    },
    {
     "data": {
      "text/html": [
       "Syncing run <strong><a href='https://wandb.ai/rohitgowlapalli01/MLP%20on%20Permuted-MNIST%20Dataset/runs/097zpjmj' target=\"_blank\">classic-sweep-5</a></strong> to <a href='https://wandb.ai/rohitgowlapalli01/MLP%20on%20Permuted-MNIST%20Dataset' target=\"_blank\">Weights & Biases</a> (<a href='https://wandb.me/run' target=\"_blank\">docs</a>)<br/>Sweep page: <a href='https://wandb.ai/rohitgowlapalli01/MLP%20on%20Permuted-MNIST%20Dataset/sweeps/itntkdo9' target=\"_blank\">https://wandb.ai/rohitgowlapalli01/MLP%20on%20Permuted-MNIST%20Dataset/sweeps/itntkdo9</a>"
      ],
      "text/plain": [
       "<IPython.core.display.HTML object>"
      ]
     },
     "metadata": {},
     "output_type": "display_data"
    },
    {
     "data": {
      "text/html": [
       " View project at <a href='https://wandb.ai/rohitgowlapalli01/MLP%20on%20Permuted-MNIST%20Dataset' target=\"_blank\">https://wandb.ai/rohitgowlapalli01/MLP%20on%20Permuted-MNIST%20Dataset</a>"
      ],
      "text/plain": [
       "<IPython.core.display.HTML object>"
      ]
     },
     "metadata": {},
     "output_type": "display_data"
    },
    {
     "data": {
      "text/html": [
       " View sweep at <a href='https://wandb.ai/rohitgowlapalli01/MLP%20on%20Permuted-MNIST%20Dataset/sweeps/itntkdo9' target=\"_blank\">https://wandb.ai/rohitgowlapalli01/MLP%20on%20Permuted-MNIST%20Dataset/sweeps/itntkdo9</a>"
      ],
      "text/plain": [
       "<IPython.core.display.HTML object>"
      ]
     },
     "metadata": {},
     "output_type": "display_data"
    },
    {
     "data": {
      "text/html": [
       " View run at <a href='https://wandb.ai/rohitgowlapalli01/MLP%20on%20Permuted-MNIST%20Dataset/runs/097zpjmj' target=\"_blank\">https://wandb.ai/rohitgowlapalli01/MLP%20on%20Permuted-MNIST%20Dataset/runs/097zpjmj</a>"
      ],
      "text/plain": [
       "<IPython.core.display.HTML object>"
      ]
     },
     "metadata": {},
     "output_type": "display_data"
    },
    {
     "name": "stdout",
     "output_type": "stream",
     "text": [
      "Epoch 1/3, Train Loss: 0.3292, Train Acc: 90.66%, Val Loss: 0.1688, Val Acc: 95.00%\n",
      "Epoch 2/3, Train Loss: 0.1680, Train Acc: 95.43%, Val Loss: 0.1345, Val Acc: 96.20%\n",
      "Epoch 3/3, Train Loss: 0.1380, Train Acc: 96.21%, Val Loss: 0.1374, Val Acc: 96.30%\n",
      "Test Loss: 0.1351, Test Acc: 96.25%\n"
     ]
    },
    {
     "data": {
      "text/html": [
       "Waiting for W&B process to finish... <strong style=\"color:green\">(success).</strong>"
      ],
      "text/plain": [
       "<IPython.core.display.HTML object>"
      ]
     },
     "metadata": {},
     "output_type": "display_data"
    },
    {
     "data": {
      "application/vnd.jupyter.widget-view+json": {
       "model_id": "4e687d49ab6748eaa7412bdac78125cc",
       "version_major": 2,
       "version_minor": 0
      },
      "text/plain": [
       "VBox(children=(Label(value='0.002 MB of 0.002 MB uploaded (0.000 MB deduped)\\r'), FloatProgress(value=1.0, max…"
      ]
     },
     "metadata": {},
     "output_type": "display_data"
    },
    {
     "data": {
      "text/html": [
       "<style>\n",
       "    table.wandb td:nth-child(1) { padding: 0 10px; text-align: left ; width: auto;} td:nth-child(2) {text-align: left ; width: 100%}\n",
       "    .wandb-row { display: flex; flex-direction: row; flex-wrap: wrap; justify-content: flex-start; width: 100% }\n",
       "    .wandb-col { display: flex; flex-direction: column; flex-basis: 100%; flex: 1; padding: 10px; }\n",
       "    </style>\n",
       "<div class=\"wandb-row\"><div class=\"wandb-col\"><h3>Run history:</h3><br/><table class=\"wandb\"><tr><td>Neurons</td><td>▁</td></tr><tr><td>Trainset Accuracy</td><td>▁</td></tr><tr><td>Trainset Loss</td><td>▁</td></tr><tr><td>Validation set Loss</td><td>▁</td></tr><tr><td>hidden_layers</td><td>▁</td></tr><tr><td>hidden_neurons_size</td><td>▁</td></tr><tr><td>test_accuracy</td><td>▁</td></tr><tr><td>val_accuracy</td><td>▁</td></tr></table><br/></div><div class=\"wandb-col\"><h3>Run summary:</h3><br/><table class=\"wandb\"><tr><td>Neurons</td><td>768</td></tr><tr><td>Trainset Accuracy</td><td>96.20926</td></tr><tr><td>Trainset Loss</td><td>0.13805</td></tr><tr><td>Validation set Loss</td><td>0.13745</td></tr><tr><td>hidden_layers</td><td>3</td></tr><tr><td>hidden_neurons_size</td><td>256</td></tr><tr><td>test_accuracy</td><td>96.25</td></tr><tr><td>val_accuracy</td><td>96.3</td></tr></table><br/></div></div>"
      ],
      "text/plain": [
       "<IPython.core.display.HTML object>"
      ]
     },
     "metadata": {},
     "output_type": "display_data"
    },
    {
     "data": {
      "text/html": [
       " View run <strong style=\"color:#cdcd00\">classic-sweep-5</strong> at: <a href='https://wandb.ai/rohitgowlapalli01/MLP%20on%20Permuted-MNIST%20Dataset/runs/097zpjmj' target=\"_blank\">https://wandb.ai/rohitgowlapalli01/MLP%20on%20Permuted-MNIST%20Dataset/runs/097zpjmj</a><br/>Synced 5 W&B file(s), 0 media file(s), 0 artifact file(s) and 0 other file(s)"
      ],
      "text/plain": [
       "<IPython.core.display.HTML object>"
      ]
     },
     "metadata": {},
     "output_type": "display_data"
    },
    {
     "data": {
      "text/html": [
       "Find logs at: <code>./wandb/run-20231023_125041-097zpjmj/logs</code>"
      ],
      "text/plain": [
       "<IPython.core.display.HTML object>"
      ]
     },
     "metadata": {},
     "output_type": "display_data"
    },
    {
     "name": "stderr",
     "output_type": "stream",
     "text": [
      "\u001b[34m\u001b[1mwandb\u001b[0m: Agent Starting Run: cnasj851 with config:\n",
      "\u001b[34m\u001b[1mwandb\u001b[0m: \thidden_layers: 3\n",
      "\u001b[34m\u001b[1mwandb\u001b[0m: \thidden_neurons_size: 512\n",
      "/usr/lib/python3/dist-packages/requests/__init__.py:89: RequestsDependencyWarning: urllib3 (2.0.5) or chardet (3.0.4) doesn't match a supported version!\n",
      "  warnings.warn(\"urllib3 ({}) or chardet ({}) doesn't match a supported \"\n",
      "\u001b[34m\u001b[1mwandb\u001b[0m: \u001b[33mWARNING\u001b[0m Ignored wandb.init() arg project when running a sweep.\n"
     ]
    },
    {
     "data": {
      "application/vnd.jupyter.widget-view+json": {
       "model_id": "eaa36fc9a4f94fa0b6e3579c9e494577",
       "version_major": 2,
       "version_minor": 0
      },
      "text/plain": [
       "VBox(children=(Label(value='Waiting for wandb.init()...\\r'), FloatProgress(value=0.01111347986666639, max=1.0)…"
      ]
     },
     "metadata": {},
     "output_type": "display_data"
    },
    {
     "data": {
      "text/html": [
       "wandb version 0.15.12 is available!  To upgrade, please run:\n",
       " $ pip install wandb --upgrade"
      ],
      "text/plain": [
       "<IPython.core.display.HTML object>"
      ]
     },
     "metadata": {},
     "output_type": "display_data"
    },
    {
     "data": {
      "text/html": [
       "Tracking run with wandb version 0.15.11"
      ],
      "text/plain": [
       "<IPython.core.display.HTML object>"
      ]
     },
     "metadata": {},
     "output_type": "display_data"
    },
    {
     "data": {
      "text/html": [
       "Run data is saved locally in <code>/home/rohit172/IIIT-H/SEM-5/SMAI/Assignment-3/wandb/run-20231023_125109-cnasj851</code>"
      ],
      "text/plain": [
       "<IPython.core.display.HTML object>"
      ]
     },
     "metadata": {},
     "output_type": "display_data"
    },
    {
     "data": {
      "text/html": [
       "Syncing run <strong><a href='https://wandb.ai/rohitgowlapalli01/MLP%20on%20Permuted-MNIST%20Dataset/runs/cnasj851' target=\"_blank\">mild-sweep-6</a></strong> to <a href='https://wandb.ai/rohitgowlapalli01/MLP%20on%20Permuted-MNIST%20Dataset' target=\"_blank\">Weights & Biases</a> (<a href='https://wandb.me/run' target=\"_blank\">docs</a>)<br/>Sweep page: <a href='https://wandb.ai/rohitgowlapalli01/MLP%20on%20Permuted-MNIST%20Dataset/sweeps/itntkdo9' target=\"_blank\">https://wandb.ai/rohitgowlapalli01/MLP%20on%20Permuted-MNIST%20Dataset/sweeps/itntkdo9</a>"
      ],
      "text/plain": [
       "<IPython.core.display.HTML object>"
      ]
     },
     "metadata": {},
     "output_type": "display_data"
    },
    {
     "data": {
      "text/html": [
       " View project at <a href='https://wandb.ai/rohitgowlapalli01/MLP%20on%20Permuted-MNIST%20Dataset' target=\"_blank\">https://wandb.ai/rohitgowlapalli01/MLP%20on%20Permuted-MNIST%20Dataset</a>"
      ],
      "text/plain": [
       "<IPython.core.display.HTML object>"
      ]
     },
     "metadata": {},
     "output_type": "display_data"
    },
    {
     "data": {
      "text/html": [
       " View sweep at <a href='https://wandb.ai/rohitgowlapalli01/MLP%20on%20Permuted-MNIST%20Dataset/sweeps/itntkdo9' target=\"_blank\">https://wandb.ai/rohitgowlapalli01/MLP%20on%20Permuted-MNIST%20Dataset/sweeps/itntkdo9</a>"
      ],
      "text/plain": [
       "<IPython.core.display.HTML object>"
      ]
     },
     "metadata": {},
     "output_type": "display_data"
    },
    {
     "data": {
      "text/html": [
       " View run at <a href='https://wandb.ai/rohitgowlapalli01/MLP%20on%20Permuted-MNIST%20Dataset/runs/cnasj851' target=\"_blank\">https://wandb.ai/rohitgowlapalli01/MLP%20on%20Permuted-MNIST%20Dataset/runs/cnasj851</a>"
      ],
      "text/plain": [
       "<IPython.core.display.HTML object>"
      ]
     },
     "metadata": {},
     "output_type": "display_data"
    },
    {
     "name": "stdout",
     "output_type": "stream",
     "text": [
      "Epoch 1/3, Train Loss: 0.3141, Train Acc: 91.53%, Val Loss: 0.1918, Val Acc: 95.00%\n",
      "Epoch 2/3, Train Loss: 0.1713, Train Acc: 95.33%, Val Loss: 0.1252, Val Acc: 96.55%\n",
      "Epoch 3/3, Train Loss: 0.1475, Train Acc: 96.24%, Val Loss: 0.1406, Val Acc: 96.48%\n",
      "Test Loss: 0.1465, Test Acc: 96.61%\n"
     ]
    },
    {
     "data": {
      "text/html": [
       "Waiting for W&B process to finish... <strong style=\"color:green\">(success).</strong>"
      ],
      "text/plain": [
       "<IPython.core.display.HTML object>"
      ]
     },
     "metadata": {},
     "output_type": "display_data"
    },
    {
     "data": {
      "text/html": [
       "<style>\n",
       "    table.wandb td:nth-child(1) { padding: 0 10px; text-align: left ; width: auto;} td:nth-child(2) {text-align: left ; width: 100%}\n",
       "    .wandb-row { display: flex; flex-direction: row; flex-wrap: wrap; justify-content: flex-start; width: 100% }\n",
       "    .wandb-col { display: flex; flex-direction: column; flex-basis: 100%; flex: 1; padding: 10px; }\n",
       "    </style>\n",
       "<div class=\"wandb-row\"><div class=\"wandb-col\"><h3>Run history:</h3><br/><table class=\"wandb\"><tr><td>Neurons</td><td>▁</td></tr><tr><td>Trainset Accuracy</td><td>▁</td></tr><tr><td>Trainset Loss</td><td>▁</td></tr><tr><td>Validation set Loss</td><td>▁</td></tr><tr><td>hidden_layers</td><td>▁</td></tr><tr><td>hidden_neurons_size</td><td>▁</td></tr><tr><td>test_accuracy</td><td>▁</td></tr><tr><td>val_accuracy</td><td>▁</td></tr></table><br/></div><div class=\"wandb-col\"><h3>Run summary:</h3><br/><table class=\"wandb\"><tr><td>Neurons</td><td>1536</td></tr><tr><td>Trainset Accuracy</td><td>96.23519</td></tr><tr><td>Trainset Loss</td><td>0.14749</td></tr><tr><td>Validation set Loss</td><td>0.1406</td></tr><tr><td>hidden_layers</td><td>3</td></tr><tr><td>hidden_neurons_size</td><td>512</td></tr><tr><td>test_accuracy</td><td>96.61</td></tr><tr><td>val_accuracy</td><td>96.48333</td></tr></table><br/></div></div>"
      ],
      "text/plain": [
       "<IPython.core.display.HTML object>"
      ]
     },
     "metadata": {},
     "output_type": "display_data"
    },
    {
     "data": {
      "text/html": [
       " View run <strong style=\"color:#cdcd00\">mild-sweep-6</strong> at: <a href='https://wandb.ai/rohitgowlapalli01/MLP%20on%20Permuted-MNIST%20Dataset/runs/cnasj851' target=\"_blank\">https://wandb.ai/rohitgowlapalli01/MLP%20on%20Permuted-MNIST%20Dataset/runs/cnasj851</a><br/>Synced 5 W&B file(s), 0 media file(s), 0 artifact file(s) and 0 other file(s)"
      ],
      "text/plain": [
       "<IPython.core.display.HTML object>"
      ]
     },
     "metadata": {},
     "output_type": "display_data"
    },
    {
     "data": {
      "text/html": [
       "Find logs at: <code>./wandb/run-20231023_125109-cnasj851/logs</code>"
      ],
      "text/plain": [
       "<IPython.core.display.HTML object>"
      ]
     },
     "metadata": {},
     "output_type": "display_data"
    },
    {
     "name": "stderr",
     "output_type": "stream",
     "text": [
      "\u001b[34m\u001b[1mwandb\u001b[0m: Sweep Agent: Waiting for job.\n",
      "\u001b[34m\u001b[1mwandb\u001b[0m: Sweep Agent: Exiting.\n"
     ]
    },
    {
     "name": "stdout",
     "output_type": "stream",
     "text": [
      "Error in callback <function _WandbInit._pause_backend at 0x7f21a2efc790> (for post_run_cell):\n"
     ]
    },
    {
     "ename": "BrokenPipeError",
     "evalue": "[Errno 32] Broken pipe",
     "output_type": "error",
     "traceback": [
      "\u001b[0;31m---------------------------------------------------------------------------\u001b[0m",
      "\u001b[0;31mBrokenPipeError\u001b[0m                           Traceback (most recent call last)",
      "File \u001b[0;32m~/.local/lib/python3.8/site-packages/backcall/backcall.py:104\u001b[0m, in \u001b[0;36mcallback_prototype.<locals>.adapt.<locals>.adapted\u001b[0;34m(*args, **kwargs)\u001b[0m\n\u001b[1;32m    102\u001b[0m                 kwargs\u001b[39m.\u001b[39mpop(name)\n\u001b[1;32m    103\u001b[0m \u001b[39m#            print(args, kwargs, unmatched_pos, cut_positional, unmatched_kw)\u001b[39;00m\n\u001b[0;32m--> 104\u001b[0m             \u001b[39mreturn\u001b[39;00m callback(\u001b[39m*\u001b[39;49margs, \u001b[39m*\u001b[39;49m\u001b[39m*\u001b[39;49mkwargs)\n",
      "File \u001b[0;32m~/.local/lib/python3.8/site-packages/wandb/sdk/wandb_init.py:439\u001b[0m, in \u001b[0;36m_WandbInit._pause_backend\u001b[0;34m(self)\u001b[0m\n\u001b[1;32m    437\u001b[0m \u001b[39mif\u001b[39;00m \u001b[39mself\u001b[39m\u001b[39m.\u001b[39mbackend\u001b[39m.\u001b[39minterface \u001b[39mis\u001b[39;00m \u001b[39mnot\u001b[39;00m \u001b[39mNone\u001b[39;00m:\n\u001b[1;32m    438\u001b[0m     logger\u001b[39m.\u001b[39minfo(\u001b[39m\"\u001b[39m\u001b[39mpausing backend\u001b[39m\u001b[39m\"\u001b[39m)  \u001b[39m# type: ignore\u001b[39;00m\n\u001b[0;32m--> 439\u001b[0m     \u001b[39mself\u001b[39;49m\u001b[39m.\u001b[39;49mbackend\u001b[39m.\u001b[39;49minterface\u001b[39m.\u001b[39;49mpublish_pause()\n",
      "File \u001b[0;32m~/.local/lib/python3.8/site-packages/wandb/sdk/interface/interface.py:626\u001b[0m, in \u001b[0;36mInterfaceBase.publish_pause\u001b[0;34m(self)\u001b[0m\n\u001b[1;32m    624\u001b[0m \u001b[39mdef\u001b[39;00m \u001b[39mpublish_pause\u001b[39m(\u001b[39mself\u001b[39m) \u001b[39m-\u001b[39m\u001b[39m>\u001b[39m \u001b[39mNone\u001b[39;00m:\n\u001b[1;32m    625\u001b[0m     pause \u001b[39m=\u001b[39m pb\u001b[39m.\u001b[39mPauseRequest()\n\u001b[0;32m--> 626\u001b[0m     \u001b[39mself\u001b[39;49m\u001b[39m.\u001b[39;49m_publish_pause(pause)\n",
      "File \u001b[0;32m~/.local/lib/python3.8/site-packages/wandb/sdk/interface/interface_shared.py:343\u001b[0m, in \u001b[0;36mInterfaceShared._publish_pause\u001b[0;34m(self, pause)\u001b[0m\n\u001b[1;32m    341\u001b[0m \u001b[39mdef\u001b[39;00m \u001b[39m_publish_pause\u001b[39m(\u001b[39mself\u001b[39m, pause: pb\u001b[39m.\u001b[39mPauseRequest) \u001b[39m-\u001b[39m\u001b[39m>\u001b[39m \u001b[39mNone\u001b[39;00m:\n\u001b[1;32m    342\u001b[0m     rec \u001b[39m=\u001b[39m \u001b[39mself\u001b[39m\u001b[39m.\u001b[39m_make_request(pause\u001b[39m=\u001b[39mpause)\n\u001b[0;32m--> 343\u001b[0m     \u001b[39mself\u001b[39;49m\u001b[39m.\u001b[39;49m_publish(rec)\n",
      "File \u001b[0;32m~/.local/lib/python3.8/site-packages/wandb/sdk/interface/interface_sock.py:51\u001b[0m, in \u001b[0;36mInterfaceSock._publish\u001b[0;34m(self, record, local)\u001b[0m\n\u001b[1;32m     49\u001b[0m \u001b[39mdef\u001b[39;00m \u001b[39m_publish\u001b[39m(\u001b[39mself\u001b[39m, record: \u001b[39m\"\u001b[39m\u001b[39mpb.Record\u001b[39m\u001b[39m\"\u001b[39m, local: Optional[\u001b[39mbool\u001b[39m] \u001b[39m=\u001b[39m \u001b[39mNone\u001b[39;00m) \u001b[39m-\u001b[39m\u001b[39m>\u001b[39m \u001b[39mNone\u001b[39;00m:\n\u001b[1;32m     50\u001b[0m     \u001b[39mself\u001b[39m\u001b[39m.\u001b[39m_assign(record)\n\u001b[0;32m---> 51\u001b[0m     \u001b[39mself\u001b[39;49m\u001b[39m.\u001b[39;49m_sock_client\u001b[39m.\u001b[39;49msend_record_publish(record)\n",
      "File \u001b[0;32m~/.local/lib/python3.8/site-packages/wandb/sdk/lib/sock_client.py:221\u001b[0m, in \u001b[0;36mSockClient.send_record_publish\u001b[0;34m(self, record)\u001b[0m\n\u001b[1;32m    219\u001b[0m server_req \u001b[39m=\u001b[39m spb\u001b[39m.\u001b[39mServerRequest()\n\u001b[1;32m    220\u001b[0m server_req\u001b[39m.\u001b[39mrecord_publish\u001b[39m.\u001b[39mCopyFrom(record)\n\u001b[0;32m--> 221\u001b[0m \u001b[39mself\u001b[39;49m\u001b[39m.\u001b[39;49msend_server_request(server_req)\n",
      "File \u001b[0;32m~/.local/lib/python3.8/site-packages/wandb/sdk/lib/sock_client.py:155\u001b[0m, in \u001b[0;36mSockClient.send_server_request\u001b[0;34m(self, msg)\u001b[0m\n\u001b[1;32m    154\u001b[0m \u001b[39mdef\u001b[39;00m \u001b[39msend_server_request\u001b[39m(\u001b[39mself\u001b[39m, msg: Any) \u001b[39m-\u001b[39m\u001b[39m>\u001b[39m \u001b[39mNone\u001b[39;00m:\n\u001b[0;32m--> 155\u001b[0m     \u001b[39mself\u001b[39;49m\u001b[39m.\u001b[39;49m_send_message(msg)\n",
      "File \u001b[0;32m~/.local/lib/python3.8/site-packages/wandb/sdk/lib/sock_client.py:152\u001b[0m, in \u001b[0;36mSockClient._send_message\u001b[0;34m(self, msg)\u001b[0m\n\u001b[1;32m    150\u001b[0m header \u001b[39m=\u001b[39m struct\u001b[39m.\u001b[39mpack(\u001b[39m\"\u001b[39m\u001b[39m<BI\u001b[39m\u001b[39m\"\u001b[39m, \u001b[39mord\u001b[39m(\u001b[39m\"\u001b[39m\u001b[39mW\u001b[39m\u001b[39m\"\u001b[39m), raw_size)\n\u001b[1;32m    151\u001b[0m \u001b[39mwith\u001b[39;00m \u001b[39mself\u001b[39m\u001b[39m.\u001b[39m_lock:\n\u001b[0;32m--> 152\u001b[0m     \u001b[39mself\u001b[39;49m\u001b[39m.\u001b[39;49m_sendall_with_error_handle(header \u001b[39m+\u001b[39;49m data)\n",
      "File \u001b[0;32m~/.local/lib/python3.8/site-packages/wandb/sdk/lib/sock_client.py:130\u001b[0m, in \u001b[0;36mSockClient._sendall_with_error_handle\u001b[0;34m(self, data)\u001b[0m\n\u001b[1;32m    128\u001b[0m start_time \u001b[39m=\u001b[39m time\u001b[39m.\u001b[39mmonotonic()\n\u001b[1;32m    129\u001b[0m \u001b[39mtry\u001b[39;00m:\n\u001b[0;32m--> 130\u001b[0m     sent \u001b[39m=\u001b[39m \u001b[39mself\u001b[39;49m\u001b[39m.\u001b[39;49m_sock\u001b[39m.\u001b[39;49msend(data)\n\u001b[1;32m    131\u001b[0m     \u001b[39m# sent equal to 0 indicates a closed socket\u001b[39;00m\n\u001b[1;32m    132\u001b[0m     \u001b[39mif\u001b[39;00m sent \u001b[39m==\u001b[39m \u001b[39m0\u001b[39m:\n",
      "\u001b[0;31mBrokenPipeError\u001b[0m: [Errno 32] Broken pipe"
     ]
    }
   ],
   "source": [
    "import wandb\n",
    "wandb.init(project=\"MLP on Permuted-MNIST Dataset\")\n",
    "sweep_config = {\n",
    "    \"method\": \"grid\",\n",
    "    \"name\": \"MLP on Permuted-MNIST Dataset\",\n",
    "    \"metric\": {\"goal\": \"maximize\", \"name\": \"test_accuracy\"},\n",
    "    \"parameters\": {\n",
    "        \"hidden_layers\": {\"values\": [2,3]},\n",
    "        \"hidden_neurons_size\": {\"values\": [128,256,512]},\n",
    "    },\n",
    "}\n",
    "criterion = nn.CrossEntropyLoss()\n",
    "sweep_id = wandb.sweep(sweep_config, project=\"MLP on Permuted-MNIST Dataset\")\n",
    "def train():\n",
    "    wandb.init(project=\"MLP on Permuted-MNIST Dataset\")\n",
    "    config = wandb.config\n",
    "    hidden_layers = config.hidden_layers\n",
    "    hidden_neurons_size = config.hidden_neurons_size\n",
    "    hidden_neurons  = [hidden_neurons_size for _ in range(hidden_layers)]\n",
    "    model = PermutedMNIST_MLP(input_size=784,num_classes=10,hidden_layers=hidden_layers,hidden_neurons=hidden_neurons)\n",
    "    criterion = nn.CrossEntropyLoss()\n",
    "    optimizer = optim.Adam(model.parameters(), lr=0.001)\n",
    "    train_losses, val_losses, train_acc, val_acc = train_model(model=model, train_loader=train_loader, val_loader=val_loader, criterion=criterion, optimizer=optimizer, num_epochs=3)\n",
    "    test_accuracy = test_model(model=model,test_loader=test_loader,criterion=criterion)\n",
    "    wandb.log({\"Trainset Loss\":train_losses[-1],\"Trainset Accuracy\":train_acc[-1],\"Validation set Loss\":val_losses[-1],\"val_accuracy\":val_acc[-1],\"test_accuracy\":test_accuracy,\"hidden_layers\":hidden_layers,\"Neurons\":hidden_layers*hidden_neurons_size,\"hidden_neurons_size\":hidden_neurons_size})\n",
    "\n",
    "# Run the sweep\n",
    "wandb.agent(sweep_id, function=train)\n",
    "wandb.finish()"
   ]
  },
  {
   "cell_type": "markdown",
   "metadata": {},
   "source": [
    "# CNN On Permuted MNIST"
   ]
  },
  {
   "cell_type": "code",
   "execution_count": 2,
   "metadata": {},
   "outputs": [],
   "source": [
    "import numpy as np\n",
    "import torch\n",
    "from torch.utils.data import DataLoader, TensorDataset, random_split\n",
    "from sklearn.model_selection import train_test_split\n",
    "import torchvision.transforms as transforms\n",
    "data = np.load(\"permuted_mnist.npz\")\n",
    "permuted_x_train = data[\"train_images\"]\n",
    "y_train = data[\"train_labels\"]\n",
    "permuted_x_test = data[\"test_images\"]\n",
    "y_test = data[\"test_labels\"]\n",
    "x_train, x_val, y_train, y_val = train_test_split(permuted_x_train, y_train, test_size=0.1, random_state=42)\n",
    "transform = transforms.Compose([transforms.ToTensor(), transforms.Normalize((0.5,), (0.5,))])\n",
    "# Convert NumPy arrays to PyTorch tensors\n",
    "x_train = torch.from_numpy(x_train).float()\n",
    "y_train = torch.from_numpy(y_train).long()\n",
    "x_val = torch.from_numpy(x_val).float()\n",
    "y_val = torch.from_numpy(y_val).long()\n",
    "permuted_x_test = torch.from_numpy(permuted_x_test).float()\n",
    "y_test = torch.from_numpy(y_test).long()\n",
    "batch_size = 64\n",
    "train_loader = DataLoader(TensorDataset(x_train, y_train), batch_size=batch_size, shuffle=True)\n",
    "val_loader = DataLoader(TensorDataset(x_val, y_val), batch_size=batch_size, shuffle=False)\n",
    "test_loader = DataLoader(TensorDataset(permuted_x_test, y_test), batch_size=batch_size, shuffle=False)\n"
   ]
  },
  {
   "cell_type": "code",
   "execution_count": 3,
   "metadata": {},
   "outputs": [],
   "source": [
    "import torch\n",
    "import torch.nn as nn\n",
    "import torch.optim as optim\n",
    "import matplotlib.pyplot as plt\n",
    "from sklearn.metrics import confusion_matrix , classification_report\n",
    "\n",
    "class CNN(nn.Module):\n",
    "    def __init__(self, dropout_size=0.25, strides=2, kernel_size=3,pool_size = 2):\n",
    "        super(CNN, self).__init__()\n",
    "        self.conv1 = nn.Conv2d(1, 32, kernel_size=kernel_size,padding=int((kernel_size-1)/2))\n",
    "        self.relu1 = nn.ReLU()\n",
    "        self.maxpool1 = nn.MaxPool2d(kernel_size=pool_size,stride=strides)\n",
    "        self.conv2 = nn.Conv2d(32, 64, kernel_size=kernel_size,padding=int((kernel_size-1)/2))\n",
    "        self.relu2 = nn.ReLU()\n",
    "        self.maxpool2 = nn.MaxPool2d(kernel_size=pool_size, stride=strides)\n",
    "        self.var1 = int((28-pool_size)/strides)+1\n",
    "        self.dim = int((self.var1-pool_size)/strides)+1\n",
    "        self.fc1 = nn.Linear(64 * self.dim * self.dim, 128)\n",
    "        self.relu3 = nn.ReLU()\n",
    "        self.dropout = nn.Dropout(p=dropout_size)\n",
    "        self.fc2 = nn.Linear(128, 10)\n",
    "\n",
    "\n",
    "    def forward(self, x):\n",
    "        x = self.maxpool1(self.relu1(self.conv1(x)))\n",
    "        x = self.maxpool2(self.relu2(self.conv2(x)))\n",
    "        x = x.view(-1,64*self.dim*self.dim)\n",
    "        x = self.relu3(self.fc1(x))\n",
    "        x = self.dropout(x)\n",
    "        x = self.fc2(x)\n",
    "        return x"
   ]
  },
  {
   "cell_type": "code",
   "execution_count": 4,
   "metadata": {},
   "outputs": [],
   "source": [
    "def train_model(model, train_loader, val_loader, criterion, optimizer, num_epochs=1):\n",
    "    train_losses, val_losses = [], []\n",
    "    train_acc, val_acc = [] , []\n",
    "\n",
    "    for epoch in range(num_epochs):\n",
    "        model.train()\n",
    "        running_loss = 0.0\n",
    "        correct_train = 0\n",
    "        total_train = 0\n",
    "\n",
    "        for inputs, labels in train_loader:\n",
    "            optimizer.zero_grad()\n",
    "            outputs = model(inputs.unsqueeze(1))\n",
    "            loss = criterion(outputs, labels)\n",
    "            loss.backward()\n",
    "            optimizer.step()\n",
    "\n",
    "            running_loss += loss.item()\n",
    "            _, predicted = torch.max(outputs.data, 1)\n",
    "            total_train += labels.size(0)\n",
    "            correct_train += (predicted == labels).sum().item()\n",
    "\n",
    "        train_accuracy = 100 * correct_train / total_train\n",
    "        train_losses.append(running_loss / len(train_loader))\n",
    "        train_acc.append(train_accuracy)\n",
    "\n",
    "        model.eval()\n",
    "        val_loss = 0.0\n",
    "        correct_val = 0\n",
    "        total_val = 0\n",
    "        with torch.no_grad():\n",
    "            for inputs, labels in val_loader:\n",
    "                outputs = model(inputs.unsqueeze(1))\n",
    "                loss = criterion(outputs, labels)\n",
    "                val_loss += loss.item()\n",
    "                _, predicted = torch.max(outputs.data, 1)\n",
    "                total_val += labels.size(0)\n",
    "                correct_val += (predicted == labels).sum().item()\n",
    "\n",
    "            val_accuracy = 100 * correct_val / total_val\n",
    "            val_losses.append(val_loss / len(val_loader))\n",
    "            val_acc.append(val_accuracy)\n",
    "\n",
    "        print(f'Epoch {epoch + 1}/{num_epochs}, Train Loss: {train_losses[-1]:.4f}, Train Acc: {train_accuracy:.2f}%, '\n",
    "              f'Val Loss: {val_losses[-1]:.4f}, Val Acc: {val_accuracy:.2f}%')\n",
    "\n",
    "    return train_losses, val_losses, train_acc, val_acc \n",
    "\n",
    "\n",
    "def test_model(model, test_loader, criterion):\n",
    "    model.eval()\n",
    "    test_loss = 0.0\n",
    "    correct_test = 0\n",
    "    total_test = 0\n",
    "    with torch.no_grad():\n",
    "        for inputs, labels in test_loader:\n",
    "            outputs = model(inputs.unsqueeze(1))\n",
    "            loss = criterion(outputs, labels)\n",
    "            test_loss += loss.item()\n",
    "            _, predicted = torch.max(outputs.data, 1)\n",
    "            total_test += labels.size(0)\n",
    "            correct_test += (predicted == labels).sum().item()\n",
    "        test_accuracy = 100 * correct_test / total_test\n",
    "        test_loss = (test_loss / len(test_loader))\n",
    "\n",
    "    print(f'Test Loss: {test_loss:.4f}, Test Acc: {test_accuracy:.2f}%')\n",
    "    return test_accuracy"
   ]
  },
  {
   "cell_type": "code",
   "execution_count": 69,
   "metadata": {},
   "outputs": [
    {
     "name": "stdout",
     "output_type": "stream",
     "text": [
      "Epoch 1/5, Train Loss: 0.5713, Train Acc: 85.54%, Val Loss: 0.2277, Val Acc: 92.63%\n",
      "Epoch 2/5, Train Loss: 0.2320, Train Acc: 92.82%, Val Loss: 0.1914, Val Acc: 94.08%\n",
      "Epoch 3/5, Train Loss: 0.1858, Train Acc: 94.20%, Val Loss: 0.1637, Val Acc: 94.98%\n",
      "Epoch 4/5, Train Loss: 0.1575, Train Acc: 94.96%, Val Loss: 0.1865, Val Acc: 94.33%\n",
      "Epoch 5/5, Train Loss: 0.1429, Train Acc: 95.39%, Val Loss: 0.1510, Val Acc: 95.72%\n",
      "Test Loss: 0.1547, Test Acc: 95.37%\n"
     ]
    }
   ],
   "source": [
    "model = CNN(dropout_size=0.25, strides=2, kernel_size=3)\n",
    "criterion = nn.CrossEntropyLoss()\n",
    "optimizer = optim.Adam(model.parameters(), lr=0.001)\n",
    "train_losses, val_losses, train_acc, val_acc  = train_model(model=model, train_loader=train_loader, val_loader=val_loader, criterion=criterion, optimizer=optimizer, num_epochs=5)\n",
    "plt.figure(figsize=(12, 4))\n",
    "plt.subplot(1, 2, 1)\n",
    "plt.plot(train_losses, label='Train Loss')\n",
    "plt.plot(val_losses, label='Val Loss')\n",
    "plt.xlabel('Epoch')\n",
    "plt.ylabel('Loss')\n",
    "plt.legend()\n",
    "\n",
    "plt.subplot(1, 2, 2)\n",
    "plt.plot(train_acc, label='Train Acc')\n",
    "plt.plot(val_acc, label='Val Acc')\n",
    "plt.xlabel('Epoch')\n",
    "plt.ylabel('Accuracy (%)')\n",
    "plt.legend()\n",
    "\n",
    "plt.show()\n",
    "test_model(model=model,test_loader=test_loader,criterion=criterion)"
   ]
  },
  {
   "cell_type": "markdown",
   "metadata": {},
   "source": [
    "#### Report on Hyper-parameter tuning of CNN on Permuted MNIST Dataset - [Report](https://api.wandb.ai/links/rohitgowlapalli01/yzpzysra)"
   ]
  },
  {
   "cell_type": "code",
   "execution_count": 5,
   "metadata": {},
   "outputs": [
    {
     "name": "stderr",
     "output_type": "stream",
     "text": [
      "Failed to detect the name of this notebook, you can set it manually with the WANDB_NOTEBOOK_NAME environment variable to enable code saving.\n",
      "/usr/lib/python3/dist-packages/requests/__init__.py:89: RequestsDependencyWarning: urllib3 (2.0.5) or chardet (3.0.4) doesn't match a supported version!\n",
      "  warnings.warn(\"urllib3 ({}) or chardet ({}) doesn't match a supported \"\n",
      "\u001b[34m\u001b[1mwandb\u001b[0m: Currently logged in as: \u001b[33mrohitgowlapalli01\u001b[0m. Use \u001b[1m`wandb login --relogin`\u001b[0m to force relogin\n"
     ]
    },
    {
     "data": {
      "text/html": [
       "wandb version 0.15.12 is available!  To upgrade, please run:\n",
       " $ pip install wandb --upgrade"
      ],
      "text/plain": [
       "<IPython.core.display.HTML object>"
      ]
     },
     "metadata": {},
     "output_type": "display_data"
    },
    {
     "data": {
      "text/html": [
       "Tracking run with wandb version 0.15.11"
      ],
      "text/plain": [
       "<IPython.core.display.HTML object>"
      ]
     },
     "metadata": {},
     "output_type": "display_data"
    },
    {
     "data": {
      "text/html": [
       "Run data is saved locally in <code>/home/rohit172/IIIT-H/SEM-5/SMAI/Assignment-3/wandb/run-20231023_131744-yvnvodge</code>"
      ],
      "text/plain": [
       "<IPython.core.display.HTML object>"
      ]
     },
     "metadata": {},
     "output_type": "display_data"
    },
    {
     "data": {
      "text/html": [
       "Syncing run <strong><a href='https://wandb.ai/rohitgowlapalli01/CNN%20on%20Permuted-MNIST%20Dataset/runs/yvnvodge' target=\"_blank\">celestial-aardvark-10</a></strong> to <a href='https://wandb.ai/rohitgowlapalli01/CNN%20on%20Permuted-MNIST%20Dataset' target=\"_blank\">Weights & Biases</a> (<a href='https://wandb.me/run' target=\"_blank\">docs</a>)<br/>"
      ],
      "text/plain": [
       "<IPython.core.display.HTML object>"
      ]
     },
     "metadata": {},
     "output_type": "display_data"
    },
    {
     "data": {
      "text/html": [
       " View project at <a href='https://wandb.ai/rohitgowlapalli01/CNN%20on%20Permuted-MNIST%20Dataset' target=\"_blank\">https://wandb.ai/rohitgowlapalli01/CNN%20on%20Permuted-MNIST%20Dataset</a>"
      ],
      "text/plain": [
       "<IPython.core.display.HTML object>"
      ]
     },
     "metadata": {},
     "output_type": "display_data"
    },
    {
     "data": {
      "text/html": [
       " View run at <a href='https://wandb.ai/rohitgowlapalli01/CNN%20on%20Permuted-MNIST%20Dataset/runs/yvnvodge' target=\"_blank\">https://wandb.ai/rohitgowlapalli01/CNN%20on%20Permuted-MNIST%20Dataset/runs/yvnvodge</a>"
      ],
      "text/plain": [
       "<IPython.core.display.HTML object>"
      ]
     },
     "metadata": {},
     "output_type": "display_data"
    },
    {
     "name": "stderr",
     "output_type": "stream",
     "text": [
      "\u001b[34m\u001b[1mwandb\u001b[0m: \u001b[33mWARNING\u001b[0m Calling wandb.login() after wandb.init() has no effect.\n"
     ]
    },
    {
     "name": "stdout",
     "output_type": "stream",
     "text": [
      "Create sweep with ID: c2arw9m2\n",
      "Sweep URL: https://wandb.ai/rohitgowlapalli01/CNN%20on%20Permuted-MNIST%20Dataset/sweeps/c2arw9m2\n",
      "<IPython.core.display.HTML object>\n"
     ]
    },
    {
     "name": "stderr",
     "output_type": "stream",
     "text": [
      "wandb: WARNING Source type is set to 'repo' but some required information is missing from the environment. A job will not be created from this run. See https://docs.wandb.ai/guides/launch/create-job\n"
     ]
    },
    {
     "name": "stdout",
     "output_type": "stream",
     "text": [
      "<IPython.core.display.HTML object>\n",
      "<IPython.core.display.HTML object>\n"
     ]
    },
    {
     "name": "stderr",
     "output_type": "stream",
     "text": [
      "\u001b[34m\u001b[1mwandb\u001b[0m: Agent Starting Run: wx73ej5y with config:\n",
      "\u001b[34m\u001b[1mwandb\u001b[0m: \tdropout_rate: 0.5\n",
      "\u001b[34m\u001b[1mwandb\u001b[0m: \tkernel_size: 3\n",
      "\u001b[34m\u001b[1mwandb\u001b[0m: \tlearning_rate: 0.001\n",
      "/usr/lib/python3/dist-packages/requests/__init__.py:89: RequestsDependencyWarning: urllib3 (2.0.5) or chardet (3.0.4) doesn't match a supported version!\n",
      "  warnings.warn(\"urllib3 ({}) or chardet ({}) doesn't match a supported \"\n",
      "\u001b[34m\u001b[1mwandb\u001b[0m: \u001b[33mWARNING\u001b[0m Ignored wandb.init() arg project when running a sweep.\n"
     ]
    },
    {
     "data": {
      "text/html": [
       "wandb version 0.15.12 is available!  To upgrade, please run:\n",
       " $ pip install wandb --upgrade"
      ],
      "text/plain": [
       "<IPython.core.display.HTML object>"
      ]
     },
     "metadata": {},
     "output_type": "display_data"
    },
    {
     "data": {
      "text/html": [
       "Tracking run with wandb version 0.15.11"
      ],
      "text/plain": [
       "<IPython.core.display.HTML object>"
      ]
     },
     "metadata": {},
     "output_type": "display_data"
    },
    {
     "data": {
      "text/html": [
       "Run data is saved locally in <code>/home/rohit172/IIIT-H/SEM-5/SMAI/Assignment-3/wandb/run-20231023_131756-wx73ej5y</code>"
      ],
      "text/plain": [
       "<IPython.core.display.HTML object>"
      ]
     },
     "metadata": {},
     "output_type": "display_data"
    },
    {
     "data": {
      "text/html": [
       "Syncing run <strong><a href='https://wandb.ai/rohitgowlapalli01/CNN%20on%20Permuted-MNIST%20Dataset/runs/wx73ej5y' target=\"_blank\">scarlet-sweep-1</a></strong> to <a href='https://wandb.ai/rohitgowlapalli01/CNN%20on%20Permuted-MNIST%20Dataset' target=\"_blank\">Weights & Biases</a> (<a href='https://wandb.me/run' target=\"_blank\">docs</a>)<br/>Sweep page: <a href='https://wandb.ai/rohitgowlapalli01/CNN%20on%20Permuted-MNIST%20Dataset/sweeps/c2arw9m2' target=\"_blank\">https://wandb.ai/rohitgowlapalli01/CNN%20on%20Permuted-MNIST%20Dataset/sweeps/c2arw9m2</a>"
      ],
      "text/plain": [
       "<IPython.core.display.HTML object>"
      ]
     },
     "metadata": {},
     "output_type": "display_data"
    },
    {
     "data": {
      "text/html": [
       " View project at <a href='https://wandb.ai/rohitgowlapalli01/CNN%20on%20Permuted-MNIST%20Dataset' target=\"_blank\">https://wandb.ai/rohitgowlapalli01/CNN%20on%20Permuted-MNIST%20Dataset</a>"
      ],
      "text/plain": [
       "<IPython.core.display.HTML object>"
      ]
     },
     "metadata": {},
     "output_type": "display_data"
    },
    {
     "data": {
      "text/html": [
       " View sweep at <a href='https://wandb.ai/rohitgowlapalli01/CNN%20on%20Permuted-MNIST%20Dataset/sweeps/c2arw9m2' target=\"_blank\">https://wandb.ai/rohitgowlapalli01/CNN%20on%20Permuted-MNIST%20Dataset/sweeps/c2arw9m2</a>"
      ],
      "text/plain": [
       "<IPython.core.display.HTML object>"
      ]
     },
     "metadata": {},
     "output_type": "display_data"
    },
    {
     "data": {
      "text/html": [
       " View run at <a href='https://wandb.ai/rohitgowlapalli01/CNN%20on%20Permuted-MNIST%20Dataset/runs/wx73ej5y' target=\"_blank\">https://wandb.ai/rohitgowlapalli01/CNN%20on%20Permuted-MNIST%20Dataset/runs/wx73ej5y</a>"
      ],
      "text/plain": [
       "<IPython.core.display.HTML object>"
      ]
     },
     "metadata": {},
     "output_type": "display_data"
    },
    {
     "name": "stdout",
     "output_type": "stream",
     "text": [
      "0.001 0.5 3\n"
     ]
    },
    {
     "name": "stderr",
     "output_type": "stream",
     "text": [
      "Exception in thread ChkStopThrException in thread Exception in thread :\n",
      "IntMsgThrNetStatThrTraceback (most recent call last):\n",
      ":\n",
      ":\n",
      "  File \"/usr/lib/python3.8/threading.py\", line 932, in _bootstrap_inner\n",
      "    Traceback (most recent call last):\n",
      "  File \"/usr/lib/python3.8/threading.py\", line 932, in _bootstrap_inner\n",
      "    self.run()Traceback (most recent call last):\n",
      "self.run()\n",
      "  File \"/usr/lib/python3.8/threading.py\", line 932, in _bootstrap_inner\n",
      "  File \"/usr/lib/python3.8/threading.py\", line 870, in run\n",
      "    \n",
      "  File \"/usr/lib/python3.8/threading.py\", line 870, in run\n",
      "    self._target(*self._args, **self._kwargs)\n",
      "self.run()\n",
      "  File \"/usr/lib/python3.8/threading.py\", line 870, in run\n",
      "    self._target(*self._args, **self._kwargs)\n",
      "  File \"/home/rohit172/.local/lib/python3.8/site-packages/wandb/sdk/wandb_run.py\", line 299, in check_internal_messages\n",
      "    self._loop_check_status(\n",
      "  File \"/home/rohit172/.local/lib/python3.8/site-packages/wandb/sdk/wandb_run.py\", line 223, in _loop_check_status\n",
      "    local_handle = request()\n",
      "  File \"/home/rohit172/.local/lib/python3.8/site-packages/wandb/sdk/interface/interface.py\", line 743, in deliver_internal_messages\n",
      "    return self._deliver_internal_messages(internal_message)  File \"/home/rohit172/.local/lib/python3.8/site-packages/wandb/sdk/wandb_run.py\", line 267, in check_network_status\n",
      "\n",
      "      File \"/home/rohit172/.local/lib/python3.8/site-packages/wandb/sdk/interface/interface_shared.py\", line 472, in _deliver_internal_messages\n",
      "        self._loop_check_status(return self._deliver_record(record)\n",
      "\n",
      "self._target(*self._args, **self._kwargs)  File \"/home/rohit172/.local/lib/python3.8/site-packages/wandb/sdk/interface/interface_shared.py\", line 425, in _deliver_record\n",
      "  File \"/home/rohit172/.local/lib/python3.8/site-packages/wandb/sdk/wandb_run.py\", line 223, in _loop_check_status\n",
      "\n",
      "      File \"/home/rohit172/.local/lib/python3.8/site-packages/wandb/sdk/wandb_run.py\", line 285, in check_stop_status\n",
      "    handle = mailbox._deliver_record(record, interface=self)local_handle = request()\n",
      "    \n",
      "  File \"/home/rohit172/.local/lib/python3.8/site-packages/wandb/sdk/lib/mailbox.py\", line 455, in _deliver_record\n",
      "self._loop_check_status(\n",
      "  File \"/home/rohit172/.local/lib/python3.8/site-packages/wandb/sdk/interface/interface.py\", line 735, in deliver_network_status\n",
      "  File \"/home/rohit172/.local/lib/python3.8/site-packages/wandb/sdk/wandb_run.py\", line 223, in _loop_check_status\n",
      "            interface._publish(record)return self._deliver_network_status(status)local_handle = request()\n",
      "\n",
      "  File \"/home/rohit172/.local/lib/python3.8/site-packages/wandb/sdk/interface/interface_shared.py\", line 466, in _deliver_network_status\n",
      "\n",
      "  File \"/home/rohit172/.local/lib/python3.8/site-packages/wandb/sdk/interface/interface_sock.py\", line 51, in _publish\n",
      "  File \"/home/rohit172/.local/lib/python3.8/site-packages/wandb/sdk/interface/interface.py\", line 727, in deliver_stop_status\n",
      "        self._sock_client.send_record_publish(record)    return self._deliver_stop_status(status)\n",
      "\n",
      "return self._deliver_record(record)  File \"/home/rohit172/.local/lib/python3.8/site-packages/wandb/sdk/lib/sock_client.py\", line 221, in send_record_publish\n",
      "  File \"/home/rohit172/.local/lib/python3.8/site-packages/wandb/sdk/interface/interface_shared.py\", line 450, in _deliver_stop_status\n",
      "\n",
      "      File \"/home/rohit172/.local/lib/python3.8/site-packages/wandb/sdk/interface/interface_shared.py\", line 425, in _deliver_record\n",
      "self.send_server_request(server_req)    \n",
      "    return self._deliver_record(record)  File \"/home/rohit172/.local/lib/python3.8/site-packages/wandb/sdk/lib/sock_client.py\", line 155, in send_server_request\n",
      "    \n",
      "  File \"/home/rohit172/.local/lib/python3.8/site-packages/wandb/sdk/interface/interface_shared.py\", line 425, in _deliver_record\n",
      "    handle = mailbox._deliver_record(record, interface=self)self._send_message(msg)\n",
      "\n",
      "handle = mailbox._deliver_record(record, interface=self)\n",
      "  File \"/home/rohit172/.local/lib/python3.8/site-packages/wandb/sdk/lib/mailbox.py\", line 455, in _deliver_record\n",
      "  File \"/home/rohit172/.local/lib/python3.8/site-packages/wandb/sdk/lib/mailbox.py\", line 455, in _deliver_record\n",
      "  File \"/home/rohit172/.local/lib/python3.8/site-packages/wandb/sdk/lib/sock_client.py\", line 152, in _send_message\n",
      "        interface._publish(record)interface._publish(record)    \n",
      "  File \"/home/rohit172/.local/lib/python3.8/site-packages/wandb/sdk/interface/interface_sock.py\", line 51, in _publish\n",
      "    self._sock_client.send_record_publish(record)\n",
      "  File \"/home/rohit172/.local/lib/python3.8/site-packages/wandb/sdk/lib/sock_client.py\", line 221, in send_record_publish\n",
      "    self.send_server_request(server_req)\n",
      "  File \"/home/rohit172/.local/lib/python3.8/site-packages/wandb/sdk/lib/sock_client.py\", line 155, in send_server_request\n",
      "    self._send_message(msg)\n",
      "  File \"/home/rohit172/.local/lib/python3.8/site-packages/wandb/sdk/lib/sock_client.py\", line 152, in _send_message\n",
      "    self._sendall_with_error_handle(header + data)\n",
      "  File \"/home/rohit172/.local/lib/python3.8/site-packages/wandb/sdk/lib/sock_client.py\", line 130, in _sendall_with_error_handle\n",
      "    sent = self._sock.send(data)\n",
      "BrokenPipeError: [Errno 32] Broken pipe\n",
      "self._sendall_with_error_handle(header + data)\n",
      "\n",
      "  File \"/home/rohit172/.local/lib/python3.8/site-packages/wandb/sdk/interface/interface_sock.py\", line 51, in _publish\n",
      "  File \"/home/rohit172/.local/lib/python3.8/site-packages/wandb/sdk/lib/sock_client.py\", line 130, in _sendall_with_error_handle\n",
      "        sent = self._sock.send(data)\n",
      "BrokenPipeError: [Errno 32] Broken pipe\n",
      "self._sock_client.send_record_publish(record)\n",
      "  File \"/home/rohit172/.local/lib/python3.8/site-packages/wandb/sdk/lib/sock_client.py\", line 221, in send_record_publish\n",
      "    self.send_server_request(server_req)\n",
      "  File \"/home/rohit172/.local/lib/python3.8/site-packages/wandb/sdk/lib/sock_client.py\", line 155, in send_server_request\n",
      "    self._send_message(msg)\n",
      "  File \"/home/rohit172/.local/lib/python3.8/site-packages/wandb/sdk/lib/sock_client.py\", line 152, in _send_message\n",
      "    self._sendall_with_error_handle(header + data)\n",
      "  File \"/home/rohit172/.local/lib/python3.8/site-packages/wandb/sdk/lib/sock_client.py\", line 130, in _sendall_with_error_handle\n",
      "    sent = self._sock.send(data)\n",
      "BrokenPipeError: [Errno 32] Broken pipe\n"
     ]
    },
    {
     "name": "stdout",
     "output_type": "stream",
     "text": [
      "Epoch 1/4, Train Loss: 0.8326, Train Acc: 81.30%, Val Loss: 0.2464, Val Acc: 92.40%\n",
      "Epoch 2/4, Train Loss: 0.3222, Train Acc: 89.99%, Val Loss: 0.2162, Val Acc: 93.20%\n",
      "Epoch 3/4, Train Loss: 0.2703, Train Acc: 91.59%, Val Loss: 0.1888, Val Acc: 93.92%\n",
      "Epoch 4/4, Train Loss: 0.2394, Train Acc: 92.54%, Val Loss: 0.1878, Val Acc: 94.48%\n",
      "Test Loss: 0.1859, Test Acc: 94.13%\n"
     ]
    },
    {
     "data": {
      "text/html": [
       "Waiting for W&B process to finish... <strong style=\"color:green\">(success).</strong>"
      ],
      "text/plain": [
       "<IPython.core.display.HTML object>"
      ]
     },
     "metadata": {},
     "output_type": "display_data"
    },
    {
     "data": {
      "text/html": [
       "<style>\n",
       "    table.wandb td:nth-child(1) { padding: 0 10px; text-align: left ; width: auto;} td:nth-child(2) {text-align: left ; width: 100%}\n",
       "    .wandb-row { display: flex; flex-direction: row; flex-wrap: wrap; justify-content: flex-start; width: 100% }\n",
       "    .wandb-col { display: flex; flex-direction: column; flex-basis: 100%; flex: 1; padding: 10px; }\n",
       "    </style>\n",
       "<div class=\"wandb-row\"><div class=\"wandb-col\"><h3>Run history:</h3><br/><table class=\"wandb\"><tr><td>Trainset Accuracy</td><td>▁</td></tr><tr><td>Trainset Loss</td><td>▁</td></tr><tr><td>Validation set Loss</td><td>▁</td></tr><tr><td>dropout_rate</td><td>▁</td></tr><tr><td>kernel_size</td><td>▁</td></tr><tr><td>learning_rate</td><td>▁</td></tr><tr><td>test_accuracy</td><td>▁</td></tr><tr><td>val_accuracy</td><td>▁</td></tr></table><br/></div><div class=\"wandb-col\"><h3>Run summary:</h3><br/><table class=\"wandb\"><tr><td>Trainset Accuracy</td><td>92.53889</td></tr><tr><td>Trainset Loss</td><td>0.23941</td></tr><tr><td>Validation set Loss</td><td>0.18782</td></tr><tr><td>dropout_rate</td><td>0.5</td></tr><tr><td>kernel_size</td><td>3</td></tr><tr><td>learning_rate</td><td>0.001</td></tr><tr><td>test_accuracy</td><td>94.13</td></tr><tr><td>val_accuracy</td><td>94.48333</td></tr></table><br/></div></div>"
      ],
      "text/plain": [
       "<IPython.core.display.HTML object>"
      ]
     },
     "metadata": {},
     "output_type": "display_data"
    },
    {
     "data": {
      "text/html": [
       " View run <strong style=\"color:#cdcd00\">scarlet-sweep-1</strong> at: <a href='https://wandb.ai/rohitgowlapalli01/CNN%20on%20Permuted-MNIST%20Dataset/runs/wx73ej5y' target=\"_blank\">https://wandb.ai/rohitgowlapalli01/CNN%20on%20Permuted-MNIST%20Dataset/runs/wx73ej5y</a><br/>Synced 5 W&B file(s), 0 media file(s), 0 artifact file(s) and 0 other file(s)"
      ],
      "text/plain": [
       "<IPython.core.display.HTML object>"
      ]
     },
     "metadata": {},
     "output_type": "display_data"
    },
    {
     "data": {
      "text/html": [
       "Find logs at: <code>./wandb/run-20231023_131756-wx73ej5y/logs</code>"
      ],
      "text/plain": [
       "<IPython.core.display.HTML object>"
      ]
     },
     "metadata": {},
     "output_type": "display_data"
    },
    {
     "name": "stderr",
     "output_type": "stream",
     "text": [
      "\u001b[34m\u001b[1mwandb\u001b[0m: Agent Starting Run: wusvxtd4 with config:\n",
      "\u001b[34m\u001b[1mwandb\u001b[0m: \tdropout_rate: 0.5\n",
      "\u001b[34m\u001b[1mwandb\u001b[0m: \tkernel_size: 3\n",
      "\u001b[34m\u001b[1mwandb\u001b[0m: \tlearning_rate: 0.01\n",
      "/usr/lib/python3/dist-packages/requests/__init__.py:89: RequestsDependencyWarning: urllib3 (2.0.5) or chardet (3.0.4) doesn't match a supported version!\n",
      "  warnings.warn(\"urllib3 ({}) or chardet ({}) doesn't match a supported \"\n",
      "\u001b[34m\u001b[1mwandb\u001b[0m: \u001b[33mWARNING\u001b[0m Ignored wandb.init() arg project when running a sweep.\n"
     ]
    },
    {
     "data": {
      "text/html": [
       "wandb version 0.15.12 is available!  To upgrade, please run:\n",
       " $ pip install wandb --upgrade"
      ],
      "text/plain": [
       "<IPython.core.display.HTML object>"
      ]
     },
     "metadata": {},
     "output_type": "display_data"
    },
    {
     "data": {
      "text/html": [
       "Tracking run with wandb version 0.15.11"
      ],
      "text/plain": [
       "<IPython.core.display.HTML object>"
      ]
     },
     "metadata": {},
     "output_type": "display_data"
    },
    {
     "data": {
      "text/html": [
       "Run data is saved locally in <code>/home/rohit172/IIIT-H/SEM-5/SMAI/Assignment-3/wandb/run-20231023_132053-wusvxtd4</code>"
      ],
      "text/plain": [
       "<IPython.core.display.HTML object>"
      ]
     },
     "metadata": {},
     "output_type": "display_data"
    },
    {
     "data": {
      "text/html": [
       "Syncing run <strong><a href='https://wandb.ai/rohitgowlapalli01/CNN%20on%20Permuted-MNIST%20Dataset/runs/wusvxtd4' target=\"_blank\">giddy-sweep-2</a></strong> to <a href='https://wandb.ai/rohitgowlapalli01/CNN%20on%20Permuted-MNIST%20Dataset' target=\"_blank\">Weights & Biases</a> (<a href='https://wandb.me/run' target=\"_blank\">docs</a>)<br/>Sweep page: <a href='https://wandb.ai/rohitgowlapalli01/CNN%20on%20Permuted-MNIST%20Dataset/sweeps/c2arw9m2' target=\"_blank\">https://wandb.ai/rohitgowlapalli01/CNN%20on%20Permuted-MNIST%20Dataset/sweeps/c2arw9m2</a>"
      ],
      "text/plain": [
       "<IPython.core.display.HTML object>"
      ]
     },
     "metadata": {},
     "output_type": "display_data"
    },
    {
     "data": {
      "text/html": [
       " View project at <a href='https://wandb.ai/rohitgowlapalli01/CNN%20on%20Permuted-MNIST%20Dataset' target=\"_blank\">https://wandb.ai/rohitgowlapalli01/CNN%20on%20Permuted-MNIST%20Dataset</a>"
      ],
      "text/plain": [
       "<IPython.core.display.HTML object>"
      ]
     },
     "metadata": {},
     "output_type": "display_data"
    },
    {
     "data": {
      "text/html": [
       " View sweep at <a href='https://wandb.ai/rohitgowlapalli01/CNN%20on%20Permuted-MNIST%20Dataset/sweeps/c2arw9m2' target=\"_blank\">https://wandb.ai/rohitgowlapalli01/CNN%20on%20Permuted-MNIST%20Dataset/sweeps/c2arw9m2</a>"
      ],
      "text/plain": [
       "<IPython.core.display.HTML object>"
      ]
     },
     "metadata": {},
     "output_type": "display_data"
    },
    {
     "data": {
      "text/html": [
       " View run at <a href='https://wandb.ai/rohitgowlapalli01/CNN%20on%20Permuted-MNIST%20Dataset/runs/wusvxtd4' target=\"_blank\">https://wandb.ai/rohitgowlapalli01/CNN%20on%20Permuted-MNIST%20Dataset/runs/wusvxtd4</a>"
      ],
      "text/plain": [
       "<IPython.core.display.HTML object>"
      ]
     },
     "metadata": {},
     "output_type": "display_data"
    },
    {
     "name": "stdout",
     "output_type": "stream",
     "text": [
      "0.01 0.5 3\n",
      "Epoch 1/4, Train Loss: 1.9613, Train Acc: 58.20%, Val Loss: 0.8248, Val Acc: 74.62%\n",
      "Epoch 2/4, Train Loss: 1.0390, Train Acc: 67.52%, Val Loss: 0.7719, Val Acc: 76.12%\n",
      "Epoch 3/4, Train Loss: 0.9860, Train Acc: 69.49%, Val Loss: 0.7755, Val Acc: 77.53%\n",
      "Epoch 4/4, Train Loss: 0.9649, Train Acc: 70.26%, Val Loss: 0.6629, Val Acc: 79.92%\n",
      "Test Loss: 0.6307, Test Acc: 81.00%\n"
     ]
    },
    {
     "data": {
      "text/html": [
       "Waiting for W&B process to finish... <strong style=\"color:green\">(success).</strong>"
      ],
      "text/plain": [
       "<IPython.core.display.HTML object>"
      ]
     },
     "metadata": {},
     "output_type": "display_data"
    },
    {
     "data": {
      "application/vnd.jupyter.widget-view+json": {
       "model_id": "4f86ea2c778248e0b3d1ba1de14f388d",
       "version_major": 2,
       "version_minor": 0
      },
      "text/plain": [
       "VBox(children=(Label(value='0.002 MB of 0.002 MB uploaded (0.000 MB deduped)\\r'), FloatProgress(value=1.0, max…"
      ]
     },
     "metadata": {},
     "output_type": "display_data"
    },
    {
     "data": {
      "text/html": [
       "<style>\n",
       "    table.wandb td:nth-child(1) { padding: 0 10px; text-align: left ; width: auto;} td:nth-child(2) {text-align: left ; width: 100%}\n",
       "    .wandb-row { display: flex; flex-direction: row; flex-wrap: wrap; justify-content: flex-start; width: 100% }\n",
       "    .wandb-col { display: flex; flex-direction: column; flex-basis: 100%; flex: 1; padding: 10px; }\n",
       "    </style>\n",
       "<div class=\"wandb-row\"><div class=\"wandb-col\"><h3>Run history:</h3><br/><table class=\"wandb\"><tr><td>Trainset Accuracy</td><td>▁</td></tr><tr><td>Trainset Loss</td><td>▁</td></tr><tr><td>Validation set Loss</td><td>▁</td></tr><tr><td>dropout_rate</td><td>▁</td></tr><tr><td>kernel_size</td><td>▁</td></tr><tr><td>learning_rate</td><td>▁</td></tr><tr><td>test_accuracy</td><td>▁</td></tr><tr><td>val_accuracy</td><td>▁</td></tr></table><br/></div><div class=\"wandb-col\"><h3>Run summary:</h3><br/><table class=\"wandb\"><tr><td>Trainset Accuracy</td><td>70.25741</td></tr><tr><td>Trainset Loss</td><td>0.96487</td></tr><tr><td>Validation set Loss</td><td>0.66291</td></tr><tr><td>dropout_rate</td><td>0.5</td></tr><tr><td>kernel_size</td><td>3</td></tr><tr><td>learning_rate</td><td>0.01</td></tr><tr><td>test_accuracy</td><td>81.0</td></tr><tr><td>val_accuracy</td><td>79.91667</td></tr></table><br/></div></div>"
      ],
      "text/plain": [
       "<IPython.core.display.HTML object>"
      ]
     },
     "metadata": {},
     "output_type": "display_data"
    },
    {
     "data": {
      "text/html": [
       " View run <strong style=\"color:#cdcd00\">giddy-sweep-2</strong> at: <a href='https://wandb.ai/rohitgowlapalli01/CNN%20on%20Permuted-MNIST%20Dataset/runs/wusvxtd4' target=\"_blank\">https://wandb.ai/rohitgowlapalli01/CNN%20on%20Permuted-MNIST%20Dataset/runs/wusvxtd4</a><br/>Synced 5 W&B file(s), 0 media file(s), 0 artifact file(s) and 0 other file(s)"
      ],
      "text/plain": [
       "<IPython.core.display.HTML object>"
      ]
     },
     "metadata": {},
     "output_type": "display_data"
    },
    {
     "data": {
      "text/html": [
       "Find logs at: <code>./wandb/run-20231023_132053-wusvxtd4/logs</code>"
      ],
      "text/plain": [
       "<IPython.core.display.HTML object>"
      ]
     },
     "metadata": {},
     "output_type": "display_data"
    },
    {
     "name": "stderr",
     "output_type": "stream",
     "text": [
      "\u001b[34m\u001b[1mwandb\u001b[0m: Sweep Agent: Waiting for job.\n",
      "\u001b[34m\u001b[1mwandb\u001b[0m: Job received.\n",
      "\u001b[34m\u001b[1mwandb\u001b[0m: Agent Starting Run: xzw1iz5g with config:\n",
      "\u001b[34m\u001b[1mwandb\u001b[0m: \tdropout_rate: 0.5\n",
      "\u001b[34m\u001b[1mwandb\u001b[0m: \tkernel_size: 5\n",
      "\u001b[34m\u001b[1mwandb\u001b[0m: \tlearning_rate: 0.001\n",
      "/usr/lib/python3/dist-packages/requests/__init__.py:89: RequestsDependencyWarning: urllib3 (2.0.5) or chardet (3.0.4) doesn't match a supported version!\n",
      "  warnings.warn(\"urllib3 ({}) or chardet ({}) doesn't match a supported \"\n",
      "\u001b[34m\u001b[1mwandb\u001b[0m: \u001b[33mWARNING\u001b[0m Ignored wandb.init() arg project when running a sweep.\n"
     ]
    },
    {
     "data": {
      "text/html": [
       "wandb version 0.15.12 is available!  To upgrade, please run:\n",
       " $ pip install wandb --upgrade"
      ],
      "text/plain": [
       "<IPython.core.display.HTML object>"
      ]
     },
     "metadata": {},
     "output_type": "display_data"
    },
    {
     "data": {
      "text/html": [
       "Tracking run with wandb version 0.15.11"
      ],
      "text/plain": [
       "<IPython.core.display.HTML object>"
      ]
     },
     "metadata": {},
     "output_type": "display_data"
    },
    {
     "data": {
      "text/html": [
       "Run data is saved locally in <code>/home/rohit172/IIIT-H/SEM-5/SMAI/Assignment-3/wandb/run-20231023_132350-xzw1iz5g</code>"
      ],
      "text/plain": [
       "<IPython.core.display.HTML object>"
      ]
     },
     "metadata": {},
     "output_type": "display_data"
    },
    {
     "data": {
      "text/html": [
       "Syncing run <strong><a href='https://wandb.ai/rohitgowlapalli01/CNN%20on%20Permuted-MNIST%20Dataset/runs/xzw1iz5g' target=\"_blank\">lemon-sweep-3</a></strong> to <a href='https://wandb.ai/rohitgowlapalli01/CNN%20on%20Permuted-MNIST%20Dataset' target=\"_blank\">Weights & Biases</a> (<a href='https://wandb.me/run' target=\"_blank\">docs</a>)<br/>Sweep page: <a href='https://wandb.ai/rohitgowlapalli01/CNN%20on%20Permuted-MNIST%20Dataset/sweeps/c2arw9m2' target=\"_blank\">https://wandb.ai/rohitgowlapalli01/CNN%20on%20Permuted-MNIST%20Dataset/sweeps/c2arw9m2</a>"
      ],
      "text/plain": [
       "<IPython.core.display.HTML object>"
      ]
     },
     "metadata": {},
     "output_type": "display_data"
    },
    {
     "data": {
      "text/html": [
       " View project at <a href='https://wandb.ai/rohitgowlapalli01/CNN%20on%20Permuted-MNIST%20Dataset' target=\"_blank\">https://wandb.ai/rohitgowlapalli01/CNN%20on%20Permuted-MNIST%20Dataset</a>"
      ],
      "text/plain": [
       "<IPython.core.display.HTML object>"
      ]
     },
     "metadata": {},
     "output_type": "display_data"
    },
    {
     "data": {
      "text/html": [
       " View sweep at <a href='https://wandb.ai/rohitgowlapalli01/CNN%20on%20Permuted-MNIST%20Dataset/sweeps/c2arw9m2' target=\"_blank\">https://wandb.ai/rohitgowlapalli01/CNN%20on%20Permuted-MNIST%20Dataset/sweeps/c2arw9m2</a>"
      ],
      "text/plain": [
       "<IPython.core.display.HTML object>"
      ]
     },
     "metadata": {},
     "output_type": "display_data"
    },
    {
     "data": {
      "text/html": [
       " View run at <a href='https://wandb.ai/rohitgowlapalli01/CNN%20on%20Permuted-MNIST%20Dataset/runs/xzw1iz5g' target=\"_blank\">https://wandb.ai/rohitgowlapalli01/CNN%20on%20Permuted-MNIST%20Dataset/runs/xzw1iz5g</a>"
      ],
      "text/plain": [
       "<IPython.core.display.HTML object>"
      ]
     },
     "metadata": {},
     "output_type": "display_data"
    },
    {
     "name": "stdout",
     "output_type": "stream",
     "text": [
      "0.001 0.5 5\n",
      "Epoch 1/4, Train Loss: 0.6882, Train Acc: 80.46%, Val Loss: 0.3122, Val Acc: 90.52%\n",
      "Epoch 2/4, Train Loss: 0.3333, Train Acc: 89.86%, Val Loss: 0.2686, Val Acc: 91.30%\n",
      "Epoch 3/4, Train Loss: 0.2857, Train Acc: 91.30%, Val Loss: 0.2238, Val Acc: 93.52%\n",
      "Epoch 4/4, Train Loss: 0.2615, Train Acc: 91.95%, Val Loss: 0.1954, Val Acc: 94.35%\n",
      "Test Loss: 0.1844, Test Acc: 94.54%\n"
     ]
    },
    {
     "data": {
      "text/html": [
       "Waiting for W&B process to finish... <strong style=\"color:green\">(success).</strong>"
      ],
      "text/plain": [
       "<IPython.core.display.HTML object>"
      ]
     },
     "metadata": {},
     "output_type": "display_data"
    },
    {
     "data": {
      "text/html": [
       "<style>\n",
       "    table.wandb td:nth-child(1) { padding: 0 10px; text-align: left ; width: auto;} td:nth-child(2) {text-align: left ; width: 100%}\n",
       "    .wandb-row { display: flex; flex-direction: row; flex-wrap: wrap; justify-content: flex-start; width: 100% }\n",
       "    .wandb-col { display: flex; flex-direction: column; flex-basis: 100%; flex: 1; padding: 10px; }\n",
       "    </style>\n",
       "<div class=\"wandb-row\"><div class=\"wandb-col\"><h3>Run history:</h3><br/><table class=\"wandb\"><tr><td>Trainset Accuracy</td><td>▁</td></tr><tr><td>Trainset Loss</td><td>▁</td></tr><tr><td>Validation set Loss</td><td>▁</td></tr><tr><td>dropout_rate</td><td>▁</td></tr><tr><td>kernel_size</td><td>▁</td></tr><tr><td>learning_rate</td><td>▁</td></tr><tr><td>test_accuracy</td><td>▁</td></tr><tr><td>val_accuracy</td><td>▁</td></tr></table><br/></div><div class=\"wandb-col\"><h3>Run summary:</h3><br/><table class=\"wandb\"><tr><td>Trainset Accuracy</td><td>91.94815</td></tr><tr><td>Trainset Loss</td><td>0.26151</td></tr><tr><td>Validation set Loss</td><td>0.19537</td></tr><tr><td>dropout_rate</td><td>0.5</td></tr><tr><td>kernel_size</td><td>5</td></tr><tr><td>learning_rate</td><td>0.001</td></tr><tr><td>test_accuracy</td><td>94.54</td></tr><tr><td>val_accuracy</td><td>94.35</td></tr></table><br/></div></div>"
      ],
      "text/plain": [
       "<IPython.core.display.HTML object>"
      ]
     },
     "metadata": {},
     "output_type": "display_data"
    },
    {
     "data": {
      "text/html": [
       " View run <strong style=\"color:#cdcd00\">lemon-sweep-3</strong> at: <a href='https://wandb.ai/rohitgowlapalli01/CNN%20on%20Permuted-MNIST%20Dataset/runs/xzw1iz5g' target=\"_blank\">https://wandb.ai/rohitgowlapalli01/CNN%20on%20Permuted-MNIST%20Dataset/runs/xzw1iz5g</a><br/>Synced 5 W&B file(s), 0 media file(s), 0 artifact file(s) and 0 other file(s)"
      ],
      "text/plain": [
       "<IPython.core.display.HTML object>"
      ]
     },
     "metadata": {},
     "output_type": "display_data"
    },
    {
     "data": {
      "text/html": [
       "Find logs at: <code>./wandb/run-20231023_132350-xzw1iz5g/logs</code>"
      ],
      "text/plain": [
       "<IPython.core.display.HTML object>"
      ]
     },
     "metadata": {},
     "output_type": "display_data"
    },
    {
     "name": "stderr",
     "output_type": "stream",
     "text": [
      "\u001b[34m\u001b[1mwandb\u001b[0m: Agent Starting Run: 5bm1hn0u with config:\n",
      "\u001b[34m\u001b[1mwandb\u001b[0m: \tdropout_rate: 0.5\n",
      "\u001b[34m\u001b[1mwandb\u001b[0m: \tkernel_size: 5\n",
      "\u001b[34m\u001b[1mwandb\u001b[0m: \tlearning_rate: 0.01\n",
      "/usr/lib/python3/dist-packages/requests/__init__.py:89: RequestsDependencyWarning: urllib3 (2.0.5) or chardet (3.0.4) doesn't match a supported version!\n",
      "  warnings.warn(\"urllib3 ({}) or chardet ({}) doesn't match a supported \"\n",
      "\u001b[34m\u001b[1mwandb\u001b[0m: \u001b[33mWARNING\u001b[0m Ignored wandb.init() arg project when running a sweep.\n"
     ]
    },
    {
     "data": {
      "text/html": [
       "wandb version 0.15.12 is available!  To upgrade, please run:\n",
       " $ pip install wandb --upgrade"
      ],
      "text/plain": [
       "<IPython.core.display.HTML object>"
      ]
     },
     "metadata": {},
     "output_type": "display_data"
    },
    {
     "data": {
      "text/html": [
       "Tracking run with wandb version 0.15.11"
      ],
      "text/plain": [
       "<IPython.core.display.HTML object>"
      ]
     },
     "metadata": {},
     "output_type": "display_data"
    },
    {
     "data": {
      "text/html": [
       "Run data is saved locally in <code>/home/rohit172/IIIT-H/SEM-5/SMAI/Assignment-3/wandb/run-20231023_132729-5bm1hn0u</code>"
      ],
      "text/plain": [
       "<IPython.core.display.HTML object>"
      ]
     },
     "metadata": {},
     "output_type": "display_data"
    },
    {
     "data": {
      "text/html": [
       "Syncing run <strong><a href='https://wandb.ai/rohitgowlapalli01/CNN%20on%20Permuted-MNIST%20Dataset/runs/5bm1hn0u' target=\"_blank\">rare-sweep-4</a></strong> to <a href='https://wandb.ai/rohitgowlapalli01/CNN%20on%20Permuted-MNIST%20Dataset' target=\"_blank\">Weights & Biases</a> (<a href='https://wandb.me/run' target=\"_blank\">docs</a>)<br/>Sweep page: <a href='https://wandb.ai/rohitgowlapalli01/CNN%20on%20Permuted-MNIST%20Dataset/sweeps/c2arw9m2' target=\"_blank\">https://wandb.ai/rohitgowlapalli01/CNN%20on%20Permuted-MNIST%20Dataset/sweeps/c2arw9m2</a>"
      ],
      "text/plain": [
       "<IPython.core.display.HTML object>"
      ]
     },
     "metadata": {},
     "output_type": "display_data"
    },
    {
     "data": {
      "text/html": [
       " View project at <a href='https://wandb.ai/rohitgowlapalli01/CNN%20on%20Permuted-MNIST%20Dataset' target=\"_blank\">https://wandb.ai/rohitgowlapalli01/CNN%20on%20Permuted-MNIST%20Dataset</a>"
      ],
      "text/plain": [
       "<IPython.core.display.HTML object>"
      ]
     },
     "metadata": {},
     "output_type": "display_data"
    },
    {
     "data": {
      "text/html": [
       " View sweep at <a href='https://wandb.ai/rohitgowlapalli01/CNN%20on%20Permuted-MNIST%20Dataset/sweeps/c2arw9m2' target=\"_blank\">https://wandb.ai/rohitgowlapalli01/CNN%20on%20Permuted-MNIST%20Dataset/sweeps/c2arw9m2</a>"
      ],
      "text/plain": [
       "<IPython.core.display.HTML object>"
      ]
     },
     "metadata": {},
     "output_type": "display_data"
    },
    {
     "data": {
      "text/html": [
       " View run at <a href='https://wandb.ai/rohitgowlapalli01/CNN%20on%20Permuted-MNIST%20Dataset/runs/5bm1hn0u' target=\"_blank\">https://wandb.ai/rohitgowlapalli01/CNN%20on%20Permuted-MNIST%20Dataset/runs/5bm1hn0u</a>"
      ],
      "text/plain": [
       "<IPython.core.display.HTML object>"
      ]
     },
     "metadata": {},
     "output_type": "display_data"
    },
    {
     "name": "stdout",
     "output_type": "stream",
     "text": [
      "0.01 0.5 5\n",
      "Epoch 1/4, Train Loss: 3.3654, Train Acc: 27.79%, Val Loss: 1.5174, Val Acc: 42.40%\n",
      "Epoch 2/4, Train Loss: 1.6372, Train Acc: 40.08%, Val Loss: 1.3445, Val Acc: 50.05%\n",
      "Epoch 3/4, Train Loss: 1.6185, Train Acc: 42.02%, Val Loss: 1.4443, Val Acc: 49.42%\n",
      "Epoch 4/4, Train Loss: 1.7894, Train Acc: 37.29%, Val Loss: 1.9727, Val Acc: 26.08%\n",
      "Test Loss: 1.9500, Test Acc: 26.71%\n"
     ]
    },
    {
     "data": {
      "text/html": [
       "Waiting for W&B process to finish... <strong style=\"color:green\">(success).</strong>"
      ],
      "text/plain": [
       "<IPython.core.display.HTML object>"
      ]
     },
     "metadata": {},
     "output_type": "display_data"
    },
    {
     "data": {
      "text/html": [
       "<style>\n",
       "    table.wandb td:nth-child(1) { padding: 0 10px; text-align: left ; width: auto;} td:nth-child(2) {text-align: left ; width: 100%}\n",
       "    .wandb-row { display: flex; flex-direction: row; flex-wrap: wrap; justify-content: flex-start; width: 100% }\n",
       "    .wandb-col { display: flex; flex-direction: column; flex-basis: 100%; flex: 1; padding: 10px; }\n",
       "    </style>\n",
       "<div class=\"wandb-row\"><div class=\"wandb-col\"><h3>Run history:</h3><br/><table class=\"wandb\"><tr><td>Trainset Accuracy</td><td>▁</td></tr><tr><td>Trainset Loss</td><td>▁</td></tr><tr><td>Validation set Loss</td><td>▁</td></tr><tr><td>dropout_rate</td><td>▁</td></tr><tr><td>kernel_size</td><td>▁</td></tr><tr><td>learning_rate</td><td>▁</td></tr><tr><td>test_accuracy</td><td>▁</td></tr><tr><td>val_accuracy</td><td>▁</td></tr></table><br/></div><div class=\"wandb-col\"><h3>Run summary:</h3><br/><table class=\"wandb\"><tr><td>Trainset Accuracy</td><td>37.29074</td></tr><tr><td>Trainset Loss</td><td>1.78938</td></tr><tr><td>Validation set Loss</td><td>1.9727</td></tr><tr><td>dropout_rate</td><td>0.5</td></tr><tr><td>kernel_size</td><td>5</td></tr><tr><td>learning_rate</td><td>0.01</td></tr><tr><td>test_accuracy</td><td>26.71</td></tr><tr><td>val_accuracy</td><td>26.08333</td></tr></table><br/></div></div>"
      ],
      "text/plain": [
       "<IPython.core.display.HTML object>"
      ]
     },
     "metadata": {},
     "output_type": "display_data"
    },
    {
     "data": {
      "text/html": [
       " View run <strong style=\"color:#cdcd00\">rare-sweep-4</strong> at: <a href='https://wandb.ai/rohitgowlapalli01/CNN%20on%20Permuted-MNIST%20Dataset/runs/5bm1hn0u' target=\"_blank\">https://wandb.ai/rohitgowlapalli01/CNN%20on%20Permuted-MNIST%20Dataset/runs/5bm1hn0u</a><br/>Synced 5 W&B file(s), 0 media file(s), 0 artifact file(s) and 0 other file(s)"
      ],
      "text/plain": [
       "<IPython.core.display.HTML object>"
      ]
     },
     "metadata": {},
     "output_type": "display_data"
    },
    {
     "data": {
      "text/html": [
       "Find logs at: <code>./wandb/run-20231023_132729-5bm1hn0u/logs</code>"
      ],
      "text/plain": [
       "<IPython.core.display.HTML object>"
      ]
     },
     "metadata": {},
     "output_type": "display_data"
    },
    {
     "name": "stderr",
     "output_type": "stream",
     "text": [
      "\u001b[34m\u001b[1mwandb\u001b[0m: Agent Starting Run: qbyo703q with config:\n",
      "\u001b[34m\u001b[1mwandb\u001b[0m: \tdropout_rate: 0.7\n",
      "\u001b[34m\u001b[1mwandb\u001b[0m: \tkernel_size: 3\n",
      "\u001b[34m\u001b[1mwandb\u001b[0m: \tlearning_rate: 0.001\n",
      "/usr/lib/python3/dist-packages/requests/__init__.py:89: RequestsDependencyWarning: urllib3 (2.0.5) or chardet (3.0.4) doesn't match a supported version!\n",
      "  warnings.warn(\"urllib3 ({}) or chardet ({}) doesn't match a supported \"\n",
      "\u001b[34m\u001b[1mwandb\u001b[0m: \u001b[33mWARNING\u001b[0m Ignored wandb.init() arg project when running a sweep.\n"
     ]
    },
    {
     "data": {
      "text/html": [
       "wandb version 0.15.12 is available!  To upgrade, please run:\n",
       " $ pip install wandb --upgrade"
      ],
      "text/plain": [
       "<IPython.core.display.HTML object>"
      ]
     },
     "metadata": {},
     "output_type": "display_data"
    },
    {
     "data": {
      "text/html": [
       "Tracking run with wandb version 0.15.11"
      ],
      "text/plain": [
       "<IPython.core.display.HTML object>"
      ]
     },
     "metadata": {},
     "output_type": "display_data"
    },
    {
     "data": {
      "text/html": [
       "Run data is saved locally in <code>/home/rohit172/IIIT-H/SEM-5/SMAI/Assignment-3/wandb/run-20231023_133102-qbyo703q</code>"
      ],
      "text/plain": [
       "<IPython.core.display.HTML object>"
      ]
     },
     "metadata": {},
     "output_type": "display_data"
    },
    {
     "data": {
      "text/html": [
       "Syncing run <strong><a href='https://wandb.ai/rohitgowlapalli01/CNN%20on%20Permuted-MNIST%20Dataset/runs/qbyo703q' target=\"_blank\">chocolate-sweep-5</a></strong> to <a href='https://wandb.ai/rohitgowlapalli01/CNN%20on%20Permuted-MNIST%20Dataset' target=\"_blank\">Weights & Biases</a> (<a href='https://wandb.me/run' target=\"_blank\">docs</a>)<br/>Sweep page: <a href='https://wandb.ai/rohitgowlapalli01/CNN%20on%20Permuted-MNIST%20Dataset/sweeps/c2arw9m2' target=\"_blank\">https://wandb.ai/rohitgowlapalli01/CNN%20on%20Permuted-MNIST%20Dataset/sweeps/c2arw9m2</a>"
      ],
      "text/plain": [
       "<IPython.core.display.HTML object>"
      ]
     },
     "metadata": {},
     "output_type": "display_data"
    },
    {
     "data": {
      "text/html": [
       " View project at <a href='https://wandb.ai/rohitgowlapalli01/CNN%20on%20Permuted-MNIST%20Dataset' target=\"_blank\">https://wandb.ai/rohitgowlapalli01/CNN%20on%20Permuted-MNIST%20Dataset</a>"
      ],
      "text/plain": [
       "<IPython.core.display.HTML object>"
      ]
     },
     "metadata": {},
     "output_type": "display_data"
    },
    {
     "data": {
      "text/html": [
       " View sweep at <a href='https://wandb.ai/rohitgowlapalli01/CNN%20on%20Permuted-MNIST%20Dataset/sweeps/c2arw9m2' target=\"_blank\">https://wandb.ai/rohitgowlapalli01/CNN%20on%20Permuted-MNIST%20Dataset/sweeps/c2arw9m2</a>"
      ],
      "text/plain": [
       "<IPython.core.display.HTML object>"
      ]
     },
     "metadata": {},
     "output_type": "display_data"
    },
    {
     "data": {
      "text/html": [
       " View run at <a href='https://wandb.ai/rohitgowlapalli01/CNN%20on%20Permuted-MNIST%20Dataset/runs/qbyo703q' target=\"_blank\">https://wandb.ai/rohitgowlapalli01/CNN%20on%20Permuted-MNIST%20Dataset/runs/qbyo703q</a>"
      ],
      "text/plain": [
       "<IPython.core.display.HTML object>"
      ]
     },
     "metadata": {},
     "output_type": "display_data"
    },
    {
     "name": "stdout",
     "output_type": "stream",
     "text": [
      "0.001 0.7 3\n",
      "Epoch 1/4, Train Loss: 1.1022, Train Acc: 66.64%, Val Loss: 0.3005, Val Acc: 90.70%\n",
      "Epoch 2/4, Train Loss: 0.6265, Train Acc: 78.65%, Val Loss: 0.2500, Val Acc: 92.67%\n",
      "Epoch 3/4, Train Loss: 0.5276, Train Acc: 82.19%, Val Loss: 0.2362, Val Acc: 92.83%\n",
      "Epoch 4/4, Train Loss: 0.4668, Train Acc: 84.61%, Val Loss: 0.2029, Val Acc: 94.00%\n",
      "Test Loss: 0.2086, Test Acc: 93.63%\n"
     ]
    },
    {
     "data": {
      "text/html": [
       "Waiting for W&B process to finish... <strong style=\"color:green\">(success).</strong>"
      ],
      "text/plain": [
       "<IPython.core.display.HTML object>"
      ]
     },
     "metadata": {},
     "output_type": "display_data"
    },
    {
     "data": {
      "application/vnd.jupyter.widget-view+json": {
       "model_id": "6c0b64b71edd44098cd83ffce3ac977f",
       "version_major": 2,
       "version_minor": 0
      },
      "text/plain": [
       "VBox(children=(Label(value='0.002 MB of 0.002 MB uploaded (0.000 MB deduped)\\r'), FloatProgress(value=1.0, max…"
      ]
     },
     "metadata": {},
     "output_type": "display_data"
    },
    {
     "data": {
      "text/html": [
       "<style>\n",
       "    table.wandb td:nth-child(1) { padding: 0 10px; text-align: left ; width: auto;} td:nth-child(2) {text-align: left ; width: 100%}\n",
       "    .wandb-row { display: flex; flex-direction: row; flex-wrap: wrap; justify-content: flex-start; width: 100% }\n",
       "    .wandb-col { display: flex; flex-direction: column; flex-basis: 100%; flex: 1; padding: 10px; }\n",
       "    </style>\n",
       "<div class=\"wandb-row\"><div class=\"wandb-col\"><h3>Run history:</h3><br/><table class=\"wandb\"><tr><td>Trainset Accuracy</td><td>▁</td></tr><tr><td>Trainset Loss</td><td>▁</td></tr><tr><td>Validation set Loss</td><td>▁</td></tr><tr><td>dropout_rate</td><td>▁</td></tr><tr><td>kernel_size</td><td>▁</td></tr><tr><td>learning_rate</td><td>▁</td></tr><tr><td>test_accuracy</td><td>▁</td></tr><tr><td>val_accuracy</td><td>▁</td></tr></table><br/></div><div class=\"wandb-col\"><h3>Run summary:</h3><br/><table class=\"wandb\"><tr><td>Trainset Accuracy</td><td>84.61481</td></tr><tr><td>Trainset Loss</td><td>0.46678</td></tr><tr><td>Validation set Loss</td><td>0.20288</td></tr><tr><td>dropout_rate</td><td>0.7</td></tr><tr><td>kernel_size</td><td>3</td></tr><tr><td>learning_rate</td><td>0.001</td></tr><tr><td>test_accuracy</td><td>93.63</td></tr><tr><td>val_accuracy</td><td>94.0</td></tr></table><br/></div></div>"
      ],
      "text/plain": [
       "<IPython.core.display.HTML object>"
      ]
     },
     "metadata": {},
     "output_type": "display_data"
    },
    {
     "data": {
      "text/html": [
       " View run <strong style=\"color:#cdcd00\">chocolate-sweep-5</strong> at: <a href='https://wandb.ai/rohitgowlapalli01/CNN%20on%20Permuted-MNIST%20Dataset/runs/qbyo703q' target=\"_blank\">https://wandb.ai/rohitgowlapalli01/CNN%20on%20Permuted-MNIST%20Dataset/runs/qbyo703q</a><br/>Synced 5 W&B file(s), 0 media file(s), 0 artifact file(s) and 0 other file(s)"
      ],
      "text/plain": [
       "<IPython.core.display.HTML object>"
      ]
     },
     "metadata": {},
     "output_type": "display_data"
    },
    {
     "data": {
      "text/html": [
       "Find logs at: <code>./wandb/run-20231023_133102-qbyo703q/logs</code>"
      ],
      "text/plain": [
       "<IPython.core.display.HTML object>"
      ]
     },
     "metadata": {},
     "output_type": "display_data"
    },
    {
     "name": "stderr",
     "output_type": "stream",
     "text": [
      "\u001b[34m\u001b[1mwandb\u001b[0m: Agent Starting Run: 95fb0w3x with config:\n",
      "\u001b[34m\u001b[1mwandb\u001b[0m: \tdropout_rate: 0.7\n",
      "\u001b[34m\u001b[1mwandb\u001b[0m: \tkernel_size: 3\n",
      "\u001b[34m\u001b[1mwandb\u001b[0m: \tlearning_rate: 0.01\n",
      "/usr/lib/python3/dist-packages/requests/__init__.py:89: RequestsDependencyWarning: urllib3 (2.0.5) or chardet (3.0.4) doesn't match a supported version!\n",
      "  warnings.warn(\"urllib3 ({}) or chardet ({}) doesn't match a supported \"\n",
      "\u001b[34m\u001b[1mwandb\u001b[0m: \u001b[33mWARNING\u001b[0m Ignored wandb.init() arg project when running a sweep.\n"
     ]
    },
    {
     "data": {
      "application/vnd.jupyter.widget-view+json": {
       "model_id": "9f63fa887153403c804bb723e5436bd8",
       "version_major": 2,
       "version_minor": 0
      },
      "text/plain": [
       "VBox(children=(Label(value='Waiting for wandb.init()...\\r'), FloatProgress(value=0.011113744822225474, max=1.0…"
      ]
     },
     "metadata": {},
     "output_type": "display_data"
    },
    {
     "data": {
      "text/html": [
       "wandb version 0.15.12 is available!  To upgrade, please run:\n",
       " $ pip install wandb --upgrade"
      ],
      "text/plain": [
       "<IPython.core.display.HTML object>"
      ]
     },
     "metadata": {},
     "output_type": "display_data"
    },
    {
     "data": {
      "text/html": [
       "Tracking run with wandb version 0.15.11"
      ],
      "text/plain": [
       "<IPython.core.display.HTML object>"
      ]
     },
     "metadata": {},
     "output_type": "display_data"
    },
    {
     "data": {
      "text/html": [
       "Run data is saved locally in <code>/home/rohit172/IIIT-H/SEM-5/SMAI/Assignment-3/wandb/run-20231023_133405-95fb0w3x</code>"
      ],
      "text/plain": [
       "<IPython.core.display.HTML object>"
      ]
     },
     "metadata": {},
     "output_type": "display_data"
    },
    {
     "data": {
      "text/html": [
       "Syncing run <strong><a href='https://wandb.ai/rohitgowlapalli01/CNN%20on%20Permuted-MNIST%20Dataset/runs/95fb0w3x' target=\"_blank\">fluent-sweep-6</a></strong> to <a href='https://wandb.ai/rohitgowlapalli01/CNN%20on%20Permuted-MNIST%20Dataset' target=\"_blank\">Weights & Biases</a> (<a href='https://wandb.me/run' target=\"_blank\">docs</a>)<br/>Sweep page: <a href='https://wandb.ai/rohitgowlapalli01/CNN%20on%20Permuted-MNIST%20Dataset/sweeps/c2arw9m2' target=\"_blank\">https://wandb.ai/rohitgowlapalli01/CNN%20on%20Permuted-MNIST%20Dataset/sweeps/c2arw9m2</a>"
      ],
      "text/plain": [
       "<IPython.core.display.HTML object>"
      ]
     },
     "metadata": {},
     "output_type": "display_data"
    },
    {
     "data": {
      "text/html": [
       " View project at <a href='https://wandb.ai/rohitgowlapalli01/CNN%20on%20Permuted-MNIST%20Dataset' target=\"_blank\">https://wandb.ai/rohitgowlapalli01/CNN%20on%20Permuted-MNIST%20Dataset</a>"
      ],
      "text/plain": [
       "<IPython.core.display.HTML object>"
      ]
     },
     "metadata": {},
     "output_type": "display_data"
    },
    {
     "data": {
      "text/html": [
       " View sweep at <a href='https://wandb.ai/rohitgowlapalli01/CNN%20on%20Permuted-MNIST%20Dataset/sweeps/c2arw9m2' target=\"_blank\">https://wandb.ai/rohitgowlapalli01/CNN%20on%20Permuted-MNIST%20Dataset/sweeps/c2arw9m2</a>"
      ],
      "text/plain": [
       "<IPython.core.display.HTML object>"
      ]
     },
     "metadata": {},
     "output_type": "display_data"
    },
    {
     "data": {
      "text/html": [
       " View run at <a href='https://wandb.ai/rohitgowlapalli01/CNN%20on%20Permuted-MNIST%20Dataset/runs/95fb0w3x' target=\"_blank\">https://wandb.ai/rohitgowlapalli01/CNN%20on%20Permuted-MNIST%20Dataset/runs/95fb0w3x</a>"
      ],
      "text/plain": [
       "<IPython.core.display.HTML object>"
      ]
     },
     "metadata": {},
     "output_type": "display_data"
    },
    {
     "name": "stdout",
     "output_type": "stream",
     "text": [
      "0.01 0.7 3\n",
      "Epoch 1/4, Train Loss: 2.5024, Train Acc: 24.04%, Val Loss: 1.8770, Val Acc: 29.67%\n",
      "Epoch 2/4, Train Loss: 1.8957, Train Acc: 31.51%, Val Loss: 1.6642, Val Acc: 40.72%\n",
      "Epoch 3/4, Train Loss: 1.7339, Train Acc: 38.99%, Val Loss: 1.4995, Val Acc: 48.27%\n",
      "Epoch 4/4, Train Loss: 1.5641, Train Acc: 45.80%, Val Loss: 1.2401, Val Acc: 58.50%\n",
      "Test Loss: 1.2096, Test Acc: 59.58%\n"
     ]
    },
    {
     "data": {
      "text/html": [
       "Waiting for W&B process to finish... <strong style=\"color:green\">(success).</strong>"
      ],
      "text/plain": [
       "<IPython.core.display.HTML object>"
      ]
     },
     "metadata": {},
     "output_type": "display_data"
    },
    {
     "data": {
      "text/html": [
       "<style>\n",
       "    table.wandb td:nth-child(1) { padding: 0 10px; text-align: left ; width: auto;} td:nth-child(2) {text-align: left ; width: 100%}\n",
       "    .wandb-row { display: flex; flex-direction: row; flex-wrap: wrap; justify-content: flex-start; width: 100% }\n",
       "    .wandb-col { display: flex; flex-direction: column; flex-basis: 100%; flex: 1; padding: 10px; }\n",
       "    </style>\n",
       "<div class=\"wandb-row\"><div class=\"wandb-col\"><h3>Run history:</h3><br/><table class=\"wandb\"><tr><td>Trainset Accuracy</td><td>▁</td></tr><tr><td>Trainset Loss</td><td>▁</td></tr><tr><td>Validation set Loss</td><td>▁</td></tr><tr><td>dropout_rate</td><td>▁</td></tr><tr><td>kernel_size</td><td>▁</td></tr><tr><td>learning_rate</td><td>▁</td></tr><tr><td>test_accuracy</td><td>▁</td></tr><tr><td>val_accuracy</td><td>▁</td></tr></table><br/></div><div class=\"wandb-col\"><h3>Run summary:</h3><br/><table class=\"wandb\"><tr><td>Trainset Accuracy</td><td>45.79815</td></tr><tr><td>Trainset Loss</td><td>1.56412</td></tr><tr><td>Validation set Loss</td><td>1.2401</td></tr><tr><td>dropout_rate</td><td>0.7</td></tr><tr><td>kernel_size</td><td>3</td></tr><tr><td>learning_rate</td><td>0.01</td></tr><tr><td>test_accuracy</td><td>59.58</td></tr><tr><td>val_accuracy</td><td>58.5</td></tr></table><br/></div></div>"
      ],
      "text/plain": [
       "<IPython.core.display.HTML object>"
      ]
     },
     "metadata": {},
     "output_type": "display_data"
    },
    {
     "data": {
      "text/html": [
       " View run <strong style=\"color:#cdcd00\">fluent-sweep-6</strong> at: <a href='https://wandb.ai/rohitgowlapalli01/CNN%20on%20Permuted-MNIST%20Dataset/runs/95fb0w3x' target=\"_blank\">https://wandb.ai/rohitgowlapalli01/CNN%20on%20Permuted-MNIST%20Dataset/runs/95fb0w3x</a><br/>Synced 5 W&B file(s), 0 media file(s), 0 artifact file(s) and 0 other file(s)"
      ],
      "text/plain": [
       "<IPython.core.display.HTML object>"
      ]
     },
     "metadata": {},
     "output_type": "display_data"
    },
    {
     "data": {
      "text/html": [
       "Find logs at: <code>./wandb/run-20231023_133405-95fb0w3x/logs</code>"
      ],
      "text/plain": [
       "<IPython.core.display.HTML object>"
      ]
     },
     "metadata": {},
     "output_type": "display_data"
    },
    {
     "name": "stderr",
     "output_type": "stream",
     "text": [
      "\u001b[34m\u001b[1mwandb\u001b[0m: Agent Starting Run: 35m0udam with config:\n",
      "\u001b[34m\u001b[1mwandb\u001b[0m: \tdropout_rate: 0.7\n",
      "\u001b[34m\u001b[1mwandb\u001b[0m: \tkernel_size: 5\n",
      "\u001b[34m\u001b[1mwandb\u001b[0m: \tlearning_rate: 0.001\n",
      "/usr/lib/python3/dist-packages/requests/__init__.py:89: RequestsDependencyWarning: urllib3 (2.0.5) or chardet (3.0.4) doesn't match a supported version!\n",
      "  warnings.warn(\"urllib3 ({}) or chardet ({}) doesn't match a supported \"\n",
      "\u001b[34m\u001b[1mwandb\u001b[0m: \u001b[33mWARNING\u001b[0m Ignored wandb.init() arg project when running a sweep.\n"
     ]
    },
    {
     "data": {
      "text/html": [
       "wandb version 0.15.12 is available!  To upgrade, please run:\n",
       " $ pip install wandb --upgrade"
      ],
      "text/plain": [
       "<IPython.core.display.HTML object>"
      ]
     },
     "metadata": {},
     "output_type": "display_data"
    },
    {
     "data": {
      "text/html": [
       "Tracking run with wandb version 0.15.11"
      ],
      "text/plain": [
       "<IPython.core.display.HTML object>"
      ]
     },
     "metadata": {},
     "output_type": "display_data"
    },
    {
     "data": {
      "text/html": [
       "Run data is saved locally in <code>/home/rohit172/IIIT-H/SEM-5/SMAI/Assignment-3/wandb/run-20231023_133714-35m0udam</code>"
      ],
      "text/plain": [
       "<IPython.core.display.HTML object>"
      ]
     },
     "metadata": {},
     "output_type": "display_data"
    },
    {
     "data": {
      "text/html": [
       "Syncing run <strong><a href='https://wandb.ai/rohitgowlapalli01/CNN%20on%20Permuted-MNIST%20Dataset/runs/35m0udam' target=\"_blank\">copper-sweep-7</a></strong> to <a href='https://wandb.ai/rohitgowlapalli01/CNN%20on%20Permuted-MNIST%20Dataset' target=\"_blank\">Weights & Biases</a> (<a href='https://wandb.me/run' target=\"_blank\">docs</a>)<br/>Sweep page: <a href='https://wandb.ai/rohitgowlapalli01/CNN%20on%20Permuted-MNIST%20Dataset/sweeps/c2arw9m2' target=\"_blank\">https://wandb.ai/rohitgowlapalli01/CNN%20on%20Permuted-MNIST%20Dataset/sweeps/c2arw9m2</a>"
      ],
      "text/plain": [
       "<IPython.core.display.HTML object>"
      ]
     },
     "metadata": {},
     "output_type": "display_data"
    },
    {
     "data": {
      "text/html": [
       " View project at <a href='https://wandb.ai/rohitgowlapalli01/CNN%20on%20Permuted-MNIST%20Dataset' target=\"_blank\">https://wandb.ai/rohitgowlapalli01/CNN%20on%20Permuted-MNIST%20Dataset</a>"
      ],
      "text/plain": [
       "<IPython.core.display.HTML object>"
      ]
     },
     "metadata": {},
     "output_type": "display_data"
    },
    {
     "data": {
      "text/html": [
       " View sweep at <a href='https://wandb.ai/rohitgowlapalli01/CNN%20on%20Permuted-MNIST%20Dataset/sweeps/c2arw9m2' target=\"_blank\">https://wandb.ai/rohitgowlapalli01/CNN%20on%20Permuted-MNIST%20Dataset/sweeps/c2arw9m2</a>"
      ],
      "text/plain": [
       "<IPython.core.display.HTML object>"
      ]
     },
     "metadata": {},
     "output_type": "display_data"
    },
    {
     "data": {
      "text/html": [
       " View run at <a href='https://wandb.ai/rohitgowlapalli01/CNN%20on%20Permuted-MNIST%20Dataset/runs/35m0udam' target=\"_blank\">https://wandb.ai/rohitgowlapalli01/CNN%20on%20Permuted-MNIST%20Dataset/runs/35m0udam</a>"
      ],
      "text/plain": [
       "<IPython.core.display.HTML object>"
      ]
     },
     "metadata": {},
     "output_type": "display_data"
    },
    {
     "name": "stdout",
     "output_type": "stream",
     "text": [
      "0.001 0.7 5\n",
      "Epoch 1/4, Train Loss: 0.8626, Train Acc: 74.30%, Val Loss: 0.3451, Val Acc: 89.37%\n",
      "Epoch 2/4, Train Loss: 0.4173, Train Acc: 87.56%, Val Loss: 0.2453, Val Acc: 92.38%\n",
      "Epoch 3/4, Train Loss: 0.3630, Train Acc: 89.10%, Val Loss: 0.2305, Val Acc: 92.98%\n",
      "Epoch 4/4, Train Loss: 0.3273, Train Acc: 90.23%, Val Loss: 0.2130, Val Acc: 93.20%\n",
      "Test Loss: 0.2109, Test Acc: 93.46%\n"
     ]
    },
    {
     "data": {
      "text/html": [
       "Waiting for W&B process to finish... <strong style=\"color:green\">(success).</strong>"
      ],
      "text/plain": [
       "<IPython.core.display.HTML object>"
      ]
     },
     "metadata": {},
     "output_type": "display_data"
    },
    {
     "data": {
      "application/vnd.jupyter.widget-view+json": {
       "model_id": "7ed2fe9760c14b16b71b7be7ece52773",
       "version_major": 2,
       "version_minor": 0
      },
      "text/plain": [
       "VBox(children=(Label(value='0.002 MB of 0.002 MB uploaded (0.000 MB deduped)\\r'), FloatProgress(value=1.0, max…"
      ]
     },
     "metadata": {},
     "output_type": "display_data"
    },
    {
     "data": {
      "text/html": [
       "<style>\n",
       "    table.wandb td:nth-child(1) { padding: 0 10px; text-align: left ; width: auto;} td:nth-child(2) {text-align: left ; width: 100%}\n",
       "    .wandb-row { display: flex; flex-direction: row; flex-wrap: wrap; justify-content: flex-start; width: 100% }\n",
       "    .wandb-col { display: flex; flex-direction: column; flex-basis: 100%; flex: 1; padding: 10px; }\n",
       "    </style>\n",
       "<div class=\"wandb-row\"><div class=\"wandb-col\"><h3>Run history:</h3><br/><table class=\"wandb\"><tr><td>Trainset Accuracy</td><td>▁</td></tr><tr><td>Trainset Loss</td><td>▁</td></tr><tr><td>Validation set Loss</td><td>▁</td></tr><tr><td>dropout_rate</td><td>▁</td></tr><tr><td>kernel_size</td><td>▁</td></tr><tr><td>learning_rate</td><td>▁</td></tr><tr><td>test_accuracy</td><td>▁</td></tr><tr><td>val_accuracy</td><td>▁</td></tr></table><br/></div><div class=\"wandb-col\"><h3>Run summary:</h3><br/><table class=\"wandb\"><tr><td>Trainset Accuracy</td><td>90.22593</td></tr><tr><td>Trainset Loss</td><td>0.32728</td></tr><tr><td>Validation set Loss</td><td>0.213</td></tr><tr><td>dropout_rate</td><td>0.7</td></tr><tr><td>kernel_size</td><td>5</td></tr><tr><td>learning_rate</td><td>0.001</td></tr><tr><td>test_accuracy</td><td>93.46</td></tr><tr><td>val_accuracy</td><td>93.2</td></tr></table><br/></div></div>"
      ],
      "text/plain": [
       "<IPython.core.display.HTML object>"
      ]
     },
     "metadata": {},
     "output_type": "display_data"
    },
    {
     "data": {
      "text/html": [
       " View run <strong style=\"color:#cdcd00\">copper-sweep-7</strong> at: <a href='https://wandb.ai/rohitgowlapalli01/CNN%20on%20Permuted-MNIST%20Dataset/runs/35m0udam' target=\"_blank\">https://wandb.ai/rohitgowlapalli01/CNN%20on%20Permuted-MNIST%20Dataset/runs/35m0udam</a><br/>Synced 5 W&B file(s), 0 media file(s), 0 artifact file(s) and 0 other file(s)"
      ],
      "text/plain": [
       "<IPython.core.display.HTML object>"
      ]
     },
     "metadata": {},
     "output_type": "display_data"
    },
    {
     "data": {
      "text/html": [
       "Find logs at: <code>./wandb/run-20231023_133714-35m0udam/logs</code>"
      ],
      "text/plain": [
       "<IPython.core.display.HTML object>"
      ]
     },
     "metadata": {},
     "output_type": "display_data"
    },
    {
     "name": "stderr",
     "output_type": "stream",
     "text": [
      "\u001b[34m\u001b[1mwandb\u001b[0m: Agent Starting Run: cna5cqrw with config:\n",
      "\u001b[34m\u001b[1mwandb\u001b[0m: \tdropout_rate: 0.7\n",
      "\u001b[34m\u001b[1mwandb\u001b[0m: \tkernel_size: 5\n",
      "\u001b[34m\u001b[1mwandb\u001b[0m: \tlearning_rate: 0.01\n",
      "/usr/lib/python3/dist-packages/requests/__init__.py:89: RequestsDependencyWarning: urllib3 (2.0.5) or chardet (3.0.4) doesn't match a supported version!\n",
      "  warnings.warn(\"urllib3 ({}) or chardet ({}) doesn't match a supported \"\n",
      "\u001b[34m\u001b[1mwandb\u001b[0m: \u001b[33mWARNING\u001b[0m Ignored wandb.init() arg project when running a sweep.\n"
     ]
    },
    {
     "data": {
      "application/vnd.jupyter.widget-view+json": {
       "model_id": "a5aacdd4cb7b4c67a09b0cbf65165caa",
       "version_major": 2,
       "version_minor": 0
      },
      "text/plain": [
       "VBox(children=(Label(value='Waiting for wandb.init()...\\r'), FloatProgress(value=0.011112941333330026, max=1.0…"
      ]
     },
     "metadata": {},
     "output_type": "display_data"
    },
    {
     "data": {
      "text/html": [
       "wandb version 0.15.12 is available!  To upgrade, please run:\n",
       " $ pip install wandb --upgrade"
      ],
      "text/plain": [
       "<IPython.core.display.HTML object>"
      ]
     },
     "metadata": {},
     "output_type": "display_data"
    },
    {
     "data": {
      "text/html": [
       "Tracking run with wandb version 0.15.11"
      ],
      "text/plain": [
       "<IPython.core.display.HTML object>"
      ]
     },
     "metadata": {},
     "output_type": "display_data"
    },
    {
     "data": {
      "text/html": [
       "Run data is saved locally in <code>/home/rohit172/IIIT-H/SEM-5/SMAI/Assignment-3/wandb/run-20231023_134123-cna5cqrw</code>"
      ],
      "text/plain": [
       "<IPython.core.display.HTML object>"
      ]
     },
     "metadata": {},
     "output_type": "display_data"
    },
    {
     "data": {
      "text/html": [
       "Syncing run <strong><a href='https://wandb.ai/rohitgowlapalli01/CNN%20on%20Permuted-MNIST%20Dataset/runs/cna5cqrw' target=\"_blank\">robust-sweep-8</a></strong> to <a href='https://wandb.ai/rohitgowlapalli01/CNN%20on%20Permuted-MNIST%20Dataset' target=\"_blank\">Weights & Biases</a> (<a href='https://wandb.me/run' target=\"_blank\">docs</a>)<br/>Sweep page: <a href='https://wandb.ai/rohitgowlapalli01/CNN%20on%20Permuted-MNIST%20Dataset/sweeps/c2arw9m2' target=\"_blank\">https://wandb.ai/rohitgowlapalli01/CNN%20on%20Permuted-MNIST%20Dataset/sweeps/c2arw9m2</a>"
      ],
      "text/plain": [
       "<IPython.core.display.HTML object>"
      ]
     },
     "metadata": {},
     "output_type": "display_data"
    },
    {
     "data": {
      "text/html": [
       " View project at <a href='https://wandb.ai/rohitgowlapalli01/CNN%20on%20Permuted-MNIST%20Dataset' target=\"_blank\">https://wandb.ai/rohitgowlapalli01/CNN%20on%20Permuted-MNIST%20Dataset</a>"
      ],
      "text/plain": [
       "<IPython.core.display.HTML object>"
      ]
     },
     "metadata": {},
     "output_type": "display_data"
    },
    {
     "data": {
      "text/html": [
       " View sweep at <a href='https://wandb.ai/rohitgowlapalli01/CNN%20on%20Permuted-MNIST%20Dataset/sweeps/c2arw9m2' target=\"_blank\">https://wandb.ai/rohitgowlapalli01/CNN%20on%20Permuted-MNIST%20Dataset/sweeps/c2arw9m2</a>"
      ],
      "text/plain": [
       "<IPython.core.display.HTML object>"
      ]
     },
     "metadata": {},
     "output_type": "display_data"
    },
    {
     "data": {
      "text/html": [
       " View run at <a href='https://wandb.ai/rohitgowlapalli01/CNN%20on%20Permuted-MNIST%20Dataset/runs/cna5cqrw' target=\"_blank\">https://wandb.ai/rohitgowlapalli01/CNN%20on%20Permuted-MNIST%20Dataset/runs/cna5cqrw</a>"
      ],
      "text/plain": [
       "<IPython.core.display.HTML object>"
      ]
     },
     "metadata": {},
     "output_type": "display_data"
    },
    {
     "name": "stdout",
     "output_type": "stream",
     "text": [
      "0.01 0.7 5\n",
      "Epoch 1/4, Train Loss: 3.6493, Train Acc: 18.51%, Val Loss: 2.0167, Val Acc: 21.97%\n",
      "Epoch 2/4, Train Loss: 2.0178, Train Acc: 22.74%, Val Loss: 1.9728, Val Acc: 24.18%\n",
      "Epoch 3/4, Train Loss: 2.0880, Train Acc: 21.41%, Val Loss: 2.0017, Val Acc: 26.38%\n",
      "Epoch 4/4, Train Loss: 2.2425, Train Acc: 16.14%, Val Loss: 2.2713, Val Acc: 15.27%\n",
      "Test Loss: 2.2701, Test Acc: 15.45%\n"
     ]
    },
    {
     "data": {
      "text/html": [
       "Waiting for W&B process to finish... <strong style=\"color:green\">(success).</strong>"
      ],
      "text/plain": [
       "<IPython.core.display.HTML object>"
      ]
     },
     "metadata": {},
     "output_type": "display_data"
    },
    {
     "data": {
      "application/vnd.jupyter.widget-view+json": {
       "model_id": "ef5561281bd34026a3328f88fe6000ef",
       "version_major": 2,
       "version_minor": 0
      },
      "text/plain": [
       "VBox(children=(Label(value='0.002 MB of 0.002 MB uploaded (0.000 MB deduped)\\r'), FloatProgress(value=1.0, max…"
      ]
     },
     "metadata": {},
     "output_type": "display_data"
    },
    {
     "data": {
      "text/html": [
       "<style>\n",
       "    table.wandb td:nth-child(1) { padding: 0 10px; text-align: left ; width: auto;} td:nth-child(2) {text-align: left ; width: 100%}\n",
       "    .wandb-row { display: flex; flex-direction: row; flex-wrap: wrap; justify-content: flex-start; width: 100% }\n",
       "    .wandb-col { display: flex; flex-direction: column; flex-basis: 100%; flex: 1; padding: 10px; }\n",
       "    </style>\n",
       "<div class=\"wandb-row\"><div class=\"wandb-col\"><h3>Run history:</h3><br/><table class=\"wandb\"><tr><td>Trainset Accuracy</td><td>▁</td></tr><tr><td>Trainset Loss</td><td>▁</td></tr><tr><td>Validation set Loss</td><td>▁</td></tr><tr><td>dropout_rate</td><td>▁</td></tr><tr><td>kernel_size</td><td>▁</td></tr><tr><td>learning_rate</td><td>▁</td></tr><tr><td>test_accuracy</td><td>▁</td></tr><tr><td>val_accuracy</td><td>▁</td></tr></table><br/></div><div class=\"wandb-col\"><h3>Run summary:</h3><br/><table class=\"wandb\"><tr><td>Trainset Accuracy</td><td>16.13519</td></tr><tr><td>Trainset Loss</td><td>2.2425</td></tr><tr><td>Validation set Loss</td><td>2.27131</td></tr><tr><td>dropout_rate</td><td>0.7</td></tr><tr><td>kernel_size</td><td>5</td></tr><tr><td>learning_rate</td><td>0.01</td></tr><tr><td>test_accuracy</td><td>15.45</td></tr><tr><td>val_accuracy</td><td>15.26667</td></tr></table><br/></div></div>"
      ],
      "text/plain": [
       "<IPython.core.display.HTML object>"
      ]
     },
     "metadata": {},
     "output_type": "display_data"
    },
    {
     "data": {
      "text/html": [
       " View run <strong style=\"color:#cdcd00\">robust-sweep-8</strong> at: <a href='https://wandb.ai/rohitgowlapalli01/CNN%20on%20Permuted-MNIST%20Dataset/runs/cna5cqrw' target=\"_blank\">https://wandb.ai/rohitgowlapalli01/CNN%20on%20Permuted-MNIST%20Dataset/runs/cna5cqrw</a><br/>Synced 5 W&B file(s), 0 media file(s), 0 artifact file(s) and 0 other file(s)"
      ],
      "text/plain": [
       "<IPython.core.display.HTML object>"
      ]
     },
     "metadata": {},
     "output_type": "display_data"
    },
    {
     "data": {
      "text/html": [
       "Find logs at: <code>./wandb/run-20231023_134123-cna5cqrw/logs</code>"
      ],
      "text/plain": [
       "<IPython.core.display.HTML object>"
      ]
     },
     "metadata": {},
     "output_type": "display_data"
    },
    {
     "name": "stderr",
     "output_type": "stream",
     "text": [
      "\u001b[34m\u001b[1mwandb\u001b[0m: Sweep Agent: Waiting for job.\n",
      "\u001b[34m\u001b[1mwandb\u001b[0m: Sweep Agent: Exiting.\n"
     ]
    },
    {
     "name": "stdout",
     "output_type": "stream",
     "text": [
      "Error in callback <function _WandbInit._pause_backend at 0x7f0a1adb1a60> (for post_run_cell):\n"
     ]
    },
    {
     "ename": "BrokenPipeError",
     "evalue": "[Errno 32] Broken pipe",
     "output_type": "error",
     "traceback": [
      "\u001b[0;31m---------------------------------------------------------------------------\u001b[0m",
      "\u001b[0;31mBrokenPipeError\u001b[0m                           Traceback (most recent call last)",
      "File \u001b[0;32m~/.local/lib/python3.8/site-packages/backcall/backcall.py:104\u001b[0m, in \u001b[0;36mcallback_prototype.<locals>.adapt.<locals>.adapted\u001b[0;34m(*args, **kwargs)\u001b[0m\n\u001b[1;32m    102\u001b[0m                 kwargs\u001b[39m.\u001b[39mpop(name)\n\u001b[1;32m    103\u001b[0m \u001b[39m#            print(args, kwargs, unmatched_pos, cut_positional, unmatched_kw)\u001b[39;00m\n\u001b[0;32m--> 104\u001b[0m             \u001b[39mreturn\u001b[39;00m callback(\u001b[39m*\u001b[39;49margs, \u001b[39m*\u001b[39;49m\u001b[39m*\u001b[39;49mkwargs)\n",
      "File \u001b[0;32m~/.local/lib/python3.8/site-packages/wandb/sdk/wandb_init.py:439\u001b[0m, in \u001b[0;36m_WandbInit._pause_backend\u001b[0;34m(self)\u001b[0m\n\u001b[1;32m    437\u001b[0m \u001b[39mif\u001b[39;00m \u001b[39mself\u001b[39m\u001b[39m.\u001b[39mbackend\u001b[39m.\u001b[39minterface \u001b[39mis\u001b[39;00m \u001b[39mnot\u001b[39;00m \u001b[39mNone\u001b[39;00m:\n\u001b[1;32m    438\u001b[0m     logger\u001b[39m.\u001b[39minfo(\u001b[39m\"\u001b[39m\u001b[39mpausing backend\u001b[39m\u001b[39m\"\u001b[39m)  \u001b[39m# type: ignore\u001b[39;00m\n\u001b[0;32m--> 439\u001b[0m     \u001b[39mself\u001b[39;49m\u001b[39m.\u001b[39;49mbackend\u001b[39m.\u001b[39;49minterface\u001b[39m.\u001b[39;49mpublish_pause()\n",
      "File \u001b[0;32m~/.local/lib/python3.8/site-packages/wandb/sdk/interface/interface.py:626\u001b[0m, in \u001b[0;36mInterfaceBase.publish_pause\u001b[0;34m(self)\u001b[0m\n\u001b[1;32m    624\u001b[0m \u001b[39mdef\u001b[39;00m \u001b[39mpublish_pause\u001b[39m(\u001b[39mself\u001b[39m) \u001b[39m-\u001b[39m\u001b[39m>\u001b[39m \u001b[39mNone\u001b[39;00m:\n\u001b[1;32m    625\u001b[0m     pause \u001b[39m=\u001b[39m pb\u001b[39m.\u001b[39mPauseRequest()\n\u001b[0;32m--> 626\u001b[0m     \u001b[39mself\u001b[39;49m\u001b[39m.\u001b[39;49m_publish_pause(pause)\n",
      "File \u001b[0;32m~/.local/lib/python3.8/site-packages/wandb/sdk/interface/interface_shared.py:343\u001b[0m, in \u001b[0;36mInterfaceShared._publish_pause\u001b[0;34m(self, pause)\u001b[0m\n\u001b[1;32m    341\u001b[0m \u001b[39mdef\u001b[39;00m \u001b[39m_publish_pause\u001b[39m(\u001b[39mself\u001b[39m, pause: pb\u001b[39m.\u001b[39mPauseRequest) \u001b[39m-\u001b[39m\u001b[39m>\u001b[39m \u001b[39mNone\u001b[39;00m:\n\u001b[1;32m    342\u001b[0m     rec \u001b[39m=\u001b[39m \u001b[39mself\u001b[39m\u001b[39m.\u001b[39m_make_request(pause\u001b[39m=\u001b[39mpause)\n\u001b[0;32m--> 343\u001b[0m     \u001b[39mself\u001b[39;49m\u001b[39m.\u001b[39;49m_publish(rec)\n",
      "File \u001b[0;32m~/.local/lib/python3.8/site-packages/wandb/sdk/interface/interface_sock.py:51\u001b[0m, in \u001b[0;36mInterfaceSock._publish\u001b[0;34m(self, record, local)\u001b[0m\n\u001b[1;32m     49\u001b[0m \u001b[39mdef\u001b[39;00m \u001b[39m_publish\u001b[39m(\u001b[39mself\u001b[39m, record: \u001b[39m\"\u001b[39m\u001b[39mpb.Record\u001b[39m\u001b[39m\"\u001b[39m, local: Optional[\u001b[39mbool\u001b[39m] \u001b[39m=\u001b[39m \u001b[39mNone\u001b[39;00m) \u001b[39m-\u001b[39m\u001b[39m>\u001b[39m \u001b[39mNone\u001b[39;00m:\n\u001b[1;32m     50\u001b[0m     \u001b[39mself\u001b[39m\u001b[39m.\u001b[39m_assign(record)\n\u001b[0;32m---> 51\u001b[0m     \u001b[39mself\u001b[39;49m\u001b[39m.\u001b[39;49m_sock_client\u001b[39m.\u001b[39;49msend_record_publish(record)\n",
      "File \u001b[0;32m~/.local/lib/python3.8/site-packages/wandb/sdk/lib/sock_client.py:221\u001b[0m, in \u001b[0;36mSockClient.send_record_publish\u001b[0;34m(self, record)\u001b[0m\n\u001b[1;32m    219\u001b[0m server_req \u001b[39m=\u001b[39m spb\u001b[39m.\u001b[39mServerRequest()\n\u001b[1;32m    220\u001b[0m server_req\u001b[39m.\u001b[39mrecord_publish\u001b[39m.\u001b[39mCopyFrom(record)\n\u001b[0;32m--> 221\u001b[0m \u001b[39mself\u001b[39;49m\u001b[39m.\u001b[39;49msend_server_request(server_req)\n",
      "File \u001b[0;32m~/.local/lib/python3.8/site-packages/wandb/sdk/lib/sock_client.py:155\u001b[0m, in \u001b[0;36mSockClient.send_server_request\u001b[0;34m(self, msg)\u001b[0m\n\u001b[1;32m    154\u001b[0m \u001b[39mdef\u001b[39;00m \u001b[39msend_server_request\u001b[39m(\u001b[39mself\u001b[39m, msg: Any) \u001b[39m-\u001b[39m\u001b[39m>\u001b[39m \u001b[39mNone\u001b[39;00m:\n\u001b[0;32m--> 155\u001b[0m     \u001b[39mself\u001b[39;49m\u001b[39m.\u001b[39;49m_send_message(msg)\n",
      "File \u001b[0;32m~/.local/lib/python3.8/site-packages/wandb/sdk/lib/sock_client.py:152\u001b[0m, in \u001b[0;36mSockClient._send_message\u001b[0;34m(self, msg)\u001b[0m\n\u001b[1;32m    150\u001b[0m header \u001b[39m=\u001b[39m struct\u001b[39m.\u001b[39mpack(\u001b[39m\"\u001b[39m\u001b[39m<BI\u001b[39m\u001b[39m\"\u001b[39m, \u001b[39mord\u001b[39m(\u001b[39m\"\u001b[39m\u001b[39mW\u001b[39m\u001b[39m\"\u001b[39m), raw_size)\n\u001b[1;32m    151\u001b[0m \u001b[39mwith\u001b[39;00m \u001b[39mself\u001b[39m\u001b[39m.\u001b[39m_lock:\n\u001b[0;32m--> 152\u001b[0m     \u001b[39mself\u001b[39;49m\u001b[39m.\u001b[39;49m_sendall_with_error_handle(header \u001b[39m+\u001b[39;49m data)\n",
      "File \u001b[0;32m~/.local/lib/python3.8/site-packages/wandb/sdk/lib/sock_client.py:130\u001b[0m, in \u001b[0;36mSockClient._sendall_with_error_handle\u001b[0;34m(self, data)\u001b[0m\n\u001b[1;32m    128\u001b[0m start_time \u001b[39m=\u001b[39m time\u001b[39m.\u001b[39mmonotonic()\n\u001b[1;32m    129\u001b[0m \u001b[39mtry\u001b[39;00m:\n\u001b[0;32m--> 130\u001b[0m     sent \u001b[39m=\u001b[39m \u001b[39mself\u001b[39;49m\u001b[39m.\u001b[39;49m_sock\u001b[39m.\u001b[39;49msend(data)\n\u001b[1;32m    131\u001b[0m     \u001b[39m# sent equal to 0 indicates a closed socket\u001b[39;00m\n\u001b[1;32m    132\u001b[0m     \u001b[39mif\u001b[39;00m sent \u001b[39m==\u001b[39m \u001b[39m0\u001b[39m:\n",
      "\u001b[0;31mBrokenPipeError\u001b[0m: [Errno 32] Broken pipe"
     ]
    }
   ],
   "source": [
    "import wandb\n",
    "wandb.init(project=\"CNN on Permuted-MNIST Dataset\")\n",
    "sweep_config = {\n",
    "    \"method\": \"grid\",\n",
    "    \"name\": \"CNN on Permuted-MNIST Dataset\",\n",
    "    \"metric\": {\"goal\": \"maximize\", \"name\": \"test_accuracy\"},\n",
    "    \"parameters\": { \n",
    "        \"learning_rate\": {\"values\": [0.001,0.01]},\n",
    "        \"kernel_size\": {\"values\": [3,5]},\n",
    "        \"dropout_rate\": {\"values\": [0.5,0.7]},\n",
    "    },\n",
    "}\n",
    "criterion = nn.CrossEntropyLoss()\n",
    "sweep_id = wandb.sweep(sweep_config, project=\"CNN on Permuted-MNIST Dataset\")\n",
    "def train():\n",
    "    wandb.init(project=\"CNN on Permuted-MNIST Dataset\")\n",
    "    config = wandb.config\n",
    "    learning_rate = config.learning_rate\n",
    "    dropout_rate = config.dropout_rate\n",
    "    kernel_size = config.kernel_size\n",
    "    print(learning_rate,dropout_rate,kernel_size)\n",
    "    model = CNN(dropout_size=dropout_rate, strides=2, kernel_size=kernel_size)\n",
    "    criterion = nn.CrossEntropyLoss()\n",
    "    optimizer = optim.Adam(model.parameters(), lr=learning_rate)\n",
    "    train_losses, val_losses, train_acc, val_acc  = train_model(model=model, train_loader=train_loader, val_loader=val_loader, criterion=criterion, optimizer=optimizer, num_epochs=4)\n",
    "    test_accuracy = test_model(model=model,test_loader=test_loader,criterion=criterion)\n",
    "    wandb.log({\"Trainset Loss\":train_losses[-1],\"Trainset Accuracy\":train_acc[-1],\"Validation set Loss\":val_losses[-1],\"val_accuracy\":val_acc[-1],\"test_accuracy\":test_accuracy,\"learning_rate\":learning_rate,\"dropout_rate\":dropout_rate,\"kernel_size\":kernel_size})\n",
    "\n",
    "# Run the sweep\n",
    "wandb.agent(sweep_id, function=train)\n",
    "wandb.finish()"
   ]
  },
  {
   "cell_type": "markdown",
   "metadata": {},
   "source": [
    "# Performance Comparison of MLP and CNN on Double-MNIST and Permuted MNIST Datasets\n",
    "```\n",
    "In this report, we compare the performance of Multi-Layer Perceptron (MLP) and Convolutional Neural Network (CNN) on two challenging datasets: Double-MNIST and Permuted MNIST. We will discuss observed differences, challenges faced during training and evaluation, and compare the potential for overfitting.\n",
    "```\n",
    "## Dataset Description\n",
    "\n",
    "### Double-MNIST Dataset\n",
    "```\n",
    "The Double-MNIST dataset contains images with two handwritten digits, and the task is to correctly identify and classify each digit within the image. Each image contains two digits in various positions, making it a multi-label classification problem.\n",
    "```\n",
    "### Permuted MNIST Dataset\n",
    "```\n",
    "The Permuted MNIST dataset is a variation of the original MNIST dataset. In Permuted MNIST, the pixels of each image are randomly permuted, destroying the spatial structure of the images. The goal is still to recognize the digits but without relying on spatial relationships between pixels.\n",
    "```\n",
    "## Methodology\n",
    "\n",
    "### Multi-Layer Perceptron (MLP)\n",
    "```\n",
    "- Architecture: A feedforward neural network with multiple hidden layers.\n",
    "- Activation Functions: Non-linear activation functions like ReLU.\n",
    "- Loss Function: Cross-entropy for classification tasks.\n",
    "- Training: Backpropagation with optimization methods like Adam.\n",
    "- Regularization: Dropout and L2 regularization for preventing overfitting.\n",
    "```\n",
    "### Convolutional Neural Network (CNN)\n",
    "```\n",
    "- Architecture: A convolutional neural network with convolutional and pooling layers.\n",
    "- Activation Functions: ReLU, Sigmoid.\n",
    "- Loss Function: Cross-entropy.\n",
    "- Training: Backpropagation with convolutional layer-specific parameters.\n",
    "- Regularization: Dropout, Batch Normalization.\n",
    "```\n",
    "## Performance Comparison\n",
    "\n",
    "### Double-MNIST Dataset\n",
    "```\n",
    "- MLP Performance: MLP achieves reasonably good accuracy on Double-MNIST due to its ability to capture patterns in digit images. However, it may struggle with spatial relationships.\n",
    "- CNN Performance: CNN outperforms MLP on the Double-MNIST dataset. Its ability to extract local features and spatial hierarchies benefits in identifying the two digits accurately.\n",
    "```\n",
    "### Permuted MNIST Dataset\n",
    "```\n",
    "- MLP Performance: MLP's performance degrades significantly on Permuted MNIST because it cannot rely on spatial relationships. Training an MLP on this dataset is challenging.\n",
    "- CNN Performance: CNN offers better performance on Permuted MNIST as it can still capture features despite the pixel permutation. However, it is not immune to the challenges posed by this dataset.\n",
    "```\n",
    "## Challenges\n",
    "```\n",
    "1. Spatial Structure: MLP struggles with tasks that rely heavily on spatial structure, such as Permuted MNIST.\n",
    "2. Complexity: CNN is computationally more intensive and requires more data and time for training, which may not be suitable for smaller datasets.\n",
    "3. Overfitting: Both MLP and CNN may overfit, and the extent of overfitting can vary based on dataset size, model complexity, and regularization.\n",
    "```\n",
    "## Overfitting Comparison\n",
    "```\n",
    "To compare the potential for overfitting between MLP and CNN, we examine training vs. validation loss/accuracy plots.\n",
    "\n",
    "- In the case of MLP, we observe that it may exhibit early overfitting, where the training loss decreases rapidly, but the validation loss starts increasing.\n",
    "- In contrast, CNN exhibits more robust generalization, especially on tasks where spatial relationships matter.\n",
    "```\n",
    "## Conclusion\n",
    "```\n",
    "- CNN outperforms MLP on tasks like Double-MNIST, where spatial relationships are important.\n",
    "- For tasks like Permuted MNIST, CNN still offers better performance than MLP, but the challenges are significant for both models.\n",
    "- Careful regularization and monitoring for overfitting are essential for both models, and the choice depends on the task, dataset size, and computational resources.\n",
    "```"
   ]
  }
 ],
 "metadata": {
  "kernelspec": {
   "display_name": "Python 3",
   "language": "python",
   "name": "python3"
  },
  "language_info": {
   "codemirror_mode": {
    "name": "ipython",
    "version": 3
   },
   "file_extension": ".py",
   "mimetype": "text/x-python",
   "name": "python",
   "nbconvert_exporter": "python",
   "pygments_lexer": "ipython3",
   "version": "3.8.10"
  }
 },
 "nbformat": 4,
 "nbformat_minor": 2
}
