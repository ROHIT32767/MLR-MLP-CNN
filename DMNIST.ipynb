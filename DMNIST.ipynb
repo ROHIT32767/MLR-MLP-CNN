{
 "cells": [
  {
   "cell_type": "code",
   "execution_count": 3,
   "metadata": {},
   "outputs": [
    {
     "data": {
      "image/png": "[encoded data removed]",
      "text/plain": [
       "<Figure size 1200x600 with 4 Axes>"
      ]
     },
     "metadata": {},
     "output_type": "display_data"
    }
   ],
   "source": [
    "import os\n",
    "import random\n",
    "import matplotlib.pyplot as plt\n",
    "from matplotlib.image import imread\n",
    "root_directory = './double_mnist'\n",
    "def display_images_from_folder(folder_path, num_images=4):\n",
    "    image_files = os.listdir(folder_path)\n",
    "    random_images = random.sample(image_files, num_images)\n",
    "    \n",
    "    plt.figure(figsize=(12, 6))\n",
    "    for i, image_file in enumerate(random_images):\n",
    "        image_path = os.path.join(folder_path, image_file)\n",
    "        image = imread(image_path)\n",
    "        plt.subplot(1, num_images, i + 1)\n",
    "        plt.imshow(image, cmap='gray')\n",
    "        plt.title(f\"Image {i + 1}\")\n",
    "        plt.axis('off')\n",
    "    plt.show()\n",
    "train_folder = os.path.join(root_directory, 'train', '01') \n",
    "display_images_from_folder(train_folder)\n"
   ]
  },
  {
   "cell_type": "markdown",
   "metadata": {},
   "source": [
    "# MLP On MNIST"
   ]
  },
  {
   "cell_type": "code",
   "execution_count": null,
   "metadata": {},
   "outputs": [],
   "source": []
  },
  {
   "cell_type": "markdown",
   "metadata": {},
   "source": [
    "# CNN on MNIST"
   ]
  },
  {
   "cell_type": "code",
   "execution_count": 1,
   "metadata": {},
   "outputs": [
    {
     "name": "stderr",
     "output_type": "stream",
     "text": [
      "/usr/lib/python3/dist-packages/requests/__init__.py:89: RequestsDependencyWarning: urllib3 (2.0.5) or chardet (3.0.4) doesn't match a supported version!\n",
      "  warnings.warn(\"urllib3 ({}) or chardet ({}) doesn't match a supported \"\n"
     ]
    },
    {
     "name": "stdout",
     "output_type": "stream",
     "text": [
      "['00', '01', '04', '05', '06', '08', '09', '11', '12', '13', '14', '15', '16', '18', '19', '20', '21', '23', '24', '26', '28', '29', '30', '31', '33', '35', '37', '38', '41', '42', '43', '44', '45', '50', '51', '53', '54', '56', '59', '60', '62', '63', '65', '69', '70', '72', '74', '75', '76', '77', '79', '81', '82', '84', '85', '87', '88', '89', '90', '91', '94', '95', '97', '98']\n",
      "Dataset CustomImageFolder\n",
      "    Number of datapoints: 64000\n",
      "    Root location: double_mnist/train\n",
      "    StandardTransform\n",
      "Transform: Compose(\n",
      "               Grayscale(num_output_channels=1)\n",
      "               Resize(size=(28, 28), interpolation=bilinear, max_size=None, antialias=warn)\n",
      "               ToTensor()\n",
      "               Normalize(mean=(0.5,), std=(0.5,))\n",
      "           )\n",
      "['03', '07', '10', '22', '27', '34', '39', '40', '48', '52', '58', '61', '64', '71', '93', '99']\n",
      "tensor([82, 89, 29, 37, 20, 82, 79, 89, 63, 62, 21, 85, 69, 33, 41, 42,  8, 63,\n",
      "        94, 79, 90, 97, 18, 87, 50, 41, 65, 60,  5, 21, 11, 87, 88, 43, 79, 89,\n",
      "        18, 85, 97, 12, 11, 74, 87,  8, 24, 54, 28, 42, 53, 21, 43, 23, 94, 26,\n",
      "         8, 95, 29, 75, 30,  1, 26, 13, 23, 11])\n",
      "tensor(3)\n",
      "tensor([3, 3, 3, 3, 3, 3, 3, 3, 3, 3, 3, 3, 3, 3, 3, 3, 3, 3, 3, 3, 3, 3, 3, 3,\n",
      "        3, 3, 3, 3, 3, 3, 3, 3, 3, 3, 3, 3, 3, 3, 3, 3, 3, 3, 3, 3, 3, 3, 3, 3,\n",
      "        3, 3, 3, 3, 3, 3, 3, 3, 3, 3, 3, 3, 3, 3, 3, 3])\n"
     ]
    },
    {
     "data": {
      "image/png": "[encoded data removed]",
      "text/plain": [
       "<Figure size 640x480 with 1 Axes>"
      ]
     },
     "metadata": {},
     "output_type": "display_data"
    }
   ],
   "source": [
    "import torch\n",
    "import torch.nn as nn\n",
    "import torch.optim as optim\n",
    "import torchvision.transforms as transforms\n",
    "import torchvision.datasets as datasets\n",
    "from torch.utils.data import DataLoader\n",
    "import matplotlib.pyplot as plt\n",
    "from sklearn.metrics import confusion_matrix, classification_report\n",
    "from PIL import Image\n",
    "import numpy as np\n",
    "import os\n",
    "from torchvision.datasets import ImageFolder\n",
    "\n",
    "transform = transforms.Compose([\n",
    "    transforms.Grayscale(num_output_channels=1),\n",
    "    transforms.Resize((28, 28)),\n",
    "    transforms.ToTensor(),\n",
    "    transforms.Normalize((0.5,), (0.5,))\n",
    "])\n",
    "train_data_path = 'double_mnist/train'\n",
    "val_data_path = 'double_mnist/val'\n",
    "test_data_path = 'double_mnist/test'\n",
    "class CustomImageFolder(ImageFolder):\n",
    "    def __init__(self, root, transform=None):\n",
    "        super(CustomImageFolder, self).__init__(root, transform=transform)\n",
    "    \n",
    "    def __getitem__(self, index):\n",
    "        path, target = self.samples[index]\n",
    "        sample = self.loader(path)\n",
    "        if self.transform is not None:\n",
    "            sample = self.transform(sample)\n",
    "        folder_name = os.path.basename(os.path.dirname(path))\n",
    "        return sample, int(folder_name) \n",
    "    \n",
    "train_dataset = CustomImageFolder(train_data_path, transform=transform)\n",
    "val_dataset = CustomImageFolder(val_data_path, transform=transform)\n",
    "test_dataset = CustomImageFolder(test_data_path, transform=transform)\n",
    "print(train_dataset.classes)\n",
    "class_to_label = {str(i).zfill(2): i for i in range(100)}\n",
    "# Define batch sizes\n",
    "batch_size = 64\n",
    "print(train_dataset)\n",
    "\n",
    "train_loader = DataLoader(train_dataset, batch_size=batch_size, shuffle=True)\n",
    "val_loader = DataLoader(val_dataset, batch_size=batch_size, shuffle=False)\n",
    "test_loader = DataLoader(test_dataset, batch_size=batch_size, shuffle=False)\n",
    "num_classes = 10\n",
    "class_names = train_dataset.classes\n",
    "class_names = val_dataset.classes\n",
    "print(class_names)\n",
    "for images, labels in train_loader:\n",
    "    print(labels)\n",
    "    break\n",
    "for images, labels in val_loader:\n",
    "    plt.imshow(images[0].permute(1, 2, 0))\n",
    "    print(labels[0])\n",
    "    print(labels)\n",
    "    break"
   ]
  },
  {
   "cell_type": "code",
   "execution_count": 2,
   "metadata": {},
   "outputs": [],
   "source": [
    "# Define a CNN class similar to the provided one\n",
    "class MultiMNIST_CNN(nn.Module):\n",
    "    def __init__(self, input_channels , num_classes , dropout_size=0.25, strides=2, kernel_size=3, pool_size=2):\n",
    "        super(MultiMNIST_CNN, self).__init__()\n",
    "        self.conv1 = nn.Conv2d(input_channels, 32, kernel_size=kernel_size, padding=int((kernel_size-1)/2))\n",
    "        self.relu1 = nn.ReLU()\n",
    "        self.maxpool1 = nn.MaxPool2d(kernel_size=pool_size, stride=strides)\n",
    "        self.conv2 = nn.Conv2d(32, 64, kernel_size=kernel_size, padding=int((kernel_size-1)/2))\n",
    "        self.relu2 = nn.ReLU()\n",
    "        self.maxpool2 = nn.MaxPool2d(kernel_size=pool_size, stride=strides)\n",
    "        self.var1 = int((28-pool_size)/strides)+1\n",
    "        self.dim = int((self.var1-pool_size)/strides)+1\n",
    "        self.fc1 = nn.Linear(64 * self.dim * self.dim, 128)\n",
    "        self.relu3 = nn.ReLU()\n",
    "        self.dropout = nn.Dropout(p=dropout_size)\n",
    "        self.fc2 = nn.Linear(128, num_classes)\n",
    "\n",
    "    def forward(self, x):\n",
    "        x = self.maxpool1(self.relu1(self.conv1(x)))\n",
    "        x = self.maxpool2(self.relu2(self.conv2(x)))\n",
    "        x = x.view(-1, 64 * self.dim * self.dim)\n",
    "        x = self.relu3(self.fc1(x))\n",
    "        x = self.dropout(x)\n",
    "        x = self.fc2(x)\n",
    "        return x\n",
    "\n",
    "model = MultiMNIST_CNN(input_channels=1,num_classes=num_classes)\n",
    "learning_rate = 0.001\n",
    "criterion = nn.CrossEntropyLoss()\n",
    "optimizer = optim.Adam(model.parameters(), lr=learning_rate)"
   ]
  },
  {
   "cell_type": "code",
   "execution_count": 3,
   "metadata": {},
   "outputs": [],
   "source": [
    "def train_model(model, train_loader, val_loader, criterion, optimizer, num_epochs=5):\n",
    "    train_losses, val_losses = [], []\n",
    "    train_acc, val_acc = [] , []\n",
    "\n",
    "    for epoch in range(num_epochs):\n",
    "        model.train()\n",
    "        running_loss = 0.0\n",
    "        correct_train = 0\n",
    "        total_train = 0\n",
    "\n",
    "        for images, labels in train_loader:\n",
    "            labels_group = labels//10\n",
    "            optimizer.zero_grad()\n",
    "            image = images.clone()\n",
    "            left_half = images[:, :, :, :images.shape[3] // 2]\n",
    "            image[:, :, :, (image.shape[3] // 2):] = left_half\n",
    "            outputs = model(image)\n",
    "            loss = criterion(outputs, labels_group)\n",
    "            loss.backward()\n",
    "            optimizer.step()\n",
    "            running_loss += loss.item()\n",
    "            _, predicted = torch.max(outputs.data, 1)\n",
    "            total_train += labels.size(0)\n",
    "            for k in range(labels.size(0)):\n",
    "                if(labels_group[k]==predicted[k]):\n",
    "                    correct_train = correct_train+1\n",
    "\n",
    "        train_accuracy = 100 * correct_train / total_train\n",
    "        train_losses.append(running_loss / len(train_loader))\n",
    "        train_acc.append(train_accuracy)\n",
    "\n",
    "        model.eval()\n",
    "        val_loss = 0.0\n",
    "        correct_val = 0\n",
    "        total_val = 0\n",
    "        count = 0\n",
    "        with torch.no_grad():\n",
    "            for images, labels in val_loader:\n",
    "                labels_group = labels // 10\n",
    "                image = images.clone()\n",
    "                left_half = images[:, :, :, :images.shape[3] // 2]\n",
    "                image[:, :, :, (image.shape[3] // 2):] = left_half\n",
    "                outputs = model(image)\n",
    "                loss = criterion(outputs, labels_group)\n",
    "                val_loss += loss.item()\n",
    "                _, predicted = torch.max(outputs.data, 1)\n",
    "                total_val += labels.size(0)\n",
    "                correct_val += (predicted == labels_group).sum().item()\n",
    "                count = count+1\n",
    "\n",
    "            val_accuracy = 100 * correct_val / total_val\n",
    "            val_losses.append(val_loss / len(val_loader))\n",
    "            val_acc.append(val_accuracy)\n",
    "\n",
    "        print(f'Epoch {epoch + 1}/{num_epochs}, Train Loss: {train_losses[-1]:.4f}, Train Acc: {train_accuracy:.2f}%, '\n",
    "              f'Val Loss: {val_losses[-1]:.4f}, Val Acc: {val_accuracy:.2f}%')\n",
    "\n",
    "    return train_losses, val_losses, train_acc, val_acc\n",
    "\n",
    "\n",
    "def test_model(model, test_loader, criterion):\n",
    "    model.eval()\n",
    "    test_loss = 0.0\n",
    "    correct_test = 0\n",
    "    total_test = 0\n",
    "    count = 0\n",
    "    with torch.no_grad():\n",
    "        for images, labels in test_loader:\n",
    "            labels_group = labels // 10\n",
    "            image = images.clone()\n",
    "            left_half = images[:, :, :, :images.shape[3] // 2]\n",
    "            image[:, :, :, (image.shape[3] // 2):] = left_half\n",
    "            outputs = model(image)\n",
    "            loss = criterion(outputs, labels_group)\n",
    "            test_loss += loss.item()\n",
    "            _, predicted = torch.max(outputs.data, 1)\n",
    "            total_test += labels.size(0)\n",
    "            correct_test += (predicted == labels_group).sum().item()\n",
    "            count = count+1\n",
    "        test_accuracy = 100 * correct_test / total_test\n",
    "        average_test_loss = (test_loss / len(test_loader))\n",
    "\n",
    "    print(f'Test Loss: {average_test_loss:.4f}, Test Acc: {test_accuracy:.2f}%')\n"
   ]
  },
  {
   "cell_type": "code",
   "execution_count": 4,
   "metadata": {},
   "outputs": [
    {
     "name": "stdout",
     "output_type": "stream",
     "text": [
      "Epoch 1/5, Train Loss: 0.6324, Train Acc: 79.24%, Val Loss: 0.1849, Val Acc: 94.56%\n",
      "Epoch 2/5, Train Loss: 0.1911, Train Acc: 94.17%, Val Loss: 0.1305, Val Acc: 96.01%\n",
      "Epoch 3/5, Train Loss: 0.1343, Train Acc: 95.89%, Val Loss: 0.1013, Val Acc: 96.78%\n",
      "Epoch 4/5, Train Loss: 0.1089, Train Acc: 96.62%, Val Loss: 0.0868, Val Acc: 97.27%\n",
      "Epoch 5/5, Train Loss: 0.0888, Train Acc: 97.20%, Val Loss: 0.0881, Val Acc: 97.39%\n",
      "Test Loss: 0.0942, Test Acc: 97.16%\n"
     ]
    }
   ],
   "source": [
    "train_losses, val_losses, train_acc, val_acc = train_model(model, train_loader, val_loader, criterion, optimizer, num_epochs=5)\n",
    "criterion = nn.CrossEntropyLoss()\n",
    "optimizer = optim.Adam(model.parameters(), lr=learning_rate)\n",
    "test_model(model,test_loader=test_loader,criterion=criterion)"
   ]
  },
  {
   "cell_type": "code",
   "execution_count": 5,
   "metadata": {},
   "outputs": [],
   "source": [
    "criterion = nn.CrossEntropyLoss()\n",
    "optimizer = optim.Adam(model.parameters(), lr=learning_rate)"
   ]
  },
  {
   "cell_type": "code",
   "execution_count": 8,
   "metadata": {},
   "outputs": [],
   "source": [
    "def train_model(model, train_loader, val_loader, criterion, optimizer, num_epochs=3):\n",
    "    train_losses, val_losses = [], []\n",
    "    train_acc, val_acc = [] , []\n",
    "\n",
    "    for epoch in range(num_epochs):\n",
    "        model.train()\n",
    "        running_loss = 0.0\n",
    "        correct_train = 0\n",
    "        total_train = 0\n",
    "\n",
    "        for images, labels in train_loader:\n",
    "            labels_group = labels % 10\n",
    "            optimizer.zero_grad()\n",
    "            image = images.clone()\n",
    "            right_half = images[:, :, :, images.shape[3] // 2:]\n",
    "            image[:, :, :, :(image.shape[3] // 2)] = right_half\n",
    "            outputs = model(image)\n",
    "            loss = criterion(outputs, labels_group)\n",
    "            loss.backward()\n",
    "            optimizer.step()\n",
    "            running_loss += loss.item()\n",
    "            _, predicted = torch.max(outputs.data, 1)\n",
    "            total_train += labels.size(0)\n",
    "            for k in range(labels.size(0)):\n",
    "                if(labels_group[k]==predicted[k]):\n",
    "                    correct_train = correct_train+1\n",
    "\n",
    "        train_accuracy = 100 * correct_train / total_train\n",
    "        train_losses.append(running_loss / len(train_loader))\n",
    "        train_acc.append(train_accuracy)\n",
    "\n",
    "        model.eval()\n",
    "        val_loss = 0.0\n",
    "        correct_val = 0\n",
    "        total_val = 0\n",
    "        count = 0\n",
    "        with torch.no_grad():\n",
    "            for images, labels in val_loader:\n",
    "                labels_group = labels % 10\n",
    "                image = images.clone()\n",
    "                right_half = images[:, :, :, images.shape[3] // 2:]\n",
    "                image[:, :, :, :(image.shape[3] // 2)] = right_half\n",
    "                outputs = model(image)\n",
    "                loss = criterion(outputs, labels_group)\n",
    "                val_loss += loss.item()\n",
    "                _, predicted = torch.max(outputs.data, 1)\n",
    "                total_val += labels.size(0)\n",
    "                correct_val += (predicted == labels_group).sum().item()\n",
    "                count = count+1\n",
    "\n",
    "            val_accuracy = 100 * correct_val / total_val\n",
    "            val_losses.append(val_loss / len(val_loader))\n",
    "            val_acc.append(val_accuracy)\n",
    "\n",
    "        print(f'Epoch {epoch + 1}/{num_epochs}, Train Loss: {train_losses[-1]:.4f}, Train Acc: {train_accuracy:.2f}%, '\n",
    "              f'Val Loss: {val_losses[-1]:.4f}, Val Acc: {val_accuracy:.2f}%')\n",
    "\n",
    "    return train_losses, val_losses, train_acc, val_acc\n",
    "\n",
    "\n",
    "def test_model(model, test_loader, criterion):\n",
    "    model.eval()\n",
    "    test_loss = 0.0\n",
    "    correct_test = 0\n",
    "    total_test = 0\n",
    "    count = 0\n",
    "    with torch.no_grad():\n",
    "        for images, labels in test_loader:\n",
    "            labels_group = labels % 10\n",
    "            image = images.clone()\n",
    "            right_half = images[:, :, :, images.shape[3] // 2:]\n",
    "            image[:, :, :, :(image.shape[3] // 2)] = right_half\n",
    "            outputs = model(image)\n",
    "            loss = criterion(outputs, labels_group)\n",
    "            test_loss += loss.item()\n",
    "            _, predicted = torch.max(outputs.data, 1)\n",
    "            total_test += labels.size(0)\n",
    "            correct_test += (predicted == labels_group).sum().item()\n",
    "            count = count+1\n",
    "        test_accuracy = 100 * correct_test / total_test\n",
    "        average_test_loss = (test_loss / len(test_loader))\n",
    "\n",
    "    print(f'Test Loss: {average_test_loss:.4f}, Test Acc: {test_accuracy:.2f}%')\n"
   ]
  },
  {
   "cell_type": "code",
   "execution_count": 9,
   "metadata": {},
   "outputs": [
    {
     "name": "stdout",
     "output_type": "stream",
     "text": [
      "Epoch 1/3, Train Loss: 0.0722, Train Acc: 97.70%, Val Loss: 0.0788, Val Acc: 97.54%\n",
      "Epoch 2/3, Train Loss: 0.0607, Train Acc: 98.04%, Val Loss: 0.0635, Val Acc: 98.18%\n",
      "Epoch 3/3, Train Loss: 0.0524, Train Acc: 98.30%, Val Loss: 0.0762, Val Acc: 97.80%\n",
      "Test Loss: 0.0763, Test Acc: 97.75%\n"
     ]
    }
   ],
   "source": [
    "train_losses, val_losses, train_acc, val_acc = train_model(model, train_loader, val_loader, criterion, optimizer, num_epochs=3)\n",
    "criterion = nn.CrossEntropyLoss()\n",
    "optimizer = optim.Adam(model.parameters(), lr=learning_rate)\n",
    "test_model(model,test_loader=test_loader,criterion=criterion)"
   ]
  },
  {
   "cell_type": "markdown",
   "metadata": {},
   "source": [
    "# Permuted MNIST"
   ]
  },
  {
   "cell_type": "code",
   "execution_count": null,
   "metadata": {},
   "outputs": [],
   "source": [
    "# To load the dataset, you can use np.load\n",
    "import numpy as np\n",
    "data = np.load(\"permuted_mnist.npz\")\n",
    "permuted_x_train = data[\"train_images\"]\n",
    "y_train = data[\"train_labels\"]\n",
    "permuted_x_test = data[\"test_images\"]\n",
    "y_test = data[\"test_labels\"]"
   ]
  },
  {
   "cell_type": "markdown",
   "metadata": {},
   "source": [
    "# CNN On Permuted MNIST"
   ]
  },
  {
   "cell_type": "code",
   "execution_count": null,
   "metadata": {},
   "outputs": [],
   "source": []
  }
 ],
 "metadata": {
  "kernelspec": {
   "display_name": "Python 3",
   "language": "python",
   "name": "python3"
  },
  "language_info": {
   "codemirror_mode": {
    "name": "ipython",
    "version": 3
   },
   "file_extension": ".py",
   "mimetype": "text/x-python",
   "name": "python",
   "nbconvert_exporter": "python",
   "pygments_lexer": "ipython3",
   "version": "3.8.10"
  }
 },
 "nbformat": 4,
 "nbformat_minor": 2
}
