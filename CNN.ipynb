{
 "cells": [
  {
   "cell_type": "markdown",
   "metadata": {},
   "source": [
    "# Data visualization and Preprocessing"
   ]
  },
  {
   "cell_type": "code",
   "execution_count": 1,
   "metadata": {},
   "outputs": [
    {
     "name": "stderr",
     "output_type": "stream",
     "text": [
      "/usr/lib/python3/dist-packages/requests/__init__.py:89: RequestsDependencyWarning: urllib3 (2.0.5) or chardet (3.0.4) doesn't match a supported version!\n",
      "  warnings.warn(\"urllib3 ({}) or chardet ({}) doesn't match a supported \"\n"
     ]
    }
   ],
   "source": [
    "import torch\n",
    "import torch.nn as nn\n",
    "import torch.optim as optim\n",
    "import torchvision\n",
    "import torchvision.transforms as transforms\n",
    "import matplotlib.pyplot as plt\n",
    "import numpy as np\n",
    "\n",
    "# Step 1: Load the MNIST dataset\n",
    "transform = transforms.Compose([transforms.ToTensor(), transforms.Normalize((0.5,), (0.5,))])\n",
    "\n",
    "trainset = torchvision.datasets.MNIST(root='./data', train=True, download=True, transform=transform)\n",
    "trainloader = torch.utils.data.DataLoader(trainset, batch_size=4, shuffle=True)\n",
    "\n",
    "# # Step 2: Visualize the distribution of labels\n",
    "# def plot_label_distribution(dataloader):\n",
    "#     label_counts = [0] * 10\n",
    "#     for _, labels in dataloader:\n",
    "#         for label in labels:\n",
    "#             label_counts[label.item()] += 1\n",
    "\n",
    "#     labels = [str(i) for i in range(10)]\n",
    "#     plt.bar(labels, label_counts)\n",
    "#     plt.xlabel('Labels')\n",
    "#     plt.ylabel('Count')\n",
    "#     plt.title('Distribution of Labels in MNIST Dataset')\n",
    "#     plt.show()\n",
    "\n",
    "# plot_label_distribution(trainloader)\n",
    "\n",
    "# # Step 3: Visualize samples from each class\n",
    "# def visualize_samples(dataloader, num_samples=5):\n",
    "#     class_samples = {i: [] for i in range(10)}\n",
    "\n",
    "#     for images, labels in dataloader:\n",
    "#         for image, label in zip(images, labels):\n",
    "#             if len(class_samples[label.item()]) < num_samples:\n",
    "#                 class_samples[label.item()].append(image)\n",
    "\n",
    "#     fig, axes = plt.subplots(10, num_samples, figsize=(12, 12))\n",
    "\n",
    "#     for i in range(10):\n",
    "#         for j in range(num_samples):\n",
    "#             axes[i, j].imshow(class_samples[i][j].squeeze(), cmap='gray')\n",
    "#             axes[i, j].axis('off')\n",
    "\n",
    "#     plt.suptitle('Samples from Each Class')\n",
    "#     plt.show()\n",
    "\n",
    "# visualize_samples(trainloader)\n",
    "\n",
    "# # Step 4: Check for class imbalance\n",
    "# label_counts = [0] * 10\n",
    "# for _, labels in trainloader:\n",
    "#     for label in labels:\n",
    "#         label_counts[label.item()] += 1\n",
    "\n",
    "# print(\"Class Imbalance:\")\n",
    "# for i, count in enumerate(label_counts):\n",
    "#     print(f\"Class {i}: {count} samples\")\n"
   ]
  },
  {
   "cell_type": "markdown",
   "metadata": {},
   "source": [
    "# Partitioning the dataset into train, validation, and test sets"
   ]
  },
  {
   "cell_type": "code",
   "execution_count": 2,
   "metadata": {},
   "outputs": [],
   "source": [
    "# Step 5: Partition the dataset into train, validation, and test sets\n",
    "train_size = int(0.8 * len(trainset))\n",
    "val_size = int(0.1 * len(trainset))\n",
    "test_size = len(trainset) - train_size - val_size\n",
    "train_data, val_data, test_data = torch.utils.data.random_split(trainset, [train_size, val_size, test_size])\n",
    "gen = torch.Generator().manual_seed(42)\n",
    "# Create train and validation data loaders\n",
    "batch_size = 64\n",
    "train_loader = torch.utils.data.DataLoader(train_data, batch_size=batch_size, shuffle=True)\n",
    "val_loader = torch.utils.data.DataLoader(val_data, batch_size=batch_size, shuffle=False)\n",
    "test_loader = torch.utils.data.DataLoader(test_data, batch_size=batch_size, shuffle=False)"
   ]
  },
  {
   "cell_type": "markdown",
   "metadata": {},
   "source": [
    "# Convolutional Neural Network in Python from Scratch"
   ]
  },
  {
   "cell_type": "code",
   "execution_count": 3,
   "metadata": {},
   "outputs": [],
   "source": [
    "import torch\n",
    "import torch.nn as nn\n",
    "import torch.optim as optim\n",
    "import matplotlib.pyplot as plt\n",
    "from sklearn.metrics import confusion_matrix , classification_report\n",
    "\n",
    "class CNN(nn.Module):\n",
    "    def __init__(self, dropout_size=0.25, strides=2, kernel_size=3,pool_size = 2):\n",
    "        super(CNN, self).__init__()\n",
    "        self.conv1 = nn.Conv2d(1, 32, kernel_size=kernel_size,padding=int((kernel_size-1)/2))\n",
    "        self.relu1 = nn.ReLU()\n",
    "        self.maxpool1 = nn.MaxPool2d(kernel_size=pool_size,stride=strides)\n",
    "        self.conv2 = nn.Conv2d(32, 64, kernel_size=kernel_size,padding=int((kernel_size-1)/2))\n",
    "        self.relu2 = nn.ReLU()\n",
    "        self.maxpool2 = nn.MaxPool2d(kernel_size=pool_size, stride=strides)\n",
    "        self.var1 = int((28-pool_size)/strides)+1\n",
    "        self.dim = int((self.var1-pool_size)/strides)+1\n",
    "        self.fc1 = nn.Linear(64 * self.dim * self.dim, 128)\n",
    "        self.relu3 = nn.ReLU()\n",
    "        self.dropout = nn.Dropout(p=dropout_size)\n",
    "        self.fc2 = nn.Linear(128, 10)\n",
    "\n",
    "\n",
    "    def forward(self, x):\n",
    "        x = self.maxpool1(self.relu1(self.conv1(x)))\n",
    "        x = self.maxpool2(self.relu2(self.conv2(x)))\n",
    "        x = x.view(-1,64*self.dim*self.dim)\n",
    "        x = self.relu3(self.fc1(x))\n",
    "        x = self.dropout(x)\n",
    "        x = self.fc2(x)\n",
    "        return x\n",
    "\n",
    "# Initialize the model with custom dropout, strides, and kernel_size\n",
    "model = CNN(dropout_size=0.25, strides=2, kernel_size=3)\n",
    "\n",
    "# Initialize the loss function and optimizer\n",
    "criterion = nn.CrossEntropyLoss()\n",
    "optimizer = optim.Adam(model.parameters(), lr=0.001)\n",
    "\n",
    "# Function to train the model\n",
    "def train_model(model, train_loader, val_loader, criterion, optimizer, num_epochs=1):\n",
    "    train_losses, val_losses = [], []\n",
    "    train_acc, val_acc = [] , []\n",
    "\n",
    "    for epoch in range(num_epochs):\n",
    "        model.train()\n",
    "        running_loss = 0.0\n",
    "        correct_train = 0\n",
    "        total_train = 0\n",
    "\n",
    "        for inputs, labels in train_loader:\n",
    "            optimizer.zero_grad()\n",
    "            outputs = model(inputs)\n",
    "            loss = criterion(outputs, labels)\n",
    "            loss.backward()\n",
    "            optimizer.step()\n",
    "\n",
    "            running_loss += loss.item()\n",
    "            _, predicted = torch.max(outputs.data, 1)\n",
    "            total_train += labels.size(0)\n",
    "            correct_train += (predicted == labels).sum().item()\n",
    "\n",
    "        train_accuracy = 100 * correct_train / total_train\n",
    "        train_losses.append(running_loss / len(train_loader))\n",
    "        train_acc.append(train_accuracy)\n",
    "\n",
    "        model.eval()\n",
    "        val_loss = 0.0\n",
    "        correct_val = 0\n",
    "        total_val = 0\n",
    "        all_predicted , all_actual = [] , []\n",
    "        with torch.no_grad():\n",
    "            for inputs, labels in val_loader:\n",
    "                outputs = model(inputs)\n",
    "                loss = criterion(outputs, labels)\n",
    "                val_loss += loss.item()\n",
    "                _, predicted = torch.max(outputs.data, 1)\n",
    "                total_val += labels.size(0)\n",
    "                correct_val += (predicted == labels).sum().item()\n",
    "                all_predicted.extend(predicted.tolist())\n",
    "                all_actual.extend(labels.tolist())\n",
    "\n",
    "            val_accuracy = 100 * correct_val / total_val\n",
    "            val_losses.append(val_loss / len(val_loader))\n",
    "            val_acc.append(val_accuracy)\n",
    "\n",
    "        print(f'Epoch {epoch + 1}/{num_epochs}, Train Loss: {train_losses[-1]:.4f}, Train Acc: {train_accuracy:.2f}%, '\n",
    "              f'Val Loss: {val_losses[-1]:.4f}, Val Acc: {val_accuracy:.2f}%')\n",
    "\n",
    "    return train_losses, val_losses, train_acc, val_acc , all_actual , all_predicted\n",
    "\n",
    "\n",
    "def test_model(model, test_loader, criterion):\n",
    "    model.eval()\n",
    "    test_loss = 0.0\n",
    "    correct_test = 0\n",
    "    total_test = 0\n",
    "    all_predicted , all_actual = [] , []\n",
    "    with torch.no_grad():\n",
    "        for inputs, labels in test_loader:\n",
    "            outputs = model(inputs)\n",
    "            loss = criterion(outputs, labels)\n",
    "            test_loss += loss.item()\n",
    "            _, predicted = torch.max(outputs.data, 1)\n",
    "            total_test += labels.size(0)\n",
    "            correct_test += (predicted == labels).sum().item()\n",
    "            all_predicted.extend(predicted.tolist())\n",
    "            all_actual.extend(labels.tolist())\n",
    "        test_accuracy = 100 * correct_test / total_test\n",
    "        test_loss = (test_loss / len(test_loader))\n",
    "    print(f'Test Loss: {test_loss:.4f}, Test Acc: {test_accuracy:.2f}%')\n",
    "    return test_accuracy , test_loss , all_actual , all_predicted"
   ]
  },
  {
   "cell_type": "code",
   "execution_count": 4,
   "metadata": {},
   "outputs": [
    {
     "name": "stdout",
     "output_type": "stream",
     "text": [
      "Epoch 1/5, Train Loss: 0.2040, Train Acc: 93.82%, Val Loss: 0.0630, Val Acc: 98.30%\n",
      "Epoch 2/5, Train Loss: 0.0648, Train Acc: 97.99%, Val Loss: 0.0499, Val Acc: 98.52%\n",
      "Epoch 3/5, Train Loss: 0.0476, Train Acc: 98.54%, Val Loss: 0.0410, Val Acc: 98.90%\n",
      "Epoch 4/5, Train Loss: 0.0357, Train Acc: 98.81%, Val Loss: 0.0449, Val Acc: 98.83%\n",
      "Epoch 5/5, Train Loss: 0.0306, Train Acc: 99.01%, Val Loss: 0.0370, Val Acc: 99.15%\n",
      "99.15\n",
      "Confusion Matrix\n",
      "[[587   0   0   0   0   0   1   0   2   1]\n",
      " [  0 676   0   1   0   0   0   0   0   1]\n",
      " [  0   0 603   0   1   0   0   2   1   0]\n",
      " [  0   0   2 598   0   1   0   0   1   0]\n",
      " [  0   1   1   0 609   0   0   1   0   2]\n",
      " [  1   0   1   1   0 507   3   0   1   1]\n",
      " [  0   0   0   0   1   0 586   0   0   0]\n",
      " [  0   2   0   0   1   0   0 624   2   3]\n",
      " [  1   0   1   1   0   0   2   0 583   3]\n",
      " [  1   1   0   0   2   1   0   0   2 576]]\n",
      "\n",
      "Class 0: Accuracy = 99.32%\n",
      "Class 1: Accuracy = 99.71%\n",
      "Class 2: Accuracy = 99.34%\n",
      "Class 3: Accuracy = 99.34%\n",
      "Class 4: Accuracy = 99.19%\n",
      "Class 5: Accuracy = 98.45%\n",
      "Class 6: Accuracy = 99.83%\n",
      "Class 7: Accuracy = 98.73%\n",
      "Class 8: Accuracy = 98.65%\n",
      "Class 9: Accuracy = 98.80%\n",
      "              precision    recall  f1-score   support\n",
      "\n",
      "           0       0.99      0.99      0.99       591\n",
      "           1       0.99      1.00      1.00       678\n",
      "           2       0.99      0.99      0.99       607\n",
      "           3       1.00      0.99      0.99       602\n",
      "           4       0.99      0.99      0.99       614\n",
      "           5       1.00      0.98      0.99       515\n",
      "           6       0.99      1.00      0.99       587\n",
      "           7       1.00      0.99      0.99       632\n",
      "           8       0.98      0.99      0.99       591\n",
      "           9       0.98      0.99      0.98       583\n",
      "\n",
      "    accuracy                           0.99      6000\n",
      "   macro avg       0.99      0.99      0.99      6000\n",
      "weighted avg       0.99      0.99      0.99      6000\n",
      "\n"
     ]
    },
    {
     "data": {
      "image/png": "[encoded data removed]",
      "text/plain": [
       "<Figure size 1200x400 with 2 Axes>"
      ]
     },
     "metadata": {},
     "output_type": "display_data"
    }
   ],
   "source": [
    "# Train the model\n",
    "train_losses, val_losses, train_acc, val_acc , all_actual , all_predicted = train_model(model, train_loader, val_loader, criterion, optimizer, num_epochs=5)\n",
    "print(val_acc[-1])\n",
    "print(\"Confusion Matrix\")\n",
    "print(confusion_matrix(all_actual,all_predicted))\n",
    "print()\n",
    "\n",
    "classwise_accuracy = []\n",
    "\n",
    "for class_label in range(10):\n",
    "    correct = sum(1 for a, p in zip(all_actual, all_predicted) if a == class_label and p == class_label)\n",
    "    total = all_actual.count(class_label)\n",
    "    accuracy = correct / total if total > 0 else 0.0\n",
    "    classwise_accuracy.append(accuracy)\n",
    "    print(f'Class {class_label}: Accuracy = {accuracy * 100:.2f}%')\n",
    "\n",
    "class_names = [str(i) for i in range(10)]\n",
    "classification_rep = classification_report(all_actual, all_predicted, target_names=class_names)\n",
    "print(classification_rep)\n",
    "    \n",
    "# Plot training and validation loss and accuracy\n",
    "plt.figure(figsize=(12, 4))\n",
    "plt.subplot(1, 2, 1)\n",
    "plt.plot(train_losses, label='Train Loss')\n",
    "plt.plot(val_losses, label='Val Loss')\n",
    "plt.xlabel('Epoch')\n",
    "plt.ylabel('Loss')\n",
    "plt.legend()\n",
    "\n",
    "plt.subplot(1, 2, 2)\n",
    "plt.plot(train_acc, label='Train Acc')\n",
    "plt.plot(val_acc, label='Val Acc')\n",
    "plt.xlabel('Epoch')\n",
    "plt.ylabel('Accuracy (%)')\n",
    "plt.legend()\n",
    "\n",
    "plt.show()"
   ]
  },
  {
   "cell_type": "markdown",
   "metadata": {},
   "source": [
    "# Evaluation on Test Dataset"
   ]
  },
  {
   "cell_type": "code",
   "execution_count": 6,
   "metadata": {},
   "outputs": [
    {
     "name": "stdout",
     "output_type": "stream",
     "text": [
      "Test Loss: 0.0294, Test Acc: 99.20%\n",
      "Confusion Matrix\n",
      "[[589   0   0   1   0   1   1   0   0   0]\n",
      " [  0 667   4   0   1   0   0   2   0   0]\n",
      " [  1   0 579   0   0   0   0   2   0   1]\n",
      " [  0   0   0 598   0   0   0   0   0   0]\n",
      " [  0   1   0   0 584   0   0   0   0   6]\n",
      " [  0   1   0   1   0 569   4   0   4   0]\n",
      " [  0   0   1   0   0   0 557   0   1   0]\n",
      " [  0   2   0   2   0   0   0 648   0   2]\n",
      " [  1   0   1   1   1   0   1   0 571   1]\n",
      " [  0   0   0   0   1   0   0   2   0 590]]\n",
      "\n",
      "Class 0: Accuracy = 99.49%\n",
      "Class 1: Accuracy = 98.96%\n",
      "Class 2: Accuracy = 99.31%\n",
      "Class 3: Accuracy = 100.00%\n",
      "Class 4: Accuracy = 98.82%\n",
      "Class 5: Accuracy = 98.27%\n",
      "Class 6: Accuracy = 99.64%\n",
      "Class 7: Accuracy = 99.08%\n",
      "Class 8: Accuracy = 98.96%\n",
      "Class 9: Accuracy = 99.49%\n",
      "              precision    recall  f1-score   support\n",
      "\n",
      "           0       1.00      0.99      1.00       592\n",
      "           1       0.99      0.99      0.99       674\n",
      "           2       0.99      0.99      0.99       583\n",
      "           3       0.99      1.00      1.00       598\n",
      "           4       0.99      0.99      0.99       591\n",
      "           5       1.00      0.98      0.99       579\n",
      "           6       0.99      1.00      0.99       559\n",
      "           7       0.99      0.99      0.99       654\n",
      "           8       0.99      0.99      0.99       577\n",
      "           9       0.98      0.99      0.99       593\n",
      "\n",
      "    accuracy                           0.99      6000\n",
      "   macro avg       0.99      0.99      0.99      6000\n",
      "weighted avg       0.99      0.99      0.99      6000\n",
      "\n"
     ]
    }
   ],
   "source": [
    "criterion = nn.CrossEntropyLoss()\n",
    "test_accuracy , test_loss , all_actual , all_predicted  = test_model(model, test_loader, criterion)\n",
    "print(\"Confusion Matrix\")\n",
    "print(confusion_matrix(all_actual,all_predicted))\n",
    "print()\n",
    "classwise_accuracy = []\n",
    "for class_label in range(10):\n",
    "    correct = sum(1 for a, p in zip(all_actual, all_predicted) if a == class_label and p == class_label)\n",
    "    total = all_actual.count(class_label)\n",
    "    accuracy = correct / total if total > 0 else 0.0\n",
    "    classwise_accuracy.append(accuracy)\n",
    "    print(f'Class {class_label}: Accuracy = {accuracy * 100:.2f}%')\n",
    "\n",
    "class_names = [str(i) for i in range(10)]\n",
    "classification_rep = classification_report(all_actual, all_predicted, target_names=class_names)\n",
    "print(classification_rep)"
   ]
  },
  {
   "cell_type": "markdown",
   "metadata": {},
   "source": [
    "# Feature Maps"
   ]
  },
  {
   "cell_type": "code",
   "execution_count": null,
   "metadata": {},
   "outputs": [],
   "source": [
    "sample_loader = iter(val_loader)\n",
    "sample_image, sample_label = next(sample_loader)\n",
    "\n",
    "def display_feature_maps(class_id):\n",
    "    activation = model.conv1(sample_image)\n",
    "    plt.figure(figsize=(10, 5))\n",
    "    plt.subplot(1, 2, 1)\n",
    "    plt.imshow(sample_image[0].permute(1, 2, 0).numpy())\n",
    "    plt.title(f\"Sample Image(Class:{sample_label})\")\n",
    "    plt.subplot(1, 2, 2)\n",
    "    plt.imshow(activation[0,class_id].detach().numpy(), cmap='viridis')\n",
    "    plt.title(f'Feature Maps for Class {class_id}')\n",
    "    plt.show()\n",
    "\n",
    "class_id = 0  \n",
    "display_feature_maps(class_id)"
   ]
  },
  {
   "cell_type": "markdown",
   "metadata": {},
   "source": [
    "# Hyperparameter Tuning"
   ]
  },
  {
   "cell_type": "code",
   "execution_count": 7,
   "metadata": {},
   "outputs": [
    {
     "name": "stderr",
     "output_type": "stream",
     "text": [
      "Failed to detect the name of this notebook, you can set it manually with the WANDB_NOTEBOOK_NAME environment variable to enable code saving.\n",
      "/usr/lib/python3/dist-packages/requests/__init__.py:89: RequestsDependencyWarning: urllib3 (2.0.5) or chardet (3.0.4) doesn't match a supported version!\n",
      "  warnings.warn(\"urllib3 ({}) or chardet ({}) doesn't match a supported \"\n",
      "\u001b[34m\u001b[1mwandb\u001b[0m: Currently logged in as: \u001b[33mrohitgowlapalli01\u001b[0m. Use \u001b[1m`wandb login --relogin`\u001b[0m to force relogin\n"
     ]
    },
    {
     "data": {
      "text/html": [
       "wandb version 0.15.12 is available!  To upgrade, please run:\n",
       " $ pip install wandb --upgrade"
      ],
      "text/plain": [
       "<IPython.core.display.HTML object>"
      ]
     },
     "metadata": {},
     "output_type": "display_data"
    },
    {
     "data": {
      "text/html": [
       "Tracking run with wandb version 0.15.11"
      ],
      "text/plain": [
       "<IPython.core.display.HTML object>"
      ]
     },
     "metadata": {},
     "output_type": "display_data"
    },
    {
     "data": {
      "text/html": [
       "Run data is saved locally in <code>/home/rohit172/IIIT-H/SEM-5/SMAI/Assignment-3/wandb/run-20231023_152056-1cp9floo</code>"
      ],
      "text/plain": [
       "<IPython.core.display.HTML object>"
      ]
     },
     "metadata": {},
     "output_type": "display_data"
    },
    {
     "data": {
      "text/html": [
       "Syncing run <strong><a href='https://wandb.ai/rohitgowlapalli01/Convolution-Neural-Networks/runs/1cp9floo' target=\"_blank\">amber-dream-243</a></strong> to <a href='https://wandb.ai/rohitgowlapalli01/Convolution-Neural-Networks' target=\"_blank\">Weights & Biases</a> (<a href='https://wandb.me/run' target=\"_blank\">docs</a>)<br/>"
      ],
      "text/plain": [
       "<IPython.core.display.HTML object>"
      ]
     },
     "metadata": {},
     "output_type": "display_data"
    },
    {
     "data": {
      "text/html": [
       " View project at <a href='https://wandb.ai/rohitgowlapalli01/Convolution-Neural-Networks' target=\"_blank\">https://wandb.ai/rohitgowlapalli01/Convolution-Neural-Networks</a>"
      ],
      "text/plain": [
       "<IPython.core.display.HTML object>"
      ]
     },
     "metadata": {},
     "output_type": "display_data"
    },
    {
     "data": {
      "text/html": [
       " View run at <a href='https://wandb.ai/rohitgowlapalli01/Convolution-Neural-Networks/runs/1cp9floo' target=\"_blank\">https://wandb.ai/rohitgowlapalli01/Convolution-Neural-Networks/runs/1cp9floo</a>"
      ],
      "text/plain": [
       "<IPython.core.display.HTML object>"
      ]
     },
     "metadata": {},
     "output_type": "display_data"
    },
    {
     "name": "stderr",
     "output_type": "stream",
     "text": [
      "\u001b[34m\u001b[1mwandb\u001b[0m: \u001b[33mWARNING\u001b[0m Calling wandb.login() after wandb.init() has no effect.\n"
     ]
    },
    {
     "name": "stdout",
     "output_type": "stream",
     "text": [
      "Create sweep with ID: mldcvia1\n",
      "Sweep URL: https://wandb.ai/rohitgowlapalli01/Convolution-Neural-Networks/sweeps/mldcvia1\n",
      "<IPython.core.display.HTML object>\n"
     ]
    },
    {
     "name": "stderr",
     "output_type": "stream",
     "text": [
      "wandb: WARNING Source type is set to 'repo' but some required information is missing from the environment. A job will not be created from this run. See https://docs.wandb.ai/guides/launch/create-job\n"
     ]
    },
    {
     "name": "stdout",
     "output_type": "stream",
     "text": [
      "<IPython.core.display.HTML object>\n",
      "<IPython.core.display.HTML object>\n"
     ]
    },
    {
     "name": "stderr",
     "output_type": "stream",
     "text": [
      "\u001b[34m\u001b[1mwandb\u001b[0m: Agent Starting Run: drg0xk59 with config:\n",
      "\u001b[34m\u001b[1mwandb\u001b[0m: \tbatch_size: 64\n",
      "\u001b[34m\u001b[1mwandb\u001b[0m: \tdropout_rate: 0.25\n",
      "\u001b[34m\u001b[1mwandb\u001b[0m: \tkernel_size: 3\n",
      "\u001b[34m\u001b[1mwandb\u001b[0m: \tlearning_rate: 0.001\n",
      "\u001b[34m\u001b[1mwandb\u001b[0m: \tnum_epochs: 2\n",
      "\u001b[34m\u001b[1mwandb\u001b[0m: \tstrides: 1\n",
      "/usr/lib/python3/dist-packages/requests/__init__.py:89: RequestsDependencyWarning: urllib3 (2.0.5) or chardet (3.0.4) doesn't match a supported version!\n",
      "  warnings.warn(\"urllib3 ({}) or chardet ({}) doesn't match a supported \"\n",
      "\u001b[34m\u001b[1mwandb\u001b[0m: \u001b[33mWARNING\u001b[0m Ignored wandb.init() arg project when running a sweep.\n",
      "Exception in thread ChkStopThr:\n",
      "Traceback (most recent call last):\n",
      "  File \"/usr/lib/python3.8/threading.py\", line 932, in _bootstrap_inner\n",
      "Exception in thread     Exception in thread IntMsgThrself.run():\n",
      "\n",
      "NetStatThrTraceback (most recent call last):\n",
      "  File \"/usr/lib/python3.8/threading.py\", line 870, in run\n",
      ":\n",
      "  File \"/usr/lib/python3.8/threading.py\", line 932, in _bootstrap_inner\n",
      "Traceback (most recent call last):\n",
      "  File \"/usr/lib/python3.8/threading.py\", line 932, in _bootstrap_inner\n",
      "    self._target(*self._args, **self._kwargs)\n",
      "  File \"/home/rohit172/.local/lib/python3.8/site-packages/wandb/sdk/wandb_run.py\", line 285, in check_stop_status\n",
      "    self.run()\n",
      "  File \"/usr/lib/python3.8/threading.py\", line 870, in run\n",
      "            self.run()self._target(*self._args, **self._kwargs)self._loop_check_status(\n",
      "\n",
      "\n",
      "  File \"/usr/lib/python3.8/threading.py\", line 870, in run\n",
      "  File \"/home/rohit172/.local/lib/python3.8/site-packages/wandb/sdk/wandb_run.py\", line 267, in check_network_status\n",
      "  File \"/home/rohit172/.local/lib/python3.8/site-packages/wandb/sdk/wandb_run.py\", line 223, in _loop_check_status\n",
      "    self._loop_check_status(\n",
      "  File \"/home/rohit172/.local/lib/python3.8/site-packages/wandb/sdk/wandb_run.py\", line 223, in _loop_check_status\n",
      "    self._target(*self._args, **self._kwargs)\n",
      "  File \"/home/rohit172/.local/lib/python3.8/site-packages/wandb/sdk/wandb_run.py\", line 299, in check_internal_messages\n",
      "    local_handle = request()\n",
      "  File \"/home/rohit172/.local/lib/python3.8/site-packages/wandb/sdk/interface/interface.py\", line 727, in deliver_stop_status\n",
      "    self._loop_check_status(\n",
      "  File \"/home/rohit172/.local/lib/python3.8/site-packages/wandb/sdk/wandb_run.py\", line 223, in _loop_check_status\n",
      "    local_handle = request()\n",
      "  File \"/home/rohit172/.local/lib/python3.8/site-packages/wandb/sdk/interface/interface.py\", line 735, in deliver_network_status\n",
      "            local_handle = request()return self._deliver_stop_status(status)return self._deliver_network_status(status)\n",
      "\n",
      "\n",
      "  File \"/home/rohit172/.local/lib/python3.8/site-packages/wandb/sdk/interface/interface.py\", line 743, in deliver_internal_messages\n",
      "  File \"/home/rohit172/.local/lib/python3.8/site-packages/wandb/sdk/interface/interface_shared.py\", line 450, in _deliver_stop_status\n",
      "  File \"/home/rohit172/.local/lib/python3.8/site-packages/wandb/sdk/interface/interface_shared.py\", line 466, in _deliver_network_status\n",
      "    return self._deliver_record(record)\n",
      "  File \"/home/rohit172/.local/lib/python3.8/site-packages/wandb/sdk/interface/interface_shared.py\", line 425, in _deliver_record\n",
      "    return self._deliver_internal_messages(internal_message)\n",
      "  File \"/home/rohit172/.local/lib/python3.8/site-packages/wandb/sdk/interface/interface_shared.py\", line 472, in _deliver_internal_messages\n",
      "    return self._deliver_record(record)\n",
      "  File \"/home/rohit172/.local/lib/python3.8/site-packages/wandb/sdk/interface/interface_shared.py\", line 425, in _deliver_record\n",
      "    return self._deliver_record(record)\n",
      "  File \"/home/rohit172/.local/lib/python3.8/site-packages/wandb/sdk/interface/interface_shared.py\", line 425, in _deliver_record\n",
      "    handle = mailbox._deliver_record(record, interface=self)\n",
      "  File \"/home/rohit172/.local/lib/python3.8/site-packages/wandb/sdk/lib/mailbox.py\", line 455, in _deliver_record\n",
      "    interface._publish(record)\n",
      "  File \"/home/rohit172/.local/lib/python3.8/site-packages/wandb/sdk/interface/interface_sock.py\", line 51, in _publish\n",
      "    handle = mailbox._deliver_record(record, interface=self)\n",
      "  File \"/home/rohit172/.local/lib/python3.8/site-packages/wandb/sdk/lib/mailbox.py\", line 455, in _deliver_record\n",
      "        handle = mailbox._deliver_record(record, interface=self)    self._sock_client.send_record_publish(record)\n",
      "interface._publish(record)\n",
      "  File \"/home/rohit172/.local/lib/python3.8/site-packages/wandb/sdk/lib/mailbox.py\", line 455, in _deliver_record\n",
      "\n",
      "  File \"/home/rohit172/.local/lib/python3.8/site-packages/wandb/sdk/lib/sock_client.py\", line 221, in send_record_publish\n",
      "  File \"/home/rohit172/.local/lib/python3.8/site-packages/wandb/sdk/interface/interface_sock.py\", line 51, in _publish\n",
      "    interface._publish(record)\n",
      "  File \"/home/rohit172/.local/lib/python3.8/site-packages/wandb/sdk/interface/interface_sock.py\", line 51, in _publish\n",
      "    self._sock_client.send_record_publish(record)\n",
      "  File \"/home/rohit172/.local/lib/python3.8/site-packages/wandb/sdk/lib/sock_client.py\", line 221, in send_record_publish\n",
      "    self.send_server_request(server_req)\n",
      "  File \"/home/rohit172/.local/lib/python3.8/site-packages/wandb/sdk/lib/sock_client.py\", line 155, in send_server_request\n",
      "    self._sock_client.send_record_publish(record)\n",
      "  File \"/home/rohit172/.local/lib/python3.8/site-packages/wandb/sdk/lib/sock_client.py\", line 221, in send_record_publish\n",
      "    self._send_message(msg)\n",
      "  File \"/home/rohit172/.local/lib/python3.8/site-packages/wandb/sdk/lib/sock_client.py\", line 152, in _send_message\n",
      "    self.send_server_request(server_req)\n",
      "  File \"/home/rohit172/.local/lib/python3.8/site-packages/wandb/sdk/lib/sock_client.py\", line 155, in send_server_request\n",
      "    self.send_server_request(server_req)\n",
      "  File \"/home/rohit172/.local/lib/python3.8/site-packages/wandb/sdk/lib/sock_client.py\", line 155, in send_server_request\n",
      "    self._sendall_with_error_handle(header + data)\n",
      "  File \"/home/rohit172/.local/lib/python3.8/site-packages/wandb/sdk/lib/sock_client.py\", line 130, in _sendall_with_error_handle\n",
      "    self._send_message(msg)\n",
      "  File \"/home/rohit172/.local/lib/python3.8/site-packages/wandb/sdk/lib/sock_client.py\", line 152, in _send_message\n",
      "    sent = self._sock.send(data)\n",
      "BrokenPipeError: [Errno 32] Broken pipe\n",
      "    self._send_message(msg)\n",
      "  File \"/home/rohit172/.local/lib/python3.8/site-packages/wandb/sdk/lib/sock_client.py\", line 152, in _send_message\n",
      "    self._sendall_with_error_handle(header + data)\n",
      "  File \"/home/rohit172/.local/lib/python3.8/site-packages/wandb/sdk/lib/sock_client.py\", line 130, in _sendall_with_error_handle\n",
      "    self._sendall_with_error_handle(header + data)\n",
      "  File \"/home/rohit172/.local/lib/python3.8/site-packages/wandb/sdk/lib/sock_client.py\", line 130, in _sendall_with_error_handle\n",
      "    sent = self._sock.send(data)\n",
      "BrokenPipeError: [Errno 32] Broken pipe\n",
      "    sent = self._sock.send(data)\n",
      "BrokenPipeError: [Errno 32] Broken pipe\n"
     ]
    },
    {
     "data": {
      "application/vnd.jupyter.widget-view+json": {
       "model_id": "f65e87c247f6465daaeb6be3e2fa711f",
       "version_major": 2,
       "version_minor": 0
      },
      "text/plain": [
       "VBox(children=(Label(value='Waiting for wandb.init()...\\r'), FloatProgress(value=0.011114501833333179, max=1.0…"
      ]
     },
     "metadata": {},
     "output_type": "display_data"
    },
    {
     "data": {
      "text/html": [
       "wandb version 0.15.12 is available!  To upgrade, please run:\n",
       " $ pip install wandb --upgrade"
      ],
      "text/plain": [
       "<IPython.core.display.HTML object>"
      ]
     },
     "metadata": {},
     "output_type": "display_data"
    },
    {
     "data": {
      "text/html": [
       "Tracking run with wandb version 0.15.11"
      ],
      "text/plain": [
       "<IPython.core.display.HTML object>"
      ]
     },
     "metadata": {},
     "output_type": "display_data"
    },
    {
     "data": {
      "text/html": [
       "Run data is saved locally in <code>/home/rohit172/IIIT-H/SEM-5/SMAI/Assignment-3/wandb/run-20231023_152113-drg0xk59</code>"
      ],
      "text/plain": [
       "<IPython.core.display.HTML object>"
      ]
     },
     "metadata": {},
     "output_type": "display_data"
    },
    {
     "data": {
      "text/html": [
       "Syncing run <strong><a href='https://wandb.ai/rohitgowlapalli01/Convolution-Neural-Networks/runs/drg0xk59' target=\"_blank\">absurd-sweep-1</a></strong> to <a href='https://wandb.ai/rohitgowlapalli01/Convolution-Neural-Networks' target=\"_blank\">Weights & Biases</a> (<a href='https://wandb.me/run' target=\"_blank\">docs</a>)<br/>Sweep page: <a href='https://wandb.ai/rohitgowlapalli01/Convolution-Neural-Networks/sweeps/mldcvia1' target=\"_blank\">https://wandb.ai/rohitgowlapalli01/Convolution-Neural-Networks/sweeps/mldcvia1</a>"
      ],
      "text/plain": [
       "<IPython.core.display.HTML object>"
      ]
     },
     "metadata": {},
     "output_type": "display_data"
    },
    {
     "data": {
      "text/html": [
       " View project at <a href='https://wandb.ai/rohitgowlapalli01/Convolution-Neural-Networks' target=\"_blank\">https://wandb.ai/rohitgowlapalli01/Convolution-Neural-Networks</a>"
      ],
      "text/plain": [
       "<IPython.core.display.HTML object>"
      ]
     },
     "metadata": {},
     "output_type": "display_data"
    },
    {
     "data": {
      "text/html": [
       " View sweep at <a href='https://wandb.ai/rohitgowlapalli01/Convolution-Neural-Networks/sweeps/mldcvia1' target=\"_blank\">https://wandb.ai/rohitgowlapalli01/Convolution-Neural-Networks/sweeps/mldcvia1</a>"
      ],
      "text/plain": [
       "<IPython.core.display.HTML object>"
      ]
     },
     "metadata": {},
     "output_type": "display_data"
    },
    {
     "data": {
      "text/html": [
       " View run at <a href='https://wandb.ai/rohitgowlapalli01/Convolution-Neural-Networks/runs/drg0xk59' target=\"_blank\">https://wandb.ai/rohitgowlapalli01/Convolution-Neural-Networks/runs/drg0xk59</a>"
      ],
      "text/plain": [
       "<IPython.core.display.HTML object>"
      ]
     },
     "metadata": {},
     "output_type": "display_data"
    },
    {
     "name": "stdout",
     "output_type": "stream",
     "text": [
      "0.001 64 0.25 3 1 2\n",
      "Epoch 1/2, Train Loss: 0.1809, Train Acc: 94.47%, Val Loss: 0.0587, Val Acc: 98.27%\n",
      "Epoch 2/2, Train Loss: 0.0586, Train Acc: 98.22%, Val Loss: 0.0403, Val Acc: 98.93%\n",
      "Test Loss: 0.0281, Test Acc: 99.10%\n"
     ]
    },
    {
     "data": {
      "text/html": [
       "Waiting for W&B process to finish... <strong style=\"color:green\">(success).</strong>"
      ],
      "text/plain": [
       "<IPython.core.display.HTML object>"
      ]
     },
     "metadata": {},
     "output_type": "display_data"
    },
    {
     "data": {
      "text/html": [
       "<style>\n",
       "    table.wandb td:nth-child(1) { padding: 0 10px; text-align: left ; width: auto;} td:nth-child(2) {text-align: left ; width: 100%}\n",
       "    .wandb-row { display: flex; flex-direction: row; flex-wrap: wrap; justify-content: flex-start; width: 100% }\n",
       "    .wandb-col { display: flex; flex-direction: column; flex-basis: 100%; flex: 1; padding: 10px; }\n",
       "    </style>\n",
       "<div class=\"wandb-row\"><div class=\"wandb-col\"><h3>Run history:</h3><br/><table class=\"wandb\"><tr><td>Trainset Accuracy</td><td>▁</td></tr><tr><td>Trainset Loss</td><td>▁</td></tr><tr><td>Validation set Loss</td><td>▁</td></tr><tr><td>test_accuracy</td><td>▁</td></tr><tr><td>val_accuracy</td><td>▁</td></tr></table><br/></div><div class=\"wandb-col\"><h3>Run summary:</h3><br/><table class=\"wandb\"><tr><td>Trainset Accuracy</td><td>98.22292</td></tr><tr><td>Trainset Loss</td><td>0.05862</td></tr><tr><td>Validation set Loss</td><td>0.04034</td></tr><tr><td>test_accuracy</td><td>99.1</td></tr><tr><td>val_accuracy</td><td>98.93333</td></tr></table><br/></div></div>"
      ],
      "text/plain": [
       "<IPython.core.display.HTML object>"
      ]
     },
     "metadata": {},
     "output_type": "display_data"
    },
    {
     "data": {
      "text/html": [
       " View run <strong style=\"color:#cdcd00\">absurd-sweep-1</strong> at: <a href='https://wandb.ai/rohitgowlapalli01/Convolution-Neural-Networks/runs/drg0xk59' target=\"_blank\">https://wandb.ai/rohitgowlapalli01/Convolution-Neural-Networks/runs/drg0xk59</a><br/>Synced 5 W&B file(s), 0 media file(s), 0 artifact file(s) and 0 other file(s)"
      ],
      "text/plain": [
       "<IPython.core.display.HTML object>"
      ]
     },
     "metadata": {},
     "output_type": "display_data"
    },
    {
     "data": {
      "text/html": [
       "Find logs at: <code>./wandb/run-20231023_152113-drg0xk59/logs</code>"
      ],
      "text/plain": [
       "<IPython.core.display.HTML object>"
      ]
     },
     "metadata": {},
     "output_type": "display_data"
    },
    {
     "name": "stderr",
     "output_type": "stream",
     "text": [
      "\u001b[34m\u001b[1mwandb\u001b[0m: Agent Starting Run: qokgkshp with config:\n",
      "\u001b[34m\u001b[1mwandb\u001b[0m: \tbatch_size: 64\n",
      "\u001b[34m\u001b[1mwandb\u001b[0m: \tdropout_rate: 0.25\n",
      "\u001b[34m\u001b[1mwandb\u001b[0m: \tkernel_size: 3\n",
      "\u001b[34m\u001b[1mwandb\u001b[0m: \tlearning_rate: 0.001\n",
      "\u001b[34m\u001b[1mwandb\u001b[0m: \tnum_epochs: 2\n",
      "\u001b[34m\u001b[1mwandb\u001b[0m: \tstrides: 2\n",
      "/usr/lib/python3/dist-packages/requests/__init__.py:89: RequestsDependencyWarning: urllib3 (2.0.5) or chardet (3.0.4) doesn't match a supported version!\n",
      "  warnings.warn(\"urllib3 ({}) or chardet ({}) doesn't match a supported \"\n",
      "\u001b[34m\u001b[1mwandb\u001b[0m: \u001b[33mWARNING\u001b[0m Ignored wandb.init() arg project when running a sweep.\n"
     ]
    },
    {
     "data": {
      "text/html": [
       "wandb version 0.15.12 is available!  To upgrade, please run:\n",
       " $ pip install wandb --upgrade"
      ],
      "text/plain": [
       "<IPython.core.display.HTML object>"
      ]
     },
     "metadata": {},
     "output_type": "display_data"
    },
    {
     "data": {
      "text/html": [
       "Tracking run with wandb version 0.15.11"
      ],
      "text/plain": [
       "<IPython.core.display.HTML object>"
      ]
     },
     "metadata": {},
     "output_type": "display_data"
    },
    {
     "data": {
      "text/html": [
       "Run data is saved locally in <code>/home/rohit172/IIIT-H/SEM-5/SMAI/Assignment-3/wandb/run-20231023_152717-qokgkshp</code>"
      ],
      "text/plain": [
       "<IPython.core.display.HTML object>"
      ]
     },
     "metadata": {},
     "output_type": "display_data"
    },
    {
     "data": {
      "text/html": [
       "Syncing run <strong><a href='https://wandb.ai/rohitgowlapalli01/Convolution-Neural-Networks/runs/qokgkshp' target=\"_blank\">skilled-sweep-2</a></strong> to <a href='https://wandb.ai/rohitgowlapalli01/Convolution-Neural-Networks' target=\"_blank\">Weights & Biases</a> (<a href='https://wandb.me/run' target=\"_blank\">docs</a>)<br/>Sweep page: <a href='https://wandb.ai/rohitgowlapalli01/Convolution-Neural-Networks/sweeps/mldcvia1' target=\"_blank\">https://wandb.ai/rohitgowlapalli01/Convolution-Neural-Networks/sweeps/mldcvia1</a>"
      ],
      "text/plain": [
       "<IPython.core.display.HTML object>"
      ]
     },
     "metadata": {},
     "output_type": "display_data"
    },
    {
     "data": {
      "text/html": [
       " View project at <a href='https://wandb.ai/rohitgowlapalli01/Convolution-Neural-Networks' target=\"_blank\">https://wandb.ai/rohitgowlapalli01/Convolution-Neural-Networks</a>"
      ],
      "text/plain": [
       "<IPython.core.display.HTML object>"
      ]
     },
     "metadata": {},
     "output_type": "display_data"
    },
    {
     "data": {
      "text/html": [
       " View sweep at <a href='https://wandb.ai/rohitgowlapalli01/Convolution-Neural-Networks/sweeps/mldcvia1' target=\"_blank\">https://wandb.ai/rohitgowlapalli01/Convolution-Neural-Networks/sweeps/mldcvia1</a>"
      ],
      "text/plain": [
       "<IPython.core.display.HTML object>"
      ]
     },
     "metadata": {},
     "output_type": "display_data"
    },
    {
     "data": {
      "text/html": [
       " View run at <a href='https://wandb.ai/rohitgowlapalli01/Convolution-Neural-Networks/runs/qokgkshp' target=\"_blank\">https://wandb.ai/rohitgowlapalli01/Convolution-Neural-Networks/runs/qokgkshp</a>"
      ],
      "text/plain": [
       "<IPython.core.display.HTML object>"
      ]
     },
     "metadata": {},
     "output_type": "display_data"
    },
    {
     "name": "stdout",
     "output_type": "stream",
     "text": [
      "0.001 64 0.25 3 2 2\n",
      "Epoch 1/2, Train Loss: 0.2067, Train Acc: 93.56%, Val Loss: 0.0671, Val Acc: 97.92%\n",
      "Epoch 2/2, Train Loss: 0.0651, Train Acc: 98.06%, Val Loss: 0.0461, Val Acc: 98.75%\n",
      "Test Loss: 0.0355, Test Acc: 98.73%\n"
     ]
    },
    {
     "data": {
      "text/html": [
       "Waiting for W&B process to finish... <strong style=\"color:green\">(success).</strong>"
      ],
      "text/plain": [
       "<IPython.core.display.HTML object>"
      ]
     },
     "metadata": {},
     "output_type": "display_data"
    },
    {
     "data": {
      "text/html": [
       "<style>\n",
       "    table.wandb td:nth-child(1) { padding: 0 10px; text-align: left ; width: auto;} td:nth-child(2) {text-align: left ; width: 100%}\n",
       "    .wandb-row { display: flex; flex-direction: row; flex-wrap: wrap; justify-content: flex-start; width: 100% }\n",
       "    .wandb-col { display: flex; flex-direction: column; flex-basis: 100%; flex: 1; padding: 10px; }\n",
       "    </style>\n",
       "<div class=\"wandb-row\"><div class=\"wandb-col\"><h3>Run history:</h3><br/><table class=\"wandb\"><tr><td>Trainset Accuracy</td><td>▁</td></tr><tr><td>Trainset Loss</td><td>▁</td></tr><tr><td>Validation set Loss</td><td>▁</td></tr><tr><td>test_accuracy</td><td>▁</td></tr><tr><td>val_accuracy</td><td>▁</td></tr></table><br/></div><div class=\"wandb-col\"><h3>Run summary:</h3><br/><table class=\"wandb\"><tr><td>Trainset Accuracy</td><td>98.05625</td></tr><tr><td>Trainset Loss</td><td>0.06506</td></tr><tr><td>Validation set Loss</td><td>0.04608</td></tr><tr><td>test_accuracy</td><td>98.73333</td></tr><tr><td>val_accuracy</td><td>98.75</td></tr></table><br/></div></div>"
      ],
      "text/plain": [
       "<IPython.core.display.HTML object>"
      ]
     },
     "metadata": {},
     "output_type": "display_data"
    },
    {
     "data": {
      "text/html": [
       " View run <strong style=\"color:#cdcd00\">skilled-sweep-2</strong> at: <a href='https://wandb.ai/rohitgowlapalli01/Convolution-Neural-Networks/runs/qokgkshp' target=\"_blank\">https://wandb.ai/rohitgowlapalli01/Convolution-Neural-Networks/runs/qokgkshp</a><br/>Synced 5 W&B file(s), 0 media file(s), 0 artifact file(s) and 0 other file(s)"
      ],
      "text/plain": [
       "<IPython.core.display.HTML object>"
      ]
     },
     "metadata": {},
     "output_type": "display_data"
    },
    {
     "data": {
      "text/html": [
       "Find logs at: <code>./wandb/run-20231023_152717-qokgkshp/logs</code>"
      ],
      "text/plain": [
       "<IPython.core.display.HTML object>"
      ]
     },
     "metadata": {},
     "output_type": "display_data"
    },
    {
     "name": "stderr",
     "output_type": "stream",
     "text": [
      "\u001b[34m\u001b[1mwandb\u001b[0m: Agent Starting Run: 172zhnwe with config:\n",
      "\u001b[34m\u001b[1mwandb\u001b[0m: \tbatch_size: 64\n",
      "\u001b[34m\u001b[1mwandb\u001b[0m: \tdropout_rate: 0.25\n",
      "\u001b[34m\u001b[1mwandb\u001b[0m: \tkernel_size: 3\n",
      "\u001b[34m\u001b[1mwandb\u001b[0m: \tlearning_rate: 0.001\n",
      "\u001b[34m\u001b[1mwandb\u001b[0m: \tnum_epochs: 3\n",
      "\u001b[34m\u001b[1mwandb\u001b[0m: \tstrides: 1\n",
      "/usr/lib/python3/dist-packages/requests/__init__.py:89: RequestsDependencyWarning: urllib3 (2.0.5) or chardet (3.0.4) doesn't match a supported version!\n",
      "  warnings.warn(\"urllib3 ({}) or chardet ({}) doesn't match a supported \"\n",
      "\u001b[34m\u001b[1mwandb\u001b[0m: \u001b[33mWARNING\u001b[0m Ignored wandb.init() arg project when running a sweep.\n"
     ]
    },
    {
     "data": {
      "application/vnd.jupyter.widget-view+json": {
       "model_id": "486223fb8a3f4d68bda131f7442943c4",
       "version_major": 2,
       "version_minor": 0
      },
      "text/plain": [
       "VBox(children=(Label(value='Waiting for wandb.init()...\\r'), FloatProgress(value=0.011113008366666892, max=1.0…"
      ]
     },
     "metadata": {},
     "output_type": "display_data"
    },
    {
     "data": {
      "text/html": [
       "wandb version 0.15.12 is available!  To upgrade, please run:\n",
       " $ pip install wandb --upgrade"
      ],
      "text/plain": [
       "<IPython.core.display.HTML object>"
      ]
     },
     "metadata": {},
     "output_type": "display_data"
    },
    {
     "data": {
      "text/html": [
       "Tracking run with wandb version 0.15.11"
      ],
      "text/plain": [
       "<IPython.core.display.HTML object>"
      ]
     },
     "metadata": {},
     "output_type": "display_data"
    },
    {
     "data": {
      "text/html": [
       "Run data is saved locally in <code>/home/rohit172/IIIT-H/SEM-5/SMAI/Assignment-3/wandb/run-20231023_152852-172zhnwe</code>"
      ],
      "text/plain": [
       "<IPython.core.display.HTML object>"
      ]
     },
     "metadata": {},
     "output_type": "display_data"
    },
    {
     "data": {
      "text/html": [
       "Syncing run <strong><a href='https://wandb.ai/rohitgowlapalli01/Convolution-Neural-Networks/runs/172zhnwe' target=\"_blank\">avid-sweep-3</a></strong> to <a href='https://wandb.ai/rohitgowlapalli01/Convolution-Neural-Networks' target=\"_blank\">Weights & Biases</a> (<a href='https://wandb.me/run' target=\"_blank\">docs</a>)<br/>Sweep page: <a href='https://wandb.ai/rohitgowlapalli01/Convolution-Neural-Networks/sweeps/mldcvia1' target=\"_blank\">https://wandb.ai/rohitgowlapalli01/Convolution-Neural-Networks/sweeps/mldcvia1</a>"
      ],
      "text/plain": [
       "<IPython.core.display.HTML object>"
      ]
     },
     "metadata": {},
     "output_type": "display_data"
    },
    {
     "data": {
      "text/html": [
       " View project at <a href='https://wandb.ai/rohitgowlapalli01/Convolution-Neural-Networks' target=\"_blank\">https://wandb.ai/rohitgowlapalli01/Convolution-Neural-Networks</a>"
      ],
      "text/plain": [
       "<IPython.core.display.HTML object>"
      ]
     },
     "metadata": {},
     "output_type": "display_data"
    },
    {
     "data": {
      "text/html": [
       " View sweep at <a href='https://wandb.ai/rohitgowlapalli01/Convolution-Neural-Networks/sweeps/mldcvia1' target=\"_blank\">https://wandb.ai/rohitgowlapalli01/Convolution-Neural-Networks/sweeps/mldcvia1</a>"
      ],
      "text/plain": [
       "<IPython.core.display.HTML object>"
      ]
     },
     "metadata": {},
     "output_type": "display_data"
    },
    {
     "data": {
      "text/html": [
       " View run at <a href='https://wandb.ai/rohitgowlapalli01/Convolution-Neural-Networks/runs/172zhnwe' target=\"_blank\">https://wandb.ai/rohitgowlapalli01/Convolution-Neural-Networks/runs/172zhnwe</a>"
      ],
      "text/plain": [
       "<IPython.core.display.HTML object>"
      ]
     },
     "metadata": {},
     "output_type": "display_data"
    },
    {
     "name": "stdout",
     "output_type": "stream",
     "text": [
      "0.001 64 0.25 3 1 3\n",
      "Epoch 1/3, Train Loss: 0.1747, Train Acc: 94.63%, Val Loss: 0.0524, Val Acc: 98.52%\n",
      "Epoch 2/3, Train Loss: 0.0625, Train Acc: 98.10%, Val Loss: 0.0453, Val Acc: 98.78%\n",
      "Epoch 3/3, Train Loss: 0.0470, Train Acc: 98.50%, Val Loss: 0.0458, Val Acc: 98.77%\n",
      "Test Loss: 0.0337, Test Acc: 99.00%\n"
     ]
    },
    {
     "data": {
      "text/html": [
       "Waiting for W&B process to finish... <strong style=\"color:green\">(success).</strong>"
      ],
      "text/plain": [
       "<IPython.core.display.HTML object>"
      ]
     },
     "metadata": {},
     "output_type": "display_data"
    },
    {
     "data": {
      "application/vnd.jupyter.widget-view+json": {
       "model_id": "b8f821b940ee47e9a1b593d53cb391f0",
       "version_major": 2,
       "version_minor": 0
      },
      "text/plain": [
       "VBox(children=(Label(value='0.002 MB of 0.002 MB uploaded (0.000 MB deduped)\\r'), FloatProgress(value=1.0, max…"
      ]
     },
     "metadata": {},
     "output_type": "display_data"
    },
    {
     "data": {
      "text/html": [
       "<style>\n",
       "    table.wandb td:nth-child(1) { padding: 0 10px; text-align: left ; width: auto;} td:nth-child(2) {text-align: left ; width: 100%}\n",
       "    .wandb-row { display: flex; flex-direction: row; flex-wrap: wrap; justify-content: flex-start; width: 100% }\n",
       "    .wandb-col { display: flex; flex-direction: column; flex-basis: 100%; flex: 1; padding: 10px; }\n",
       "    </style>\n",
       "<div class=\"wandb-row\"><div class=\"wandb-col\"><h3>Run history:</h3><br/><table class=\"wandb\"><tr><td>Trainset Accuracy</td><td>▁</td></tr><tr><td>Trainset Loss</td><td>▁</td></tr><tr><td>Validation set Loss</td><td>▁</td></tr><tr><td>test_accuracy</td><td>▁</td></tr><tr><td>val_accuracy</td><td>▁</td></tr></table><br/></div><div class=\"wandb-col\"><h3>Run summary:</h3><br/><table class=\"wandb\"><tr><td>Trainset Accuracy</td><td>98.5</td></tr><tr><td>Trainset Loss</td><td>0.04705</td></tr><tr><td>Validation set Loss</td><td>0.04576</td></tr><tr><td>test_accuracy</td><td>99.0</td></tr><tr><td>val_accuracy</td><td>98.76667</td></tr></table><br/></div></div>"
      ],
      "text/plain": [
       "<IPython.core.display.HTML object>"
      ]
     },
     "metadata": {},
     "output_type": "display_data"
    },
    {
     "data": {
      "text/html": [
       " View run <strong style=\"color:#cdcd00\">avid-sweep-3</strong> at: <a href='https://wandb.ai/rohitgowlapalli01/Convolution-Neural-Networks/runs/172zhnwe' target=\"_blank\">https://wandb.ai/rohitgowlapalli01/Convolution-Neural-Networks/runs/172zhnwe</a><br/>Synced 5 W&B file(s), 0 media file(s), 0 artifact file(s) and 0 other file(s)"
      ],
      "text/plain": [
       "<IPython.core.display.HTML object>"
      ]
     },
     "metadata": {},
     "output_type": "display_data"
    },
    {
     "data": {
      "text/html": [
       "Find logs at: <code>./wandb/run-20231023_152852-172zhnwe/logs</code>"
      ],
      "text/plain": [
       "<IPython.core.display.HTML object>"
      ]
     },
     "metadata": {},
     "output_type": "display_data"
    },
    {
     "name": "stderr",
     "output_type": "stream",
     "text": [
      "\u001b[34m\u001b[1mwandb\u001b[0m: Sweep Agent: Waiting for job.\n",
      "\u001b[34m\u001b[1mwandb\u001b[0m: Job received.\n",
      "\u001b[34m\u001b[1mwandb\u001b[0m: Agent Starting Run: e4ltk43m with config:\n",
      "\u001b[34m\u001b[1mwandb\u001b[0m: \tbatch_size: 64\n",
      "\u001b[34m\u001b[1mwandb\u001b[0m: \tdropout_rate: 0.25\n",
      "\u001b[34m\u001b[1mwandb\u001b[0m: \tkernel_size: 3\n",
      "\u001b[34m\u001b[1mwandb\u001b[0m: \tlearning_rate: 0.001\n",
      "\u001b[34m\u001b[1mwandb\u001b[0m: \tnum_epochs: 3\n",
      "\u001b[34m\u001b[1mwandb\u001b[0m: \tstrides: 2\n",
      "/usr/lib/python3/dist-packages/requests/__init__.py:89: RequestsDependencyWarning: urllib3 (2.0.5) or chardet (3.0.4) doesn't match a supported version!\n",
      "  warnings.warn(\"urllib3 ({}) or chardet ({}) doesn't match a supported \"\n",
      "\u001b[34m\u001b[1mwandb\u001b[0m: \u001b[33mWARNING\u001b[0m Ignored wandb.init() arg project when running a sweep.\n"
     ]
    },
    {
     "data": {
      "application/vnd.jupyter.widget-view+json": {
       "model_id": "df63bf6ef99c4bc689b196697affaf07",
       "version_major": 2,
       "version_minor": 0
      },
      "text/plain": [
       "VBox(children=(Label(value='Waiting for wandb.init()...\\r'), FloatProgress(value=0.011113211088887612, max=1.0…"
      ]
     },
     "metadata": {},
     "output_type": "display_data"
    },
    {
     "data": {
      "text/html": [
       "wandb version 0.15.12 is available!  To upgrade, please run:\n",
       " $ pip install wandb --upgrade"
      ],
      "text/plain": [
       "<IPython.core.display.HTML object>"
      ]
     },
     "metadata": {},
     "output_type": "display_data"
    },
    {
     "data": {
      "text/html": [
       "Tracking run with wandb version 0.15.11"
      ],
      "text/plain": [
       "<IPython.core.display.HTML object>"
      ]
     },
     "metadata": {},
     "output_type": "display_data"
    },
    {
     "data": {
      "text/html": [
       "Run data is saved locally in <code>/home/rohit172/IIIT-H/SEM-5/SMAI/Assignment-3/wandb/run-20231023_153807-e4ltk43m</code>"
      ],
      "text/plain": [
       "<IPython.core.display.HTML object>"
      ]
     },
     "metadata": {},
     "output_type": "display_data"
    },
    {
     "data": {
      "text/html": [
       "Syncing run <strong><a href='https://wandb.ai/rohitgowlapalli01/Convolution-Neural-Networks/runs/e4ltk43m' target=\"_blank\">effortless-sweep-4</a></strong> to <a href='https://wandb.ai/rohitgowlapalli01/Convolution-Neural-Networks' target=\"_blank\">Weights & Biases</a> (<a href='https://wandb.me/run' target=\"_blank\">docs</a>)<br/>Sweep page: <a href='https://wandb.ai/rohitgowlapalli01/Convolution-Neural-Networks/sweeps/mldcvia1' target=\"_blank\">https://wandb.ai/rohitgowlapalli01/Convolution-Neural-Networks/sweeps/mldcvia1</a>"
      ],
      "text/plain": [
       "<IPython.core.display.HTML object>"
      ]
     },
     "metadata": {},
     "output_type": "display_data"
    },
    {
     "data": {
      "text/html": [
       " View project at <a href='https://wandb.ai/rohitgowlapalli01/Convolution-Neural-Networks' target=\"_blank\">https://wandb.ai/rohitgowlapalli01/Convolution-Neural-Networks</a>"
      ],
      "text/plain": [
       "<IPython.core.display.HTML object>"
      ]
     },
     "metadata": {},
     "output_type": "display_data"
    },
    {
     "data": {
      "text/html": [
       " View sweep at <a href='https://wandb.ai/rohitgowlapalli01/Convolution-Neural-Networks/sweeps/mldcvia1' target=\"_blank\">https://wandb.ai/rohitgowlapalli01/Convolution-Neural-Networks/sweeps/mldcvia1</a>"
      ],
      "text/plain": [
       "<IPython.core.display.HTML object>"
      ]
     },
     "metadata": {},
     "output_type": "display_data"
    },
    {
     "data": {
      "text/html": [
       " View run at <a href='https://wandb.ai/rohitgowlapalli01/Convolution-Neural-Networks/runs/e4ltk43m' target=\"_blank\">https://wandb.ai/rohitgowlapalli01/Convolution-Neural-Networks/runs/e4ltk43m</a>"
      ],
      "text/plain": [
       "<IPython.core.display.HTML object>"
      ]
     },
     "metadata": {},
     "output_type": "display_data"
    },
    {
     "name": "stdout",
     "output_type": "stream",
     "text": [
      "0.001 64 0.25 3 2 3\n",
      "Epoch 1/3, Train Loss: 0.2162, Train Acc: 93.31%, Val Loss: 0.0618, Val Acc: 98.35%\n",
      "Epoch 2/3, Train Loss: 0.0647, Train Acc: 97.94%, Val Loss: 0.0449, Val Acc: 98.72%\n",
      "Epoch 3/3, Train Loss: 0.0451, Train Acc: 98.62%, Val Loss: 0.0380, Val Acc: 98.80%\n",
      "Test Loss: 0.0355, Test Acc: 98.67%\n"
     ]
    },
    {
     "data": {
      "text/html": [
       "Waiting for W&B process to finish... <strong style=\"color:green\">(success).</strong>"
      ],
      "text/plain": [
       "<IPython.core.display.HTML object>"
      ]
     },
     "metadata": {},
     "output_type": "display_data"
    },
    {
     "data": {
      "application/vnd.jupyter.widget-view+json": {
       "model_id": "26176c81aa884d0cb1dbc24c727ec9c7",
       "version_major": 2,
       "version_minor": 0
      },
      "text/plain": [
       "VBox(children=(Label(value='0.002 MB of 0.002 MB uploaded (0.000 MB deduped)\\r'), FloatProgress(value=1.0, max…"
      ]
     },
     "metadata": {},
     "output_type": "display_data"
    },
    {
     "data": {
      "text/html": [
       "<style>\n",
       "    table.wandb td:nth-child(1) { padding: 0 10px; text-align: left ; width: auto;} td:nth-child(2) {text-align: left ; width: 100%}\n",
       "    .wandb-row { display: flex; flex-direction: row; flex-wrap: wrap; justify-content: flex-start; width: 100% }\n",
       "    .wandb-col { display: flex; flex-direction: column; flex-basis: 100%; flex: 1; padding: 10px; }\n",
       "    </style>\n",
       "<div class=\"wandb-row\"><div class=\"wandb-col\"><h3>Run history:</h3><br/><table class=\"wandb\"><tr><td>Trainset Accuracy</td><td>▁</td></tr><tr><td>Trainset Loss</td><td>▁</td></tr><tr><td>Validation set Loss</td><td>▁</td></tr><tr><td>test_accuracy</td><td>▁</td></tr><tr><td>val_accuracy</td><td>▁</td></tr></table><br/></div><div class=\"wandb-col\"><h3>Run summary:</h3><br/><table class=\"wandb\"><tr><td>Trainset Accuracy</td><td>98.61667</td></tr><tr><td>Trainset Loss</td><td>0.04513</td></tr><tr><td>Validation set Loss</td><td>0.03798</td></tr><tr><td>test_accuracy</td><td>98.66667</td></tr><tr><td>val_accuracy</td><td>98.8</td></tr></table><br/></div></div>"
      ],
      "text/plain": [
       "<IPython.core.display.HTML object>"
      ]
     },
     "metadata": {},
     "output_type": "display_data"
    },
    {
     "data": {
      "text/html": [
       " View run <strong style=\"color:#cdcd00\">effortless-sweep-4</strong> at: <a href='https://wandb.ai/rohitgowlapalli01/Convolution-Neural-Networks/runs/e4ltk43m' target=\"_blank\">https://wandb.ai/rohitgowlapalli01/Convolution-Neural-Networks/runs/e4ltk43m</a><br/>Synced 5 W&B file(s), 0 media file(s), 0 artifact file(s) and 0 other file(s)"
      ],
      "text/plain": [
       "<IPython.core.display.HTML object>"
      ]
     },
     "metadata": {},
     "output_type": "display_data"
    },
    {
     "data": {
      "text/html": [
       "Find logs at: <code>./wandb/run-20231023_153807-e4ltk43m/logs</code>"
      ],
      "text/plain": [
       "<IPython.core.display.HTML object>"
      ]
     },
     "metadata": {},
     "output_type": "display_data"
    },
    {
     "name": "stderr",
     "output_type": "stream",
     "text": [
      "\u001b[34m\u001b[1mwandb\u001b[0m: Sweep Agent: Waiting for job.\n",
      "\u001b[34m\u001b[1mwandb\u001b[0m: Job received.\n",
      "\u001b[34m\u001b[1mwandb\u001b[0m: Agent Starting Run: 874jg47r with config:\n",
      "\u001b[34m\u001b[1mwandb\u001b[0m: \tbatch_size: 64\n",
      "\u001b[34m\u001b[1mwandb\u001b[0m: \tdropout_rate: 0.25\n",
      "\u001b[34m\u001b[1mwandb\u001b[0m: \tkernel_size: 3\n",
      "\u001b[34m\u001b[1mwandb\u001b[0m: \tlearning_rate: 0.01\n",
      "\u001b[34m\u001b[1mwandb\u001b[0m: \tnum_epochs: 2\n",
      "\u001b[34m\u001b[1mwandb\u001b[0m: \tstrides: 1\n",
      "/usr/lib/python3/dist-packages/requests/__init__.py:89: RequestsDependencyWarning: urllib3 (2.0.5) or chardet (3.0.4) doesn't match a supported version!\n",
      "  warnings.warn(\"urllib3 ({}) or chardet ({}) doesn't match a supported \"\n",
      "\u001b[34m\u001b[1mwandb\u001b[0m: \u001b[33mWARNING\u001b[0m Ignored wandb.init() arg project when running a sweep.\n"
     ]
    },
    {
     "data": {
      "application/vnd.jupyter.widget-view+json": {
       "model_id": "2700792522a843eca8b5c10267fec04a",
       "version_major": 2,
       "version_minor": 0
      },
      "text/plain": [
       "VBox(children=(Label(value='Waiting for wandb.init()...\\r'), FloatProgress(value=0.011113247566666158, max=1.0…"
      ]
     },
     "metadata": {},
     "output_type": "display_data"
    },
    {
     "data": {
      "text/html": [
       "wandb version 0.15.12 is available!  To upgrade, please run:\n",
       " $ pip install wandb --upgrade"
      ],
      "text/plain": [
       "<IPython.core.display.HTML object>"
      ]
     },
     "metadata": {},
     "output_type": "display_data"
    },
    {
     "data": {
      "text/html": [
       "Tracking run with wandb version 0.15.11"
      ],
      "text/plain": [
       "<IPython.core.display.HTML object>"
      ]
     },
     "metadata": {},
     "output_type": "display_data"
    },
    {
     "data": {
      "text/html": [
       "Run data is saved locally in <code>/home/rohit172/IIIT-H/SEM-5/SMAI/Assignment-3/wandb/run-20231023_154049-874jg47r</code>"
      ],
      "text/plain": [
       "<IPython.core.display.HTML object>"
      ]
     },
     "metadata": {},
     "output_type": "display_data"
    },
    {
     "data": {
      "text/html": [
       "Syncing run <strong><a href='https://wandb.ai/rohitgowlapalli01/Convolution-Neural-Networks/runs/874jg47r' target=\"_blank\">fallen-sweep-5</a></strong> to <a href='https://wandb.ai/rohitgowlapalli01/Convolution-Neural-Networks' target=\"_blank\">Weights & Biases</a> (<a href='https://wandb.me/run' target=\"_blank\">docs</a>)<br/>Sweep page: <a href='https://wandb.ai/rohitgowlapalli01/Convolution-Neural-Networks/sweeps/mldcvia1' target=\"_blank\">https://wandb.ai/rohitgowlapalli01/Convolution-Neural-Networks/sweeps/mldcvia1</a>"
      ],
      "text/plain": [
       "<IPython.core.display.HTML object>"
      ]
     },
     "metadata": {},
     "output_type": "display_data"
    },
    {
     "data": {
      "text/html": [
       " View project at <a href='https://wandb.ai/rohitgowlapalli01/Convolution-Neural-Networks' target=\"_blank\">https://wandb.ai/rohitgowlapalli01/Convolution-Neural-Networks</a>"
      ],
      "text/plain": [
       "<IPython.core.display.HTML object>"
      ]
     },
     "metadata": {},
     "output_type": "display_data"
    },
    {
     "data": {
      "text/html": [
       " View sweep at <a href='https://wandb.ai/rohitgowlapalli01/Convolution-Neural-Networks/sweeps/mldcvia1' target=\"_blank\">https://wandb.ai/rohitgowlapalli01/Convolution-Neural-Networks/sweeps/mldcvia1</a>"
      ],
      "text/plain": [
       "<IPython.core.display.HTML object>"
      ]
     },
     "metadata": {},
     "output_type": "display_data"
    },
    {
     "data": {
      "text/html": [
       " View run at <a href='https://wandb.ai/rohitgowlapalli01/Convolution-Neural-Networks/runs/874jg47r' target=\"_blank\">https://wandb.ai/rohitgowlapalli01/Convolution-Neural-Networks/runs/874jg47r</a>"
      ],
      "text/plain": [
       "<IPython.core.display.HTML object>"
      ]
     },
     "metadata": {},
     "output_type": "display_data"
    },
    {
     "name": "stdout",
     "output_type": "stream",
     "text": [
      "0.01 64 0.25 3 1 2\n",
      "Epoch 1/2, Train Loss: 0.4951, Train Acc: 88.88%, Val Loss: 0.1747, Val Acc: 95.30%\n",
      "Epoch 2/2, Train Loss: 0.2295, Train Acc: 93.16%, Val Loss: 0.1518, Val Acc: 95.65%\n",
      "Test Loss: 0.1384, Test Acc: 95.75%\n"
     ]
    },
    {
     "data": {
      "text/html": [
       "Waiting for W&B process to finish... <strong style=\"color:green\">(success).</strong>"
      ],
      "text/plain": [
       "<IPython.core.display.HTML object>"
      ]
     },
     "metadata": {},
     "output_type": "display_data"
    },
    {
     "data": {
      "application/vnd.jupyter.widget-view+json": {
       "model_id": "4dfd077c585e4a49a840eef22008a414",
       "version_major": 2,
       "version_minor": 0
      },
      "text/plain": [
       "VBox(children=(Label(value='0.002 MB of 0.002 MB uploaded (0.000 MB deduped)\\r'), FloatProgress(value=1.0, max…"
      ]
     },
     "metadata": {},
     "output_type": "display_data"
    },
    {
     "data": {
      "text/html": [
       "<style>\n",
       "    table.wandb td:nth-child(1) { padding: 0 10px; text-align: left ; width: auto;} td:nth-child(2) {text-align: left ; width: 100%}\n",
       "    .wandb-row { display: flex; flex-direction: row; flex-wrap: wrap; justify-content: flex-start; width: 100% }\n",
       "    .wandb-col { display: flex; flex-direction: column; flex-basis: 100%; flex: 1; padding: 10px; }\n",
       "    </style>\n",
       "<div class=\"wandb-row\"><div class=\"wandb-col\"><h3>Run history:</h3><br/><table class=\"wandb\"><tr><td>Trainset Accuracy</td><td>▁</td></tr><tr><td>Trainset Loss</td><td>▁</td></tr><tr><td>Validation set Loss</td><td>▁</td></tr><tr><td>test_accuracy</td><td>▁</td></tr><tr><td>val_accuracy</td><td>▁</td></tr></table><br/></div><div class=\"wandb-col\"><h3>Run summary:</h3><br/><table class=\"wandb\"><tr><td>Trainset Accuracy</td><td>93.15625</td></tr><tr><td>Trainset Loss</td><td>0.22952</td></tr><tr><td>Validation set Loss</td><td>0.15182</td></tr><tr><td>test_accuracy</td><td>95.75</td></tr><tr><td>val_accuracy</td><td>95.65</td></tr></table><br/></div></div>"
      ],
      "text/plain": [
       "<IPython.core.display.HTML object>"
      ]
     },
     "metadata": {},
     "output_type": "display_data"
    },
    {
     "data": {
      "text/html": [
       " View run <strong style=\"color:#cdcd00\">fallen-sweep-5</strong> at: <a href='https://wandb.ai/rohitgowlapalli01/Convolution-Neural-Networks/runs/874jg47r' target=\"_blank\">https://wandb.ai/rohitgowlapalli01/Convolution-Neural-Networks/runs/874jg47r</a><br/>Synced 5 W&B file(s), 0 media file(s), 0 artifact file(s) and 0 other file(s)"
      ],
      "text/plain": [
       "<IPython.core.display.HTML object>"
      ]
     },
     "metadata": {},
     "output_type": "display_data"
    },
    {
     "data": {
      "text/html": [
       "Find logs at: <code>./wandb/run-20231023_154049-874jg47r/logs</code>"
      ],
      "text/plain": [
       "<IPython.core.display.HTML object>"
      ]
     },
     "metadata": {},
     "output_type": "display_data"
    },
    {
     "name": "stderr",
     "output_type": "stream",
     "text": [
      "\u001b[34m\u001b[1mwandb\u001b[0m: Sweep Agent: Waiting for job.\n",
      "\u001b[34m\u001b[1mwandb\u001b[0m: Job received.\n",
      "\u001b[34m\u001b[1mwandb\u001b[0m: Agent Starting Run: lxt0txz0 with config:\n",
      "\u001b[34m\u001b[1mwandb\u001b[0m: \tbatch_size: 64\n",
      "\u001b[34m\u001b[1mwandb\u001b[0m: \tdropout_rate: 0.25\n",
      "\u001b[34m\u001b[1mwandb\u001b[0m: \tkernel_size: 3\n",
      "\u001b[34m\u001b[1mwandb\u001b[0m: \tlearning_rate: 0.01\n",
      "\u001b[34m\u001b[1mwandb\u001b[0m: \tnum_epochs: 2\n",
      "\u001b[34m\u001b[1mwandb\u001b[0m: \tstrides: 2\n",
      "/usr/lib/python3/dist-packages/requests/__init__.py:89: RequestsDependencyWarning: urllib3 (2.0.5) or chardet (3.0.4) doesn't match a supported version!\n",
      "  warnings.warn(\"urllib3 ({}) or chardet ({}) doesn't match a supported \"\n",
      "\u001b[34m\u001b[1mwandb\u001b[0m: \u001b[33mWARNING\u001b[0m Ignored wandb.init() arg project when running a sweep.\n"
     ]
    },
    {
     "data": {
      "text/html": [
       "wandb version 0.15.12 is available!  To upgrade, please run:\n",
       " $ pip install wandb --upgrade"
      ],
      "text/plain": [
       "<IPython.core.display.HTML object>"
      ]
     },
     "metadata": {},
     "output_type": "display_data"
    },
    {
     "data": {
      "text/html": [
       "Tracking run with wandb version 0.15.11"
      ],
      "text/plain": [
       "<IPython.core.display.HTML object>"
      ]
     },
     "metadata": {},
     "output_type": "display_data"
    },
    {
     "data": {
      "text/html": [
       "Run data is saved locally in <code>/home/rohit172/IIIT-H/SEM-5/SMAI/Assignment-3/wandb/run-20231023_154643-lxt0txz0</code>"
      ],
      "text/plain": [
       "<IPython.core.display.HTML object>"
      ]
     },
     "metadata": {},
     "output_type": "display_data"
    },
    {
     "data": {
      "text/html": [
       "Syncing run <strong><a href='https://wandb.ai/rohitgowlapalli01/Convolution-Neural-Networks/runs/lxt0txz0' target=\"_blank\">cosmic-sweep-6</a></strong> to <a href='https://wandb.ai/rohitgowlapalli01/Convolution-Neural-Networks' target=\"_blank\">Weights & Biases</a> (<a href='https://wandb.me/run' target=\"_blank\">docs</a>)<br/>Sweep page: <a href='https://wandb.ai/rohitgowlapalli01/Convolution-Neural-Networks/sweeps/mldcvia1' target=\"_blank\">https://wandb.ai/rohitgowlapalli01/Convolution-Neural-Networks/sweeps/mldcvia1</a>"
      ],
      "text/plain": [
       "<IPython.core.display.HTML object>"
      ]
     },
     "metadata": {},
     "output_type": "display_data"
    },
    {
     "data": {
      "text/html": [
       " View project at <a href='https://wandb.ai/rohitgowlapalli01/Convolution-Neural-Networks' target=\"_blank\">https://wandb.ai/rohitgowlapalli01/Convolution-Neural-Networks</a>"
      ],
      "text/plain": [
       "<IPython.core.display.HTML object>"
      ]
     },
     "metadata": {},
     "output_type": "display_data"
    },
    {
     "data": {
      "text/html": [
       " View sweep at <a href='https://wandb.ai/rohitgowlapalli01/Convolution-Neural-Networks/sweeps/mldcvia1' target=\"_blank\">https://wandb.ai/rohitgowlapalli01/Convolution-Neural-Networks/sweeps/mldcvia1</a>"
      ],
      "text/plain": [
       "<IPython.core.display.HTML object>"
      ]
     },
     "metadata": {},
     "output_type": "display_data"
    },
    {
     "data": {
      "text/html": [
       " View run at <a href='https://wandb.ai/rohitgowlapalli01/Convolution-Neural-Networks/runs/lxt0txz0' target=\"_blank\">https://wandb.ai/rohitgowlapalli01/Convolution-Neural-Networks/runs/lxt0txz0</a>"
      ],
      "text/plain": [
       "<IPython.core.display.HTML object>"
      ]
     },
     "metadata": {},
     "output_type": "display_data"
    },
    {
     "name": "stdout",
     "output_type": "stream",
     "text": [
      "0.01 64 0.25 3 2 2\n",
      "Epoch 1/2, Train Loss: 2.3162, Train Acc: 10.97%, Val Loss: 2.3021, Val Acc: 11.30%\n",
      "Epoch 2/2, Train Loss: 2.3023, Train Acc: 11.06%, Val Loss: 2.3016, Val Acc: 10.53%\n",
      "Test Loss: 2.3019, Test Acc: 10.90%\n"
     ]
    },
    {
     "data": {
      "text/html": [
       "Waiting for W&B process to finish... <strong style=\"color:green\">(success).</strong>"
      ],
      "text/plain": [
       "<IPython.core.display.HTML object>"
      ]
     },
     "metadata": {},
     "output_type": "display_data"
    },
    {
     "data": {
      "text/html": [
       "<style>\n",
       "    table.wandb td:nth-child(1) { padding: 0 10px; text-align: left ; width: auto;} td:nth-child(2) {text-align: left ; width: 100%}\n",
       "    .wandb-row { display: flex; flex-direction: row; flex-wrap: wrap; justify-content: flex-start; width: 100% }\n",
       "    .wandb-col { display: flex; flex-direction: column; flex-basis: 100%; flex: 1; padding: 10px; }\n",
       "    </style>\n",
       "<div class=\"wandb-row\"><div class=\"wandb-col\"><h3>Run history:</h3><br/><table class=\"wandb\"><tr><td>Trainset Accuracy</td><td>▁</td></tr><tr><td>Trainset Loss</td><td>▁</td></tr><tr><td>Validation set Loss</td><td>▁</td></tr><tr><td>test_accuracy</td><td>▁</td></tr><tr><td>val_accuracy</td><td>▁</td></tr></table><br/></div><div class=\"wandb-col\"><h3>Run summary:</h3><br/><table class=\"wandb\"><tr><td>Trainset Accuracy</td><td>11.06458</td></tr><tr><td>Trainset Loss</td><td>2.30225</td></tr><tr><td>Validation set Loss</td><td>2.30156</td></tr><tr><td>test_accuracy</td><td>10.9</td></tr><tr><td>val_accuracy</td><td>10.53333</td></tr></table><br/></div></div>"
      ],
      "text/plain": [
       "<IPython.core.display.HTML object>"
      ]
     },
     "metadata": {},
     "output_type": "display_data"
    },
    {
     "data": {
      "text/html": [
       " View run <strong style=\"color:#cdcd00\">cosmic-sweep-6</strong> at: <a href='https://wandb.ai/rohitgowlapalli01/Convolution-Neural-Networks/runs/lxt0txz0' target=\"_blank\">https://wandb.ai/rohitgowlapalli01/Convolution-Neural-Networks/runs/lxt0txz0</a><br/>Synced 5 W&B file(s), 0 media file(s), 0 artifact file(s) and 0 other file(s)"
      ],
      "text/plain": [
       "<IPython.core.display.HTML object>"
      ]
     },
     "metadata": {},
     "output_type": "display_data"
    },
    {
     "data": {
      "text/html": [
       "Find logs at: <code>./wandb/run-20231023_154643-lxt0txz0/logs</code>"
      ],
      "text/plain": [
       "<IPython.core.display.HTML object>"
      ]
     },
     "metadata": {},
     "output_type": "display_data"
    },
    {
     "name": "stderr",
     "output_type": "stream",
     "text": [
      "\u001b[34m\u001b[1mwandb\u001b[0m: Agent Starting Run: p5uyhil5 with config:\n",
      "\u001b[34m\u001b[1mwandb\u001b[0m: \tbatch_size: 64\n",
      "\u001b[34m\u001b[1mwandb\u001b[0m: \tdropout_rate: 0.25\n",
      "\u001b[34m\u001b[1mwandb\u001b[0m: \tkernel_size: 3\n",
      "\u001b[34m\u001b[1mwandb\u001b[0m: \tlearning_rate: 0.01\n",
      "\u001b[34m\u001b[1mwandb\u001b[0m: \tnum_epochs: 3\n",
      "\u001b[34m\u001b[1mwandb\u001b[0m: \tstrides: 1\n",
      "/usr/lib/python3/dist-packages/requests/__init__.py:89: RequestsDependencyWarning: urllib3 (2.0.5) or chardet (3.0.4) doesn't match a supported version!\n",
      "  warnings.warn(\"urllib3 ({}) or chardet ({}) doesn't match a supported \"\n",
      "\u001b[34m\u001b[1mwandb\u001b[0m: \u001b[33mWARNING\u001b[0m Ignored wandb.init() arg project when running a sweep.\n"
     ]
    },
    {
     "data": {
      "text/html": [
       "wandb version 0.15.12 is available!  To upgrade, please run:\n",
       " $ pip install wandb --upgrade"
      ],
      "text/plain": [
       "<IPython.core.display.HTML object>"
      ]
     },
     "metadata": {},
     "output_type": "display_data"
    },
    {
     "data": {
      "text/html": [
       "Tracking run with wandb version 0.15.11"
      ],
      "text/plain": [
       "<IPython.core.display.HTML object>"
      ]
     },
     "metadata": {},
     "output_type": "display_data"
    },
    {
     "data": {
      "text/html": [
       "Run data is saved locally in <code>/home/rohit172/IIIT-H/SEM-5/SMAI/Assignment-3/wandb/run-20231023_154826-p5uyhil5</code>"
      ],
      "text/plain": [
       "<IPython.core.display.HTML object>"
      ]
     },
     "metadata": {},
     "output_type": "display_data"
    },
    {
     "data": {
      "text/html": [
       "Syncing run <strong><a href='https://wandb.ai/rohitgowlapalli01/Convolution-Neural-Networks/runs/p5uyhil5' target=\"_blank\">fiery-sweep-7</a></strong> to <a href='https://wandb.ai/rohitgowlapalli01/Convolution-Neural-Networks' target=\"_blank\">Weights & Biases</a> (<a href='https://wandb.me/run' target=\"_blank\">docs</a>)<br/>Sweep page: <a href='https://wandb.ai/rohitgowlapalli01/Convolution-Neural-Networks/sweeps/mldcvia1' target=\"_blank\">https://wandb.ai/rohitgowlapalli01/Convolution-Neural-Networks/sweeps/mldcvia1</a>"
      ],
      "text/plain": [
       "<IPython.core.display.HTML object>"
      ]
     },
     "metadata": {},
     "output_type": "display_data"
    },
    {
     "data": {
      "text/html": [
       " View project at <a href='https://wandb.ai/rohitgowlapalli01/Convolution-Neural-Networks' target=\"_blank\">https://wandb.ai/rohitgowlapalli01/Convolution-Neural-Networks</a>"
      ],
      "text/plain": [
       "<IPython.core.display.HTML object>"
      ]
     },
     "metadata": {},
     "output_type": "display_data"
    },
    {
     "data": {
      "text/html": [
       " View sweep at <a href='https://wandb.ai/rohitgowlapalli01/Convolution-Neural-Networks/sweeps/mldcvia1' target=\"_blank\">https://wandb.ai/rohitgowlapalli01/Convolution-Neural-Networks/sweeps/mldcvia1</a>"
      ],
      "text/plain": [
       "<IPython.core.display.HTML object>"
      ]
     },
     "metadata": {},
     "output_type": "display_data"
    },
    {
     "data": {
      "text/html": [
       " View run at <a href='https://wandb.ai/rohitgowlapalli01/Convolution-Neural-Networks/runs/p5uyhil5' target=\"_blank\">https://wandb.ai/rohitgowlapalli01/Convolution-Neural-Networks/runs/p5uyhil5</a>"
      ],
      "text/plain": [
       "<IPython.core.display.HTML object>"
      ]
     },
     "metadata": {},
     "output_type": "display_data"
    },
    {
     "name": "stdout",
     "output_type": "stream",
     "text": [
      "0.01 64 0.25 3 1 3\n",
      "Epoch 1/3, Train Loss: 0.3918, Train Acc: 89.66%, Val Loss: 0.1802, Val Acc: 95.02%\n",
      "Epoch 2/3, Train Loss: 0.1962, Train Acc: 94.17%, Val Loss: 0.1268, Val Acc: 96.40%\n",
      "Epoch 3/3, Train Loss: 0.1778, Train Acc: 94.69%, Val Loss: 0.1290, Val Acc: 96.45%\n",
      "Test Loss: 0.1138, Test Acc: 96.52%\n"
     ]
    },
    {
     "data": {
      "text/html": [
       "Waiting for W&B process to finish... <strong style=\"color:green\">(success).</strong>"
      ],
      "text/plain": [
       "<IPython.core.display.HTML object>"
      ]
     },
     "metadata": {},
     "output_type": "display_data"
    },
    {
     "data": {
      "application/vnd.jupyter.widget-view+json": {
       "model_id": "ede71e0c893f40319495f349467791aa",
       "version_major": 2,
       "version_minor": 0
      },
      "text/plain": [
       "VBox(children=(Label(value='0.002 MB of 0.002 MB uploaded (0.000 MB deduped)\\r'), FloatProgress(value=1.0, max…"
      ]
     },
     "metadata": {},
     "output_type": "display_data"
    },
    {
     "data": {
      "text/html": [
       "<style>\n",
       "    table.wandb td:nth-child(1) { padding: 0 10px; text-align: left ; width: auto;} td:nth-child(2) {text-align: left ; width: 100%}\n",
       "    .wandb-row { display: flex; flex-direction: row; flex-wrap: wrap; justify-content: flex-start; width: 100% }\n",
       "    .wandb-col { display: flex; flex-direction: column; flex-basis: 100%; flex: 1; padding: 10px; }\n",
       "    </style>\n",
       "<div class=\"wandb-row\"><div class=\"wandb-col\"><h3>Run history:</h3><br/><table class=\"wandb\"><tr><td>Trainset Accuracy</td><td>▁</td></tr><tr><td>Trainset Loss</td><td>▁</td></tr><tr><td>Validation set Loss</td><td>▁</td></tr><tr><td>test_accuracy</td><td>▁</td></tr><tr><td>val_accuracy</td><td>▁</td></tr></table><br/></div><div class=\"wandb-col\"><h3>Run summary:</h3><br/><table class=\"wandb\"><tr><td>Trainset Accuracy</td><td>94.69375</td></tr><tr><td>Trainset Loss</td><td>0.17777</td></tr><tr><td>Validation set Loss</td><td>0.12902</td></tr><tr><td>test_accuracy</td><td>96.51667</td></tr><tr><td>val_accuracy</td><td>96.45</td></tr></table><br/></div></div>"
      ],
      "text/plain": [
       "<IPython.core.display.HTML object>"
      ]
     },
     "metadata": {},
     "output_type": "display_data"
    },
    {
     "data": {
      "text/html": [
       " View run <strong style=\"color:#cdcd00\">fiery-sweep-7</strong> at: <a href='https://wandb.ai/rohitgowlapalli01/Convolution-Neural-Networks/runs/p5uyhil5' target=\"_blank\">https://wandb.ai/rohitgowlapalli01/Convolution-Neural-Networks/runs/p5uyhil5</a><br/>Synced 5 W&B file(s), 0 media file(s), 0 artifact file(s) and 0 other file(s)"
      ],
      "text/plain": [
       "<IPython.core.display.HTML object>"
      ]
     },
     "metadata": {},
     "output_type": "display_data"
    },
    {
     "data": {
      "text/html": [
       "Find logs at: <code>./wandb/run-20231023_154826-p5uyhil5/logs</code>"
      ],
      "text/plain": [
       "<IPython.core.display.HTML object>"
      ]
     },
     "metadata": {},
     "output_type": "display_data"
    },
    {
     "name": "stderr",
     "output_type": "stream",
     "text": [
      "\u001b[34m\u001b[1mwandb\u001b[0m: Agent Starting Run: qk4fsgl3 with config:\n",
      "\u001b[34m\u001b[1mwandb\u001b[0m: \tbatch_size: 64\n",
      "\u001b[34m\u001b[1mwandb\u001b[0m: \tdropout_rate: 0.25\n",
      "\u001b[34m\u001b[1mwandb\u001b[0m: \tkernel_size: 3\n",
      "\u001b[34m\u001b[1mwandb\u001b[0m: \tlearning_rate: 0.01\n",
      "\u001b[34m\u001b[1mwandb\u001b[0m: \tnum_epochs: 3\n",
      "\u001b[34m\u001b[1mwandb\u001b[0m: \tstrides: 2\n",
      "/usr/lib/python3/dist-packages/requests/__init__.py:89: RequestsDependencyWarning: urllib3 (2.0.5) or chardet (3.0.4) doesn't match a supported version!\n",
      "  warnings.warn(\"urllib3 ({}) or chardet ({}) doesn't match a supported \"\n",
      "\u001b[34m\u001b[1mwandb\u001b[0m: \u001b[33mWARNING\u001b[0m Ignored wandb.init() arg project when running a sweep.\n"
     ]
    },
    {
     "data": {
      "application/vnd.jupyter.widget-view+json": {
       "model_id": "37e7ba3cab43449d80047037d31c9e81",
       "version_major": 2,
       "version_minor": 0
      },
      "text/plain": [
       "VBox(children=(Label(value='Waiting for wandb.init()...\\r'), FloatProgress(value=0.011116895488885347, max=1.0…"
      ]
     },
     "metadata": {},
     "output_type": "display_data"
    },
    {
     "data": {
      "text/html": [
       "wandb version 0.15.12 is available!  To upgrade, please run:\n",
       " $ pip install wandb --upgrade"
      ],
      "text/plain": [
       "<IPython.core.display.HTML object>"
      ]
     },
     "metadata": {},
     "output_type": "display_data"
    },
    {
     "data": {
      "text/html": [
       "Tracking run with wandb version 0.15.11"
      ],
      "text/plain": [
       "<IPython.core.display.HTML object>"
      ]
     },
     "metadata": {},
     "output_type": "display_data"
    },
    {
     "data": {
      "text/html": [
       "Run data is saved locally in <code>/home/rohit172/IIIT-H/SEM-5/SMAI/Assignment-3/wandb/run-20231023_155701-qk4fsgl3</code>"
      ],
      "text/plain": [
       "<IPython.core.display.HTML object>"
      ]
     },
     "metadata": {},
     "output_type": "display_data"
    },
    {
     "data": {
      "text/html": [
       "Syncing run <strong><a href='https://wandb.ai/rohitgowlapalli01/Convolution-Neural-Networks/runs/qk4fsgl3' target=\"_blank\">frosty-sweep-8</a></strong> to <a href='https://wandb.ai/rohitgowlapalli01/Convolution-Neural-Networks' target=\"_blank\">Weights & Biases</a> (<a href='https://wandb.me/run' target=\"_blank\">docs</a>)<br/>Sweep page: <a href='https://wandb.ai/rohitgowlapalli01/Convolution-Neural-Networks/sweeps/mldcvia1' target=\"_blank\">https://wandb.ai/rohitgowlapalli01/Convolution-Neural-Networks/sweeps/mldcvia1</a>"
      ],
      "text/plain": [
       "<IPython.core.display.HTML object>"
      ]
     },
     "metadata": {},
     "output_type": "display_data"
    },
    {
     "data": {
      "text/html": [
       " View project at <a href='https://wandb.ai/rohitgowlapalli01/Convolution-Neural-Networks' target=\"_blank\">https://wandb.ai/rohitgowlapalli01/Convolution-Neural-Networks</a>"
      ],
      "text/plain": [
       "<IPython.core.display.HTML object>"
      ]
     },
     "metadata": {},
     "output_type": "display_data"
    },
    {
     "data": {
      "text/html": [
       " View sweep at <a href='https://wandb.ai/rohitgowlapalli01/Convolution-Neural-Networks/sweeps/mldcvia1' target=\"_blank\">https://wandb.ai/rohitgowlapalli01/Convolution-Neural-Networks/sweeps/mldcvia1</a>"
      ],
      "text/plain": [
       "<IPython.core.display.HTML object>"
      ]
     },
     "metadata": {},
     "output_type": "display_data"
    },
    {
     "data": {
      "text/html": [
       " View run at <a href='https://wandb.ai/rohitgowlapalli01/Convolution-Neural-Networks/runs/qk4fsgl3' target=\"_blank\">https://wandb.ai/rohitgowlapalli01/Convolution-Neural-Networks/runs/qk4fsgl3</a>"
      ],
      "text/plain": [
       "<IPython.core.display.HTML object>"
      ]
     },
     "metadata": {},
     "output_type": "display_data"
    },
    {
     "name": "stdout",
     "output_type": "stream",
     "text": [
      "0.01 64 0.25 3 2 3\n",
      "Epoch 1/3, Train Loss: 0.4152, Train Acc: 86.85%, Val Loss: 0.1823, Val Acc: 94.38%\n",
      "Epoch 2/3, Train Loss: 0.2389, Train Acc: 92.46%, Val Loss: 0.1576, Val Acc: 95.13%\n",
      "Epoch 3/3, Train Loss: 0.2095, Train Acc: 93.49%, Val Loss: 0.1550, Val Acc: 95.33%\n",
      "Test Loss: 0.1594, Test Acc: 94.78%\n"
     ]
    },
    {
     "data": {
      "text/html": [
       "Waiting for W&B process to finish... <strong style=\"color:green\">(success).</strong>"
      ],
      "text/plain": [
       "<IPython.core.display.HTML object>"
      ]
     },
     "metadata": {},
     "output_type": "display_data"
    },
    {
     "data": {
      "application/vnd.jupyter.widget-view+json": {
       "model_id": "31ba29030d254d1aa31970a2f5a39445",
       "version_major": 2,
       "version_minor": 0
      },
      "text/plain": [
       "VBox(children=(Label(value='0.002 MB of 0.002 MB uploaded (0.000 MB deduped)\\r'), FloatProgress(value=1.0, max…"
      ]
     },
     "metadata": {},
     "output_type": "display_data"
    },
    {
     "data": {
      "text/html": [
       "<style>\n",
       "    table.wandb td:nth-child(1) { padding: 0 10px; text-align: left ; width: auto;} td:nth-child(2) {text-align: left ; width: 100%}\n",
       "    .wandb-row { display: flex; flex-direction: row; flex-wrap: wrap; justify-content: flex-start; width: 100% }\n",
       "    .wandb-col { display: flex; flex-direction: column; flex-basis: 100%; flex: 1; padding: 10px; }\n",
       "    </style>\n",
       "<div class=\"wandb-row\"><div class=\"wandb-col\"><h3>Run history:</h3><br/><table class=\"wandb\"><tr><td>Trainset Accuracy</td><td>▁</td></tr><tr><td>Trainset Loss</td><td>▁</td></tr><tr><td>Validation set Loss</td><td>▁</td></tr><tr><td>test_accuracy</td><td>▁</td></tr><tr><td>val_accuracy</td><td>▁</td></tr></table><br/></div><div class=\"wandb-col\"><h3>Run summary:</h3><br/><table class=\"wandb\"><tr><td>Trainset Accuracy</td><td>93.48542</td></tr><tr><td>Trainset Loss</td><td>0.20949</td></tr><tr><td>Validation set Loss</td><td>0.15503</td></tr><tr><td>test_accuracy</td><td>94.78333</td></tr><tr><td>val_accuracy</td><td>95.33333</td></tr></table><br/></div></div>"
      ],
      "text/plain": [
       "<IPython.core.display.HTML object>"
      ]
     },
     "metadata": {},
     "output_type": "display_data"
    },
    {
     "data": {
      "text/html": [
       " View run <strong style=\"color:#cdcd00\">frosty-sweep-8</strong> at: <a href='https://wandb.ai/rohitgowlapalli01/Convolution-Neural-Networks/runs/qk4fsgl3' target=\"_blank\">https://wandb.ai/rohitgowlapalli01/Convolution-Neural-Networks/runs/qk4fsgl3</a><br/>Synced 5 W&B file(s), 0 media file(s), 0 artifact file(s) and 0 other file(s)"
      ],
      "text/plain": [
       "<IPython.core.display.HTML object>"
      ]
     },
     "metadata": {},
     "output_type": "display_data"
    },
    {
     "data": {
      "text/html": [
       "Find logs at: <code>./wandb/run-20231023_155701-qk4fsgl3/logs</code>"
      ],
      "text/plain": [
       "<IPython.core.display.HTML object>"
      ]
     },
     "metadata": {},
     "output_type": "display_data"
    },
    {
     "name": "stderr",
     "output_type": "stream",
     "text": [
      "\u001b[34m\u001b[1mwandb\u001b[0m: Agent Starting Run: rttqd5xi with config:\n",
      "\u001b[34m\u001b[1mwandb\u001b[0m: \tbatch_size: 64\n",
      "\u001b[34m\u001b[1mwandb\u001b[0m: \tdropout_rate: 0.25\n",
      "\u001b[34m\u001b[1mwandb\u001b[0m: \tkernel_size: 5\n",
      "\u001b[34m\u001b[1mwandb\u001b[0m: \tlearning_rate: 0.001\n",
      "\u001b[34m\u001b[1mwandb\u001b[0m: \tnum_epochs: 2\n",
      "\u001b[34m\u001b[1mwandb\u001b[0m: \tstrides: 1\n",
      "/usr/lib/python3/dist-packages/requests/__init__.py:89: RequestsDependencyWarning: urllib3 (2.0.5) or chardet (3.0.4) doesn't match a supported version!\n",
      "  warnings.warn(\"urllib3 ({}) or chardet ({}) doesn't match a supported \"\n",
      "\u001b[34m\u001b[1mwandb\u001b[0m: \u001b[33mWARNING\u001b[0m Ignored wandb.init() arg project when running a sweep.\n"
     ]
    },
    {
     "data": {
      "application/vnd.jupyter.widget-view+json": {
       "model_id": "e301214353bc4a1395de0402eab474f1",
       "version_major": 2,
       "version_minor": 0
      },
      "text/plain": [
       "VBox(children=(Label(value='Waiting for wandb.init()...\\r'), FloatProgress(value=0.011113620200002413, max=1.0…"
      ]
     },
     "metadata": {},
     "output_type": "display_data"
    },
    {
     "data": {
      "text/html": [
       "wandb version 0.15.12 is available!  To upgrade, please run:\n",
       " $ pip install wandb --upgrade"
      ],
      "text/plain": [
       "<IPython.core.display.HTML object>"
      ]
     },
     "metadata": {},
     "output_type": "display_data"
    },
    {
     "data": {
      "text/html": [
       "Tracking run with wandb version 0.15.11"
      ],
      "text/plain": [
       "<IPython.core.display.HTML object>"
      ]
     },
     "metadata": {},
     "output_type": "display_data"
    },
    {
     "data": {
      "text/html": [
       "Run data is saved locally in <code>/home/rohit172/IIIT-H/SEM-5/SMAI/Assignment-3/wandb/run-20231023_155911-rttqd5xi</code>"
      ],
      "text/plain": [
       "<IPython.core.display.HTML object>"
      ]
     },
     "metadata": {},
     "output_type": "display_data"
    },
    {
     "data": {
      "text/html": [
       "Syncing run <strong><a href='https://wandb.ai/rohitgowlapalli01/Convolution-Neural-Networks/runs/rttqd5xi' target=\"_blank\">logical-sweep-9</a></strong> to <a href='https://wandb.ai/rohitgowlapalli01/Convolution-Neural-Networks' target=\"_blank\">Weights & Biases</a> (<a href='https://wandb.me/run' target=\"_blank\">docs</a>)<br/>Sweep page: <a href='https://wandb.ai/rohitgowlapalli01/Convolution-Neural-Networks/sweeps/mldcvia1' target=\"_blank\">https://wandb.ai/rohitgowlapalli01/Convolution-Neural-Networks/sweeps/mldcvia1</a>"
      ],
      "text/plain": [
       "<IPython.core.display.HTML object>"
      ]
     },
     "metadata": {},
     "output_type": "display_data"
    },
    {
     "data": {
      "text/html": [
       " View project at <a href='https://wandb.ai/rohitgowlapalli01/Convolution-Neural-Networks' target=\"_blank\">https://wandb.ai/rohitgowlapalli01/Convolution-Neural-Networks</a>"
      ],
      "text/plain": [
       "<IPython.core.display.HTML object>"
      ]
     },
     "metadata": {},
     "output_type": "display_data"
    },
    {
     "data": {
      "text/html": [
       " View sweep at <a href='https://wandb.ai/rohitgowlapalli01/Convolution-Neural-Networks/sweeps/mldcvia1' target=\"_blank\">https://wandb.ai/rohitgowlapalli01/Convolution-Neural-Networks/sweeps/mldcvia1</a>"
      ],
      "text/plain": [
       "<IPython.core.display.HTML object>"
      ]
     },
     "metadata": {},
     "output_type": "display_data"
    },
    {
     "data": {
      "text/html": [
       " View run at <a href='https://wandb.ai/rohitgowlapalli01/Convolution-Neural-Networks/runs/rttqd5xi' target=\"_blank\">https://wandb.ai/rohitgowlapalli01/Convolution-Neural-Networks/runs/rttqd5xi</a>"
      ],
      "text/plain": [
       "<IPython.core.display.HTML object>"
      ]
     },
     "metadata": {},
     "output_type": "display_data"
    },
    {
     "name": "stdout",
     "output_type": "stream",
     "text": [
      "0.001 64 0.25 5 1 2\n",
      "Epoch 1/2, Train Loss: 0.2459, Train Acc: 92.49%, Val Loss: 0.0723, Val Acc: 97.85%\n",
      "Epoch 2/2, Train Loss: 0.0810, Train Acc: 97.49%, Val Loss: 0.0562, Val Acc: 98.27%\n",
      "Test Loss: 0.0480, Test Acc: 98.35%\n"
     ]
    },
    {
     "data": {
      "text/html": [
       "Waiting for W&B process to finish... <strong style=\"color:green\">(success).</strong>"
      ],
      "text/plain": [
       "<IPython.core.display.HTML object>"
      ]
     },
     "metadata": {},
     "output_type": "display_data"
    },
    {
     "data": {
      "application/vnd.jupyter.widget-view+json": {
       "model_id": "1615be6426384f0ba294389007878f3b",
       "version_major": 2,
       "version_minor": 0
      },
      "text/plain": [
       "VBox(children=(Label(value='0.002 MB of 0.002 MB uploaded (0.000 MB deduped)\\r'), FloatProgress(value=1.0, max…"
      ]
     },
     "metadata": {},
     "output_type": "display_data"
    },
    {
     "data": {
      "text/html": [
       "<style>\n",
       "    table.wandb td:nth-child(1) { padding: 0 10px; text-align: left ; width: auto;} td:nth-child(2) {text-align: left ; width: 100%}\n",
       "    .wandb-row { display: flex; flex-direction: row; flex-wrap: wrap; justify-content: flex-start; width: 100% }\n",
       "    .wandb-col { display: flex; flex-direction: column; flex-basis: 100%; flex: 1; padding: 10px; }\n",
       "    </style>\n",
       "<div class=\"wandb-row\"><div class=\"wandb-col\"><h3>Run history:</h3><br/><table class=\"wandb\"><tr><td>Trainset Accuracy</td><td>▁</td></tr><tr><td>Trainset Loss</td><td>▁</td></tr><tr><td>Validation set Loss</td><td>▁</td></tr><tr><td>test_accuracy</td><td>▁</td></tr><tr><td>val_accuracy</td><td>▁</td></tr></table><br/></div><div class=\"wandb-col\"><h3>Run summary:</h3><br/><table class=\"wandb\"><tr><td>Trainset Accuracy</td><td>97.48958</td></tr><tr><td>Trainset Loss</td><td>0.08105</td></tr><tr><td>Validation set Loss</td><td>0.05618</td></tr><tr><td>test_accuracy</td><td>98.35</td></tr><tr><td>val_accuracy</td><td>98.26667</td></tr></table><br/></div></div>"
      ],
      "text/plain": [
       "<IPython.core.display.HTML object>"
      ]
     },
     "metadata": {},
     "output_type": "display_data"
    },
    {
     "data": {
      "text/html": [
       " View run <strong style=\"color:#cdcd00\">logical-sweep-9</strong> at: <a href='https://wandb.ai/rohitgowlapalli01/Convolution-Neural-Networks/runs/rttqd5xi' target=\"_blank\">https://wandb.ai/rohitgowlapalli01/Convolution-Neural-Networks/runs/rttqd5xi</a><br/>Synced 5 W&B file(s), 0 media file(s), 0 artifact file(s) and 0 other file(s)"
      ],
      "text/plain": [
       "<IPython.core.display.HTML object>"
      ]
     },
     "metadata": {},
     "output_type": "display_data"
    },
    {
     "data": {
      "text/html": [
       "Find logs at: <code>./wandb/run-20231023_155911-rttqd5xi/logs</code>"
      ],
      "text/plain": [
       "<IPython.core.display.HTML object>"
      ]
     },
     "metadata": {},
     "output_type": "display_data"
    },
    {
     "name": "stderr",
     "output_type": "stream",
     "text": [
      "\u001b[34m\u001b[1mwandb\u001b[0m: Agent Starting Run: lcz1tcnv with config:\n",
      "\u001b[34m\u001b[1mwandb\u001b[0m: \tbatch_size: 64\n",
      "\u001b[34m\u001b[1mwandb\u001b[0m: \tdropout_rate: 0.25\n",
      "\u001b[34m\u001b[1mwandb\u001b[0m: \tkernel_size: 5\n",
      "\u001b[34m\u001b[1mwandb\u001b[0m: \tlearning_rate: 0.001\n",
      "\u001b[34m\u001b[1mwandb\u001b[0m: \tnum_epochs: 2\n",
      "\u001b[34m\u001b[1mwandb\u001b[0m: \tstrides: 2\n",
      "/usr/lib/python3/dist-packages/requests/__init__.py:89: RequestsDependencyWarning: urllib3 (2.0.5) or chardet (3.0.4) doesn't match a supported version!\n",
      "  warnings.warn(\"urllib3 ({}) or chardet ({}) doesn't match a supported \"\n",
      "\u001b[34m\u001b[1mwandb\u001b[0m: \u001b[33mWARNING\u001b[0m Ignored wandb.init() arg project when running a sweep.\n"
     ]
    },
    {
     "data": {
      "text/html": [
       "wandb version 0.15.12 is available!  To upgrade, please run:\n",
       " $ pip install wandb --upgrade"
      ],
      "text/plain": [
       "<IPython.core.display.HTML object>"
      ]
     },
     "metadata": {},
     "output_type": "display_data"
    },
    {
     "data": {
      "text/html": [
       "Tracking run with wandb version 0.15.11"
      ],
      "text/plain": [
       "<IPython.core.display.HTML object>"
      ]
     },
     "metadata": {},
     "output_type": "display_data"
    },
    {
     "data": {
      "text/html": [
       "Run data is saved locally in <code>/home/rohit172/IIIT-H/SEM-5/SMAI/Assignment-3/wandb/run-20231023_160606-lcz1tcnv</code>"
      ],
      "text/plain": [
       "<IPython.core.display.HTML object>"
      ]
     },
     "metadata": {},
     "output_type": "display_data"
    },
    {
     "data": {
      "text/html": [
       "Syncing run <strong><a href='https://wandb.ai/rohitgowlapalli01/Convolution-Neural-Networks/runs/lcz1tcnv' target=\"_blank\">vital-sweep-10</a></strong> to <a href='https://wandb.ai/rohitgowlapalli01/Convolution-Neural-Networks' target=\"_blank\">Weights & Biases</a> (<a href='https://wandb.me/run' target=\"_blank\">docs</a>)<br/>Sweep page: <a href='https://wandb.ai/rohitgowlapalli01/Convolution-Neural-Networks/sweeps/mldcvia1' target=\"_blank\">https://wandb.ai/rohitgowlapalli01/Convolution-Neural-Networks/sweeps/mldcvia1</a>"
      ],
      "text/plain": [
       "<IPython.core.display.HTML object>"
      ]
     },
     "metadata": {},
     "output_type": "display_data"
    },
    {
     "data": {
      "text/html": [
       " View project at <a href='https://wandb.ai/rohitgowlapalli01/Convolution-Neural-Networks' target=\"_blank\">https://wandb.ai/rohitgowlapalli01/Convolution-Neural-Networks</a>"
      ],
      "text/plain": [
       "<IPython.core.display.HTML object>"
      ]
     },
     "metadata": {},
     "output_type": "display_data"
    },
    {
     "data": {
      "text/html": [
       " View sweep at <a href='https://wandb.ai/rohitgowlapalli01/Convolution-Neural-Networks/sweeps/mldcvia1' target=\"_blank\">https://wandb.ai/rohitgowlapalli01/Convolution-Neural-Networks/sweeps/mldcvia1</a>"
      ],
      "text/plain": [
       "<IPython.core.display.HTML object>"
      ]
     },
     "metadata": {},
     "output_type": "display_data"
    },
    {
     "data": {
      "text/html": [
       " View run at <a href='https://wandb.ai/rohitgowlapalli01/Convolution-Neural-Networks/runs/lcz1tcnv' target=\"_blank\">https://wandb.ai/rohitgowlapalli01/Convolution-Neural-Networks/runs/lcz1tcnv</a>"
      ],
      "text/plain": [
       "<IPython.core.display.HTML object>"
      ]
     },
     "metadata": {},
     "output_type": "display_data"
    },
    {
     "name": "stdout",
     "output_type": "stream",
     "text": [
      "0.001 64 0.25 5 2 2\n",
      "Epoch 1/2, Train Loss: 0.1955, Train Acc: 94.02%, Val Loss: 0.0522, Val Acc: 98.43%\n",
      "Epoch 2/2, Train Loss: 0.0598, Train Acc: 98.11%, Val Loss: 0.0389, Val Acc: 98.95%\n",
      "Test Loss: 0.0327, Test Acc: 98.93%\n"
     ]
    },
    {
     "data": {
      "text/html": [
       "Waiting for W&B process to finish... <strong style=\"color:green\">(success).</strong>"
      ],
      "text/plain": [
       "<IPython.core.display.HTML object>"
      ]
     },
     "metadata": {},
     "output_type": "display_data"
    },
    {
     "data": {
      "text/html": [
       "<style>\n",
       "    table.wandb td:nth-child(1) { padding: 0 10px; text-align: left ; width: auto;} td:nth-child(2) {text-align: left ; width: 100%}\n",
       "    .wandb-row { display: flex; flex-direction: row; flex-wrap: wrap; justify-content: flex-start; width: 100% }\n",
       "    .wandb-col { display: flex; flex-direction: column; flex-basis: 100%; flex: 1; padding: 10px; }\n",
       "    </style>\n",
       "<div class=\"wandb-row\"><div class=\"wandb-col\"><h3>Run history:</h3><br/><table class=\"wandb\"><tr><td>Trainset Accuracy</td><td>▁</td></tr><tr><td>Trainset Loss</td><td>▁</td></tr><tr><td>Validation set Loss</td><td>▁</td></tr><tr><td>test_accuracy</td><td>▁</td></tr><tr><td>val_accuracy</td><td>▁</td></tr></table><br/></div><div class=\"wandb-col\"><h3>Run summary:</h3><br/><table class=\"wandb\"><tr><td>Trainset Accuracy</td><td>98.10625</td></tr><tr><td>Trainset Loss</td><td>0.05977</td></tr><tr><td>Validation set Loss</td><td>0.03891</td></tr><tr><td>test_accuracy</td><td>98.93333</td></tr><tr><td>val_accuracy</td><td>98.95</td></tr></table><br/></div></div>"
      ],
      "text/plain": [
       "<IPython.core.display.HTML object>"
      ]
     },
     "metadata": {},
     "output_type": "display_data"
    },
    {
     "data": {
      "text/html": [
       " View run <strong style=\"color:#cdcd00\">vital-sweep-10</strong> at: <a href='https://wandb.ai/rohitgowlapalli01/Convolution-Neural-Networks/runs/lcz1tcnv' target=\"_blank\">https://wandb.ai/rohitgowlapalli01/Convolution-Neural-Networks/runs/lcz1tcnv</a><br/>Synced 5 W&B file(s), 0 media file(s), 0 artifact file(s) and 0 other file(s)"
      ],
      "text/plain": [
       "<IPython.core.display.HTML object>"
      ]
     },
     "metadata": {},
     "output_type": "display_data"
    },
    {
     "data": {
      "text/html": [
       "Find logs at: <code>./wandb/run-20231023_160606-lcz1tcnv/logs</code>"
      ],
      "text/plain": [
       "<IPython.core.display.HTML object>"
      ]
     },
     "metadata": {},
     "output_type": "display_data"
    },
    {
     "name": "stderr",
     "output_type": "stream",
     "text": [
      "\u001b[34m\u001b[1mwandb\u001b[0m: Agent Starting Run: b496gflv with config:\n",
      "\u001b[34m\u001b[1mwandb\u001b[0m: \tbatch_size: 64\n",
      "\u001b[34m\u001b[1mwandb\u001b[0m: \tdropout_rate: 0.25\n",
      "\u001b[34m\u001b[1mwandb\u001b[0m: \tkernel_size: 5\n",
      "\u001b[34m\u001b[1mwandb\u001b[0m: \tlearning_rate: 0.001\n",
      "\u001b[34m\u001b[1mwandb\u001b[0m: \tnum_epochs: 3\n",
      "\u001b[34m\u001b[1mwandb\u001b[0m: \tstrides: 1\n",
      "/usr/lib/python3/dist-packages/requests/__init__.py:89: RequestsDependencyWarning: urllib3 (2.0.5) or chardet (3.0.4) doesn't match a supported version!\n",
      "  warnings.warn(\"urllib3 ({}) or chardet ({}) doesn't match a supported \"\n",
      "\u001b[34m\u001b[1mwandb\u001b[0m: \u001b[33mWARNING\u001b[0m Ignored wandb.init() arg project when running a sweep.\n"
     ]
    },
    {
     "data": {
      "text/html": [
       "wandb version 0.15.12 is available!  To upgrade, please run:\n",
       " $ pip install wandb --upgrade"
      ],
      "text/plain": [
       "<IPython.core.display.HTML object>"
      ]
     },
     "metadata": {},
     "output_type": "display_data"
    },
    {
     "data": {
      "text/html": [
       "Tracking run with wandb version 0.15.11"
      ],
      "text/plain": [
       "<IPython.core.display.HTML object>"
      ]
     },
     "metadata": {},
     "output_type": "display_data"
    },
    {
     "data": {
      "text/html": [
       "Run data is saved locally in <code>/home/rohit172/IIIT-H/SEM-5/SMAI/Assignment-3/wandb/run-20231023_160800-b496gflv</code>"
      ],
      "text/plain": [
       "<IPython.core.display.HTML object>"
      ]
     },
     "metadata": {},
     "output_type": "display_data"
    },
    {
     "data": {
      "text/html": [
       "Syncing run <strong><a href='https://wandb.ai/rohitgowlapalli01/Convolution-Neural-Networks/runs/b496gflv' target=\"_blank\">silvery-sweep-11</a></strong> to <a href='https://wandb.ai/rohitgowlapalli01/Convolution-Neural-Networks' target=\"_blank\">Weights & Biases</a> (<a href='https://wandb.me/run' target=\"_blank\">docs</a>)<br/>Sweep page: <a href='https://wandb.ai/rohitgowlapalli01/Convolution-Neural-Networks/sweeps/mldcvia1' target=\"_blank\">https://wandb.ai/rohitgowlapalli01/Convolution-Neural-Networks/sweeps/mldcvia1</a>"
      ],
      "text/plain": [
       "<IPython.core.display.HTML object>"
      ]
     },
     "metadata": {},
     "output_type": "display_data"
    },
    {
     "data": {
      "text/html": [
       " View project at <a href='https://wandb.ai/rohitgowlapalli01/Convolution-Neural-Networks' target=\"_blank\">https://wandb.ai/rohitgowlapalli01/Convolution-Neural-Networks</a>"
      ],
      "text/plain": [
       "<IPython.core.display.HTML object>"
      ]
     },
     "metadata": {},
     "output_type": "display_data"
    },
    {
     "data": {
      "text/html": [
       " View sweep at <a href='https://wandb.ai/rohitgowlapalli01/Convolution-Neural-Networks/sweeps/mldcvia1' target=\"_blank\">https://wandb.ai/rohitgowlapalli01/Convolution-Neural-Networks/sweeps/mldcvia1</a>"
      ],
      "text/plain": [
       "<IPython.core.display.HTML object>"
      ]
     },
     "metadata": {},
     "output_type": "display_data"
    },
    {
     "data": {
      "text/html": [
       " View run at <a href='https://wandb.ai/rohitgowlapalli01/Convolution-Neural-Networks/runs/b496gflv' target=\"_blank\">https://wandb.ai/rohitgowlapalli01/Convolution-Neural-Networks/runs/b496gflv</a>"
      ],
      "text/plain": [
       "<IPython.core.display.HTML object>"
      ]
     },
     "metadata": {},
     "output_type": "display_data"
    },
    {
     "name": "stdout",
     "output_type": "stream",
     "text": [
      "0.001 64 0.25 5 1 3\n",
      "Epoch 1/3, Train Loss: 0.1385, Train Acc: 95.72%, Val Loss: 0.0538, Val Acc: 98.57%\n",
      "Epoch 2/3, Train Loss: 0.0514, Train Acc: 98.39%, Val Loss: 0.0478, Val Acc: 98.38%\n",
      "Epoch 3/3, Train Loss: 0.0346, Train Acc: 98.93%, Val Loss: 0.0430, Val Acc: 98.83%\n",
      "Test Loss: 0.0348, Test Acc: 99.00%\n"
     ]
    },
    {
     "data": {
      "text/html": [
       "Waiting for W&B process to finish... <strong style=\"color:green\">(success).</strong>"
      ],
      "text/plain": [
       "<IPython.core.display.HTML object>"
      ]
     },
     "metadata": {},
     "output_type": "display_data"
    },
    {
     "data": {
      "application/vnd.jupyter.widget-view+json": {
       "model_id": "ad0eb34176b341399eb6392c787126ee",
       "version_major": 2,
       "version_minor": 0
      },
      "text/plain": [
       "VBox(children=(Label(value='0.002 MB of 0.002 MB uploaded (0.000 MB deduped)\\r'), FloatProgress(value=1.0, max…"
      ]
     },
     "metadata": {},
     "output_type": "display_data"
    },
    {
     "data": {
      "text/html": [
       "<style>\n",
       "    table.wandb td:nth-child(1) { padding: 0 10px; text-align: left ; width: auto;} td:nth-child(2) {text-align: left ; width: 100%}\n",
       "    .wandb-row { display: flex; flex-direction: row; flex-wrap: wrap; justify-content: flex-start; width: 100% }\n",
       "    .wandb-col { display: flex; flex-direction: column; flex-basis: 100%; flex: 1; padding: 10px; }\n",
       "    </style>\n",
       "<div class=\"wandb-row\"><div class=\"wandb-col\"><h3>Run history:</h3><br/><table class=\"wandb\"><tr><td>Trainset Accuracy</td><td>▁</td></tr><tr><td>Trainset Loss</td><td>▁</td></tr><tr><td>Validation set Loss</td><td>▁</td></tr><tr><td>test_accuracy</td><td>▁</td></tr><tr><td>val_accuracy</td><td>▁</td></tr></table><br/></div><div class=\"wandb-col\"><h3>Run summary:</h3><br/><table class=\"wandb\"><tr><td>Trainset Accuracy</td><td>98.92917</td></tr><tr><td>Trainset Loss</td><td>0.03457</td></tr><tr><td>Validation set Loss</td><td>0.04297</td></tr><tr><td>test_accuracy</td><td>99.0</td></tr><tr><td>val_accuracy</td><td>98.83333</td></tr></table><br/></div></div>"
      ],
      "text/plain": [
       "<IPython.core.display.HTML object>"
      ]
     },
     "metadata": {},
     "output_type": "display_data"
    },
    {
     "data": {
      "text/html": [
       " View run <strong style=\"color:#cdcd00\">silvery-sweep-11</strong> at: <a href='https://wandb.ai/rohitgowlapalli01/Convolution-Neural-Networks/runs/b496gflv' target=\"_blank\">https://wandb.ai/rohitgowlapalli01/Convolution-Neural-Networks/runs/b496gflv</a><br/>Synced 5 W&B file(s), 0 media file(s), 0 artifact file(s) and 0 other file(s)"
      ],
      "text/plain": [
       "<IPython.core.display.HTML object>"
      ]
     },
     "metadata": {},
     "output_type": "display_data"
    },
    {
     "data": {
      "text/html": [
       "Find logs at: <code>./wandb/run-20231023_160800-b496gflv/logs</code>"
      ],
      "text/plain": [
       "<IPython.core.display.HTML object>"
      ]
     },
     "metadata": {},
     "output_type": "display_data"
    },
    {
     "name": "stderr",
     "output_type": "stream",
     "text": [
      "\u001b[34m\u001b[1mwandb\u001b[0m: Agent Starting Run: j6vcqruh with config:\n",
      "\u001b[34m\u001b[1mwandb\u001b[0m: \tbatch_size: 64\n",
      "\u001b[34m\u001b[1mwandb\u001b[0m: \tdropout_rate: 0.25\n",
      "\u001b[34m\u001b[1mwandb\u001b[0m: \tkernel_size: 5\n",
      "\u001b[34m\u001b[1mwandb\u001b[0m: \tlearning_rate: 0.001\n",
      "\u001b[34m\u001b[1mwandb\u001b[0m: \tnum_epochs: 3\n",
      "\u001b[34m\u001b[1mwandb\u001b[0m: \tstrides: 2\n",
      "/usr/lib/python3/dist-packages/requests/__init__.py:89: RequestsDependencyWarning: urllib3 (2.0.5) or chardet (3.0.4) doesn't match a supported version!\n",
      "  warnings.warn(\"urllib3 ({}) or chardet ({}) doesn't match a supported \"\n",
      "\u001b[34m\u001b[1mwandb\u001b[0m: \u001b[33mWARNING\u001b[0m Ignored wandb.init() arg project when running a sweep.\n"
     ]
    },
    {
     "data": {
      "application/vnd.jupyter.widget-view+json": {
       "model_id": "f9a001cb0ded4a29b7b6cd6688b68263",
       "version_major": 2,
       "version_minor": 0
      },
      "text/plain": [
       "VBox(children=(Label(value='Waiting for wandb.init()...\\r'), FloatProgress(value=0.011113975222229379, max=1.0…"
      ]
     },
     "metadata": {},
     "output_type": "display_data"
    },
    {
     "data": {
      "text/html": [
       "wandb version 0.15.12 is available!  To upgrade, please run:\n",
       " $ pip install wandb --upgrade"
      ],
      "text/plain": [
       "<IPython.core.display.HTML object>"
      ]
     },
     "metadata": {},
     "output_type": "display_data"
    },
    {
     "data": {
      "text/html": [
       "Tracking run with wandb version 0.15.11"
      ],
      "text/plain": [
       "<IPython.core.display.HTML object>"
      ]
     },
     "metadata": {},
     "output_type": "display_data"
    },
    {
     "data": {
      "text/html": [
       "Run data is saved locally in <code>/home/rohit172/IIIT-H/SEM-5/SMAI/Assignment-3/wandb/run-20231023_161837-j6vcqruh</code>"
      ],
      "text/plain": [
       "<IPython.core.display.HTML object>"
      ]
     },
     "metadata": {},
     "output_type": "display_data"
    },
    {
     "data": {
      "text/html": [
       "Syncing run <strong><a href='https://wandb.ai/rohitgowlapalli01/Convolution-Neural-Networks/runs/j6vcqruh' target=\"_blank\">desert-sweep-12</a></strong> to <a href='https://wandb.ai/rohitgowlapalli01/Convolution-Neural-Networks' target=\"_blank\">Weights & Biases</a> (<a href='https://wandb.me/run' target=\"_blank\">docs</a>)<br/>Sweep page: <a href='https://wandb.ai/rohitgowlapalli01/Convolution-Neural-Networks/sweeps/mldcvia1' target=\"_blank\">https://wandb.ai/rohitgowlapalli01/Convolution-Neural-Networks/sweeps/mldcvia1</a>"
      ],
      "text/plain": [
       "<IPython.core.display.HTML object>"
      ]
     },
     "metadata": {},
     "output_type": "display_data"
    },
    {
     "data": {
      "text/html": [
       " View project at <a href='https://wandb.ai/rohitgowlapalli01/Convolution-Neural-Networks' target=\"_blank\">https://wandb.ai/rohitgowlapalli01/Convolution-Neural-Networks</a>"
      ],
      "text/plain": [
       "<IPython.core.display.HTML object>"
      ]
     },
     "metadata": {},
     "output_type": "display_data"
    },
    {
     "data": {
      "text/html": [
       " View sweep at <a href='https://wandb.ai/rohitgowlapalli01/Convolution-Neural-Networks/sweeps/mldcvia1' target=\"_blank\">https://wandb.ai/rohitgowlapalli01/Convolution-Neural-Networks/sweeps/mldcvia1</a>"
      ],
      "text/plain": [
       "<IPython.core.display.HTML object>"
      ]
     },
     "metadata": {},
     "output_type": "display_data"
    },
    {
     "data": {
      "text/html": [
       " View run at <a href='https://wandb.ai/rohitgowlapalli01/Convolution-Neural-Networks/runs/j6vcqruh' target=\"_blank\">https://wandb.ai/rohitgowlapalli01/Convolution-Neural-Networks/runs/j6vcqruh</a>"
      ],
      "text/plain": [
       "<IPython.core.display.HTML object>"
      ]
     },
     "metadata": {},
     "output_type": "display_data"
    },
    {
     "name": "stdout",
     "output_type": "stream",
     "text": [
      "0.001 64 0.25 5 2 3\n",
      "Epoch 1/3, Train Loss: 0.1860, Train Acc: 94.33%, Val Loss: 0.0617, Val Acc: 98.15%\n",
      "Epoch 2/3, Train Loss: 0.0578, Train Acc: 98.25%, Val Loss: 0.0444, Val Acc: 98.83%\n",
      "Epoch 3/3, Train Loss: 0.0411, Train Acc: 98.69%, Val Loss: 0.0363, Val Acc: 98.93%\n",
      "Test Loss: 0.0270, Test Acc: 99.05%\n"
     ]
    },
    {
     "data": {
      "text/html": [
       "Waiting for W&B process to finish... <strong style=\"color:green\">(success).</strong>"
      ],
      "text/plain": [
       "<IPython.core.display.HTML object>"
      ]
     },
     "metadata": {},
     "output_type": "display_data"
    },
    {
     "data": {
      "application/vnd.jupyter.widget-view+json": {
       "model_id": "3e2f941769bd4138b0e4f501a12d8fd2",
       "version_major": 2,
       "version_minor": 0
      },
      "text/plain": [
       "VBox(children=(Label(value='0.002 MB of 0.002 MB uploaded (0.000 MB deduped)\\r'), FloatProgress(value=1.0, max…"
      ]
     },
     "metadata": {},
     "output_type": "display_data"
    },
    {
     "data": {
      "text/html": [
       "<style>\n",
       "    table.wandb td:nth-child(1) { padding: 0 10px; text-align: left ; width: auto;} td:nth-child(2) {text-align: left ; width: 100%}\n",
       "    .wandb-row { display: flex; flex-direction: row; flex-wrap: wrap; justify-content: flex-start; width: 100% }\n",
       "    .wandb-col { display: flex; flex-direction: column; flex-basis: 100%; flex: 1; padding: 10px; }\n",
       "    </style>\n",
       "<div class=\"wandb-row\"><div class=\"wandb-col\"><h3>Run history:</h3><br/><table class=\"wandb\"><tr><td>Trainset Accuracy</td><td>▁</td></tr><tr><td>Trainset Loss</td><td>▁</td></tr><tr><td>Validation set Loss</td><td>▁</td></tr><tr><td>test_accuracy</td><td>▁</td></tr><tr><td>val_accuracy</td><td>▁</td></tr></table><br/></div><div class=\"wandb-col\"><h3>Run summary:</h3><br/><table class=\"wandb\"><tr><td>Trainset Accuracy</td><td>98.6875</td></tr><tr><td>Trainset Loss</td><td>0.04108</td></tr><tr><td>Validation set Loss</td><td>0.03626</td></tr><tr><td>test_accuracy</td><td>99.05</td></tr><tr><td>val_accuracy</td><td>98.93333</td></tr></table><br/></div></div>"
      ],
      "text/plain": [
       "<IPython.core.display.HTML object>"
      ]
     },
     "metadata": {},
     "output_type": "display_data"
    },
    {
     "data": {
      "text/html": [
       " View run <strong style=\"color:#cdcd00\">desert-sweep-12</strong> at: <a href='https://wandb.ai/rohitgowlapalli01/Convolution-Neural-Networks/runs/j6vcqruh' target=\"_blank\">https://wandb.ai/rohitgowlapalli01/Convolution-Neural-Networks/runs/j6vcqruh</a><br/>Synced 5 W&B file(s), 0 media file(s), 0 artifact file(s) and 0 other file(s)"
      ],
      "text/plain": [
       "<IPython.core.display.HTML object>"
      ]
     },
     "metadata": {},
     "output_type": "display_data"
    },
    {
     "data": {
      "text/html": [
       "Find logs at: <code>./wandb/run-20231023_161837-j6vcqruh/logs</code>"
      ],
      "text/plain": [
       "<IPython.core.display.HTML object>"
      ]
     },
     "metadata": {},
     "output_type": "display_data"
    },
    {
     "name": "stderr",
     "output_type": "stream",
     "text": [
      "\u001b[34m\u001b[1mwandb\u001b[0m: Agent Starting Run: yoqhl55q with config:\n",
      "\u001b[34m\u001b[1mwandb\u001b[0m: \tbatch_size: 64\n",
      "\u001b[34m\u001b[1mwandb\u001b[0m: \tdropout_rate: 0.25\n",
      "\u001b[34m\u001b[1mwandb\u001b[0m: \tkernel_size: 5\n",
      "\u001b[34m\u001b[1mwandb\u001b[0m: \tlearning_rate: 0.01\n",
      "\u001b[34m\u001b[1mwandb\u001b[0m: \tnum_epochs: 2\n",
      "\u001b[34m\u001b[1mwandb\u001b[0m: \tstrides: 1\n",
      "/usr/lib/python3/dist-packages/requests/__init__.py:89: RequestsDependencyWarning: urllib3 (2.0.5) or chardet (3.0.4) doesn't match a supported version!\n",
      "  warnings.warn(\"urllib3 ({}) or chardet ({}) doesn't match a supported \"\n",
      "\u001b[34m\u001b[1mwandb\u001b[0m: \u001b[33mWARNING\u001b[0m Ignored wandb.init() arg project when running a sweep.\n"
     ]
    },
    {
     "data": {
      "text/html": [
       "wandb version 0.15.12 is available!  To upgrade, please run:\n",
       " $ pip install wandb --upgrade"
      ],
      "text/plain": [
       "<IPython.core.display.HTML object>"
      ]
     },
     "metadata": {},
     "output_type": "display_data"
    },
    {
     "data": {
      "text/html": [
       "Tracking run with wandb version 0.15.11"
      ],
      "text/plain": [
       "<IPython.core.display.HTML object>"
      ]
     },
     "metadata": {},
     "output_type": "display_data"
    },
    {
     "data": {
      "text/html": [
       "Run data is saved locally in <code>/home/rohit172/IIIT-H/SEM-5/SMAI/Assignment-3/wandb/run-20231023_162124-yoqhl55q</code>"
      ],
      "text/plain": [
       "<IPython.core.display.HTML object>"
      ]
     },
     "metadata": {},
     "output_type": "display_data"
    },
    {
     "data": {
      "text/html": [
       "Syncing run <strong><a href='https://wandb.ai/rohitgowlapalli01/Convolution-Neural-Networks/runs/yoqhl55q' target=\"_blank\">magic-sweep-13</a></strong> to <a href='https://wandb.ai/rohitgowlapalli01/Convolution-Neural-Networks' target=\"_blank\">Weights & Biases</a> (<a href='https://wandb.me/run' target=\"_blank\">docs</a>)<br/>Sweep page: <a href='https://wandb.ai/rohitgowlapalli01/Convolution-Neural-Networks/sweeps/mldcvia1' target=\"_blank\">https://wandb.ai/rohitgowlapalli01/Convolution-Neural-Networks/sweeps/mldcvia1</a>"
      ],
      "text/plain": [
       "<IPython.core.display.HTML object>"
      ]
     },
     "metadata": {},
     "output_type": "display_data"
    },
    {
     "data": {
      "text/html": [
       " View project at <a href='https://wandb.ai/rohitgowlapalli01/Convolution-Neural-Networks' target=\"_blank\">https://wandb.ai/rohitgowlapalli01/Convolution-Neural-Networks</a>"
      ],
      "text/plain": [
       "<IPython.core.display.HTML object>"
      ]
     },
     "metadata": {},
     "output_type": "display_data"
    },
    {
     "data": {
      "text/html": [
       " View sweep at <a href='https://wandb.ai/rohitgowlapalli01/Convolution-Neural-Networks/sweeps/mldcvia1' target=\"_blank\">https://wandb.ai/rohitgowlapalli01/Convolution-Neural-Networks/sweeps/mldcvia1</a>"
      ],
      "text/plain": [
       "<IPython.core.display.HTML object>"
      ]
     },
     "metadata": {},
     "output_type": "display_data"
    },
    {
     "data": {
      "text/html": [
       " View run at <a href='https://wandb.ai/rohitgowlapalli01/Convolution-Neural-Networks/runs/yoqhl55q' target=\"_blank\">https://wandb.ai/rohitgowlapalli01/Convolution-Neural-Networks/runs/yoqhl55q</a>"
      ],
      "text/plain": [
       "<IPython.core.display.HTML object>"
      ]
     },
     "metadata": {},
     "output_type": "display_data"
    },
    {
     "name": "stdout",
     "output_type": "stream",
     "text": [
      "0.01 64 0.25 5 1 2\n",
      "Epoch 1/2, Train Loss: 0.7097, Train Acc: 91.65%, Val Loss: 0.1136, Val Acc: 96.88%\n",
      "Epoch 2/2, Train Loss: 0.1372, Train Acc: 96.15%, Val Loss: 0.1033, Val Acc: 97.17%\n",
      "Test Loss: 0.1015, Test Acc: 97.27%\n"
     ]
    },
    {
     "data": {
      "text/html": [
       "Waiting for W&B process to finish... <strong style=\"color:green\">(success).</strong>"
      ],
      "text/plain": [
       "<IPython.core.display.HTML object>"
      ]
     },
     "metadata": {},
     "output_type": "display_data"
    },
    {
     "data": {
      "application/vnd.jupyter.widget-view+json": {
       "model_id": "3b87bec92b654d97be7bbdbd4602faa3",
       "version_major": 2,
       "version_minor": 0
      },
      "text/plain": [
       "VBox(children=(Label(value='0.002 MB of 0.002 MB uploaded (0.000 MB deduped)\\r'), FloatProgress(value=1.0, max…"
      ]
     },
     "metadata": {},
     "output_type": "display_data"
    },
    {
     "data": {
      "text/html": [
       "<style>\n",
       "    table.wandb td:nth-child(1) { padding: 0 10px; text-align: left ; width: auto;} td:nth-child(2) {text-align: left ; width: 100%}\n",
       "    .wandb-row { display: flex; flex-direction: row; flex-wrap: wrap; justify-content: flex-start; width: 100% }\n",
       "    .wandb-col { display: flex; flex-direction: column; flex-basis: 100%; flex: 1; padding: 10px; }\n",
       "    </style>\n",
       "<div class=\"wandb-row\"><div class=\"wandb-col\"><h3>Run history:</h3><br/><table class=\"wandb\"><tr><td>Trainset Accuracy</td><td>▁</td></tr><tr><td>Trainset Loss</td><td>▁</td></tr><tr><td>Validation set Loss</td><td>▁</td></tr><tr><td>test_accuracy</td><td>▁</td></tr><tr><td>val_accuracy</td><td>▁</td></tr></table><br/></div><div class=\"wandb-col\"><h3>Run summary:</h3><br/><table class=\"wandb\"><tr><td>Trainset Accuracy</td><td>96.15417</td></tr><tr><td>Trainset Loss</td><td>0.13716</td></tr><tr><td>Validation set Loss</td><td>0.10333</td></tr><tr><td>test_accuracy</td><td>97.26667</td></tr><tr><td>val_accuracy</td><td>97.16667</td></tr></table><br/></div></div>"
      ],
      "text/plain": [
       "<IPython.core.display.HTML object>"
      ]
     },
     "metadata": {},
     "output_type": "display_data"
    },
    {
     "data": {
      "text/html": [
       " View run <strong style=\"color:#cdcd00\">magic-sweep-13</strong> at: <a href='https://wandb.ai/rohitgowlapalli01/Convolution-Neural-Networks/runs/yoqhl55q' target=\"_blank\">https://wandb.ai/rohitgowlapalli01/Convolution-Neural-Networks/runs/yoqhl55q</a><br/>Synced 5 W&B file(s), 0 media file(s), 0 artifact file(s) and 0 other file(s)"
      ],
      "text/plain": [
       "<IPython.core.display.HTML object>"
      ]
     },
     "metadata": {},
     "output_type": "display_data"
    },
    {
     "data": {
      "text/html": [
       "Find logs at: <code>./wandb/run-20231023_162124-yoqhl55q/logs</code>"
      ],
      "text/plain": [
       "<IPython.core.display.HTML object>"
      ]
     },
     "metadata": {},
     "output_type": "display_data"
    },
    {
     "name": "stderr",
     "output_type": "stream",
     "text": [
      "\u001b[34m\u001b[1mwandb\u001b[0m: Agent Starting Run: nfg9p0kx with config:\n",
      "\u001b[34m\u001b[1mwandb\u001b[0m: \tbatch_size: 64\n",
      "\u001b[34m\u001b[1mwandb\u001b[0m: \tdropout_rate: 0.25\n",
      "\u001b[34m\u001b[1mwandb\u001b[0m: \tkernel_size: 5\n",
      "\u001b[34m\u001b[1mwandb\u001b[0m: \tlearning_rate: 0.01\n",
      "\u001b[34m\u001b[1mwandb\u001b[0m: \tnum_epochs: 2\n",
      "\u001b[34m\u001b[1mwandb\u001b[0m: \tstrides: 2\n",
      "/usr/lib/python3/dist-packages/requests/__init__.py:89: RequestsDependencyWarning: urllib3 (2.0.5) or chardet (3.0.4) doesn't match a supported version!\n",
      "  warnings.warn(\"urllib3 ({}) or chardet ({}) doesn't match a supported \"\n",
      "\u001b[34m\u001b[1mwandb\u001b[0m: \u001b[33mWARNING\u001b[0m Ignored wandb.init() arg project when running a sweep.\n"
     ]
    },
    {
     "data": {
      "text/html": [
       "wandb version 0.15.12 is available!  To upgrade, please run:\n",
       " $ pip install wandb --upgrade"
      ],
      "text/plain": [
       "<IPython.core.display.HTML object>"
      ]
     },
     "metadata": {},
     "output_type": "display_data"
    },
    {
     "data": {
      "text/html": [
       "Tracking run with wandb version 0.15.11"
      ],
      "text/plain": [
       "<IPython.core.display.HTML object>"
      ]
     },
     "metadata": {},
     "output_type": "display_data"
    },
    {
     "data": {
      "text/html": [
       "Run data is saved locally in <code>/home/rohit172/IIIT-H/SEM-5/SMAI/Assignment-3/wandb/run-20231023_162809-nfg9p0kx</code>"
      ],
      "text/plain": [
       "<IPython.core.display.HTML object>"
      ]
     },
     "metadata": {},
     "output_type": "display_data"
    },
    {
     "data": {
      "text/html": [
       "Syncing run <strong><a href='https://wandb.ai/rohitgowlapalli01/Convolution-Neural-Networks/runs/nfg9p0kx' target=\"_blank\">iconic-sweep-14</a></strong> to <a href='https://wandb.ai/rohitgowlapalli01/Convolution-Neural-Networks' target=\"_blank\">Weights & Biases</a> (<a href='https://wandb.me/run' target=\"_blank\">docs</a>)<br/>Sweep page: <a href='https://wandb.ai/rohitgowlapalli01/Convolution-Neural-Networks/sweeps/mldcvia1' target=\"_blank\">https://wandb.ai/rohitgowlapalli01/Convolution-Neural-Networks/sweeps/mldcvia1</a>"
      ],
      "text/plain": [
       "<IPython.core.display.HTML object>"
      ]
     },
     "metadata": {},
     "output_type": "display_data"
    },
    {
     "data": {
      "text/html": [
       " View project at <a href='https://wandb.ai/rohitgowlapalli01/Convolution-Neural-Networks' target=\"_blank\">https://wandb.ai/rohitgowlapalli01/Convolution-Neural-Networks</a>"
      ],
      "text/plain": [
       "<IPython.core.display.HTML object>"
      ]
     },
     "metadata": {},
     "output_type": "display_data"
    },
    {
     "data": {
      "text/html": [
       " View sweep at <a href='https://wandb.ai/rohitgowlapalli01/Convolution-Neural-Networks/sweeps/mldcvia1' target=\"_blank\">https://wandb.ai/rohitgowlapalli01/Convolution-Neural-Networks/sweeps/mldcvia1</a>"
      ],
      "text/plain": [
       "<IPython.core.display.HTML object>"
      ]
     },
     "metadata": {},
     "output_type": "display_data"
    },
    {
     "data": {
      "text/html": [
       " View run at <a href='https://wandb.ai/rohitgowlapalli01/Convolution-Neural-Networks/runs/nfg9p0kx' target=\"_blank\">https://wandb.ai/rohitgowlapalli01/Convolution-Neural-Networks/runs/nfg9p0kx</a>"
      ],
      "text/plain": [
       "<IPython.core.display.HTML object>"
      ]
     },
     "metadata": {},
     "output_type": "display_data"
    },
    {
     "name": "stdout",
     "output_type": "stream",
     "text": [
      "0.01 64 0.25 5 2 2\n",
      "Epoch 1/2, Train Loss: 0.2454, Train Acc: 92.86%, Val Loss: 0.0889, Val Acc: 97.45%\n",
      "Epoch 2/2, Train Loss: 0.1329, Train Acc: 96.41%, Val Loss: 0.0980, Val Acc: 97.42%\n",
      "Test Loss: 0.0978, Test Acc: 97.25%\n"
     ]
    },
    {
     "data": {
      "text/html": [
       "Waiting for W&B process to finish... <strong style=\"color:green\">(success).</strong>"
      ],
      "text/plain": [
       "<IPython.core.display.HTML object>"
      ]
     },
     "metadata": {},
     "output_type": "display_data"
    },
    {
     "data": {
      "text/html": [
       "<style>\n",
       "    table.wandb td:nth-child(1) { padding: 0 10px; text-align: left ; width: auto;} td:nth-child(2) {text-align: left ; width: 100%}\n",
       "    .wandb-row { display: flex; flex-direction: row; flex-wrap: wrap; justify-content: flex-start; width: 100% }\n",
       "    .wandb-col { display: flex; flex-direction: column; flex-basis: 100%; flex: 1; padding: 10px; }\n",
       "    </style>\n",
       "<div class=\"wandb-row\"><div class=\"wandb-col\"><h3>Run history:</h3><br/><table class=\"wandb\"><tr><td>Trainset Accuracy</td><td>▁</td></tr><tr><td>Trainset Loss</td><td>▁</td></tr><tr><td>Validation set Loss</td><td>▁</td></tr><tr><td>test_accuracy</td><td>▁</td></tr><tr><td>val_accuracy</td><td>▁</td></tr></table><br/></div><div class=\"wandb-col\"><h3>Run summary:</h3><br/><table class=\"wandb\"><tr><td>Trainset Accuracy</td><td>96.40625</td></tr><tr><td>Trainset Loss</td><td>0.13293</td></tr><tr><td>Validation set Loss</td><td>0.09801</td></tr><tr><td>test_accuracy</td><td>97.25</td></tr><tr><td>val_accuracy</td><td>97.41667</td></tr></table><br/></div></div>"
      ],
      "text/plain": [
       "<IPython.core.display.HTML object>"
      ]
     },
     "metadata": {},
     "output_type": "display_data"
    },
    {
     "data": {
      "text/html": [
       " View run <strong style=\"color:#cdcd00\">iconic-sweep-14</strong> at: <a href='https://wandb.ai/rohitgowlapalli01/Convolution-Neural-Networks/runs/nfg9p0kx' target=\"_blank\">https://wandb.ai/rohitgowlapalli01/Convolution-Neural-Networks/runs/nfg9p0kx</a><br/>Synced 5 W&B file(s), 0 media file(s), 0 artifact file(s) and 0 other file(s)"
      ],
      "text/plain": [
       "<IPython.core.display.HTML object>"
      ]
     },
     "metadata": {},
     "output_type": "display_data"
    },
    {
     "data": {
      "text/html": [
       "Find logs at: <code>./wandb/run-20231023_162809-nfg9p0kx/logs</code>"
      ],
      "text/plain": [
       "<IPython.core.display.HTML object>"
      ]
     },
     "metadata": {},
     "output_type": "display_data"
    },
    {
     "name": "stderr",
     "output_type": "stream",
     "text": [
      "\u001b[34m\u001b[1mwandb\u001b[0m: Agent Starting Run: me9ho5ro with config:\n",
      "\u001b[34m\u001b[1mwandb\u001b[0m: \tbatch_size: 64\n",
      "\u001b[34m\u001b[1mwandb\u001b[0m: \tdropout_rate: 0.25\n",
      "\u001b[34m\u001b[1mwandb\u001b[0m: \tkernel_size: 5\n",
      "\u001b[34m\u001b[1mwandb\u001b[0m: \tlearning_rate: 0.01\n",
      "\u001b[34m\u001b[1mwandb\u001b[0m: \tnum_epochs: 3\n",
      "\u001b[34m\u001b[1mwandb\u001b[0m: \tstrides: 1\n",
      "/usr/lib/python3/dist-packages/requests/__init__.py:89: RequestsDependencyWarning: urllib3 (2.0.5) or chardet (3.0.4) doesn't match a supported version!\n",
      "  warnings.warn(\"urllib3 ({}) or chardet ({}) doesn't match a supported \"\n",
      "\u001b[34m\u001b[1mwandb\u001b[0m: \u001b[33mWARNING\u001b[0m Ignored wandb.init() arg project when running a sweep.\n"
     ]
    },
    {
     "data": {
      "text/html": [
       "wandb version 0.15.12 is available!  To upgrade, please run:\n",
       " $ pip install wandb --upgrade"
      ],
      "text/plain": [
       "<IPython.core.display.HTML object>"
      ]
     },
     "metadata": {},
     "output_type": "display_data"
    },
    {
     "data": {
      "text/html": [
       "Tracking run with wandb version 0.15.11"
      ],
      "text/plain": [
       "<IPython.core.display.HTML object>"
      ]
     },
     "metadata": {},
     "output_type": "display_data"
    },
    {
     "data": {
      "text/html": [
       "Run data is saved locally in <code>/home/rohit172/IIIT-H/SEM-5/SMAI/Assignment-3/wandb/run-20231023_163001-me9ho5ro</code>"
      ],
      "text/plain": [
       "<IPython.core.display.HTML object>"
      ]
     },
     "metadata": {},
     "output_type": "display_data"
    },
    {
     "data": {
      "text/html": [
       "Syncing run <strong><a href='https://wandb.ai/rohitgowlapalli01/Convolution-Neural-Networks/runs/me9ho5ro' target=\"_blank\">easy-sweep-15</a></strong> to <a href='https://wandb.ai/rohitgowlapalli01/Convolution-Neural-Networks' target=\"_blank\">Weights & Biases</a> (<a href='https://wandb.me/run' target=\"_blank\">docs</a>)<br/>Sweep page: <a href='https://wandb.ai/rohitgowlapalli01/Convolution-Neural-Networks/sweeps/mldcvia1' target=\"_blank\">https://wandb.ai/rohitgowlapalli01/Convolution-Neural-Networks/sweeps/mldcvia1</a>"
      ],
      "text/plain": [
       "<IPython.core.display.HTML object>"
      ]
     },
     "metadata": {},
     "output_type": "display_data"
    },
    {
     "data": {
      "text/html": [
       " View project at <a href='https://wandb.ai/rohitgowlapalli01/Convolution-Neural-Networks' target=\"_blank\">https://wandb.ai/rohitgowlapalli01/Convolution-Neural-Networks</a>"
      ],
      "text/plain": [
       "<IPython.core.display.HTML object>"
      ]
     },
     "metadata": {},
     "output_type": "display_data"
    },
    {
     "data": {
      "text/html": [
       " View sweep at <a href='https://wandb.ai/rohitgowlapalli01/Convolution-Neural-Networks/sweeps/mldcvia1' target=\"_blank\">https://wandb.ai/rohitgowlapalli01/Convolution-Neural-Networks/sweeps/mldcvia1</a>"
      ],
      "text/plain": [
       "<IPython.core.display.HTML object>"
      ]
     },
     "metadata": {},
     "output_type": "display_data"
    },
    {
     "data": {
      "text/html": [
       " View run at <a href='https://wandb.ai/rohitgowlapalli01/Convolution-Neural-Networks/runs/me9ho5ro' target=\"_blank\">https://wandb.ai/rohitgowlapalli01/Convolution-Neural-Networks/runs/me9ho5ro</a>"
      ],
      "text/plain": [
       "<IPython.core.display.HTML object>"
      ]
     },
     "metadata": {},
     "output_type": "display_data"
    },
    {
     "name": "stdout",
     "output_type": "stream",
     "text": [
      "0.01 64 0.25 5 1 3\n",
      "Epoch 1/3, Train Loss: 0.4148, Train Acc: 91.67%, Val Loss: 0.1348, Val Acc: 96.32%\n",
      "Epoch 2/3, Train Loss: 0.1700, Train Acc: 95.50%, Val Loss: 0.1356, Val Acc: 96.55%\n",
      "Epoch 3/3, Train Loss: 0.1568, Train Acc: 95.83%, Val Loss: 0.1505, Val Acc: 96.78%\n",
      "Test Loss: 0.1219, Test Acc: 96.85%\n"
     ]
    },
    {
     "data": {
      "text/html": [
       "Waiting for W&B process to finish... <strong style=\"color:green\">(success).</strong>"
      ],
      "text/plain": [
       "<IPython.core.display.HTML object>"
      ]
     },
     "metadata": {},
     "output_type": "display_data"
    },
    {
     "data": {
      "application/vnd.jupyter.widget-view+json": {
       "model_id": "4e89ac7031e842ce895ff22d0f650cd7",
       "version_major": 2,
       "version_minor": 0
      },
      "text/plain": [
       "VBox(children=(Label(value='0.002 MB of 0.002 MB uploaded (0.000 MB deduped)\\r'), FloatProgress(value=1.0, max…"
      ]
     },
     "metadata": {},
     "output_type": "display_data"
    },
    {
     "data": {
      "text/html": [
       "<style>\n",
       "    table.wandb td:nth-child(1) { padding: 0 10px; text-align: left ; width: auto;} td:nth-child(2) {text-align: left ; width: 100%}\n",
       "    .wandb-row { display: flex; flex-direction: row; flex-wrap: wrap; justify-content: flex-start; width: 100% }\n",
       "    .wandb-col { display: flex; flex-direction: column; flex-basis: 100%; flex: 1; padding: 10px; }\n",
       "    </style>\n",
       "<div class=\"wandb-row\"><div class=\"wandb-col\"><h3>Run history:</h3><br/><table class=\"wandb\"><tr><td>Trainset Accuracy</td><td>▁</td></tr><tr><td>Trainset Loss</td><td>▁</td></tr><tr><td>Validation set Loss</td><td>▁</td></tr><tr><td>test_accuracy</td><td>▁</td></tr><tr><td>val_accuracy</td><td>▁</td></tr></table><br/></div><div class=\"wandb-col\"><h3>Run summary:</h3><br/><table class=\"wandb\"><tr><td>Trainset Accuracy</td><td>95.83125</td></tr><tr><td>Trainset Loss</td><td>0.15682</td></tr><tr><td>Validation set Loss</td><td>0.15051</td></tr><tr><td>test_accuracy</td><td>96.85</td></tr><tr><td>val_accuracy</td><td>96.78333</td></tr></table><br/></div></div>"
      ],
      "text/plain": [
       "<IPython.core.display.HTML object>"
      ]
     },
     "metadata": {},
     "output_type": "display_data"
    },
    {
     "data": {
      "text/html": [
       " View run <strong style=\"color:#cdcd00\">easy-sweep-15</strong> at: <a href='https://wandb.ai/rohitgowlapalli01/Convolution-Neural-Networks/runs/me9ho5ro' target=\"_blank\">https://wandb.ai/rohitgowlapalli01/Convolution-Neural-Networks/runs/me9ho5ro</a><br/>Synced 5 W&B file(s), 0 media file(s), 0 artifact file(s) and 0 other file(s)"
      ],
      "text/plain": [
       "<IPython.core.display.HTML object>"
      ]
     },
     "metadata": {},
     "output_type": "display_data"
    },
    {
     "data": {
      "text/html": [
       "Find logs at: <code>./wandb/run-20231023_163001-me9ho5ro/logs</code>"
      ],
      "text/plain": [
       "<IPython.core.display.HTML object>"
      ]
     },
     "metadata": {},
     "output_type": "display_data"
    },
    {
     "name": "stderr",
     "output_type": "stream",
     "text": [
      "\u001b[34m\u001b[1mwandb\u001b[0m: Agent Starting Run: kkm4fsny with config:\n",
      "\u001b[34m\u001b[1mwandb\u001b[0m: \tbatch_size: 64\n",
      "\u001b[34m\u001b[1mwandb\u001b[0m: \tdropout_rate: 0.25\n",
      "\u001b[34m\u001b[1mwandb\u001b[0m: \tkernel_size: 5\n",
      "\u001b[34m\u001b[1mwandb\u001b[0m: \tlearning_rate: 0.01\n",
      "\u001b[34m\u001b[1mwandb\u001b[0m: \tnum_epochs: 3\n",
      "\u001b[34m\u001b[1mwandb\u001b[0m: \tstrides: 2\n",
      "/usr/lib/python3/dist-packages/requests/__init__.py:89: RequestsDependencyWarning: urllib3 (2.0.5) or chardet (3.0.4) doesn't match a supported version!\n",
      "  warnings.warn(\"urllib3 ({}) or chardet ({}) doesn't match a supported \"\n",
      "\u001b[34m\u001b[1mwandb\u001b[0m: \u001b[33mWARNING\u001b[0m Ignored wandb.init() arg project when running a sweep.\n"
     ]
    },
    {
     "data": {
      "application/vnd.jupyter.widget-view+json": {
       "model_id": "dbeb9bd938e14acdbab877a8ed5ae598",
       "version_major": 2,
       "version_minor": 0
      },
      "text/plain": [
       "VBox(children=(Label(value='Waiting for wandb.init()...\\r'), FloatProgress(value=0.011115070999999766, max=1.0…"
      ]
     },
     "metadata": {},
     "output_type": "display_data"
    },
    {
     "data": {
      "text/html": [
       "wandb version 0.15.12 is available!  To upgrade, please run:\n",
       " $ pip install wandb --upgrade"
      ],
      "text/plain": [
       "<IPython.core.display.HTML object>"
      ]
     },
     "metadata": {},
     "output_type": "display_data"
    },
    {
     "data": {
      "text/html": [
       "Tracking run with wandb version 0.15.11"
      ],
      "text/plain": [
       "<IPython.core.display.HTML object>"
      ]
     },
     "metadata": {},
     "output_type": "display_data"
    },
    {
     "data": {
      "text/html": [
       "Run data is saved locally in <code>/home/rohit172/IIIT-H/SEM-5/SMAI/Assignment-3/wandb/run-20231023_163952-kkm4fsny</code>"
      ],
      "text/plain": [
       "<IPython.core.display.HTML object>"
      ]
     },
     "metadata": {},
     "output_type": "display_data"
    },
    {
     "data": {
      "text/html": [
       "Syncing run <strong><a href='https://wandb.ai/rohitgowlapalli01/Convolution-Neural-Networks/runs/kkm4fsny' target=\"_blank\">prime-sweep-16</a></strong> to <a href='https://wandb.ai/rohitgowlapalli01/Convolution-Neural-Networks' target=\"_blank\">Weights & Biases</a> (<a href='https://wandb.me/run' target=\"_blank\">docs</a>)<br/>Sweep page: <a href='https://wandb.ai/rohitgowlapalli01/Convolution-Neural-Networks/sweeps/mldcvia1' target=\"_blank\">https://wandb.ai/rohitgowlapalli01/Convolution-Neural-Networks/sweeps/mldcvia1</a>"
      ],
      "text/plain": [
       "<IPython.core.display.HTML object>"
      ]
     },
     "metadata": {},
     "output_type": "display_data"
    },
    {
     "data": {
      "text/html": [
       " View project at <a href='https://wandb.ai/rohitgowlapalli01/Convolution-Neural-Networks' target=\"_blank\">https://wandb.ai/rohitgowlapalli01/Convolution-Neural-Networks</a>"
      ],
      "text/plain": [
       "<IPython.core.display.HTML object>"
      ]
     },
     "metadata": {},
     "output_type": "display_data"
    },
    {
     "data": {
      "text/html": [
       " View sweep at <a href='https://wandb.ai/rohitgowlapalli01/Convolution-Neural-Networks/sweeps/mldcvia1' target=\"_blank\">https://wandb.ai/rohitgowlapalli01/Convolution-Neural-Networks/sweeps/mldcvia1</a>"
      ],
      "text/plain": [
       "<IPython.core.display.HTML object>"
      ]
     },
     "metadata": {},
     "output_type": "display_data"
    },
    {
     "data": {
      "text/html": [
       " View run at <a href='https://wandb.ai/rohitgowlapalli01/Convolution-Neural-Networks/runs/kkm4fsny' target=\"_blank\">https://wandb.ai/rohitgowlapalli01/Convolution-Neural-Networks/runs/kkm4fsny</a>"
      ],
      "text/plain": [
       "<IPython.core.display.HTML object>"
      ]
     },
     "metadata": {},
     "output_type": "display_data"
    },
    {
     "name": "stdout",
     "output_type": "stream",
     "text": [
      "0.01 64 0.25 5 2 3\n",
      "Epoch 1/3, Train Loss: 0.3382, Train Acc: 89.49%, Val Loss: 0.1069, Val Acc: 97.00%\n",
      "Epoch 2/3, Train Loss: 0.1394, Train Acc: 96.19%, Val Loss: 0.1367, Val Acc: 96.80%\n",
      "Epoch 3/3, Train Loss: 0.1352, Train Acc: 96.29%, Val Loss: 0.1159, Val Acc: 97.30%\n",
      "Test Loss: 0.0970, Test Acc: 97.68%\n"
     ]
    },
    {
     "data": {
      "text/html": [
       "Waiting for W&B process to finish... <strong style=\"color:green\">(success).</strong>"
      ],
      "text/plain": [
       "<IPython.core.display.HTML object>"
      ]
     },
     "metadata": {},
     "output_type": "display_data"
    },
    {
     "data": {
      "application/vnd.jupyter.widget-view+json": {
       "model_id": "7d0ce6ee2e0243e7a3da258c902562fe",
       "version_major": 2,
       "version_minor": 0
      },
      "text/plain": [
       "VBox(children=(Label(value='0.002 MB of 0.002 MB uploaded (0.000 MB deduped)\\r'), FloatProgress(value=1.0, max…"
      ]
     },
     "metadata": {},
     "output_type": "display_data"
    },
    {
     "data": {
      "text/html": [
       "<style>\n",
       "    table.wandb td:nth-child(1) { padding: 0 10px; text-align: left ; width: auto;} td:nth-child(2) {text-align: left ; width: 100%}\n",
       "    .wandb-row { display: flex; flex-direction: row; flex-wrap: wrap; justify-content: flex-start; width: 100% }\n",
       "    .wandb-col { display: flex; flex-direction: column; flex-basis: 100%; flex: 1; padding: 10px; }\n",
       "    </style>\n",
       "<div class=\"wandb-row\"><div class=\"wandb-col\"><h3>Run history:</h3><br/><table class=\"wandb\"><tr><td>Trainset Accuracy</td><td>▁</td></tr><tr><td>Trainset Loss</td><td>▁</td></tr><tr><td>Validation set Loss</td><td>▁</td></tr><tr><td>test_accuracy</td><td>▁</td></tr><tr><td>val_accuracy</td><td>▁</td></tr></table><br/></div><div class=\"wandb-col\"><h3>Run summary:</h3><br/><table class=\"wandb\"><tr><td>Trainset Accuracy</td><td>96.2875</td></tr><tr><td>Trainset Loss</td><td>0.13519</td></tr><tr><td>Validation set Loss</td><td>0.11594</td></tr><tr><td>test_accuracy</td><td>97.68333</td></tr><tr><td>val_accuracy</td><td>97.3</td></tr></table><br/></div></div>"
      ],
      "text/plain": [
       "<IPython.core.display.HTML object>"
      ]
     },
     "metadata": {},
     "output_type": "display_data"
    },
    {
     "data": {
      "text/html": [
       " View run <strong style=\"color:#cdcd00\">prime-sweep-16</strong> at: <a href='https://wandb.ai/rohitgowlapalli01/Convolution-Neural-Networks/runs/kkm4fsny' target=\"_blank\">https://wandb.ai/rohitgowlapalli01/Convolution-Neural-Networks/runs/kkm4fsny</a><br/>Synced 5 W&B file(s), 0 media file(s), 0 artifact file(s) and 0 other file(s)"
      ],
      "text/plain": [
       "<IPython.core.display.HTML object>"
      ]
     },
     "metadata": {},
     "output_type": "display_data"
    },
    {
     "data": {
      "text/html": [
       "Find logs at: <code>./wandb/run-20231023_163952-kkm4fsny/logs</code>"
      ],
      "text/plain": [
       "<IPython.core.display.HTML object>"
      ]
     },
     "metadata": {},
     "output_type": "display_data"
    },
    {
     "name": "stderr",
     "output_type": "stream",
     "text": [
      "\u001b[34m\u001b[1mwandb\u001b[0m: Sweep Agent: Waiting for job.\n",
      "\u001b[34m\u001b[1mwandb\u001b[0m: Job received.\n",
      "\u001b[34m\u001b[1mwandb\u001b[0m: Agent Starting Run: ijtpywm4 with config:\n",
      "\u001b[34m\u001b[1mwandb\u001b[0m: \tbatch_size: 64\n",
      "\u001b[34m\u001b[1mwandb\u001b[0m: \tdropout_rate: 0.5\n",
      "\u001b[34m\u001b[1mwandb\u001b[0m: \tkernel_size: 3\n",
      "\u001b[34m\u001b[1mwandb\u001b[0m: \tlearning_rate: 0.001\n",
      "\u001b[34m\u001b[1mwandb\u001b[0m: \tnum_epochs: 2\n",
      "\u001b[34m\u001b[1mwandb\u001b[0m: \tstrides: 1\n",
      "/usr/lib/python3/dist-packages/requests/__init__.py:89: RequestsDependencyWarning: urllib3 (2.0.5) or chardet (3.0.4) doesn't match a supported version!\n",
      "  warnings.warn(\"urllib3 ({}) or chardet ({}) doesn't match a supported \"\n",
      "\u001b[34m\u001b[1mwandb\u001b[0m: \u001b[33mWARNING\u001b[0m Ignored wandb.init() arg project when running a sweep.\n"
     ]
    },
    {
     "data": {
      "application/vnd.jupyter.widget-view+json": {
       "model_id": "b6d0e70ea7b44d139f3e77baa7a253f5",
       "version_major": 2,
       "version_minor": 0
      },
      "text/plain": [
       "VBox(children=(Label(value='Waiting for wandb.init()...\\r'), FloatProgress(value=0.01111387206667334, max=1.0)…"
      ]
     },
     "metadata": {},
     "output_type": "display_data"
    },
    {
     "data": {
      "text/html": [
       "wandb version 0.15.12 is available!  To upgrade, please run:\n",
       " $ pip install wandb --upgrade"
      ],
      "text/plain": [
       "<IPython.core.display.HTML object>"
      ]
     },
     "metadata": {},
     "output_type": "display_data"
    },
    {
     "data": {
      "text/html": [
       "Tracking run with wandb version 0.15.11"
      ],
      "text/plain": [
       "<IPython.core.display.HTML object>"
      ]
     },
     "metadata": {},
     "output_type": "display_data"
    },
    {
     "data": {
      "text/html": [
       "Run data is saved locally in <code>/home/rohit172/IIIT-H/SEM-5/SMAI/Assignment-3/wandb/run-20231023_164238-ijtpywm4</code>"
      ],
      "text/plain": [
       "<IPython.core.display.HTML object>"
      ]
     },
     "metadata": {},
     "output_type": "display_data"
    },
    {
     "data": {
      "text/html": [
       "Syncing run <strong><a href='https://wandb.ai/rohitgowlapalli01/Convolution-Neural-Networks/runs/ijtpywm4' target=\"_blank\">pretty-sweep-17</a></strong> to <a href='https://wandb.ai/rohitgowlapalli01/Convolution-Neural-Networks' target=\"_blank\">Weights & Biases</a> (<a href='https://wandb.me/run' target=\"_blank\">docs</a>)<br/>Sweep page: <a href='https://wandb.ai/rohitgowlapalli01/Convolution-Neural-Networks/sweeps/mldcvia1' target=\"_blank\">https://wandb.ai/rohitgowlapalli01/Convolution-Neural-Networks/sweeps/mldcvia1</a>"
      ],
      "text/plain": [
       "<IPython.core.display.HTML object>"
      ]
     },
     "metadata": {},
     "output_type": "display_data"
    },
    {
     "data": {
      "text/html": [
       " View project at <a href='https://wandb.ai/rohitgowlapalli01/Convolution-Neural-Networks' target=\"_blank\">https://wandb.ai/rohitgowlapalli01/Convolution-Neural-Networks</a>"
      ],
      "text/plain": [
       "<IPython.core.display.HTML object>"
      ]
     },
     "metadata": {},
     "output_type": "display_data"
    },
    {
     "data": {
      "text/html": [
       " View sweep at <a href='https://wandb.ai/rohitgowlapalli01/Convolution-Neural-Networks/sweeps/mldcvia1' target=\"_blank\">https://wandb.ai/rohitgowlapalli01/Convolution-Neural-Networks/sweeps/mldcvia1</a>"
      ],
      "text/plain": [
       "<IPython.core.display.HTML object>"
      ]
     },
     "metadata": {},
     "output_type": "display_data"
    },
    {
     "data": {
      "text/html": [
       " View run at <a href='https://wandb.ai/rohitgowlapalli01/Convolution-Neural-Networks/runs/ijtpywm4' target=\"_blank\">https://wandb.ai/rohitgowlapalli01/Convolution-Neural-Networks/runs/ijtpywm4</a>"
      ],
      "text/plain": [
       "<IPython.core.display.HTML object>"
      ]
     },
     "metadata": {},
     "output_type": "display_data"
    },
    {
     "name": "stdout",
     "output_type": "stream",
     "text": [
      "0.001 64 0.5 3 1 2\n",
      "Epoch 1/2, Train Loss: 0.2139, Train Acc: 93.52%, Val Loss: 0.0620, Val Acc: 98.25%\n",
      "Epoch 2/2, Train Loss: 0.0898, Train Acc: 97.32%, Val Loss: 0.0535, Val Acc: 98.43%\n",
      "Test Loss: 0.0459, Test Acc: 98.52%\n"
     ]
    },
    {
     "data": {
      "text/html": [
       "Waiting for W&B process to finish... <strong style=\"color:green\">(success).</strong>"
      ],
      "text/plain": [
       "<IPython.core.display.HTML object>"
      ]
     },
     "metadata": {},
     "output_type": "display_data"
    },
    {
     "data": {
      "application/vnd.jupyter.widget-view+json": {
       "model_id": "963a4e5ba20d43fd9abd2ccc8e8f1d48",
       "version_major": 2,
       "version_minor": 0
      },
      "text/plain": [
       "VBox(children=(Label(value='0.002 MB of 0.002 MB uploaded (0.000 MB deduped)\\r'), FloatProgress(value=1.0, max…"
      ]
     },
     "metadata": {},
     "output_type": "display_data"
    },
    {
     "data": {
      "text/html": [
       "<style>\n",
       "    table.wandb td:nth-child(1) { padding: 0 10px; text-align: left ; width: auto;} td:nth-child(2) {text-align: left ; width: 100%}\n",
       "    .wandb-row { display: flex; flex-direction: row; flex-wrap: wrap; justify-content: flex-start; width: 100% }\n",
       "    .wandb-col { display: flex; flex-direction: column; flex-basis: 100%; flex: 1; padding: 10px; }\n",
       "    </style>\n",
       "<div class=\"wandb-row\"><div class=\"wandb-col\"><h3>Run history:</h3><br/><table class=\"wandb\"><tr><td>Trainset Accuracy</td><td>▁</td></tr><tr><td>Trainset Loss</td><td>▁</td></tr><tr><td>Validation set Loss</td><td>▁</td></tr><tr><td>test_accuracy</td><td>▁</td></tr><tr><td>val_accuracy</td><td>▁</td></tr></table><br/></div><div class=\"wandb-col\"><h3>Run summary:</h3><br/><table class=\"wandb\"><tr><td>Trainset Accuracy</td><td>97.31667</td></tr><tr><td>Trainset Loss</td><td>0.0898</td></tr><tr><td>Validation set Loss</td><td>0.05345</td></tr><tr><td>test_accuracy</td><td>98.51667</td></tr><tr><td>val_accuracy</td><td>98.43333</td></tr></table><br/></div></div>"
      ],
      "text/plain": [
       "<IPython.core.display.HTML object>"
      ]
     },
     "metadata": {},
     "output_type": "display_data"
    },
    {
     "data": {
      "text/html": [
       " View run <strong style=\"color:#cdcd00\">pretty-sweep-17</strong> at: <a href='https://wandb.ai/rohitgowlapalli01/Convolution-Neural-Networks/runs/ijtpywm4' target=\"_blank\">https://wandb.ai/rohitgowlapalli01/Convolution-Neural-Networks/runs/ijtpywm4</a><br/>Synced 5 W&B file(s), 0 media file(s), 0 artifact file(s) and 0 other file(s)"
      ],
      "text/plain": [
       "<IPython.core.display.HTML object>"
      ]
     },
     "metadata": {},
     "output_type": "display_data"
    },
    {
     "data": {
      "text/html": [
       "Find logs at: <code>./wandb/run-20231023_164238-ijtpywm4/logs</code>"
      ],
      "text/plain": [
       "<IPython.core.display.HTML object>"
      ]
     },
     "metadata": {},
     "output_type": "display_data"
    },
    {
     "name": "stderr",
     "output_type": "stream",
     "text": [
      "\u001b[34m\u001b[1mwandb\u001b[0m: Sweep Agent: Waiting for job.\n",
      "\u001b[34m\u001b[1mwandb\u001b[0m: Job received.\n",
      "\u001b[34m\u001b[1mwandb\u001b[0m: Agent Starting Run: sqdzgszx with config:\n",
      "\u001b[34m\u001b[1mwandb\u001b[0m: \tbatch_size: 64\n",
      "\u001b[34m\u001b[1mwandb\u001b[0m: \tdropout_rate: 0.5\n",
      "\u001b[34m\u001b[1mwandb\u001b[0m: \tkernel_size: 3\n",
      "\u001b[34m\u001b[1mwandb\u001b[0m: \tlearning_rate: 0.001\n",
      "\u001b[34m\u001b[1mwandb\u001b[0m: \tnum_epochs: 2\n",
      "\u001b[34m\u001b[1mwandb\u001b[0m: \tstrides: 2\n",
      "/usr/lib/python3/dist-packages/requests/__init__.py:89: RequestsDependencyWarning: urllib3 (2.0.5) or chardet (3.0.4) doesn't match a supported version!\n",
      "  warnings.warn(\"urllib3 ({}) or chardet ({}) doesn't match a supported \"\n",
      "\u001b[34m\u001b[1mwandb\u001b[0m: \u001b[33mWARNING\u001b[0m Ignored wandb.init() arg project when running a sweep.\n"
     ]
    },
    {
     "data": {
      "text/html": [
       "wandb version 0.15.12 is available!  To upgrade, please run:\n",
       " $ pip install wandb --upgrade"
      ],
      "text/plain": [
       "<IPython.core.display.HTML object>"
      ]
     },
     "metadata": {},
     "output_type": "display_data"
    },
    {
     "data": {
      "text/html": [
       "Tracking run with wandb version 0.15.11"
      ],
      "text/plain": [
       "<IPython.core.display.HTML object>"
      ]
     },
     "metadata": {},
     "output_type": "display_data"
    },
    {
     "data": {
      "text/html": [
       "Run data is saved locally in <code>/home/rohit172/IIIT-H/SEM-5/SMAI/Assignment-3/wandb/run-20231023_164858-sqdzgszx</code>"
      ],
      "text/plain": [
       "<IPython.core.display.HTML object>"
      ]
     },
     "metadata": {},
     "output_type": "display_data"
    },
    {
     "data": {
      "text/html": [
       "Syncing run <strong><a href='https://wandb.ai/rohitgowlapalli01/Convolution-Neural-Networks/runs/sqdzgszx' target=\"_blank\">still-sweep-18</a></strong> to <a href='https://wandb.ai/rohitgowlapalli01/Convolution-Neural-Networks' target=\"_blank\">Weights & Biases</a> (<a href='https://wandb.me/run' target=\"_blank\">docs</a>)<br/>Sweep page: <a href='https://wandb.ai/rohitgowlapalli01/Convolution-Neural-Networks/sweeps/mldcvia1' target=\"_blank\">https://wandb.ai/rohitgowlapalli01/Convolution-Neural-Networks/sweeps/mldcvia1</a>"
      ],
      "text/plain": [
       "<IPython.core.display.HTML object>"
      ]
     },
     "metadata": {},
     "output_type": "display_data"
    },
    {
     "data": {
      "text/html": [
       " View project at <a href='https://wandb.ai/rohitgowlapalli01/Convolution-Neural-Networks' target=\"_blank\">https://wandb.ai/rohitgowlapalli01/Convolution-Neural-Networks</a>"
      ],
      "text/plain": [
       "<IPython.core.display.HTML object>"
      ]
     },
     "metadata": {},
     "output_type": "display_data"
    },
    {
     "data": {
      "text/html": [
       " View sweep at <a href='https://wandb.ai/rohitgowlapalli01/Convolution-Neural-Networks/sweeps/mldcvia1' target=\"_blank\">https://wandb.ai/rohitgowlapalli01/Convolution-Neural-Networks/sweeps/mldcvia1</a>"
      ],
      "text/plain": [
       "<IPython.core.display.HTML object>"
      ]
     },
     "metadata": {},
     "output_type": "display_data"
    },
    {
     "data": {
      "text/html": [
       " View run at <a href='https://wandb.ai/rohitgowlapalli01/Convolution-Neural-Networks/runs/sqdzgszx' target=\"_blank\">https://wandb.ai/rohitgowlapalli01/Convolution-Neural-Networks/runs/sqdzgszx</a>"
      ],
      "text/plain": [
       "<IPython.core.display.HTML object>"
      ]
     },
     "metadata": {},
     "output_type": "display_data"
    },
    {
     "name": "stdout",
     "output_type": "stream",
     "text": [
      "0.001 64 0.5 3 2 2\n",
      "Epoch 1/2, Train Loss: 0.2854, Train Acc: 91.16%, Val Loss: 0.0690, Val Acc: 97.80%\n",
      "Epoch 2/2, Train Loss: 0.1089, Train Acc: 96.83%, Val Loss: 0.0501, Val Acc: 98.52%\n",
      "Test Loss: 0.0427, Test Acc: 98.67%\n"
     ]
    },
    {
     "data": {
      "text/html": [
       "Waiting for W&B process to finish... <strong style=\"color:green\">(success).</strong>"
      ],
      "text/plain": [
       "<IPython.core.display.HTML object>"
      ]
     },
     "metadata": {},
     "output_type": "display_data"
    },
    {
     "data": {
      "application/vnd.jupyter.widget-view+json": {
       "model_id": "af50c2a73dc344b3913cdfe2c35e299f",
       "version_major": 2,
       "version_minor": 0
      },
      "text/plain": [
       "VBox(children=(Label(value='0.002 MB of 0.002 MB uploaded (0.000 MB deduped)\\r'), FloatProgress(value=1.0, max…"
      ]
     },
     "metadata": {},
     "output_type": "display_data"
    },
    {
     "data": {
      "text/html": [
       "<style>\n",
       "    table.wandb td:nth-child(1) { padding: 0 10px; text-align: left ; width: auto;} td:nth-child(2) {text-align: left ; width: 100%}\n",
       "    .wandb-row { display: flex; flex-direction: row; flex-wrap: wrap; justify-content: flex-start; width: 100% }\n",
       "    .wandb-col { display: flex; flex-direction: column; flex-basis: 100%; flex: 1; padding: 10px; }\n",
       "    </style>\n",
       "<div class=\"wandb-row\"><div class=\"wandb-col\"><h3>Run history:</h3><br/><table class=\"wandb\"><tr><td>Trainset Accuracy</td><td>▁</td></tr><tr><td>Trainset Loss</td><td>▁</td></tr><tr><td>Validation set Loss</td><td>▁</td></tr><tr><td>test_accuracy</td><td>▁</td></tr><tr><td>val_accuracy</td><td>▁</td></tr></table><br/></div><div class=\"wandb-col\"><h3>Run summary:</h3><br/><table class=\"wandb\"><tr><td>Trainset Accuracy</td><td>96.83333</td></tr><tr><td>Trainset Loss</td><td>0.10888</td></tr><tr><td>Validation set Loss</td><td>0.05013</td></tr><tr><td>test_accuracy</td><td>98.66667</td></tr><tr><td>val_accuracy</td><td>98.51667</td></tr></table><br/></div></div>"
      ],
      "text/plain": [
       "<IPython.core.display.HTML object>"
      ]
     },
     "metadata": {},
     "output_type": "display_data"
    },
    {
     "data": {
      "text/html": [
       " View run <strong style=\"color:#cdcd00\">still-sweep-18</strong> at: <a href='https://wandb.ai/rohitgowlapalli01/Convolution-Neural-Networks/runs/sqdzgszx' target=\"_blank\">https://wandb.ai/rohitgowlapalli01/Convolution-Neural-Networks/runs/sqdzgszx</a><br/>Synced 5 W&B file(s), 0 media file(s), 0 artifact file(s) and 0 other file(s)"
      ],
      "text/plain": [
       "<IPython.core.display.HTML object>"
      ]
     },
     "metadata": {},
     "output_type": "display_data"
    },
    {
     "data": {
      "text/html": [
       "Find logs at: <code>./wandb/run-20231023_164858-sqdzgszx/logs</code>"
      ],
      "text/plain": [
       "<IPython.core.display.HTML object>"
      ]
     },
     "metadata": {},
     "output_type": "display_data"
    },
    {
     "name": "stderr",
     "output_type": "stream",
     "text": [
      "\u001b[34m\u001b[1mwandb\u001b[0m: Sweep Agent: Waiting for job.\n",
      "\u001b[34m\u001b[1mwandb\u001b[0m: Job received.\n",
      "\u001b[34m\u001b[1mwandb\u001b[0m: Agent Starting Run: 7w1uai5w with config:\n",
      "\u001b[34m\u001b[1mwandb\u001b[0m: \tbatch_size: 64\n",
      "\u001b[34m\u001b[1mwandb\u001b[0m: \tdropout_rate: 0.5\n",
      "\u001b[34m\u001b[1mwandb\u001b[0m: \tkernel_size: 3\n",
      "\u001b[34m\u001b[1mwandb\u001b[0m: \tlearning_rate: 0.001\n",
      "\u001b[34m\u001b[1mwandb\u001b[0m: \tnum_epochs: 3\n",
      "\u001b[34m\u001b[1mwandb\u001b[0m: \tstrides: 1\n",
      "/usr/lib/python3/dist-packages/requests/__init__.py:89: RequestsDependencyWarning: urllib3 (2.0.5) or chardet (3.0.4) doesn't match a supported version!\n",
      "  warnings.warn(\"urllib3 ({}) or chardet ({}) doesn't match a supported \"\n",
      "\u001b[34m\u001b[1mwandb\u001b[0m: \u001b[33mWARNING\u001b[0m Ignored wandb.init() arg project when running a sweep.\n"
     ]
    },
    {
     "data": {
      "text/html": [
       "wandb version 0.15.12 is available!  To upgrade, please run:\n",
       " $ pip install wandb --upgrade"
      ],
      "text/plain": [
       "<IPython.core.display.HTML object>"
      ]
     },
     "metadata": {},
     "output_type": "display_data"
    },
    {
     "data": {
      "text/html": [
       "Tracking run with wandb version 0.15.11"
      ],
      "text/plain": [
       "<IPython.core.display.HTML object>"
      ]
     },
     "metadata": {},
     "output_type": "display_data"
    },
    {
     "data": {
      "text/html": [
       "Run data is saved locally in <code>/home/rohit172/IIIT-H/SEM-5/SMAI/Assignment-3/wandb/run-20231023_165057-7w1uai5w</code>"
      ],
      "text/plain": [
       "<IPython.core.display.HTML object>"
      ]
     },
     "metadata": {},
     "output_type": "display_data"
    },
    {
     "data": {
      "text/html": [
       "Syncing run <strong><a href='https://wandb.ai/rohitgowlapalli01/Convolution-Neural-Networks/runs/7w1uai5w' target=\"_blank\">dry-sweep-19</a></strong> to <a href='https://wandb.ai/rohitgowlapalli01/Convolution-Neural-Networks' target=\"_blank\">Weights & Biases</a> (<a href='https://wandb.me/run' target=\"_blank\">docs</a>)<br/>Sweep page: <a href='https://wandb.ai/rohitgowlapalli01/Convolution-Neural-Networks/sweeps/mldcvia1' target=\"_blank\">https://wandb.ai/rohitgowlapalli01/Convolution-Neural-Networks/sweeps/mldcvia1</a>"
      ],
      "text/plain": [
       "<IPython.core.display.HTML object>"
      ]
     },
     "metadata": {},
     "output_type": "display_data"
    },
    {
     "data": {
      "text/html": [
       " View project at <a href='https://wandb.ai/rohitgowlapalli01/Convolution-Neural-Networks' target=\"_blank\">https://wandb.ai/rohitgowlapalli01/Convolution-Neural-Networks</a>"
      ],
      "text/plain": [
       "<IPython.core.display.HTML object>"
      ]
     },
     "metadata": {},
     "output_type": "display_data"
    },
    {
     "data": {
      "text/html": [
       " View sweep at <a href='https://wandb.ai/rohitgowlapalli01/Convolution-Neural-Networks/sweeps/mldcvia1' target=\"_blank\">https://wandb.ai/rohitgowlapalli01/Convolution-Neural-Networks/sweeps/mldcvia1</a>"
      ],
      "text/plain": [
       "<IPython.core.display.HTML object>"
      ]
     },
     "metadata": {},
     "output_type": "display_data"
    },
    {
     "data": {
      "text/html": [
       " View run at <a href='https://wandb.ai/rohitgowlapalli01/Convolution-Neural-Networks/runs/7w1uai5w' target=\"_blank\">https://wandb.ai/rohitgowlapalli01/Convolution-Neural-Networks/runs/7w1uai5w</a>"
      ],
      "text/plain": [
       "<IPython.core.display.HTML object>"
      ]
     },
     "metadata": {},
     "output_type": "display_data"
    },
    {
     "name": "stdout",
     "output_type": "stream",
     "text": [
      "0.001 64 0.5 3 1 3\n"
     ]
    },
    {
     "name": "stderr",
     "output_type": "stream",
     "text": [
      "\u001b[34m\u001b[1mwandb\u001b[0m: Ctrl + C detected. Stopping sweep.\n"
     ]
    },
    {
     "data": {
      "text/html": [
       "Waiting for W&B process to finish... <strong style=\"color:green\">(success).</strong>"
      ],
      "text/plain": [
       "<IPython.core.display.HTML object>"
      ]
     },
     "metadata": {},
     "output_type": "display_data"
    },
    {
     "name": "stderr",
     "output_type": "stream",
     "text": [
      "\u001b[34m\u001b[1mwandb\u001b[0m: \u001b[32m\u001b[41mERROR\u001b[0m Control-C detected -- Run data was not synced\n"
     ]
    },
    {
     "name": "stdout",
     "output_type": "stream",
     "text": [
      "Error in callback <function _WandbInit._pause_backend at 0x7f24144aa550> (for post_run_cell):\n"
     ]
    },
    {
     "ename": "BrokenPipeError",
     "evalue": "[Errno 32] Broken pipe",
     "output_type": "error",
     "traceback": [
      "\u001b[0;31m---------------------------------------------------------------------------\u001b[0m",
      "\u001b[0;31mBrokenPipeError\u001b[0m                           Traceback (most recent call last)",
      "File \u001b[0;32m~/.local/lib/python3.8/site-packages/backcall/backcall.py:104\u001b[0m, in \u001b[0;36mcallback_prototype.<locals>.adapt.<locals>.adapted\u001b[0;34m(*args, **kwargs)\u001b[0m\n\u001b[1;32m    102\u001b[0m                 kwargs\u001b[39m.\u001b[39mpop(name)\n\u001b[1;32m    103\u001b[0m \u001b[39m#            print(args, kwargs, unmatched_pos, cut_positional, unmatched_kw)\u001b[39;00m\n\u001b[0;32m--> 104\u001b[0m             \u001b[39mreturn\u001b[39;00m callback(\u001b[39m*\u001b[39;49margs, \u001b[39m*\u001b[39;49m\u001b[39m*\u001b[39;49mkwargs)\n",
      "File \u001b[0;32m~/.local/lib/python3.8/site-packages/wandb/sdk/wandb_init.py:439\u001b[0m, in \u001b[0;36m_WandbInit._pause_backend\u001b[0;34m(self)\u001b[0m\n\u001b[1;32m    437\u001b[0m \u001b[39mif\u001b[39;00m \u001b[39mself\u001b[39m\u001b[39m.\u001b[39mbackend\u001b[39m.\u001b[39minterface \u001b[39mis\u001b[39;00m \u001b[39mnot\u001b[39;00m \u001b[39mNone\u001b[39;00m:\n\u001b[1;32m    438\u001b[0m     logger\u001b[39m.\u001b[39minfo(\u001b[39m\"\u001b[39m\u001b[39mpausing backend\u001b[39m\u001b[39m\"\u001b[39m)  \u001b[39m# type: ignore\u001b[39;00m\n\u001b[0;32m--> 439\u001b[0m     \u001b[39mself\u001b[39;49m\u001b[39m.\u001b[39;49mbackend\u001b[39m.\u001b[39;49minterface\u001b[39m.\u001b[39;49mpublish_pause()\n",
      "File \u001b[0;32m~/.local/lib/python3.8/site-packages/wandb/sdk/interface/interface.py:626\u001b[0m, in \u001b[0;36mInterfaceBase.publish_pause\u001b[0;34m(self)\u001b[0m\n\u001b[1;32m    624\u001b[0m \u001b[39mdef\u001b[39;00m \u001b[39mpublish_pause\u001b[39m(\u001b[39mself\u001b[39m) \u001b[39m-\u001b[39m\u001b[39m>\u001b[39m \u001b[39mNone\u001b[39;00m:\n\u001b[1;32m    625\u001b[0m     pause \u001b[39m=\u001b[39m pb\u001b[39m.\u001b[39mPauseRequest()\n\u001b[0;32m--> 626\u001b[0m     \u001b[39mself\u001b[39;49m\u001b[39m.\u001b[39;49m_publish_pause(pause)\n",
      "File \u001b[0;32m~/.local/lib/python3.8/site-packages/wandb/sdk/interface/interface_shared.py:343\u001b[0m, in \u001b[0;36mInterfaceShared._publish_pause\u001b[0;34m(self, pause)\u001b[0m\n\u001b[1;32m    341\u001b[0m \u001b[39mdef\u001b[39;00m \u001b[39m_publish_pause\u001b[39m(\u001b[39mself\u001b[39m, pause: pb\u001b[39m.\u001b[39mPauseRequest) \u001b[39m-\u001b[39m\u001b[39m>\u001b[39m \u001b[39mNone\u001b[39;00m:\n\u001b[1;32m    342\u001b[0m     rec \u001b[39m=\u001b[39m \u001b[39mself\u001b[39m\u001b[39m.\u001b[39m_make_request(pause\u001b[39m=\u001b[39mpause)\n\u001b[0;32m--> 343\u001b[0m     \u001b[39mself\u001b[39;49m\u001b[39m.\u001b[39;49m_publish(rec)\n",
      "File \u001b[0;32m~/.local/lib/python3.8/site-packages/wandb/sdk/interface/interface_sock.py:51\u001b[0m, in \u001b[0;36mInterfaceSock._publish\u001b[0;34m(self, record, local)\u001b[0m\n\u001b[1;32m     49\u001b[0m \u001b[39mdef\u001b[39;00m \u001b[39m_publish\u001b[39m(\u001b[39mself\u001b[39m, record: \u001b[39m\"\u001b[39m\u001b[39mpb.Record\u001b[39m\u001b[39m\"\u001b[39m, local: Optional[\u001b[39mbool\u001b[39m] \u001b[39m=\u001b[39m \u001b[39mNone\u001b[39;00m) \u001b[39m-\u001b[39m\u001b[39m>\u001b[39m \u001b[39mNone\u001b[39;00m:\n\u001b[1;32m     50\u001b[0m     \u001b[39mself\u001b[39m\u001b[39m.\u001b[39m_assign(record)\n\u001b[0;32m---> 51\u001b[0m     \u001b[39mself\u001b[39;49m\u001b[39m.\u001b[39;49m_sock_client\u001b[39m.\u001b[39;49msend_record_publish(record)\n",
      "File \u001b[0;32m~/.local/lib/python3.8/site-packages/wandb/sdk/lib/sock_client.py:221\u001b[0m, in \u001b[0;36mSockClient.send_record_publish\u001b[0;34m(self, record)\u001b[0m\n\u001b[1;32m    219\u001b[0m server_req \u001b[39m=\u001b[39m spb\u001b[39m.\u001b[39mServerRequest()\n\u001b[1;32m    220\u001b[0m server_req\u001b[39m.\u001b[39mrecord_publish\u001b[39m.\u001b[39mCopyFrom(record)\n\u001b[0;32m--> 221\u001b[0m \u001b[39mself\u001b[39;49m\u001b[39m.\u001b[39;49msend_server_request(server_req)\n",
      "File \u001b[0;32m~/.local/lib/python3.8/site-packages/wandb/sdk/lib/sock_client.py:155\u001b[0m, in \u001b[0;36mSockClient.send_server_request\u001b[0;34m(self, msg)\u001b[0m\n\u001b[1;32m    154\u001b[0m \u001b[39mdef\u001b[39;00m \u001b[39msend_server_request\u001b[39m(\u001b[39mself\u001b[39m, msg: Any) \u001b[39m-\u001b[39m\u001b[39m>\u001b[39m \u001b[39mNone\u001b[39;00m:\n\u001b[0;32m--> 155\u001b[0m     \u001b[39mself\u001b[39;49m\u001b[39m.\u001b[39;49m_send_message(msg)\n",
      "File \u001b[0;32m~/.local/lib/python3.8/site-packages/wandb/sdk/lib/sock_client.py:152\u001b[0m, in \u001b[0;36mSockClient._send_message\u001b[0;34m(self, msg)\u001b[0m\n\u001b[1;32m    150\u001b[0m header \u001b[39m=\u001b[39m struct\u001b[39m.\u001b[39mpack(\u001b[39m\"\u001b[39m\u001b[39m<BI\u001b[39m\u001b[39m\"\u001b[39m, \u001b[39mord\u001b[39m(\u001b[39m\"\u001b[39m\u001b[39mW\u001b[39m\u001b[39m\"\u001b[39m), raw_size)\n\u001b[1;32m    151\u001b[0m \u001b[39mwith\u001b[39;00m \u001b[39mself\u001b[39m\u001b[39m.\u001b[39m_lock:\n\u001b[0;32m--> 152\u001b[0m     \u001b[39mself\u001b[39;49m\u001b[39m.\u001b[39;49m_sendall_with_error_handle(header \u001b[39m+\u001b[39;49m data)\n",
      "File \u001b[0;32m~/.local/lib/python3.8/site-packages/wandb/sdk/lib/sock_client.py:130\u001b[0m, in \u001b[0;36mSockClient._sendall_with_error_handle\u001b[0;34m(self, data)\u001b[0m\n\u001b[1;32m    128\u001b[0m start_time \u001b[39m=\u001b[39m time\u001b[39m.\u001b[39mmonotonic()\n\u001b[1;32m    129\u001b[0m \u001b[39mtry\u001b[39;00m:\n\u001b[0;32m--> 130\u001b[0m     sent \u001b[39m=\u001b[39m \u001b[39mself\u001b[39;49m\u001b[39m.\u001b[39;49m_sock\u001b[39m.\u001b[39;49msend(data)\n\u001b[1;32m    131\u001b[0m     \u001b[39m# sent equal to 0 indicates a closed socket\u001b[39;00m\n\u001b[1;32m    132\u001b[0m     \u001b[39mif\u001b[39;00m sent \u001b[39m==\u001b[39m \u001b[39m0\u001b[39m:\n",
      "\u001b[0;31mBrokenPipeError\u001b[0m: [Errno 32] Broken pipe"
     ]
    }
   ],
   "source": [
    "import wandb\n",
    "wandb.init(project=\"Convolution-Neural-Networks\")\n",
    "sweep_config = {\n",
    "    \"method\": \"grid\",\n",
    "    \"name\": \"Convolution-Neural-Networks\",\n",
    "    \"metric\": {\"goal\": \"maximize\", \"name\": \"test_accuracy\"},\n",
    "    \"parameters\": {\n",
    "        \"learning_rate\": {\"values\": [0.001,0.01]},\n",
    "        \"batch_size\": {\"values\": [64,128]},\n",
    "        \"kernel_size\": {\"values\": [3,5]},\n",
    "        \"strides\": {\"values\": [1,2]},\n",
    "        \"num_epochs\": {\"values\": [2,3]},\n",
    "        \"dropout_rate\": {\"values\": [0.25,0.5]},\n",
    "    },\n",
    "\n",
    "}\n",
    "criterion = nn.CrossEntropyLoss()\n",
    "sweep_id = wandb.sweep(sweep_config, project=\"Convolution-Neural-Networks\")\n",
    "def train():\n",
    "    wandb.init(project=\"Convolution-Neural-Networks\")\n",
    "    config = wandb.config\n",
    "    learning_rate = config.learning_rate\n",
    "    batch_size = config.batch_size\n",
    "    dropout_rate = config.dropout_rate\n",
    "    kernel_size = config.kernel_size\n",
    "    strides = config.strides\n",
    "    num_epochs = config.num_epochs\n",
    "    print(learning_rate,batch_size,dropout_rate,kernel_size,strides,num_epochs)\n",
    "    train_loader = torch.utils.data.DataLoader(train_data, batch_size=batch_size, shuffle=True,generator=gen)\n",
    "    val_loader = torch.utils.data.DataLoader(val_data, batch_size=batch_size, shuffle=False,generator=gen)\n",
    "    model = CNN(dropout_size=dropout_rate, strides=strides, kernel_size=kernel_size)\n",
    "    criterion = nn.CrossEntropyLoss()\n",
    "    optimizer = optim.Adam(model.parameters(), lr=learning_rate)\n",
    "    train_losses, val_losses, train_acc, val_acc , all_actual , all_predictions = train_model(model, train_loader, val_loader, criterion, optimizer, num_epochs=num_epochs)\n",
    "    criterion = nn.CrossEntropyLoss()\n",
    "    test_accuracy , test_loss , all_actual , all_predicted  = test_model(model, test_loader, criterion)\n",
    "    wandb.log({\"Trainset Loss\":train_losses[-1],\"Trainset Accuracy\":train_acc[-1],\"Validation set Loss\":val_losses[-1],\"val_accuracy\":val_acc[-1],\"test_accuracy\":test_accuracy})\n",
    "\n",
    "# Run the sweep\n",
    "wandb.agent(sweep_id, function=train)\n",
    "wandb.finish()"
   ]
  },
  {
   "cell_type": "markdown",
   "metadata": {},
   "source": [
    "# CNN without Dropout Layer"
   ]
  },
  {
   "cell_type": "code",
   "execution_count": null,
   "metadata": {},
   "outputs": [],
   "source": [
    "import torch\n",
    "import torch.nn as nn\n",
    "import torch.optim as optim\n",
    "import matplotlib.pyplot as plt\n",
    "from sklearn.metrics import confusion_matrix , classification_report\n",
    "\n",
    "class CNNWD(nn.Module):\n",
    "    def __init__(self, strides=2, kernel_size=3,pool_size=2):\n",
    "        super(CNNWD, self).__init__()\n",
    "        self.conv1 = nn.Conv2d(1, 32, kernel_size=kernel_size,padding=int((kernel_size-1)/2))\n",
    "        self.relu1 = nn.ReLU()\n",
    "        self.maxpool1 = nn.MaxPool2d(kernel_size=pool_size,stride=strides)\n",
    "        self.conv2 = nn.Conv2d(32, 64, kernel_size=kernel_size,padding=int((kernel_size-1)/2))\n",
    "        self.relu2 = nn.ReLU()\n",
    "        self.maxpool2 = nn.MaxPool2d(kernel_size=pool_size, stride=strides)\n",
    "        self.var1 = int((28-pool_size)/strides)+1\n",
    "        self.dim = int((self.var1-pool_size)/strides)+1\n",
    "        self.fc1 = nn.Linear(64 * self.dim * self.dim, 128)\n",
    "        self.relu3 = nn.ReLU()\n",
    "        self.fc2 = nn.Linear(128, 10)\n",
    "\n",
    "    def forward(self, x):\n",
    "        x = self.maxpool1(self.relu1(self.conv1(x)))\n",
    "        x = self.maxpool2(self.relu2(self.conv2(x)))\n",
    "        x = x.view(x.size(0), -1)\n",
    "        x = self.relu3(self.fc1(x))\n",
    "        x = self.fc2(x)\n",
    "        return x\n",
    "\n",
    "# Initialize the model with strides, and kernel_size\n",
    "model = CNNWD(strides=2, kernel_size=3)\n",
    "\n",
    "# Initialize the loss function and optimizer\n",
    "criterion = nn.CrossEntropyLoss()\n",
    "optimizer = optim.Adam(model.parameters(), lr=0.001)\n",
    "\n",
    "# Function to train the model\n",
    "def train_model(model, train_loader, val_loader, criterion, optimizer, num_epochs=1):\n",
    "    train_losses, val_losses = [], []\n",
    "    train_acc, val_acc = [] , []\n",
    "\n",
    "    for epoch in range(num_epochs):\n",
    "        model.train()\n",
    "        running_loss = 0.0\n",
    "        correct_train = 0\n",
    "        total_train = 0\n",
    "\n",
    "        for inputs, labels in train_loader:\n",
    "            optimizer.zero_grad()\n",
    "            outputs = model(inputs)\n",
    "            loss = criterion(outputs, labels)\n",
    "            loss.backward()\n",
    "            optimizer.step()\n",
    "\n",
    "            running_loss += loss.item()\n",
    "            _, predicted = torch.max(outputs.data, 1)\n",
    "            total_train += labels.size(0)\n",
    "            correct_train += (predicted == labels).sum().item()\n",
    "\n",
    "        train_accuracy = 100 * correct_train / total_train\n",
    "        train_losses.append(running_loss / len(train_loader))\n",
    "        train_acc.append(train_accuracy)\n",
    "\n",
    "        model.eval()\n",
    "        val_loss = 0.0\n",
    "        correct_val = 0\n",
    "        total_val = 0\n",
    "        all_predicted , all_actual = [] , []\n",
    "\n",
    "        with torch.no_grad():\n",
    "            for inputs, labels in val_loader:\n",
    "                outputs = model(inputs)\n",
    "                loss = criterion(outputs, labels)\n",
    "                val_loss += loss.item()\n",
    "                _, predicted = torch.max(outputs.data, 1)\n",
    "                total_val += labels.size(0)\n",
    "                correct_val += (predicted == labels).sum().item()\n",
    "                all_predicted.extend(predicted.tolist())\n",
    "                all_actual.extend(labels.tolist())\n",
    "\n",
    "            val_accuracy = 100 * correct_val / total_val\n",
    "            val_losses.append(val_loss / len(val_loader))\n",
    "            val_acc.append(val_accuracy)\n",
    "\n",
    "        print(f'Epoch {epoch + 1}/{num_epochs}, Train Loss: {train_losses[-1]:.4f}, Train Acc: {train_accuracy:.2f}%, '\n",
    "              f'Val Loss: {val_losses[-1]:.4f}, Val Acc: {val_accuracy:.2f}%')\n",
    "\n",
    "    return train_losses, val_losses, train_acc, val_acc\n",
    "\n"
   ]
  },
  {
   "cell_type": "code",
   "execution_count": null,
   "metadata": {},
   "outputs": [],
   "source": [
    "# Train the model\n",
    "train_losses, val_losses, train_acc, val_acc, all_actual , all_predicted = train_model(model, train_loader, val_loader, criterion, optimizer, num_epochs=10)\n",
    "print(val_acc[-1])\n",
    "print(\"Confusion Matrix\")\n",
    "print(confusion_matrix(all_actual,all_predicted))\n",
    "print()\n",
    "\n",
    "classwise_accuracy = []\n",
    "\n",
    "for class_label in range(10):\n",
    "    correct = sum(1 for a, p in zip(all_actual, all_predicted) if a == class_label and p == class_label)\n",
    "    total = all_actual.count(class_label)\n",
    "    accuracy = correct / total if total > 0 else 0.0\n",
    "    classwise_accuracy.append(accuracy)\n",
    "    print(f'Class {class_label}: Accuracy = {accuracy * 100:.2f}%')\n",
    "\n",
    "class_names = [str(i) for i in range(10)]\n",
    "classification_rep = classification_report(all_actual, all_predicted, target_names=class_names)\n",
    "print(classification_rep)\n",
    "# Plot training and validation loss and accuracy\n",
    "plt.figure(figsize=(12, 4))\n",
    "plt.subplot(1, 2, 1)\n",
    "plt.plot(train_losses, label='Train Loss')\n",
    "plt.plot(val_losses, label='Val Loss')\n",
    "plt.xlabel('Epoch')\n",
    "plt.ylabel('Loss')\n",
    "plt.legend()\n",
    "\n",
    "plt.subplot(1, 2, 2)\n",
    "plt.plot(train_acc, label='Train Acc')\n",
    "plt.plot(val_acc, label='Val Acc')\n",
    "plt.xlabel('Epoch')\n",
    "plt.ylabel('Accuracy (%)')\n",
    "plt.legend()\n",
    "\n",
    "plt.show()"
   ]
  },
  {
   "cell_type": "markdown",
   "metadata": {},
   "source": [
    "# Dataset with Noise"
   ]
  },
  {
   "cell_type": "code",
   "execution_count": 1,
   "metadata": {},
   "outputs": [
    {
     "name": "stdout",
     "output_type": "stream",
     "text": [
      "torch.Size([48000, 784])\n"
     ]
    }
   ],
   "source": [
    "import torch\n",
    "import torch.nn as nn\n",
    "import torch.optim as optim\n",
    "from torch.utils.data import DataLoader, TensorDataset\n",
    "from sklearn.model_selection import train_test_split\n",
    "import matplotlib.pyplot as plt\n",
    "import scipy.io\n",
    "from sklearn.metrics import classification_report , accuracy_score\n",
    "class CNN(nn.Module):\n",
    "    def __init__(self, dropout_size=0.25, strides=2, kernel_size=3,pool_size = 2):\n",
    "        super(CNN, self).__init__()\n",
    "        self.conv1 = nn.Conv2d(1, 32, kernel_size=kernel_size,padding=int((kernel_size-1)/2))\n",
    "        self.relu1 = nn.ReLU()\n",
    "        self.maxpool1 = nn.MaxPool2d(kernel_size=pool_size,stride=strides)\n",
    "        self.conv2 = nn.Conv2d(32, 64, kernel_size=kernel_size,padding=int((kernel_size-1)/2))\n",
    "        self.relu2 = nn.ReLU()\n",
    "        self.maxpool2 = nn.MaxPool2d(kernel_size=pool_size, stride=strides)\n",
    "        self.var1 = int((28-pool_size)/strides)+1\n",
    "        self.dim = int((self.var1-pool_size)/strides)+1\n",
    "        self.fc1 = nn.Linear(64 * self.dim * self.dim, 128)\n",
    "        self.relu3 = nn.ReLU()\n",
    "        self.dropout = nn.Dropout(p=dropout_size)\n",
    "        self.fc2 = nn.Linear(128, 10)\n",
    "\n",
    "\n",
    "    def forward(self, x):\n",
    "        x = x.view(-1,1,28,28)\n",
    "        x = self.maxpool1(self.relu1(self.conv1(x)))\n",
    "        x = self.maxpool2(self.relu2(self.conv2(x)))\n",
    "        x = x.view(-1,64*self.dim*self.dim)\n",
    "        x = self.relu3(self.fc1(x))\n",
    "        x = self.dropout(x)\n",
    "        x = self.fc2(x)\n",
    "        return x\n",
    "    \n",
    "\n",
    "\n",
    "mat = scipy.io.loadmat('mnist-with-awgn.mat')\n",
    "# Load the noisy MNIST dataset from .mat file\n",
    "X_train = mat['train_x']\n",
    "y_train = mat['train_y']\n",
    "X_test = mat['test_x']\n",
    "y_test = mat['test_y']\n",
    "\n",
    "# Split the training data into training and validation sets\n",
    "X_train, X_val, y_train, y_val = train_test_split(X_train, y_train, test_size=0.2, random_state=42)\n",
    "# Conversion to Tensors\n",
    "X_train = torch.Tensor(X_train)\n",
    "y_train = torch.Tensor(y_train)\n",
    "X_val = torch.Tensor(X_val)\n",
    "y_val = torch.Tensor(y_val)\n",
    "X_test = torch.Tensor(X_test)\n",
    "y_test = torch.Tensor(y_test)\n",
    "print(X_train.shape)\n",
    "# Creating Loaders\n",
    "batch_size = 64\n",
    "train_dataset = TensorDataset(X_train, y_train)\n",
    "val_dataset = TensorDataset(X_val, y_val)\n",
    "test_dataset = TensorDataset(X_test, y_test)\n",
    "\n",
    "\n",
    "train_loader = DataLoader(train_dataset, batch_size=batch_size, shuffle=True)\n",
    "val_loader = DataLoader(val_dataset, batch_size=batch_size,shuffle=False)\n",
    "test_loader = DataLoader(test_dataset, batch_size=batch_size,shuffle=False)"
   ]
  },
  {
   "cell_type": "code",
   "execution_count": 3,
   "metadata": {},
   "outputs": [
    {
     "name": "stdout",
     "output_type": "stream",
     "text": [
      "Epoch 1/2, Train Loss: 0.5757, Train Acc: 85.90%, Val Loss: 0.1885, Val Acc: 94.21%\n",
      "Epoch 2/2, Train Loss: 0.2206, Train Acc: 93.12%, Val Loss: 0.1601, Val Acc: 95.04%\n",
      "              precision    recall  f1-score   support\n",
      "\n",
      "           0       0.98      0.97      0.98      1206\n",
      "           1       0.98      0.97      0.97      1334\n",
      "           2       0.93      0.96      0.95      1198\n",
      "           3       0.93      0.95      0.94      1228\n",
      "           4       0.97      0.95      0.96      1193\n",
      "           5       0.95      0.94      0.95      1058\n",
      "           6       0.95      0.99      0.97      1200\n",
      "           7       0.95      0.96      0.95      1277\n",
      "           8       0.96      0.89      0.92      1176\n",
      "           9       0.92      0.92      0.92      1130\n",
      "\n",
      "    accuracy                           0.95     12000\n",
      "   macro avg       0.95      0.95      0.95     12000\n",
      "weighted avg       0.95      0.95      0.95     12000\n",
      "\n"
     ]
    },
    {
     "data": {
      "image/png": "[encoded data removed]",
      "text/plain": [
       "<Figure size 1200x400 with 2 Axes>"
      ]
     },
     "metadata": {},
     "output_type": "display_data"
    }
   ],
   "source": [
    "# Initialize and train your model\n",
    "model = CNN(dropout_size=0.25, strides=2, kernel_size=3)\n",
    "criterion = nn.CrossEntropyLoss()\n",
    "optimizer = optim.Adam(model.parameters(), lr=0.001)\n",
    "\n",
    "num_epochs = 5  # You can adjust the number of epochs\n",
    "def train_model(model, train_loader, val_loader, criterion, optimizer, num_epochs=1):\n",
    "    train_losses, val_losses = [], []\n",
    "    train_acc, val_acc = [] , []\n",
    "\n",
    "    for epoch in range(num_epochs):\n",
    "        model.train()\n",
    "        running_loss = 0.0\n",
    "        total_train = 0\n",
    "        train_accuracy = 0.0\n",
    "\n",
    "        for i, data in enumerate(train_loader,0):\n",
    "            inputs, labels = data\n",
    "            optimizer.zero_grad()\n",
    "            outputs = model(inputs)\n",
    "            loss = criterion(outputs, labels)\n",
    "            loss.backward()\n",
    "            optimizer.step()\n",
    "            running_loss += loss.item()\n",
    "            _, predicted = torch.max(outputs.data, 1)\n",
    "            total_train += labels.size(0)\n",
    "            correct_classes = torch.argmax(labels,dim=1)\n",
    "            train_accuracy += accuracy_score(correct_classes.tolist(),predicted.tolist())*len(labels)\n",
    "\n",
    "        train_accuracy /= total_train\n",
    "        train_accuracy *= 100\n",
    "        train_losses.append(running_loss / len(train_loader))\n",
    "        train_acc.append(train_accuracy)\n",
    "\n",
    "        model.eval()\n",
    "        val_loss = 0.0\n",
    "        total_val = 0\n",
    "        val_accuracy = 0.0\n",
    "        all_actual = []\n",
    "        all_predictions = []\n",
    "        with torch.no_grad():\n",
    "            for i, data in enumerate(val_loader,0):\n",
    "                inputs, labels = data\n",
    "                optimizer.zero_grad()\n",
    "                outputs = model(inputs)\n",
    "                loss = criterion(outputs, labels)\n",
    "                val_loss += loss.item()\n",
    "                _, predicted = torch.max(outputs.data, 1)\n",
    "                total_val += labels.size(0)\n",
    "                correct_classes = torch.argmax(labels,dim=1)\n",
    "                val_accuracy+= accuracy_score(correct_classes.tolist(),predicted.tolist())*len(labels)\n",
    "                all_predictions.extend(predicted.tolist())\n",
    "                all_actual.extend(correct_classes.tolist())\n",
    "\n",
    "            val_accuracy /= total_val\n",
    "            val_accuracy *= 100\n",
    "            val_losses.append(val_loss / len(val_loader))\n",
    "            val_acc.append(val_accuracy)\n",
    "\n",
    "        print(f'Epoch {epoch + 1}/{num_epochs}, Train Loss: {train_losses[-1]:.4f}, Train Acc: {train_accuracy:.2f}%, '\n",
    "              f'Val Loss: {val_losses[-1]:.4f}, Val Acc: {val_accuracy:.2f}%')\n",
    "\n",
    "    return train_losses, val_losses, train_acc, val_acc , all_actual , all_predictions\n",
    "train_losses, val_losses, train_acc, val_acc , all_actual , all_predictions = train_model(model, train_loader, val_loader, criterion, optimizer, num_epochs=num_epochs)\n",
    "# Print the classification report\n",
    "print(classification_report(all_actual, all_predictions))\n",
    "# Plot training and validation loss and accuracy\n",
    "plt.figure(figsize=(12, 4))\n",
    "plt.subplot(1, 2, 1)\n",
    "plt.plot(train_losses, label='Train Loss')\n",
    "plt.plot(val_losses, label='Val Loss')\n",
    "plt.xlabel('Epoch')\n",
    "plt.ylabel('Loss')\n",
    "plt.legend()\n",
    "\n",
    "plt.subplot(1, 2, 2)\n",
    "plt.plot(train_acc, label='Train Acc')\n",
    "plt.plot(val_acc, label='Val Acc')\n",
    "plt.xlabel('Epoch')\n",
    "plt.ylabel('Accuracy (%)')\n",
    "plt.legend()\n",
    "\n",
    "plt.show()\n"
   ]
  },
  {
   "cell_type": "code",
   "execution_count": 4,
   "metadata": {},
   "outputs": [
    {
     "name": "stdout",
     "output_type": "stream",
     "text": [
      "Epoch 1/2, Train Loss: 0.1787, Train Acc: 94.43%, Val Loss: 0.1188, Val Acc: 96.29%\n",
      "Epoch 2/2, Train Loss: 0.1630, Train Acc: 94.83%, Val Loss: 0.1190, Val Acc: 96.38%\n",
      "              precision    recall  f1-score   support\n",
      "\n",
      "           0       0.97      0.99      0.98       980\n",
      "           1       0.98      0.99      0.98      1135\n",
      "           2       0.98      0.94      0.96      1032\n",
      "           3       0.97      0.96      0.97      1010\n",
      "           4       0.98      0.96      0.97       982\n",
      "           5       0.97      0.96      0.96       892\n",
      "           6       0.97      0.97      0.97       958\n",
      "           7       0.93      0.98      0.95      1028\n",
      "           8       0.94      0.95      0.95       974\n",
      "           9       0.96      0.92      0.94      1009\n",
      "\n",
      "    accuracy                           0.96     10000\n",
      "   macro avg       0.96      0.96      0.96     10000\n",
      "weighted avg       0.96      0.96      0.96     10000\n",
      "\n"
     ]
    },
    {
     "data": {
      "image/png": "[encoded data removed]",
      "text/plain": [
       "<Figure size 1200x400 with 2 Axes>"
      ]
     },
     "metadata": {},
     "output_type": "display_data"
    }
   ],
   "source": [
    "train_losses, test_losses, train_acc, test_acc , all_actual , all_predictions = train_model(model, train_loader, test_loader, criterion, optimizer, num_epochs=num_epochs)\n",
    "# Print the classification report\n",
    "print(classification_report(all_actual, all_predictions))\n",
    "# Plot training and validation loss and accuracy\n",
    "plt.figure(figsize=(12, 4))\n",
    "plt.subplot(1, 2, 1)\n",
    "plt.plot(train_losses, label='Train Loss')\n",
    "plt.plot(val_losses, label='Test Loss')\n",
    "plt.xlabel('Epoch')\n",
    "plt.ylabel('Loss')\n",
    "plt.legend()\n",
    "\n",
    "plt.subplot(1, 2, 2)\n",
    "plt.plot(train_acc, label='Train Acc')\n",
    "plt.plot(val_acc, label='Test Acc')\n",
    "plt.xlabel('Epoch')\n",
    "plt.ylabel('Accuracy (%)')\n",
    "plt.legend()\n",
    "\n",
    "plt.show()"
   ]
  },
  {
   "cell_type": "markdown",
   "metadata": {},
   "source": [
    "# Auto Encoder Class in Python from Scratch"
   ]
  },
  {
   "cell_type": "code",
   "execution_count": 3,
   "metadata": {},
   "outputs": [],
   "source": [
    "class Autoencoder(nn.Module):\n",
    "    def __init__(self,input_size,hidden_size):\n",
    "        super(Autoencoder, self).__init__()\n",
    "        self.encoder = nn.Sequential(\n",
    "            nn.Linear(input_size, hidden_size),  \n",
    "            nn.ReLU()\n",
    "        )\n",
    "        self.decoder = nn.Sequential(\n",
    "            nn.Linear(hidden_size, input_size),\n",
    "        )\n",
    "    def forward(self, x):\n",
    "        encoded = self.encoder(x)\n",
    "        decoded = self.decoder(encoded)\n",
    "        return decoded"
   ]
  },
  {
   "cell_type": "code",
   "execution_count": 4,
   "metadata": {},
   "outputs": [
    {
     "data": {
      "image/png": "[encoded data removed]",
      "text/plain": [
       "<Figure size 1200x400 with 5 Axes>"
      ]
     },
     "metadata": {},
     "output_type": "display_data"
    },
    {
     "data": {
      "image/png": "[encoded data removed]",
      "text/plain": [
       "<Figure size 1200x400 with 5 Axes>"
      ]
     },
     "metadata": {},
     "output_type": "display_data"
    },
    {
     "name": "stdout",
     "output_type": "stream",
     "text": [
      "torch.Size([48000, 784])\n"
     ]
    }
   ],
   "source": [
    "import random\n",
    "num_samples = 5\n",
    "def visualize_samples(data, labels, num_samples):\n",
    "    plt.figure(figsize=(12, 4))\n",
    "    for i in range(num_samples):\n",
    "        index = random.randint(i,i)\n",
    "        sample = data[index].reshape(28, 28)  # Reshape the sample if it's flattened\n",
    "        label = (labels[index])\n",
    "        plt.subplot(1, num_samples, i + 1)\n",
    "        plt.imshow(sample, cmap='gray')\n",
    "        plt.title(f'Label: {label}')\n",
    "        plt.axis('off')\n",
    "    plt.show()\n",
    "\n",
    "visualize_samples(X_train, y_train, num_samples)\n",
    "input_size = 784\n",
    "hidden_size = 128\n",
    "AutoEncoder = Autoencoder(input_size=input_size,hidden_size=hidden_size)\n",
    "AE_criterion = nn.MSELoss()\n",
    "AE_optimizer = optim.Adam(AutoEncoder.parameters(), lr=0.001)\n",
    "\n",
    "\n",
    "epochs = 10\n",
    "train_loader = torch.utils.data.DataLoader(X_train, batch_size=batch_size, shuffle=True)\n",
    "\n",
    "for epoch in range(epochs):\n",
    "    for data in train_loader:\n",
    "        AE_optimizer.zero_grad()\n",
    "        inputs = data \n",
    "        outputs = AutoEncoder(inputs.float())\n",
    "        loss = AE_criterion(outputs.float(), inputs.float())  # Compare the reconstruction with the input\n",
    "        loss.backward()\n",
    "        AE_optimizer.step()\n",
    "\n",
    "clean_train_data = AutoEncoder(torch.Tensor(X_train)).detach()\n",
    "clean_validation_data = AutoEncoder(torch.Tensor(X_val)).detach()\n",
    "clean_test_data = AutoEncoder(torch.Tensor(X_test)).detach()\n",
    "\n",
    "X_train = torch.Tensor(clean_train_data)\n",
    "y_train = torch.Tensor(y_train)\n",
    "X_val = torch.Tensor(clean_validation_data)\n",
    "y_val = torch.Tensor(y_val)\n",
    "X_test = torch.Tensor(clean_test_data)\n",
    "y_test = torch.Tensor(y_test)\n",
    "visualize_samples(X_train, y_train, num_samples)\n",
    "print(X_train.shape)\n",
    "# Creating Loaders\n",
    "batch_size = 64\n",
    "train_dataset = TensorDataset(X_train, y_train)\n",
    "val_dataset = TensorDataset(X_val, y_val)\n",
    "test_dataset = TensorDataset(X_test, y_test)\n",
    "\n",
    "\n",
    "train_loader = torch.utils.data.DataLoader(train_dataset, batch_size=batch_size, shuffle=True)\n",
    "val_loader = torch.utils.data.DataLoader(val_dataset, batch_size=batch_size,shuffle=False)\n",
    "test_loader = torch.utils.data.DataLoader(test_dataset, batch_size=batch_size,shuffle=False)\n",
    "num_samples = 5"
   ]
  },
  {
   "cell_type": "code",
   "execution_count": 9,
   "metadata": {},
   "outputs": [
    {
     "name": "stdout",
     "output_type": "stream",
     "text": [
      "Epoch 1/2, Train Loss: 0.1715, Train Acc: 94.61%, Val Loss: 0.1219, Val Acc: 96.23%\n",
      "Epoch 2/2, Train Loss: 0.1446, Train Acc: 95.48%, Val Loss: 0.1324, Val Acc: 95.86%\n",
      "              precision    recall  f1-score   support\n",
      "\n",
      "           0       0.99      0.98      0.98      1206\n",
      "           1       0.99      0.98      0.98      1334\n",
      "           2       0.96      0.96      0.96      1198\n",
      "           3       0.90      0.98      0.94      1228\n",
      "           4       0.98      0.96      0.97      1193\n",
      "           5       0.92      0.97      0.94      1058\n",
      "           6       0.97      0.97      0.97      1200\n",
      "           7       0.97      0.96      0.96      1277\n",
      "           8       0.97      0.89      0.93      1176\n",
      "           9       0.93      0.94      0.94      1130\n",
      "\n",
      "    accuracy                           0.96     12000\n",
      "   macro avg       0.96      0.96      0.96     12000\n",
      "weighted avg       0.96      0.96      0.96     12000\n",
      "\n"
     ]
    },
    {
     "data": {
      "image/png": "[encoded data removed]",
      "text/plain": [
       "<Figure size 1200x400 with 2 Axes>"
      ]
     },
     "metadata": {},
     "output_type": "display_data"
    }
   ],
   "source": [
    "train_losses, val_losses, train_acc, val_acc , all_actual , all_predictions = train_model(model, train_loader, val_loader, criterion, optimizer, num_epochs=num_epochs)\n",
    "# Print the classification report\n",
    "print(classification_report(all_actual, all_predictions))\n",
    "# Plot training and validation loss and accuracy\n",
    "plt.figure(figsize=(12, 4))\n",
    "plt.subplot(1, 2, 1)\n",
    "plt.plot(train_losses, label='Train Loss')\n",
    "plt.plot(val_losses, label='Val Loss')\n",
    "plt.xlabel('Epoch')\n",
    "plt.ylabel('Loss')\n",
    "plt.legend()\n",
    "\n",
    "plt.subplot(1, 2, 2)\n",
    "plt.plot(train_acc, label='Train Acc')\n",
    "plt.plot(val_acc, label='Val Acc')\n",
    "plt.xlabel('Epoch')\n",
    "plt.ylabel('Accuracy (%)')\n",
    "plt.legend()\n",
    "\n",
    "plt.show()"
   ]
  },
  {
   "cell_type": "code",
   "execution_count": 10,
   "metadata": {},
   "outputs": [
    {
     "name": "stdout",
     "output_type": "stream",
     "text": [
      "Epoch 1/2, Train Loss: 0.1334, Train Acc: 95.78%, Val Loss: 0.1122, Val Acc: 96.69%\n",
      "Epoch 2/2, Train Loss: 0.1254, Train Acc: 96.04%, Val Loss: 0.1190, Val Acc: 96.56%\n",
      "              precision    recall  f1-score   support\n",
      "\n",
      "           0       0.93      0.99      0.96       980\n",
      "           1       0.98      0.99      0.99      1135\n",
      "           2       0.97      0.98      0.97      1032\n",
      "           3       0.97      0.96      0.97      1010\n",
      "           4       0.97      0.97      0.97       982\n",
      "           5       0.99      0.97      0.98       892\n",
      "           6       0.99      0.94      0.96       958\n",
      "           7       0.92      0.98      0.95      1028\n",
      "           8       0.97      0.95      0.96       974\n",
      "           9       0.97      0.93      0.95      1009\n",
      "\n",
      "    accuracy                           0.97     10000\n",
      "   macro avg       0.97      0.97      0.97     10000\n",
      "weighted avg       0.97      0.97      0.97     10000\n",
      "\n"
     ]
    },
    {
     "data": {
      "image/png": "[encoded data removed]",
      "text/plain": [
       "<Figure size 1200x400 with 2 Axes>"
      ]
     },
     "metadata": {},
     "output_type": "display_data"
    }
   ],
   "source": [
    "train_losses, test_losses, train_acc, test_acc , all_actual , all_predictions = train_model(model, train_loader, test_loader, criterion, optimizer, num_epochs=num_epochs)\n",
    "# Print the classification report\n",
    "print(classification_report(all_actual, all_predictions))\n",
    "# Plot training and validation loss and accuracy\n",
    "plt.figure(figsize=(12, 4))\n",
    "plt.subplot(1, 2, 1)\n",
    "plt.plot(train_losses, label='Train Loss')\n",
    "plt.plot(val_losses, label='Test Loss')\n",
    "plt.xlabel('Epoch')\n",
    "plt.ylabel('Loss')\n",
    "plt.legend()\n",
    "\n",
    "plt.subplot(1, 2, 2)\n",
    "plt.plot(train_acc, label='Train Acc')\n",
    "plt.plot(val_acc, label='Test Acc')\n",
    "plt.xlabel('Epoch')\n",
    "plt.ylabel('Accuracy (%)')\n",
    "plt.legend()\n",
    "\n",
    "plt.show()"
   ]
  },
  {
   "cell_type": "markdown",
   "metadata": {},
   "source": [
    "# Denoising MNIST Dataset via adding noise"
   ]
  },
  {
   "cell_type": "code",
   "execution_count": null,
   "metadata": {},
   "outputs": [],
   "source": [
    "import torch\n",
    "import torchvision\n",
    "from torchvision import transforms\n",
    "import torch.utils.data as data_utils\n",
    "import numpy as np\n",
    "\n",
    "\n",
    "def add_noise(image, noise_factor=0.5):\n",
    "    noised_image = image + noise_factor * torch.randn_like(image)\n",
    "    return torch.clamp(noised_image, 0., 1.)\n",
    "\n",
    "\n",
    "transform = transforms.Compose([transforms.ToTensor(), transforms.Normalize((0.5,), (0.5,))])\n",
    "\n",
    "\n",
    "trainset = torchvision.datasets.MNIST(root='./data', train=True, download=True, transform=transform)\n",
    "trainloader = torch.utils.data.DataLoader(trainset, batch_size=4, shuffle=True)\n",
    "\n",
    "\n",
    "noisy_trainset = []\n",
    "\n",
    "for images, labels in trainloader:\n",
    "    noisy_images = [add_noise(image) for image in images]\n",
    "    noisy_images = torch.stack(noisy_images)\n",
    "    noisy_trainset.append((noisy_images, labels))\n",
    "\n",
    "\n",
    "noisy_trainloader = data_utils.DataLoader(noisy_trainset, batch_size=4, shuffle=True)\n",
    "trainloader = noisy_trainloader\n",
    "trainset = noisy_trainset\n",
    "\n",
    "# Step 2: Visualize the distribution of labels\n",
    "def plot_label_distribution(dataloader):\n",
    "    label_counts = [0] * 10\n",
    "    for _, labels in dataloader:\n",
    "        for label in labels:\n",
    "            label_counts[label.item()] += 1\n",
    "\n",
    "    labels = [str(i) for i in range(10)]\n",
    "    plt.bar(labels, label_counts)\n",
    "    plt.xlabel('Labels')\n",
    "    plt.ylabel('Count')\n",
    "    plt.title('Distribution of Labels in MNIST Dataset')\n",
    "    plt.show()\n",
    "\n",
    "plot_label_distribution(noisy_trainloader)\n",
    "\n",
    "# Step 3: Visualize samples from each class\n",
    "def visualize_samples(dataloader, num_samples=5):\n",
    "    class_samples = {i: [] for i in range(10)}\n",
    "\n",
    "    for images, labels in dataloader:\n",
    "        for image, label in zip(images, labels):\n",
    "            if len(class_samples[label.item()]) < num_samples:\n",
    "                class_samples[label.item()].append(image)\n",
    "\n",
    "    fig, axes = plt.subplots(10, num_samples, figsize=(12, 12))\n",
    "\n",
    "    for i in range(10):\n",
    "        for j in range(num_samples):\n",
    "            axes[i, j].imshow(class_samples[i][j].squeeze(), cmap='gray')\n",
    "            axes[i, j].axis('off')\n",
    "\n",
    "    plt.suptitle('Samples from Each Class')\n",
    "    plt.show()\n",
    "\n",
    "visualize_samples(trainloader)\n",
    "\n",
    "# Step 4: Check for class imbalance\n",
    "label_counts = [0] * 10\n",
    "for _, labels in trainloader:\n",
    "    for label in labels:\n",
    "        label_counts[label.item()] += 1\n",
    "\n",
    "print(\"Class Imbalance:\")\n",
    "for i, count in enumerate(label_counts):\n",
    "    print(f\"Class {i}: {count} samples\")\n",
    "\n"
   ]
  },
  {
   "cell_type": "code",
   "execution_count": null,
   "metadata": {},
   "outputs": [],
   "source": [
    "class Autoencoder(nn.Module):\n",
    "    def __init__(self,input_size,hidden_size):\n",
    "        super(Autoencoder, self).__init__()\n",
    "        self.encoder = nn.Sequential(\n",
    "            nn.Linear(input_size, hidden_size),  \n",
    "            nn.ReLU()\n",
    "        )\n",
    "        self.decoder = nn.Sequential(\n",
    "            nn.Linear(hidden_size, input_size),\n",
    "        )\n",
    "    def forward(self, x):\n",
    "        encoded = self.encoder(x)\n",
    "        decoded = self.decoder(encoded)\n",
    "        return decoded"
   ]
  },
  {
   "cell_type": "code",
   "execution_count": null,
   "metadata": {},
   "outputs": [],
   "source": [
    "train_size = int(0.8 * len(trainset))\n",
    "val_size = int(0.1 * len(trainset))\n",
    "test_size = len(trainset) - train_size - val_size\n",
    "train_data, val_data, test_data = torch.utils.data.random_split(trainset, [train_size, val_size, test_size])\n",
    "gen = torch.Generator().manual_seed(42)\n",
    "# Create train and validation data loaders\n",
    "batch_size = 64\n",
    "train_loader = torch.utils.data.DataLoader(train_data, batch_size=batch_size, shuffle=True)\n",
    "val_loader = torch.utils.data.DataLoader(val_data, batch_size=batch_size, shuffle=False)\n",
    "test_loader = torch.utils.data.DataLoader(test_data, batch_size=batch_size, shuffle=False)"
   ]
  },
  {
   "cell_type": "code",
   "execution_count": null,
   "metadata": {},
   "outputs": [],
   "source": [
    "input_size = 784\n",
    "hidden_size = 128\n",
    "AutoEncoder = Autoencoder(input_size=input_size,hidden_size=hidden_size)\n",
    "AE_criterion = nn.MSELoss()\n",
    "AE_optimizer = optim.Adam(AutoEncoder.parameters(), lr=0.001)\n",
    "epochs = 10\n",
    "\n",
    "for epoch in range(epochs):\n",
    "    for data in train_loader:\n",
    "        AE_optimizer.zero_grad()\n",
    "        inputs = data \n",
    "        outputs = AutoEncoder(inputs.float())\n",
    "        loss = AE_criterion(outputs.float(), inputs.float())  # Compare the reconstruction with the input\n",
    "        loss.backward()\n",
    "        AE_optimizer.step()\n",
    "\n",
    "clean_train_data = AutoEncoder(torch.Tensor(X_train)).detach()\n",
    "clean_validation_data = AutoEncoder(torch.Tensor(X_val)).detach()\n",
    "clean_test_data = AutoEncoder(torch.Tensor(X_test)).detach()\n",
    "\n",
    "X_train = torch.Tensor(clean_train_data)\n",
    "y_train = torch.Tensor(y_train)\n",
    "X_val = torch.Tensor(clean_validation_data)\n",
    "y_val = torch.Tensor(y_val)\n",
    "X_test = torch.Tensor(clean_test_data)\n",
    "y_test = torch.Tensor(y_test)\n",
    "visualize_samples(X_train, y_train, num_samples)\n",
    "print(X_train.shape)\n",
    "# Creating Loaders\n",
    "batch_size = 64\n",
    "train_dataset = TensorDataset(X_train, y_train)\n",
    "val_dataset = TensorDataset(X_val, y_val)\n",
    "test_dataset = TensorDataset(X_test, y_test)\n",
    "\n",
    "\n",
    "train_loader = torch.utils.data.DataLoader(train_dataset, batch_size=batch_size, shuffle=True)\n",
    "val_loader = torch.utils.data.DataLoader(val_dataset, batch_size=batch_size,shuffle=False)\n",
    "test_loader = torch.utils.data.DataLoader(test_dataset, batch_size=batch_size,shuffle=False)"
   ]
  }
 ],
 "metadata": {
  "kernelspec": {
   "display_name": "Python 3",
   "language": "python",
   "name": "python3"
  },
  "language_info": {
   "codemirror_mode": {
    "name": "ipython",
    "version": 3
   },
   "file_extension": ".py",
   "mimetype": "text/x-python",
   "name": "python",
   "nbconvert_exporter": "python",
   "pygments_lexer": "ipython3",
   "version": "3.8.10"
  }
 },
 "nbformat": 4,
 "nbformat_minor": 2
}
