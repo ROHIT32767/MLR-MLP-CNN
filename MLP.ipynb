{
 "cells": [
  {
   "cell_type": "code",
   "execution_count": 1,
   "metadata": {},
   "outputs": [],
   "source": [
    "import pandas as pd\n",
    "import numpy as np\n",
    "from sklearn.model_selection import train_test_split\n",
    "from sklearn.preprocessing import StandardScaler, MinMaxScaler\n",
    "import matplotlib.pyplot as plt\n",
    "from sklearn.metrics import classification_report"
   ]
  },
  {
   "cell_type": "code",
   "execution_count": null,
   "metadata": {},
   "outputs": [],
   "source": [
    "data = pd.read_csv('WineQT.csv')\n",
    "# print(data)\n",
    "print(data.shape)\n",
    "# Describe the dataset\n",
    "description = data.describe()\n",
    "\n",
    "# Draw a histogram for each attribute\n",
    "data.hist(bins=20, figsize=(15, 10))\n",
    "plt.tight_layout()\n",
    "plt.show()\n",
    "# fixed acidity,volatile acidity,citric acid,residual sugar,chlorides,free sulfur dioxide,total sulfur dioxide,density,pH,sulphates,alcohol,quality,Id\n",
    "tuples = []\n",
    "for column in data.columns:\n",
    "    column_data = data[column]\n",
    "    mean = np.mean(column_data)\n",
    "    min = np.min(column_data)\n",
    "    max = np.max(column_data)\n",
    "    standard_deviation = np.std(column_data)\n",
    "    tuples.append((mean,standard_deviation,max,min))\n",
    "\n",
    "# df_metrics = pd.DataFrame(tuples,columns=['fixed acidity','volatile acidity','citric acid','residual sugar','chlorides','free sulfur dioxide','total sulfur dioxide','density','pH','sulphates','alcohol','quality','Id'])\n",
    "df_metrics = pd.DataFrame(tuples, columns=['mean', 'standard_deviation', 'max', 'min'], index=data.columns)\n",
    "print(df_metrics)\n",
    "# Draw a pie chart for the 'quality' attribute\n",
    "quality_counts = data['quality'].value_counts()\n",
    "plt.figure(figsize=(6, 6))\n",
    "plt.pie(quality_counts, labels=quality_counts.index, autopct='%1.1f%%')\n",
    "plt.title('Distribution of Quality')\n",
    "plt.show()"
   ]
  },
  {
   "cell_type": "markdown",
   "metadata": {},
   "source": [
    "# Multi Layer Perceptron Classification in Python from Scratch"
   ]
  },
  {
   "cell_type": "code",
   "execution_count": null,
   "metadata": {},
   "outputs": [],
   "source": [
    "class MultiLayerPerceptronClassification:\n",
    "    def __init__(self,input_layer_size,num_hidden_layers,hidden_layer_size,learning_rate):\n",
    "        self.learning_rate = learning_rate\n",
    "        self.input_layer_size = input_layer_size\n",
    "        self.num_hidden_layers = num_hidden_layers\n",
    "        self.weights = None\n",
    "        self.biases = None\n",
    "        self.hidden_layer_size = hidden_layer_size\n",
    "        \n",
    "\n"
   ]
  }
 ],
 "metadata": {
  "kernelspec": {
   "display_name": "Python 3",
   "language": "python",
   "name": "python3"
  },
  "language_info": {
   "codemirror_mode": {
    "name": "ipython",
    "version": 3
   },
   "file_extension": ".py",
   "mimetype": "text/x-python",
   "name": "python",
   "nbconvert_exporter": "python",
   "pygments_lexer": "ipython3",
   "version": "3.8.10"
  }
 },
 "nbformat": 4,
 "nbformat_minor": 2
}
